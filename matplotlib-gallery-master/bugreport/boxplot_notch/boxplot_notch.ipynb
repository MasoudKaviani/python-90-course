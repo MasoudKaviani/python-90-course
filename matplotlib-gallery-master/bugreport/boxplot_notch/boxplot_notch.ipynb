{
 "metadata": {
  "name": "",
  "signature": "sha256:b5b3610940305d9961f99e776cb37b0c2b260f3edad089531da65c7feb4f289f"
 },
 "nbformat": 3,
 "nbformat_minor": 0,
 "worksheets": [
  {
   "cells": [
    {
     "cell_type": "code",
     "collapsed": false,
     "input": [
      "%load_ext watermark"
     ],
     "language": "python",
     "metadata": {},
     "outputs": [],
     "prompt_number": 1
    },
    {
     "cell_type": "code",
     "collapsed": false,
     "input": [
      "%watermark -a 'Sebastian Raschka' -d -v -p matplotlib,numpy"
     ],
     "language": "python",
     "metadata": {},
     "outputs": [
      {
       "output_type": "stream",
       "stream": "stdout",
       "text": [
        "Sebastian Raschka 11/10/2014 \n",
        "\n",
        "CPython 3.4.1\n",
        "IPython 2.2.0\n",
        "\n",
        "matplotlib 1.4.0\n",
        "numpy 1.9.0\n"
       ]
      }
     ],
     "prompt_number": 2
    },
    {
     "cell_type": "heading",
     "level": 2,
     "metadata": {},
     "source": [
      "Example Data"
     ]
    },
    {
     "cell_type": "code",
     "collapsed": false,
     "input": [
      "import numpy as np\n",
      "ary = np.array([[ 0.76223776,  0.71328671,  0.87412587,  0.77408175,  0.79020979,\n",
      "         0.67132867,  0.70629371],\n",
      "       [ 0.69230769,  0.29772375,  0.79020979,  0.55789817,  0.51748252,\n",
      "         0.69230769,  0.58741259],\n",
      "       [ 0.32167832,  0.2253577 ,  0.36363636,  0.55944056, -0.3006993 ,\n",
      "         0.07692308,  0.37062937],\n",
      "       [ 0.57142857,        0,  0.57142857,  0.81084372,  0.85714286,\n",
      "         0.53571429,  0.42857143],\n",
      "       [ 0.38461538,  0.35164835,  0.7032967 ,  0.64835165,  0.52747253,\n",
      "         0.52747253,  0.54395604],\n",
      "       [ 0.42892157,  0.58840274,  0.83823529,  0.81054583,  0.88480392,\n",
      "         0.56127451,  0.79901961],\n",
      "       [ 0.78571429,  0.28571429,  0.57142857,  0.32142857,  0.53571429,\n",
      "         0.67857143,  0.71428571],\n",
      "       [ 0.51648352,  0.86813187,  0.85714286,  0.81818492,  0.73626374,\n",
      "         0.5989011 ,  0.48901099],\n",
      "       [ 0.59803922, -0.01470588,  0.56617647,  0.91911765,  0.72303922,\n",
      "         0.3995098 ,  0.37254902],\n",
      "       [ 0.69090909,  0.22779102,  0.43636364,  0.44545455, -0.27272727,\n",
      "         0.13636364,  0.02727273],\n",
      "       [ 0.40970072,  0.55343322,  0.51702786,  0.8121775 ,  0.8369453 ,\n",
      "         0.78534572,  0.72342621]])"
     ],
     "language": "python",
     "metadata": {},
     "outputs": [],
     "prompt_number": 3
    },
    {
     "cell_type": "heading",
     "level": 2,
     "metadata": {},
     "source": [
      "Boxplot Notch problem"
     ]
    },
    {
     "cell_type": "markdown",
     "metadata": {},
     "source": [
      "It appears that the notches are incorrectly drawn..."
     ]
    },
    {
     "cell_type": "code",
     "collapsed": false,
     "input": [
      "%matplotlib inline"
     ],
     "language": "python",
     "metadata": {},
     "outputs": [],
     "prompt_number": 4
    },
    {
     "cell_type": "code",
     "collapsed": false,
     "input": [
      "import matplotlib.pyplot as plt\n",
      "\n",
      "def boxplot1(data):\n",
      "\n",
      "    fig = plt.figure(figsize=(8,6))\n",
      "    ax = plt.subplot(111) \n",
      "\n",
      "    bplot = plt.boxplot(data, \n",
      "            notch=True,          # notch shape \n",
      "            vert=True,           # vertical box aligmnent\n",
      "            )   \n",
      "\n",
      "    plt.show()\n",
      "boxplot1(ary)"
     ],
     "language": "python",
     "metadata": {},
     "outputs": [
      {
       "metadata": {},
       "output_type": "display_data",
       "png": "[encoded data removed]",
       "text": [
        "<matplotlib.figure.Figure at 0x1054a89e8>"
       ]
      }
     ],
     "prompt_number": 5
    },
    {
     "cell_type": "heading",
     "level": 2,
     "metadata": {},
     "source": [
      "Boxplot without Notch"
     ]
    },
    {
     "cell_type": "markdown",
     "metadata": {},
     "source": [
      "This problem does not occur in the regular rectangular shape."
     ]
    },
    {
     "cell_type": "code",
     "collapsed": false,
     "input": [
      "def boxplot2(data):\n",
      "\n",
      "    fig = plt.figure(figsize=(8,6))\n",
      "    ax = plt.subplot(111) \n",
      "\n",
      "    bplot = plt.boxplot(data, \n",
      "            #notch=True,          # notch shape \n",
      "            vert=True,           # vertical box aligmnent\n",
      "            )   \n",
      "\n",
      "    plt.show()\n",
      "boxplot2(ary)"
     ],
     "language": "python",
     "metadata": {},
     "outputs": [
      {
       "metadata": {},
       "output_type": "display_data",
       "png": "[encoded data removed]",
       "text": [
        "<matplotlib.figure.Figure at 0x1054a88d0>"
       ]
      }
     ],
     "prompt_number": 6
    },
    {
     "cell_type": "heading",
     "level": 2,
     "metadata": {},
     "source": [
      "This behavior is correct!"
     ]
    },
    {
     "cell_type": "markdown",
     "metadata": {},
     "source": [
      "From [Wikipedia](http://en.wikipedia.org/wiki/Box_plot):\n",
      "\n",
      "> Notched box plots apply a \"notch\" or narrowing of the box around the median. Notches are useful in offering a rough guide to significance of difference of medians; if the notches of two boxes do not overlap, this offers evidence of a statistically significant difference between the medians. The width of the notches is proportional to the interquartile range of the sample and inversely proportional to the square root of the size of the sample. However, there is uncertainty about the most appropriate multiplier (as this may vary depending on the similarity of the variances of the samples). One convention is to use +/-1.58*IQR/sqrt(n)."
     ]
    },
    {
     "cell_type": "markdown",
     "metadata": {},
     "source": [
      "This was also discussed in an [issue on GitHub](https://github.com/matplotlib/matplotlib/issues/3631#issuecomment-58684973); R produces a similar output as evidence that this behaviour is \"correct.\""
     ]
    },
    {
     "cell_type": "markdown",
     "metadata": {},
     "source": [
      "Thus, if we have this weird \"flipped\" appearance in the notched box plots, it simply means that the 1st quartile has a lower value than the confidence of the mean and vice versa for the 3rd quartile. Although it looks ugly, it's actually useful information that about the (un)confidence of the median. We can do a bootstrapping (random sampling with replacement to estimate parameters of a sampling distribution, here: confidence intervals).\n",
      "\n"
     ]
    },
    {
     "cell_type": "markdown",
     "metadata": {},
     "source": [
      "From the `plt.boxplot` documentation:\n",
      "\n",
      "> bootstrap : None (default) or integer\n",
      "    Specifies whether to bootstrap the confidence intervals\n",
      "    around the median for notched boxplots. If bootstrap==None,\n",
      "    no bootstrapping is performed, and notches are calculated\n",
      "    using a Gaussian-based asymptotic approximation  (see McGill, R.,\n",
      "    Tukey, J.W., and Larsen, W.A., 1978, and Kendall and Stuart,\n",
      "    1967). Otherwise, bootstrap specifies the number of times to\n",
      "    bootstrap the median to determine it's 95% confidence intervals.\n",
      "    Values between 1000 and 10000 are recommended."
     ]
    },
    {
     "cell_type": "code",
     "collapsed": false,
     "input": [
      "def boxplot3(data):\n",
      "\n",
      "    fig = plt.figure(figsize=(8,6))\n",
      "    ax = plt.subplot(111) \n",
      "\n",
      "    bplot = plt.boxplot(data, \n",
      "            notch=True,          # notch shape \n",
      "            vert=True,           # vertical box aligmnent\n",
      "            bootstrap=5000\n",
      "            )   \n",
      "\n",
      "    plt.show()\n",
      "boxplot3(ary)"
     ],
     "language": "python",
     "metadata": {},
     "outputs": [
      {
       "metadata": {},
       "output_type": "display_data",
       "png": "[encoded data removed]",
       "text": [
        "<matplotlib.figure.Figure at 0x105e61978>"
       ]
      }
     ],
     "prompt_number": 12
    }
   ],
   "metadata": {}
  }
 ]
}