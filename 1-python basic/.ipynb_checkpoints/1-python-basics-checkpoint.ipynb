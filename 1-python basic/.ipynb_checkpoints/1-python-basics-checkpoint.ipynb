{
 "cells": [
  {
   "cell_type": "markdown",
   "metadata": {
    "_uuid": "866e7eb37a03e1a48e71ba4e4c8f4baca43472e8"
   },
   "source": [
    " # <div align=\"center\"> آموزش مقدمات پایتون</div>"
   ]
  },
  {
   "cell_type": "markdown",
   "metadata": {
    "_uuid": "6b741a5af31141057f72904b11954acfb57f5772"
   },
   "source": [
    " ## <div style=\"direction: rtl; text-align: center;\"> مقدمه\n",
    "</div>"
   ]
  },
  {
   "cell_type": "markdown",
   "metadata": {
    "_uuid": "953258de456acd2780aba3d18c1fc817ae689ad7"
   },
   "source": [
    "## <div style=\"direction: rtl; text-align: center;\"> وارد کردن پکیج‌ها در پایتون </div>"
   ]
  },
  {
   "cell_type": "markdown",
   "metadata": {},
   "source": [
    "<div style=\"direction:rtl; text-align: center;\">\n",
    "با استفاده از دستور\n",
    "import\n",
    "می‌توان کتابخانه‌های مورد نیاز را به پایتون اضافه کرد\n",
    "    </div>"
   ]
  },
  {
   "cell_type": "code",
   "execution_count": 1,
   "metadata": {
    "_kg_hide-input": true,
    "_uuid": "4f8b6d44c99e1141bd001556f554c7efc6b77acf"
   },
   "outputs": [],
   "source": [
    "import scipy.stats as stats\n",
    "import pandas as pd\n",
    "import numpy as np\n",
    "import warnings\n",
    "import scipy\n",
    "import sys\n",
    "import csv\n",
    "import os"
   ]
  },
  {
   "cell_type": "markdown",
   "metadata": {
    "_uuid": "9a30328de5327e576716f7a57ef119e63a6e77c3"
   },
   "source": [
    "## <div style=\"direction: rtl; text-align: center;\"> نسخه‌ی هر کتابخانه </div>"
   ]
  },
  {
   "cell_type": "markdown",
   "metadata": {},
   "source": [
    "<div style=\"direction:rtl; text-align: center;\">\n",
    "با استفاده از دستور\n",
    "version\n",
    "می‌توانید نسخه‌ی کتابخانه‌ها را مشاهده کنید\n",
    "</div>"
   ]
  },
  {
   "cell_type": "code",
   "execution_count": 2,
   "metadata": {
    "_kg_hide-input": true,
    "_uuid": "3925ca44958df0a27f3b51de1dba2a18a2650110"
   },
   "outputs": [
    {
     "name": "stdout",
     "output_type": "stream",
     "text": [
      "scipy: 1.2.1\n",
      "pandas: 0.24.2\n",
      "numpy: 1.16.2\n",
      "Python: 3.7.3 (default, Mar 27 2019, 22:11:17) \n",
      "[GCC 7.3.0]\n"
     ]
    }
   ],
   "source": [
    "print('scipy: {}'.format(scipy.__version__))\n",
    "print('pandas: {}'.format(pd.__version__))\n",
    "print('numpy: {}'.format(np.__version__))\n",
    "print('Python: {}'.format(sys.version))"
   ]
  },
  {
   "cell_type": "markdown",
   "metadata": {
    "_uuid": "a276b26993c902362e522d8a29a67ef670db103d"
   },
   "source": [
    " # <div style=\"direction: rtl; text-align: center;\"> مقدمات </div>"
   ]
  },
  {
   "cell_type": "markdown",
   "metadata": {
    "_uuid": "46d2f5efcea352bda6ee7f8721be0001548440f1"
   },
   "source": [
    " ### <div style=\"direction: rtl; text-align: center;\">  تعریف متغیر </div>"
   ]
  },
  {
   "cell_type": "code",
   "execution_count": 3,
   "metadata": {
    "_kg_hide-input": true,
    "_uuid": "52c065c046f96806741321dcc3e40dffec8f75fe"
   },
   "outputs": [
    {
     "name": "stdout",
     "output_type": "stream",
     "text": [
      "2 0.5 سلام 2.5\n"
     ]
    }
   ],
   "source": [
    "# Python is dynamically typed.\n",
    "x = 2\n",
    "y = .5\n",
    "xy = 'سلام'\n",
    "z=x+y\n",
    "print(x,y,xy,z)"
   ]
  },
  {
   "cell_type": "markdown",
   "metadata": {},
   "source": [
    "### <div style=\"direction: rtl; text-align: center;\"> مشاهده‌ی نوع یک متغیر </div>"
   ]
  },
  {
   "cell_type": "code",
   "execution_count": 4,
   "metadata": {},
   "outputs": [
    {
     "data": {
      "text/plain": [
       "int"
      ]
     },
     "execution_count": 4,
     "metadata": {},
     "output_type": "execute_result"
    }
   ],
   "source": [
    "type(x)"
   ]
  },
  {
   "cell_type": "code",
   "execution_count": 5,
   "metadata": {},
   "outputs": [
    {
     "data": {
      "text/plain": [
       "float"
      ]
     },
     "execution_count": 5,
     "metadata": {},
     "output_type": "execute_result"
    }
   ],
   "source": [
    "type(y)"
   ]
  },
  {
   "cell_type": "code",
   "execution_count": 6,
   "metadata": {},
   "outputs": [],
   "source": [
    "y=2"
   ]
  },
  {
   "cell_type": "code",
   "execution_count": 7,
   "metadata": {},
   "outputs": [
    {
     "data": {
      "text/plain": [
       "int"
      ]
     },
     "execution_count": 7,
     "metadata": {},
     "output_type": "execute_result"
    }
   ],
   "source": [
    "type(y)"
   ]
  },
  {
   "cell_type": "markdown",
   "metadata": {
    "_uuid": "762c34fcdeed69fc79fb84d7bb86c5baf8f9152e"
   },
   "source": [
    " ### <div style=\"direction: rtl; text-align: center;\">  عملگردها در پایتون </div>"
   ]
  },
  {
   "cell_type": "markdown",
   "metadata": {
    "_uuid": "9dcd3e4436aa8050f116b6f7157cc986e762c794"
   },
   "source": [
    "(https://www.tutorialspoint.com/python/python_basic_operators.htm)\n",
    "\n",
    "| Symbol | Task Performed |\n",
    "|----|---|\n",
    "| +  | Addition |\n",
    "| -  | Subtraction |\n",
    "| /  | division |\n",
    "| %  | mod |\n",
    "| *  | multiplication |\n",
    "| //  | floor division |\n",
    "| **  | to the power of |\n",
    "\n",
    " ### <div style=\"direction: rtl; text-align: center;\">  عملگرهای رابطه‌ای </div>\n",
    "| Symbol | Task Performed |\n",
    "|----|---|\n",
    "| == | True, if it is equal |\n",
    "| !=  | True, if not equal to |\n",
    "| < | less than |\n",
    "| > | greater than |\n",
    "| <=  | less than or equal to |\n",
    "| >=  | greater than or equal to |\n",
    "\n",
    " ### <div style=\"direction: rtl; text-align: center;\"> عملگرهای بیتی </div>\n",
    "\n",
    "| Symbol | Task Performed |\n",
    "|----|---|\n",
    "| &  | Logical And |\n",
    "| l  | Logical OR |\n",
    "| ^  | XOR |\n",
    "| ~  | Negate |\n",
    "| >>  | Right shift |\n",
    "| <<  | Left shift |\n"
   ]
  },
  {
   "cell_type": "markdown",
   "metadata": {
    "_uuid": "281c637be82f68519f371353afa603fe842bd5fa"
   },
   "source": [
    "# <div style=\"direction: rtl; text-align: center;\"> ساخت یک تابع </div>\n",
    "[ tutorialspoint](https://www.tutorialspoint.com/python/python_functions.htm)"
   ]
  },
  {
   "cell_type": "code",
   "execution_count": 8,
   "metadata": {
    "_kg_hide-input": true,
    "_uuid": "700ebb9c4d8c7c57948194e3d848b4b480e06f9a"
   },
   "outputs": [
    {
     "data": {
      "text/plain": [
       "3"
      ]
     },
     "execution_count": 8,
     "metadata": {},
     "output_type": "execute_result"
    }
   ],
   "source": [
    "def add_numbers(x, y):\n",
    "    return x + y\n",
    "\n",
    "add_numbers(1, 2)"
   ]
  },
  {
   "cell_type": "markdown",
   "metadata": {},
   "source": [
    "### <div style=\"direction: rtl; text-align: center;\"> حل مسئله‌ی فیزباز: [FizzBuzz](https://en.wikipedia.org/wiki/Fizz_buzz) </div>"
   ]
  },
  {
   "cell_type": "code",
   "execution_count": 9,
   "metadata": {},
   "outputs": [],
   "source": [
    "def fizzbuzz(n):\n",
    "    '''\n",
    "    this FizzBuzz Question that asked in most of the interview.\n",
    "    '''\n",
    "    if n%3==0 and n%5==0:\n",
    "        return('FizzBuzz')\n",
    "    elif n%3==0:\n",
    "        return('Fizz')\n",
    "    elif n%5==0:\n",
    "        return('Buzz')\n",
    "    else:\n",
    "        return(n)"
   ]
  },
  {
   "cell_type": "code",
   "execution_count": 10,
   "metadata": {
    "_kg_hide-output": true
   },
   "outputs": [
    {
     "name": "stdout",
     "output_type": "stream",
     "text": [
      "1\n",
      "2\n",
      "Fizz\n",
      "4\n",
      "Buzz\n",
      "Fizz\n",
      "7\n",
      "8\n",
      "Fizz\n",
      "Buzz\n",
      "11\n",
      "Fizz\n",
      "13\n",
      "14\n",
      "FizzBuzz\n",
      "16\n",
      "17\n",
      "Fizz\n",
      "19\n",
      "Buzz\n",
      "Fizz\n",
      "22\n",
      "23\n",
      "Fizz\n",
      "Buzz\n",
      "26\n",
      "Fizz\n",
      "28\n",
      "29\n",
      "FizzBuzz\n",
      "31\n",
      "32\n",
      "Fizz\n",
      "34\n",
      "Buzz\n",
      "Fizz\n",
      "37\n",
      "38\n",
      "Fizz\n",
      "Buzz\n",
      "41\n",
      "Fizz\n",
      "43\n",
      "44\n",
      "FizzBuzz\n",
      "46\n",
      "47\n",
      "Fizz\n",
      "49\n",
      "Buzz\n",
      "Fizz\n",
      "52\n",
      "53\n",
      "Fizz\n",
      "Buzz\n",
      "56\n",
      "Fizz\n",
      "58\n",
      "59\n",
      "FizzBuzz\n",
      "61\n",
      "62\n",
      "Fizz\n",
      "64\n",
      "Buzz\n",
      "Fizz\n",
      "67\n",
      "68\n",
      "Fizz\n",
      "Buzz\n",
      "71\n",
      "Fizz\n",
      "73\n",
      "74\n",
      "FizzBuzz\n",
      "76\n",
      "77\n",
      "Fizz\n",
      "79\n",
      "Buzz\n",
      "Fizz\n",
      "82\n",
      "83\n",
      "Fizz\n",
      "Buzz\n",
      "86\n",
      "Fizz\n",
      "88\n",
      "89\n",
      "FizzBuzz\n",
      "91\n",
      "92\n",
      "Fizz\n",
      "94\n",
      "Buzz\n",
      "Fizz\n",
      "97\n",
      "98\n",
      "Fizz\n",
      "Buzz\n"
     ]
    }
   ],
   "source": [
    "for i in range(1,101):\n",
    "    print(fizzbuzz(i))"
   ]
  },
  {
   "cell_type": "markdown",
   "metadata": {
    "_uuid": "54244074f574884d9c241727f559466cdc646793"
   },
   "source": [
    "### <div style=\"direction: rtl; text-align: center;\">  انواع و ترتیب‌ها <div>\n",
    "پایتون انواع مختلفی از آرایه‌ها و ساختارها را پشتیبانی می‌کند:\n",
    "* list\n",
    "* tuple\n",
    "* dictionary\n",
    "* array\n",
    "* set\n",
    "* strings"
   ]
  },
  {
   "cell_type": "markdown",
   "metadata": {
    "_uuid": "fe3bfa4b99b20b534a24cd4b04953de4c81a2032"
   },
   "source": [
    "<div style=\"direction:rtl; text-align: center;\">\n",
    "تابع\n",
    "**type** \n",
    "به شما کمک می‌کند تا بتواند نوع متغیر را شناسایی کنید\n",
    "    </div>"
   ]
  },
  {
   "cell_type": "code",
   "execution_count": 11,
   "metadata": {
    "_kg_hide-input": true,
    "_uuid": "ea5486e825425487854b66e135142787a8696547"
   },
   "outputs": [
    {
     "data": {
      "text/plain": [
       "str"
      ]
     },
     "execution_count": 11,
     "metadata": {},
     "output_type": "execute_result"
    }
   ],
   "source": [
    "type('This is a string')"
   ]
  },
  {
   "cell_type": "code",
   "execution_count": 12,
   "metadata": {
    "_kg_hide-input": true,
    "_uuid": "6b1b6307a4b2363c5f13c86a94a6c6ed83cf05d1"
   },
   "outputs": [
    {
     "data": {
      "text/plain": [
       "NoneType"
      ]
     },
     "execution_count": 12,
     "metadata": {},
     "output_type": "execute_result"
    }
   ],
   "source": [
    "type(None)"
   ]
  },
  {
   "cell_type": "code",
   "execution_count": 13,
   "metadata": {
    "_kg_hide-input": true,
    "_uuid": "1bfe51959705a633d7ae10b8e807ba752809f8a2"
   },
   "outputs": [
    {
     "data": {
      "text/plain": [
       "int"
      ]
     },
     "execution_count": 13,
     "metadata": {},
     "output_type": "execute_result"
    }
   ],
   "source": [
    "type(1)"
   ]
  },
  {
   "cell_type": "code",
   "execution_count": 14,
   "metadata": {
    "_kg_hide-input": true,
    "_uuid": "9c6ea01bf5fac295d6ca5dea7a867fd769d9854f"
   },
   "outputs": [
    {
     "data": {
      "text/plain": [
       "float"
      ]
     },
     "execution_count": 14,
     "metadata": {},
     "output_type": "execute_result"
    }
   ],
   "source": [
    "type(1.0)"
   ]
  },
  {
   "cell_type": "code",
   "execution_count": 15,
   "metadata": {
    "_kg_hide-input": true,
    "_uuid": "08e7ecceb2d59d5964d039b1307736a106abef30"
   },
   "outputs": [
    {
     "data": {
      "text/plain": [
       "function"
      ]
     },
     "execution_count": 15,
     "metadata": {},
     "output_type": "execute_result"
    }
   ],
   "source": [
    "type(add_numbers)"
   ]
  },
  {
   "cell_type": "markdown",
   "metadata": {
    "_uuid": "843a9232374917b366c4afadc94fd123e13bc2cf"
   },
   "source": [
    "### <div style=\"direction: rtl; text-align: center;\"> Tuples </div>\n",
    "<div style=\"direction:rtl; text-align: center;\">\n",
    "تاپل‌ها بر خلاف لیست‌ها قابل تغییر نیستند و برای تعریف آن‌ها از پرانتز استفاده می‌شود. [tutorialspoint](https://www.tutorialspoint.com/python/python_tuples.htm)\n",
    "    </div>"
   ]
  },
  {
   "cell_type": "code",
   "execution_count": 17,
   "metadata": {
    "_kg_hide-input": true,
    "_uuid": "02c0f949470c05c302705b8cbde9dbc4c5e9ec58"
   },
   "outputs": [
    {
     "data": {
      "text/plain": [
       "tuple"
      ]
     },
     "execution_count": 17,
     "metadata": {},
     "output_type": "execute_result"
    }
   ],
   "source": [
    "tuple_sample = (1, 'a', 2, 'b')\n",
    "type(tuple_sample)"
   ]
  },
  {
   "cell_type": "markdown",
   "metadata": {
    "_uuid": "32e3d57ead5741f615aaf0ec276583163a6fc1a7"
   },
   "source": [
    "### <div style=\"direction: rtl; text-align: center;\"> Lists </div>"
   ]
  },
  {
   "cell_type": "code",
   "execution_count": 16,
   "metadata": {
    "_kg_hide-input": true,
    "_uuid": "e559da4fdd4adcf955e36ee33209728c7f04c873"
   },
   "outputs": [
    {
     "data": {
      "text/plain": [
       "list"
      ]
     },
     "execution_count": 16,
     "metadata": {},
     "output_type": "execute_result"
    }
   ],
   "source": [
    "list_sample = [1, 6, 2, 9]\n",
    "type(list_sample)"
   ]
  },
  {
   "cell_type": "markdown",
   "metadata": {
    "_uuid": "1c25590aa57c37e383007ea43e9aebd08dbb7ef8"
   },
   "source": [
    "<br>"
   ]
  },
  {
   "cell_type": "code",
   "execution_count": 18,
   "metadata": {},
   "outputs": [
    {
     "name": "stdout",
     "output_type": "stream",
     "text": [
      "[1, 6, 2, 9, 3.3]\n"
     ]
    }
   ],
   "source": [
    "list_sample.append(3.3)\n",
    "print(list_sample)"
   ]
  },
  {
   "cell_type": "code",
   "execution_count": 19,
   "metadata": {},
   "outputs": [
    {
     "data": {
      "text/plain": [
       "[1, 2, 3.3, 6, 9]"
      ]
     },
     "execution_count": 19,
     "metadata": {},
     "output_type": "execute_result"
    }
   ],
   "source": [
    "list_sample.sort()\n",
    "list_sample"
   ]
  },
  {
   "cell_type": "code",
   "execution_count": 20,
   "metadata": {},
   "outputs": [],
   "source": [
    "list_sample.remove(1)"
   ]
  },
  {
   "cell_type": "code",
   "execution_count": 21,
   "metadata": {},
   "outputs": [
    {
     "data": {
      "text/plain": [
       "[9, 6, 3.3, 2]"
      ]
     },
     "execution_count": 21,
     "metadata": {},
     "output_type": "execute_result"
    }
   ],
   "source": [
    "list_sample.reverse()\n",
    "list_sample"
   ]
  },
  {
   "cell_type": "markdown",
   "metadata": {
    "_uuid": "a0a9f9ad271ff5cab43f7d95c00f917dfa42cda3"
   },
   "source": [
    "### <div style=\"direction: rtl; text-align: center;\"> نحوه‌ی ایجاد حلقه بر روی لیست: </div>"
   ]
  },
  {
   "cell_type": "code",
   "execution_count": 22,
   "metadata": {
    "_kg_hide-input": true,
    "_uuid": "fdbcbc6f491284146fb7ec2288a48dca70d028f0"
   },
   "outputs": [
    {
     "name": "stdout",
     "output_type": "stream",
     "text": [
      "9\n",
      "6\n",
      "3.3\n",
      "2\n"
     ]
    }
   ],
   "source": [
    "for item in list_sample:\n",
    "    print(item)"
   ]
  },
  {
   "cell_type": "code",
   "execution_count": 23,
   "metadata": {
    "_kg_hide-input": true,
    "_uuid": "34ebdc7a81ca55c6d96576e8e1032bb2e2a8c38d"
   },
   "outputs": [
    {
     "name": "stdout",
     "output_type": "stream",
     "text": [
      "9\n",
      "6\n",
      "3.3\n",
      "2\n"
     ]
    }
   ],
   "source": [
    "i=0\n",
    "while( i != len(list_sample) ):\n",
    "    print(list_sample[i])\n",
    "    i = i + 1"
   ]
  },
  {
   "cell_type": "markdown",
   "metadata": {
    "_uuid": "2fdc7e3a4da86bf2fc3daef510d521ff4f9e780a"
   },
   "source": [
    "### <div style=\"direction: rtl; text-align: center;\"> کار با رشته‌ها در پایتون: </div>"
   ]
  },
  {
   "cell_type": "code",
   "execution_count": 24,
   "metadata": {
    "_kg_hide-input": true,
    "_uuid": "31a527ad3d4ac52203a81f2aa05d6ccbcbefd7d0"
   },
   "outputs": [
    {
     "name": "stdout",
     "output_type": "stream",
     "text": [
      "T\n",
      "T\n",
      "Th\n"
     ]
    }
   ],
   "source": [
    "x = 'This is a string'\n",
    "print(x[0]) #first character\n",
    "print(x[0:1]) #first character, but we have explicitly set the end character\n",
    "print(x[0:2]) #first two characters\n"
   ]
  },
  {
   "cell_type": "markdown",
   "metadata": {
    "_uuid": "50a1372d759bcc6e0b4d8852588ba9fe1c3a1200"
   },
   "source": [
    "### <div style=\"direction: rtl; text-align: center;\">  کار با دیکشنری‌ها در پایتون: </div>\n",
    "\n"
   ]
  },
  {
   "cell_type": "code",
   "execution_count": 25,
   "metadata": {
    "_kg_hide-input": true,
    "_uuid": "b6dd088e810aca788fc74f76d23777b2115e12d0"
   },
   "outputs": [
    {
     "data": {
      "text/plain": [
       "'Mohamadjavad.bahmani@gmail.com'"
      ]
     },
     "execution_count": 25,
     "metadata": {},
     "output_type": "execute_result"
    }
   ],
   "source": [
    "x = {'MJ Bahmani': 'Mohamadjavad.bahmani@gmail.com', 'irmatlab': 'irmatlab.ir@gmail.com'}\n",
    "x['MJ Bahmani'] # Retrieve a value by using the indexing operator\n"
   ]
  },
  {
   "cell_type": "markdown",
   "metadata": {
    "_uuid": "6b069e526dd64ce6efba8cb51854ef2636e308b9"
   },
   "source": [
    "### <div style=\"direction: rtl; text-align: center;\"> رشته‌ها </div>\n"
   ]
  },
  {
   "cell_type": "code",
   "execution_count": 26,
   "metadata": {
    "_kg_hide-input": true,
    "_uuid": "2aa934d05afb73cd7cdcb9ff223b2014798f3b18"
   },
   "outputs": [
    {
     "name": "stdout",
     "output_type": "stream",
     "text": [
      "MJ2\n"
     ]
    }
   ],
   "source": [
    "print('MJ' + str(2))"
   ]
  },
  {
   "cell_type": "markdown",
   "metadata": {
    "_uuid": "2a9b5f81e7ae92846e4bce5c8c34ff23490b83ef"
   },
   "source": [
    "### <div style=\"direction: rtl; text-align: center;\">تغییر یک متغیر در پایتون: </div>"
   ]
  },
  {
   "cell_type": "code",
   "execution_count": 27,
   "metadata": {
    "_kg_hide-input": true,
    "_uuid": "a8fa5e6a70f8a2e642f0799b514d96f5e8b4cf67"
   },
   "outputs": [],
   "source": [
    "sales_record = {\n",
    "'price': 3.24,\n",
    "'num_items': 4,\n",
    "'person': 'MJ'}\n",
    "\n"
   ]
  },
  {
   "cell_type": "code",
   "execution_count": 28,
   "metadata": {
    "_kg_hide-input": true,
    "_uuid": "700dcb33f7e5a7c533001a1b468eba507fa08d14"
   },
   "outputs": [
    {
     "data": {
      "text/plain": [
       "dict"
      ]
     },
     "execution_count": 28,
     "metadata": {},
     "output_type": "execute_result"
    }
   ],
   "source": [
    "type(sales_record)"
   ]
  },
  {
   "cell_type": "code",
   "execution_count": 29,
   "metadata": {
    "_kg_hide-input": true,
    "_uuid": "9ac3bbfa7be3dc4c14c0ba640fc86a4101e14b03"
   },
   "outputs": [
    {
     "name": "stdout",
     "output_type": "stream",
     "text": [
      "MJ bought 4 item(s) at a price of 3.24 each for a total of 12.96\n"
     ]
    }
   ],
   "source": [
    "sales_statement = '{} bought {} item(s) at a price of {} each for a total of {}'\n",
    "\n",
    "print(sales_statement.format(sales_record['person'],\n",
    "                             sales_record['num_items'],\n",
    "                             sales_record['price'],\n",
    "                             sales_record['num_items']*sales_record['price']))\n"
   ]
  },
  {
   "cell_type": "markdown",
   "metadata": {
    "_uuid": "7fee00e11e78abee9a0397711ca813c60b1b8c57"
   },
   "source": [
    "### <div style=\"direction: rtl; text-align: center;\"> خواندن یک فایل سی‌اس‌وی </div>\n",
    "[realpython](https://realpython.com/python-csv/)"
   ]
  },
  {
   "cell_type": "code",
   "execution_count": 37,
   "metadata": {
    "_kg_hide-input": true,
    "_uuid": "ab5ab332ba1dc0fb1668d18df1b1771232cc4e35",
    "scrolled": true
   },
   "outputs": [
    {
     "data": {
      "text/plain": [
       "[OrderedDict([('PassengerId', '1'),\n",
       "              ('Survived', '0'),\n",
       "              ('Pclass', '3'),\n",
       "              ('Name', 'Braund, Mr. Owen Harris'),\n",
       "              ('Sex', 'male'),\n",
       "              ('Age', '22'),\n",
       "              ('SibSp', '1'),\n",
       "              ('Parch', '0'),\n",
       "              ('Ticket', 'A/5 21171'),\n",
       "              ('Fare', '7.25'),\n",
       "              ('Cabin', ''),\n",
       "              ('Embarked', 'S')])]"
      ]
     },
     "execution_count": 37,
     "metadata": {},
     "output_type": "execute_result"
    }
   ],
   "source": [
    "with open('1-python-basic.csv') as csvfile:\n",
    "    house_train = list(csv.DictReader(csvfile))\n",
    "    \n",
    "house_train[:1] # The first three dictionaries in our list."
   ]
  },
  {
   "cell_type": "code",
   "execution_count": 38,
   "metadata": {
    "_kg_hide-input": true,
    "_uuid": "1a7f91c1dafbb190b32a21907fc4c346f7eff0a0"
   },
   "outputs": [
    {
     "data": {
      "text/plain": [
       "list"
      ]
     },
     "execution_count": 38,
     "metadata": {},
     "output_type": "execute_result"
    }
   ],
   "source": [
    "type(house_train)"
   ]
  },
  {
   "cell_type": "code",
   "execution_count": 39,
   "metadata": {
    "_kg_hide-input": true,
    "_uuid": "3f51c4e51000c69c3b3113f4cc8ed1e5e5fa005f"
   },
   "outputs": [
    {
     "data": {
      "text/plain": [
       "891"
      ]
     },
     "execution_count": 39,
     "metadata": {},
     "output_type": "execute_result"
    }
   ],
   "source": [
    "len(house_train)"
   ]
  },
  {
   "cell_type": "code",
   "execution_count": 40,
   "metadata": {
    "_kg_hide-input": true,
    "_uuid": "de6d753e74e0345bcc292cb6cfded49241b696f8"
   },
   "outputs": [
    {
     "data": {
      "text/plain": [
       "odict_keys(['PassengerId', 'Survived', 'Pclass', 'Name', 'Sex', 'Age', 'SibSp', 'Parch', 'Ticket', 'Fare', 'Cabin', 'Embarked'])"
      ]
     },
     "execution_count": 40,
     "metadata": {},
     "output_type": "execute_result"
    }
   ],
   "source": [
    "house_train[0].keys()"
   ]
  },
  {
   "cell_type": "code",
   "execution_count": 43,
   "metadata": {
    "_uuid": "46975d9c1fcbdde920dd1fdd756656f723030072"
   },
   "outputs": [
    {
     "data": {
      "text/plain": [
       "collections.OrderedDict"
      ]
     },
     "execution_count": 43,
     "metadata": {},
     "output_type": "execute_result"
    }
   ],
   "source": [
    "type(house_train[0] )"
   ]
  },
  {
   "cell_type": "markdown",
   "metadata": {
    "_uuid": "51bd65ce547fceba323660a1370a407d004e9abe"
   },
   "source": [
    "### <div style=\"direction: rtl; text-align: center;\">تاریخ و زمان </div>"
   ]
  },
  {
   "cell_type": "code",
   "execution_count": 44,
   "metadata": {
    "_kg_hide-input": true,
    "_uuid": "77aea246af2c06fe57b72bf45e424a4a6ae2e8c5"
   },
   "outputs": [],
   "source": [
    "import datetime as dt\n",
    "import time as tm"
   ]
  },
  {
   "cell_type": "code",
   "execution_count": 45,
   "metadata": {
    "_kg_hide-input": true,
    "_uuid": "73ffa7423c31ed5efb8bab44ead79a4162711920"
   },
   "outputs": [
    {
     "data": {
      "text/plain": [
       "1570194936.7088509"
      ]
     },
     "execution_count": 45,
     "metadata": {},
     "output_type": "execute_result"
    }
   ],
   "source": [
    "tm.time()"
   ]
  },
  {
   "cell_type": "code",
   "execution_count": 46,
   "metadata": {
    "_kg_hide-input": true,
    "_uuid": "b0726eaf4ebb492d3da2396520a7328bbb00263c"
   },
   "outputs": [
    {
     "data": {
      "text/plain": [
       "datetime.datetime(2019, 10, 4, 16, 45, 37, 916902)"
      ]
     },
     "execution_count": 46,
     "metadata": {},
     "output_type": "execute_result"
    }
   ],
   "source": [
    "dtnow = dt.datetime.fromtimestamp(tm.time())\n",
    "dtnow"
   ]
  },
  {
   "cell_type": "code",
   "execution_count": 47,
   "metadata": {
    "_kg_hide-input": true,
    "_uuid": "3ca2dd821f01874e23fc1eccf13b6584ba21e795"
   },
   "outputs": [
    {
     "data": {
      "text/plain": [
       "(2019, 10, 4, 16, 45, 37)"
      ]
     },
     "execution_count": 47,
     "metadata": {},
     "output_type": "execute_result"
    }
   ],
   "source": [
    "dtnow.year, dtnow.month, dtnow.day, dtnow.hour, dtnow.minute, dtnow.second # get year, month, day, etc.from a datetime"
   ]
  },
  {
   "cell_type": "markdown",
   "metadata": {
    "_uuid": "a8bcac1b08550c3f143e21cf7ca9049449304a5c"
   },
   "source": [
    "### <div style=\"direction: rtl; text-align: center;\">Objects and map()</div>"
   ]
  },
  {
   "cell_type": "markdown",
   "metadata": {
    "_uuid": "28be3905d37e6b7d2fb09a5f1a0e0c9df7e48559"
   },
   "source": [
    "### <div style=\"direction: rtl; text-align: center;\"> تعریف کلاس در پایتون: </div>"
   ]
  },
  {
   "cell_type": "code",
   "execution_count": 48,
   "metadata": {
    "_kg_hide-input": true,
    "_uuid": "2dc3faf4892b932cb1015902e83a13bd47125b20"
   },
   "outputs": [],
   "source": [
    "class Person:\n",
    "    department = 'School of Information' #a class variable\n",
    "\n",
    "    def set_name(self, new_name): #a method\n",
    "        self.name = new_name\n",
    "    def set_location(self, new_location):\n",
    "        self.location = new_location"
   ]
  },
  {
   "cell_type": "code",
   "execution_count": 49,
   "metadata": {
    "_kg_hide-input": true,
    "_uuid": "1da9aaf6d97f50fff89e9d08b658adb3c691a262"
   },
   "outputs": [
    {
     "name": "stdout",
     "output_type": "stream",
     "text": [
      "MJ Bahmani live in MI, Berlin, Germany and works in the department School of Information\n"
     ]
    }
   ],
   "source": [
    "# define an object\n",
    "person = Person()\n",
    "# set value for the object\n",
    "person.set_name('MJ Bahmani')\n",
    "person.set_location('MI, Berlin, Germany')\n",
    "print('{} live in {} and works in the department {}'.format(person.name, person.location, person.department))"
   ]
  },
  {
   "cell_type": "markdown",
   "metadata": {
    "_uuid": "e9c6c70988cd1459c7078f31fb9a43a275965d46"
   },
   "source": [
    "### <div style=\"direction: rtl; text-align: center;\"> Lambda </div>\n",
    "[w3schools](https://www.w3schools.com/python/python_lambda.asp)"
   ]
  },
  {
   "cell_type": "code",
   "execution_count": 50,
   "metadata": {
    "_kg_hide-input": true,
    "_uuid": "a306ae5687e20ae64431306035359f33aa465382"
   },
   "outputs": [],
   "source": [
    "my_function = lambda a, b, c : a + b +c"
   ]
  },
  {
   "cell_type": "code",
   "execution_count": 51,
   "metadata": {
    "_kg_hide-input": true,
    "_uuid": "6bf98de2fab3b4239e41a093386d5fb9acad6367"
   },
   "outputs": [
    {
     "data": {
      "text/plain": [
       "6"
      ]
     },
     "execution_count": 51,
     "metadata": {},
     "output_type": "execute_result"
    }
   ],
   "source": [
    "my_function(1, 2, 3)"
   ]
  },
  {
   "cell_type": "code",
   "execution_count": 52,
   "metadata": {
    "_kg_hide-input": true,
    "_uuid": "90e7eb5e7689d6ce448b8c0c801c2caef70e6d44"
   },
   "outputs": [
    {
     "data": {
      "text/plain": [
       "[0, 2, 4, 6, 8]"
      ]
     },
     "execution_count": 52,
     "metadata": {},
     "output_type": "execute_result"
    }
   ],
   "source": [
    "my_list = []\n",
    "for number in range(0, 9):\n",
    "    if number % 2 == 0:\n",
    "        my_list.append(number)\n",
    "my_list"
   ]
  },
  {
   "cell_type": "code",
   "execution_count": 53,
   "metadata": {
    "_kg_hide-input": true,
    "_uuid": "ee501b9820296d1452845b8da201dbd69d4e0637"
   },
   "outputs": [
    {
     "data": {
      "text/plain": [
       "[0, 2, 4, 6, 8]"
      ]
     },
     "execution_count": 53,
     "metadata": {},
     "output_type": "execute_result"
    }
   ],
   "source": [
    "my_list = [number for number in range(0,10) if number % 2 == 0]\n",
    "my_list"
   ]
  },
  {
   "cell_type": "markdown",
   "metadata": {
    "_uuid": "e99f98ecb3393b8846fca621cdbad5dcaf1c60d1"
   },
   "source": [
    "### <div style=\"direction: rtl; text-align: center;\"> برنامه‌نویس شی‌گرا در پایتون </div>\n",
    "[tutorialspoint](https://www.tutorialspoint.com/python/python_classes_objects.htm)\n",
    "\n"
   ]
  },
  {
   "cell_type": "code",
   "execution_count": 54,
   "metadata": {
    "_kg_hide-input": true,
    "_uuid": "1c3c77a74a2f45e0cfbec9e2a43ac089aaa09558"
   },
   "outputs": [],
   "source": [
    "class FirstClass:\n",
    "    test = 'test'\n",
    "    def __init__(self,name,symbol):\n",
    "        self.name = name\n",
    "        self.symbol = symbol"
   ]
  },
  {
   "cell_type": "code",
   "execution_count": 55,
   "metadata": {
    "_uuid": "2dd1233bc33a4e9ca7bf528968267868f4d1bbe1"
   },
   "outputs": [],
   "source": [
    "eg3 = FirstClass('Three',3)"
   ]
  },
  {
   "cell_type": "code",
   "execution_count": 56,
   "metadata": {
    "_kg_hide-input": true,
    "_uuid": "8bb856d47cf1407cccd295fe241825c2999e0756"
   },
   "outputs": [
    {
     "name": "stdout",
     "output_type": "stream",
     "text": [
      "test Three\n"
     ]
    }
   ],
   "source": [
    "print (eg3.test, eg3.name)"
   ]
  },
  {
   "cell_type": "code",
   "execution_count": 57,
   "metadata": {
    "_kg_hide-input": true,
    "_uuid": "3fa8ea01163ceea3f5cf46fe2f5eb843fa8a9cc7"
   },
   "outputs": [],
   "source": [
    "class FirstClass:\n",
    "    def __init__(self,name,symbol):\n",
    "        self.name = name\n",
    "        self.symbol = symbol\n",
    "    def square(self):\n",
    "        return self.symbol * self.symbol\n",
    "    def cube(self):\n",
    "        return self.symbol * self.symbol * self.symbol\n",
    "    def multiply(self, x):\n",
    "        return self.symbol * x"
   ]
  },
  {
   "cell_type": "code",
   "execution_count": 58,
   "metadata": {
    "_kg_hide-input": true,
    "_uuid": "6086b2eaf54cc57b3447b7c0b47e4b67f208cba3"
   },
   "outputs": [],
   "source": [
    "eg4 = FirstClass('Five',5)"
   ]
  },
  {
   "cell_type": "code",
   "execution_count": 59,
   "metadata": {
    "_kg_hide-input": true,
    "_uuid": "7029000f20ae1efcd694754d0db4b7e546cdafae"
   },
   "outputs": [
    {
     "name": "stdout",
     "output_type": "stream",
     "text": [
      "25\n",
      "125\n"
     ]
    }
   ],
   "source": [
    "print (eg4.square())\n",
    "print (eg4.cube())"
   ]
  },
  {
   "cell_type": "code",
   "execution_count": 60,
   "metadata": {
    "_kg_hide-input": true,
    "_uuid": "e60cf1e71ae99cb38e6b555ae43cb6948bdfc329"
   },
   "outputs": [
    {
     "data": {
      "text/plain": [
       "10"
      ]
     },
     "execution_count": 60,
     "metadata": {},
     "output_type": "execute_result"
    }
   ],
   "source": [
    "eg4.multiply(2)"
   ]
  },
  {
   "cell_type": "code",
   "execution_count": 61,
   "metadata": {
    "_kg_hide-input": true,
    "_uuid": "52ccbcd46b12d802454097d1a4c6ee52c551c4a3"
   },
   "outputs": [
    {
     "data": {
      "text/plain": [
       "10"
      ]
     },
     "execution_count": 61,
     "metadata": {},
     "output_type": "execute_result"
    }
   ],
   "source": [
    "FirstClass.multiply(eg4,2)"
   ]
  },
  {
   "cell_type": "markdown",
   "metadata": {
    "_uuid": "843c1001213bd2cfd201e99b682a5c5bfe78c0c6"
   },
   "source": [
    "### <div style=\"direction: rtl; text-align: center;\"> JSON </div>\n"
   ]
  },
  {
   "cell_type": "code",
   "execution_count": 66,
   "metadata": {
    "_kg_hide-input": true,
    "_uuid": "153a10fa7584e50553490e6f765284192776ee5c"
   },
   "outputs": [
    {
     "name": "stdout",
     "output_type": "stream",
     "text": [
      "30\n"
     ]
    }
   ],
   "source": [
    "import json\n",
    "\n",
    "# some JSON:\n",
    "x =  '{ \"name\":\"John\", \"age\":30, \"city\":\"New York\"}'\n",
    "\n",
    "# parse x:\n",
    "y = json.loads(x)\n",
    "\n",
    "# the result is a Python dictionary:\n",
    "print(y[\"age\"])"
   ]
  },
  {
   "cell_type": "markdown",
   "metadata": {
    "_uuid": "85876511f2a41d866fe4bfa5208372f51536e6c5"
   },
   "source": [
    "### <div style=\"direction: rtl; text-align: center;\"> تبدیل کردن داده به JSON </div>\n",
    "[w3schools](https://www.w3schools.com/python/python_json.asp)\n"
   ]
  },
  {
   "cell_type": "code",
   "execution_count": 67,
   "metadata": {
    "_kg_hide-input": true,
    "_uuid": "06ce583a101287b07e6e95d28426ae20d5b4e64b"
   },
   "outputs": [
    {
     "name": "stdout",
     "output_type": "stream",
     "text": [
      "{\"name\": \"John\", \"age\": 30, \"city\": \"New York\"}\n"
     ]
    }
   ],
   "source": [
    "# a Python object (dict):\n",
    "x = {\n",
    "  \"name\": \"John\",\n",
    "  \"age\": 30,\n",
    "  \"city\": \"New York\"\n",
    "}\n",
    "\n",
    "# convert into JSON:\n",
    "y = json.dumps(x)\n",
    "\n",
    "# the result is a JSON string:\n",
    "print(y)"
   ]
  },
  {
   "cell_type": "markdown",
   "metadata": {
    "_uuid": "b016e08d500dc749010ed6495e3c02e3f1144b4e"
   },
   "source": [
    "[w3schools](https://www.w3schools.com/python/python_json.asp)\n",
    "\n",
    "* dict\n",
    "* list\n",
    "* tuple\n",
    "* string\n",
    "* int\n",
    "* float\n",
    "* True\n",
    "* False\n",
    "* None\n"
   ]
  },
  {
   "cell_type": "code",
   "execution_count": 68,
   "metadata": {
    "_kg_hide-input": true,
    "_uuid": "2906f3ee8c9392b9be7507c2c99a1fc3db9df95d"
   },
   "outputs": [
    {
     "name": "stdout",
     "output_type": "stream",
     "text": [
      "{\"name\": \"John\", \"age\": 30}\n",
      "[\"apple\", \"bananas\"]\n",
      "[\"apple\", \"bananas\"]\n",
      "\"hello\"\n",
      "42\n",
      "31.76\n",
      "true\n",
      "false\n",
      "null\n"
     ]
    }
   ],
   "source": [
    "print(json.dumps({\"name\": \"John\", \"age\": 30}))\n",
    "print(json.dumps([\"apple\", \"bananas\"]))\n",
    "print(json.dumps((\"apple\", \"bananas\")))\n",
    "print(json.dumps(\"hello\"))\n",
    "print(json.dumps(42))\n",
    "print(json.dumps(31.76))\n",
    "print(json.dumps(True))\n",
    "print(json.dumps(False))\n",
    "print(json.dumps(None))"
   ]
  },
  {
   "cell_type": "code",
   "execution_count": 69,
   "metadata": {
    "_kg_hide-input": true,
    "_uuid": "7a5a584c5912ac52a6fc9796e23eb4799d5b9261"
   },
   "outputs": [
    {
     "name": "stdout",
     "output_type": "stream",
     "text": [
      "{\"name\": \"MJ\", \"age\": 32, \"married\": true, \"divorced\": false, \"children\": [\"Ann\", \"Billy\"], \"pets\": null, \"cars\": [{\"model\": \"BMW 230\", \"mpg\": 27.5}, {\"model\": \"Ford Edge\", \"mpg\": 24.1}]}\n"
     ]
    }
   ],
   "source": [
    "x = {\n",
    "  \"name\": \"MJ\",\n",
    "  \"age\": 32,\n",
    "  \"married\": True,\n",
    "  \"divorced\": False,\n",
    "  \"children\": (\"Ann\",\"Billy\"),\n",
    "  \"pets\": None,\n",
    "  \"cars\": [\n",
    "    {\"model\": \"BMW 230\", \"mpg\": 27.5},\n",
    "    {\"model\": \"Ford Edge\", \"mpg\": 24.1}\n",
    "  ]\n",
    "}\n",
    "\n",
    "print(json.dumps(x))"
   ]
  },
  {
   "cell_type": "markdown",
   "metadata": {
    "_uuid": "af880b807b69c45d77b21433937a13772453b481"
   },
   "source": [
    "### <div style=\"direction: rtl; text-align: center;\"> Try Except </div>"
   ]
  },
  {
   "cell_type": "code",
   "execution_count": 70,
   "metadata": {
    "_kg_hide-input": true,
    "_uuid": "078d0a98c43a742ff43460848dd6bf31a69975ce"
   },
   "outputs": [
    {
     "name": "stdout",
     "output_type": "stream",
     "text": [
      "{'name': 'MJ', 'age': 32, 'married': True, 'divorced': False, 'children': ('Ann', 'Billy'), 'pets': None, 'cars': [{'model': 'BMW 230', 'mpg': 27.5}, {'model': 'Ford Edge', 'mpg': 24.1}]}\n"
     ]
    }
   ],
   "source": [
    "try:\n",
    "  print(x)\n",
    "except NameError:\n",
    "  print(\"Variable x is not defined\")\n",
    "except:\n",
    "  print(\"Something else went wrong\")"
   ]
  },
  {
   "cell_type": "code",
   "execution_count": 71,
   "metadata": {
    "_kg_hide-input": true,
    "_uuid": "c5e3cbfe7a287cda43736597455b95e2117ccf4d"
   },
   "outputs": [
    {
     "name": "stdout",
     "output_type": "stream",
     "text": [
      "{'name': 'MJ', 'age': 32, 'married': True, 'divorced': False, 'children': ('Ann', 'Billy'), 'pets': None, 'cars': [{'model': 'BMW 230', 'mpg': 27.5}, {'model': 'Ford Edge', 'mpg': 24.1}]}\n",
      "The 'try except' is finished\n"
     ]
    }
   ],
   "source": [
    "try:\n",
    "  print(x)\n",
    "except:\n",
    "  print(\"Something went wrong\")\n",
    "finally:\n",
    "  print(\"The 'try except' is finished\")"
   ]
  },
  {
   "cell_type": "markdown",
   "metadata": {
    "_uuid": "6d4ae311b6798fa03dff0516dfb59e7d271b040e"
   },
   "source": [
    "### <div style=\"direction: rtl; text-align: center;\"> Iterators </div>"
   ]
  },
  {
   "cell_type": "code",
   "execution_count": 72,
   "metadata": {
    "_kg_hide-input": true,
    "_uuid": "d4f1c3ecdad754158b847660bfc92343470e9c55"
   },
   "outputs": [
    {
     "name": "stdout",
     "output_type": "stream",
     "text": [
      "apple\n",
      "banana\n",
      "cherry\n"
     ]
    }
   ],
   "source": [
    "mytuple = (\"apple\", \"banana\", \"cherry\")\n",
    "myit = iter(mytuple)\n",
    "\n",
    "print(next(myit))\n",
    "print(next(myit))\n",
    "print(next(myit))"
   ]
  },
  {
   "cell_type": "code",
   "execution_count": 73,
   "metadata": {
    "_kg_hide-input": true,
    "_uuid": "830a5d61f4d7afec6525f32b8f8e9c0f4783acc0"
   },
   "outputs": [
    {
     "name": "stdout",
     "output_type": "stream",
     "text": [
      "apple\n",
      "banana\n",
      "cherry\n"
     ]
    }
   ],
   "source": [
    "mytuple = (\"apple\", \"banana\", \"cherry\")\n",
    "\n",
    "for x in mytuple:\n",
    "  print(x)"
   ]
  },
  {
   "cell_type": "markdown",
   "metadata": {
    "_uuid": "e7410e1e9691615946998a833fec7bea80f50cc2"
   },
   "source": [
    "### <div style=\"direction: rtl; text-align: center;\"> Dictionary </div>\n"
   ]
  },
  {
   "cell_type": "code",
   "execution_count": 74,
   "metadata": {
    "_kg_hide-input": true,
    "_uuid": "85f51ded66c72e13b253c5775e5b1ac914459479"
   },
   "outputs": [
    {
     "name": "stdout",
     "output_type": "stream",
     "text": [
      "{'brand': 'Ford', 'model': 'Mustang', 'year': 1964}\n"
     ]
    }
   ],
   "source": [
    "thisdict =\t{\n",
    "  \"brand\": \"Ford\",\n",
    "  \"model\": \"Mustang\",\n",
    "  \"year\": 1964\n",
    "}\n",
    "print(thisdict)"
   ]
  },
  {
   "cell_type": "markdown",
   "metadata": {
    "_uuid": "437f23fd4289f0a757dc1c87a1e339a9c6f96c31"
   },
   "source": [
    "### <div style=\"direction: rtl; text-align: center;\"> Tuples </div>"
   ]
  },
  {
   "cell_type": "code",
   "execution_count": 75,
   "metadata": {
    "_kg_hide-input": true,
    "_uuid": "253ab9bcc46ce48b2f5b702bacad75db5d95de7c"
   },
   "outputs": [
    {
     "name": "stdout",
     "output_type": "stream",
     "text": [
      "('apple', 'banana', 'cherry')\n"
     ]
    }
   ],
   "source": [
    "thistuple = (\"apple\", \"banana\", \"cherry\")\n",
    "print(thistuple)"
   ]
  },
  {
   "cell_type": "markdown",
   "metadata": {
    "_uuid": "0d377a64581e95a0022045181a2c81530eba31d1"
   },
   "source": [
    "### <div style=\"direction: rtl; text-align: center;\"> Set </div>"
   ]
  },
  {
   "cell_type": "code",
   "execution_count": 76,
   "metadata": {
    "_kg_hide-input": true,
    "_uuid": "0d4b6b6a5efa453ed3a594173586fb63bb6475dc"
   },
   "outputs": [
    {
     "name": "stdout",
     "output_type": "stream",
     "text": [
      "{'apartment', 'store', 'house'}\n"
     ]
    }
   ],
   "source": [
    "house_price = {\"store\", \"apartment\", \"house\"}\n",
    "print(house_price)"
   ]
  },
  {
   "cell_type": "code",
   "execution_count": 77,
   "metadata": {
    "_kg_hide-input": true,
    "_uuid": "dbb1998040fc3bdc67e0d690de391b4f47e117b8"
   },
   "outputs": [
    {
     "name": "stdout",
     "output_type": "stream",
     "text": [
      "apartment\n",
      "store\n",
      "house\n"
     ]
    }
   ],
   "source": [
    "house_price = {\"store\", \"apartment\", \"house\"}\n",
    "\n",
    "for x in house_price:\n",
    "  print(x)"
   ]
  },
  {
   "cell_type": "code",
   "execution_count": 78,
   "metadata": {
    "_kg_hide-input": true,
    "_uuid": "cccd895e65e0b5bbbfbecdd96b3322a43688de78"
   },
   "outputs": [
    {
     "name": "stdout",
     "output_type": "stream",
     "text": [
      "{'orange', 'banana', 'apple', 'cherry'}\n"
     ]
    }
   ],
   "source": [
    "thisset = {\"apple\", \"banana\", \"cherry\"}\n",
    "\n",
    "thisset.add(\"orange\")\n",
    "\n",
    "print(thisset)"
   ]
  }
 ],
 "metadata": {
  "kernelspec": {
   "display_name": "Python 3",
   "language": "python",
   "name": "python3"
  },
  "language_info": {
   "codemirror_mode": {
    "name": "ipython",
    "version": 3
   },
   "file_extension": ".py",
   "mimetype": "text/x-python",
   "name": "python",
   "nbconvert_exporter": "python",
   "pygments_lexer": "ipython3",
   "version": "3.7.3"
  }
 },
 "nbformat": 4,
 "nbformat_minor": 1
}
