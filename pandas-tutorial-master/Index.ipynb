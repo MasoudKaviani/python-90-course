{
 "cells": [
  {
   "cell_type": "markdown",
   "metadata": {},
   "source": [
    "<CENTER>\n",
    "  <header>\n",
    "    <h1>Pandas Tutorial</h1>\n",
    "    <h3>EuroScipy, Erlangen DE, August 24th, 2016</h3>\n",
    "    <h2>Joris Van den Bossche</h2>\n",
    "    <p></p>\n",
    "Source: <a href=\"https://github.com/jorisvandenbossche/pandas-tutorial\">https://github.com/jorisvandenbossche/pandas-tutorial</a>\n",
    "  </header>\n",
    "</CENTER>"
   ]
  },
  {
   "cell_type": "markdown",
   "metadata": {},
   "source": [
    "Two data files are not included in the repo, you can download them from: [`titles.csv`](https://drive.google.com/file/d/0B3G70MlBnCgKa0U4WFdWdGdVOFU/view?usp=sharing) and [`cast.csv`](https://drive.google.com/file/d/0B3G70MlBnCgKRzRmTWdQTUdjNnM/view?usp=sharing) and put them in the `/data` folder."
   ]
  },
  {
   "cell_type": "markdown",
   "metadata": {},
   "source": [
    "## Requirements to run this tutorial"
   ]
  },
  {
   "cell_type": "markdown",
   "metadata": {},
   "source": [
    "To follow this tutorial you need to have the following packages installed:\n",
    "\n",
    "- Python version 2.6-2.7 or 3.3-3.5\n",
    "- `pandas` version 0.18.0 or later: http://pandas.pydata.org/\n",
    "- `numpy` version 1.7 or later: http://www.numpy.org/\n",
    "- `matplotlib` version 1.3 or later: http://matplotlib.org/\n",
    "- `ipython` version 3.x with notebook support, or `ipython 4.x` combined with `jupyter`: http://ipython.org\n",
    "- `seaborn` (this is used for some plotting, but not necessary to follow the tutorial): http://stanford.edu/~mwaskom/software/seaborn/\n"
   ]
  },
  {
   "cell_type": "markdown",
   "metadata": {},
   "source": [
    "## Downloading the tutorial materials"
   ]
  },
  {
   "cell_type": "markdown",
   "metadata": {
    "collapsed": true
   },
   "source": [
    "If you have git installed, you can get the material in this tutorial by cloning this repo:\n",
    "\n",
    "    git clone https://github.com/jorisvandenbossche/pandas-tutorial.git\n",
    "\n",
    "As an alternative, you can download it as a zip file:\n",
    "https://github.com/jorisvandenbossche/pandas-tutorial/archive/master.zip.\n",
    "I will probably make some changes until the start of the tutorial, so best to download\n",
    "the latest version then (or do a `git pull` if you are using git).\n",
    "\n",
    "Two data files are not included in the repo, you can download them from: [`titles.csv`](https://drive.google.com/open?id=0B3G70MlBnCgKajNMa1pfSzN6Q3M) and [`cast.csv`](https://drive.google.com/open?id=0B3G70MlBnCgKal9UYTJSR2ZhSW8) and put them in the `/data` folder."
   ]
  },
  {
   "cell_type": "markdown",
   "metadata": {},
   "source": [
    "## Contents\n",
    "\n",
    "Beginners track:\n",
    "\n",
    "- [01 - Introduction - beginners.ipynb](01 - Introduction - beginners.ipynb)\n",
    "- [02 - Data structures](02 - Data structures.ipynb)\n",
    "- [03 - Indexing and selecting data](03 - Indexing and selecting data.ipynb)\n",
    "- [04 - Groupby operations](04 - Groupby operations.ipynb)\n",
    "\n",
    "Advanced track:\n",
    "\n",
    "- [03b - Some more advanced indexing](03b - Some more advanced indexing.ipynb)\n",
    "- [04b - Advanced groupby operations](04b - Advanced groupby operations.ipynb)\n",
    "- [05 - Time series data](05 - Time series data.ipynb)\n",
    "- [06 - Reshaping data](06 - Reshaping data.ipynb)\n"
   ]
  },
  {
   "cell_type": "code",
   "execution_count": null,
   "metadata": {
    "collapsed": true
   },
   "outputs": [],
   "source": []
  }
 ],
 "metadata": {
  "celltoolbar": "Slideshow",
  "kernelspec": {
   "display_name": "Python 3",
   "language": "python",
   "name": "python3"
  },
  "language_info": {
   "codemirror_mode": {
    "name": "ipython",
    "version": 3
   },
   "file_extension": ".py",
   "mimetype": "text/x-python",
   "name": "python",
   "nbconvert_exporter": "python",
   "pygments_lexer": "ipython3",
   "version": "3.5.2"
  }
 },
 "nbformat": 4,
 "nbformat_minor": 0
}
