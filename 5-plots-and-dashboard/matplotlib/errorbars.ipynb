{
 "cells": [
  {
   "cell_type": "markdown",
   "metadata": {},
   "source": [
    "[Sebastian Raschka](http://www.sebastianraschka.com)\n",
    "\n",
    "[back](https://github.com/rasbt/matplotlib-gallery) to the `matplotlib-gallery` at [https://github.com/rasbt/matplotlib-gallery](https://github.com/rasbt/matplotlib-gallery)"
   ]
  },
  {
   "cell_type": "code",
   "execution_count": 1,
   "metadata": {
    "collapsed": false
   },
   "outputs": [],
   "source": [
    "%load_ext watermark"
   ]
  },
  {
   "cell_type": "code",
   "execution_count": 2,
   "metadata": {
    "collapsed": false
   },
   "outputs": [
    {
     "name": "stdout",
     "output_type": "stream",
     "text": [
      "Last updated: 30/07/2014 \n",
      "\n",
      "CPython 3.4.1\n",
      "IPython 2.1.0\n",
      "\n",
      "matplotlib 1.3.1\n",
      "numpy 1.8.1\n",
      "scipy 0.14.0\n"
     ]
    }
   ],
   "source": [
    "%watermark -u -v -d -p matplotlib,numpy,scipy"
   ]
  },
  {
   "cell_type": "code",
   "execution_count": 3,
   "metadata": {
    "collapsed": false
   },
   "outputs": [],
   "source": [
    "%matplotlib inline"
   ]
  },
  {
   "cell_type": "markdown",
   "metadata": {},
   "source": [
    "# Errorbar Plots in matplotlib"
   ]
  },
  {
   "cell_type": "markdown",
   "metadata": {},
   "source": [
    "## Sections"
   ]
  },
  {
   "cell_type": "markdown",
   "metadata": {},
   "source": [
    "- [Standard Deviation, Standard Error, and Confidence Intervals](#Standard-Deviation,-Standard-Error,-and-Confidence-Intervals)\n",
    "- [Adding error bars to a barplot](#Adding-error-bars-to-a-barplot)"
   ]
  },
  {
   "cell_type": "markdown",
   "metadata": {},
   "source": [
    "<br>\n",
    "<br>"
   ]
  },
  {
   "cell_type": "markdown",
   "metadata": {},
   "source": [
    "# Standard Deviation, Standard Error, and Confidence Intervals"
   ]
  },
  {
   "cell_type": "markdown",
   "metadata": {},
   "source": [
    "[[back to top](#Sections)]"
   ]
  },
  {
   "cell_type": "code",
   "execution_count": 4,
   "metadata": {
    "collapsed": false
   },
   "outputs": [
    {
     "data": {
      "image/png": "[encoded data removed]",
      "text/plain": [
       "<matplotlib.figure.Figure at 0x10635a2e8>"
      ]
     },
     "metadata": {},
     "output_type": "display_data"
    }
   ],
   "source": [
    "import numpy as np\n",
    "from matplotlib import pyplot as plt\n",
    "from scipy.stats import t\n",
    "\n",
    "# Generating 15 random data points in the range 5-15 (inclusive)\n",
    "X = np.random.randint(5, 15, 15)\n",
    "\n",
    "# sample size\n",
    "n = X.size\n",
    "\n",
    "# mean\n",
    "X_mean = np.mean(X)\n",
    "\n",
    "# standard deviation\n",
    "X_std = np.std(X)\n",
    "\n",
    "# standard error\n",
    "X_se = X_std / np.sqrt(n)\n",
    "# alternatively:\n",
    "#    from scipy import stats\n",
    "#    stats.sem(X)\n",
    "\n",
    "# 95% Confidence Interval\n",
    "\n",
    "dof = n - 1         # degrees of freedom\n",
    "alpha = 1.0 - 0.95\n",
    "conf_interval = t.ppf(1-alpha/2., dof) * X_std*np.sqrt(1.+1./n)\n",
    "\n",
    "fig = plt.gca()\n",
    "plt.errorbar(1, X_mean, yerr=X_std, fmt='-o')\n",
    "plt.errorbar(2, X_mean, yerr=X_se, fmt='-o')\n",
    "plt.errorbar(3, X_mean, yerr=conf_interval, fmt='-o')\n",
    "\n",
    "plt.xlim([0,4])\n",
    "plt.ylim(X_mean-conf_interval-2, X_mean+conf_interval+2)\n",
    "\n",
    "# axis formatting\n",
    "fig.axes.get_xaxis().set_visible(False)\n",
    "fig.spines[\"top\"].set_visible(False)  \n",
    "fig.spines[\"right\"].set_visible(False)  \n",
    "plt.tick_params(axis=\"both\", which=\"both\", bottom=\"off\", top=\"off\",  \n",
    "                labelbottom=\"on\", left=\"on\", right=\"off\", labelleft=\"on\")  \n",
    "\n",
    "plt.legend(['Standard Deviation', 'Standard Error', 'Confidence Interval'], \n",
    "           loc='upper left',\n",
    "           numpoints=1,\n",
    "           fancybox=True)\n",
    "\n",
    "plt.ylabel('random variable')\n",
    "plt.title('15 random values in the range 5-15')\n",
    "\n",
    "plt.show()"
   ]
  },
  {
   "cell_type": "markdown",
   "metadata": {},
   "source": [
    "<br>\n",
    "<br>"
   ]
  },
  {
   "cell_type": "markdown",
   "metadata": {},
   "source": [
    "# Adding error bars to a barplot"
   ]
  },
  {
   "cell_type": "markdown",
   "metadata": {},
   "source": [
    "[[back to top](#Sections)]"
   ]
  },
  {
   "cell_type": "code",
   "execution_count": 7,
   "metadata": {
    "collapsed": false
   },
   "outputs": [
    {
     "data": {
      "image/png": "[encoded data removed]",
      "text/plain": [
       "<matplotlib.figure.Figure at 0x1066ce0f0>"
      ]
     },
     "metadata": {},
     "output_type": "display_data"
    }
   ],
   "source": [
    "import matplotlib.pyplot as plt\n",
    "\n",
    "# input data\n",
    "mean_values = [1, 2, 3]\n",
    "variance = [0.2, 0.4, 0.5]\n",
    "bar_labels = ['bar 1', 'bar 2', 'bar 3']\n",
    "\n",
    "fig = plt.gca()\n",
    "\n",
    "# plot bars\n",
    "x_pos = list(range(len(bar_labels)))\n",
    "plt.bar(x_pos, mean_values, yerr=variance, align='center', alpha=0.5)\n",
    "\n",
    "# set height of the y-axis\n",
    "max_y = max(zip(mean_values, variance)) # returns a tuple, here: (3, 5)\n",
    "plt.ylim([0, (max_y[0] + max_y[1]) * 1.1])\n",
    "\n",
    "# set axes labels and title\n",
    "plt.ylabel('variable y')\n",
    "plt.xticks(x_pos, bar_labels)\n",
    "plt.title('Bar plot with error bars')\n",
    "\n",
    "# axis formatting\n",
    "fig.axes.get_xaxis().set_visible(False)\n",
    "fig.spines[\"top\"].set_visible(False)  \n",
    "fig.spines[\"right\"].set_visible(False)  \n",
    "plt.tick_params(axis=\"both\", which=\"both\", bottom=\"off\", top=\"off\",  \n",
    "                labelbottom=\"on\", left=\"on\", right=\"off\", labelleft=\"on\")  \n",
    "\n",
    "plt.show()"
   ]
  },
  {
   "cell_type": "code",
   "execution_count": null,
   "metadata": {
    "collapsed": false
   },
   "outputs": [],
   "source": []
  }
 ],
 "metadata": {
  "kernelspec": {
   "display_name": "Python 3",
   "language": "python",
   "name": "python3"
  },
  "language_info": {
   "codemirror_mode": {
    "name": "ipython",
    "version": 3
   },
   "file_extension": ".py",
   "mimetype": "text/x-python",
   "name": "python",
   "nbconvert_exporter": "python",
   "pygments_lexer": "ipython3",
   "version": "3.4.3"
  }
 },
 "nbformat": 4,
 "nbformat_minor": 0
}
