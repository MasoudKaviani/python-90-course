{
 "cells": [
  {
   "cell_type": "markdown",
   "metadata": {},
   "source": [
    "<div style=\"direction:rtl; text-align:center; font-size:2em; font-weight: bold;\">\n",
    "گراف\n",
    "</div>"
   ]
  },
  {
   "cell_type": "code",
   "execution_count": 1,
   "metadata": {},
   "outputs": [],
   "source": [
    "%matplotlib inline"
   ]
  },
  {
   "cell_type": "code",
   "execution_count": 4,
   "metadata": {},
   "outputs": [],
   "source": [
    "import matplotlib.pyplot as plt\n",
    "\n",
    "def errorbar_default():\n",
    "\n",
    "    # Data\n",
    "    data = [1, 1.5, 1.2]\n",
    "    std_devs = [0.15, 0.25, 0.12]\n",
    "\n",
    "    # X axis positions\n",
    "    x_pos = range(len(data))\n",
    "\n",
    "    for d, std, x in zip(data, std_devs, x_pos):\n",
    "        plt.errorbar(x=x, y=d, yerr=std, fmt='o')\n",
    "\n",
    "    # setting axis limits   \n",
    "    plt.xlim([min(x_pos)-1, max(x_pos)+1])    \n",
    "    plt.ylim([min(data)*0.7, max(data)*1.3])  \n",
    "\n",
    "    # setting labels and titles   \n",
    "    plt.ylabel('x label')\n",
    "    plt.title('Matplotlib default')\n",
    "\n",
    "    plt.legend(['X1', 'X2', 'X3'], loc='upper right')\n",
    "\n",
    "    plt.show()"
   ]
  },
  {
   "cell_type": "code",
   "execution_count": 5,
   "metadata": {},
   "outputs": [],
   "source": [
    "import numpy as np\n",
    "def errorbar_modified():\n",
    "\n",
    "    # Data\n",
    "    data = [1, 1.5, 1.2]\n",
    "    std_devs = [0.15, 0.25, 0.12]\n",
    "\n",
    "    # X axis positions\n",
    "    x_pos = range(len(data))\n",
    "\n",
    "    colors = ['lightblue', 'pink', 'lightgreen']\n",
    "\n",
    "    fig = plt.gca()\n",
    "    ax = plt.subplot(111)  \n",
    "\n",
    "    # draw plots\n",
    "    for d, std, col, x in zip(data, std_devs, colors, x_pos):\n",
    "        plt.errorbar(x=x, y=d, yerr=std, fmt='o', color=col, ecolor='black')\n",
    "    \n",
    "    # setting axis limits    \n",
    "    plt.xlim([min(x_pos)-1, max(x_pos)+1])    \n",
    "    plt.ylim([min(data)*0.7, max(data)*1.3])  \n",
    "    \n",
    "    # setting labels and titles    \n",
    "    plt.ylabel('x label')\n",
    "    plt.text(1, 2, 'Modified',\n",
    "         horizontalalignment='center',\n",
    "         fontsize=14)\n",
    "\n",
    "    # remove axis spines\n",
    "    ax.spines[\"top\"].set_visible(False)  \n",
    "    ax.spines[\"right\"].set_visible(False) \n",
    "    ax.spines[\"bottom\"].set_visible(False) \n",
    "    ax.spines[\"left\"].set_visible(False)\n",
    "\n",
    "    # hiding axis ticks\n",
    "    plt.tick_params(axis=\"both\", which=\"both\", bottom=\"off\", top=\"off\",  \n",
    "                labelbottom=\"off\", left=\"off\", right=\"off\", labelleft=\"on\")\n",
    "\n",
    "    # adding horizontal grid lines \n",
    "    ax.yaxis.grid(True)\n",
    "\n",
    "    plt.legend(['X1', 'X2', 'X3'], loc='upper right', fancybox=True, numpoints=1)\n",
    "    \n",
    "    plt.tight_layout()\n",
    "    plt.show()"
   ]
  },
  {
   "cell_type": "code",
   "execution_count": 7,
   "metadata": {},
   "outputs": [],
   "source": [
    "data = [np.random.normal(0, std, 50) for std in range(1, 4)]"
   ]
  },
  {
   "cell_type": "code",
   "execution_count": 8,
   "metadata": {},
   "outputs": [],
   "source": [
    "import matplotlib.pyplot as plt\n",
    "import numpy as np\n",
    "\n",
    "def boxplot_default():\n",
    "\n",
    "    fig = plt.figure(figsize=(8,6))\n",
    "\n",
    "    plt.boxplot(data, \n",
    "            notch=False, # box instead of notch shape \n",
    "            sym='rs',    # red squares for outliers\n",
    "            vert=True)   # vertical box aligmnent\n",
    "\n",
    "    plt.xticks([y+1 for y in range(len(data))], ['x1', 'x2', 'x3'])\n",
    "    plt.title('Matplotlib default')\n",
    "    plt.show()"
   ]
  },
  {
   "cell_type": "code",
   "execution_count": 9,
   "metadata": {},
   "outputs": [],
   "source": [
    "def boxplot_modified():\n",
    "    \n",
    "    fig = plt.figure(figsize=(8,6))\n",
    "    ax = plt.subplot(111) \n",
    "\n",
    "    bplot = plt.boxplot(data, \n",
    "            notch=True,          # notch shape \n",
    "            vert=True,           # vertical box aligmnent\n",
    "            sym='ko',            # red circle for outliers\n",
    "            patch_artist=True,   # fill with color\n",
    "            )   \n",
    "\n",
    "    # choosing custom colors to fill the boxes\n",
    "    colors = ['pink', 'lightblue', 'lightgreen']\n",
    "    for patch, color in zip(bplot['boxes'], colors):\n",
    "        patch.set_facecolor(color)\n",
    "\n",
    "    # modifying the whiskers: straight lines, black, wider\n",
    "    for whisker in bplot['whiskers']:\n",
    "        whisker.set(color='black', linewidth=1.2, linestyle='-')    \n",
    "    \n",
    "    # making the caps a little bit wider \n",
    "    for cap in bplot['caps']:\n",
    "        cap.set(linewidth=1.2)\n",
    "    \n",
    "    # hiding axis ticks\n",
    "    plt.tick_params(axis=\"both\", which=\"both\", bottom=\"off\", top=\"off\",  \n",
    "            labelbottom=\"on\", left=\"off\", right=\"off\", labelleft=\"on\")\n",
    "\n",
    "    # adding horizontal grid lines \n",
    "    ax.yaxis.grid(True) \n",
    "    \n",
    "    # remove axis spines\n",
    "    ax.spines[\"top\"].set_visible(False)  \n",
    "    ax.spines[\"right\"].set_visible(False) \n",
    "    ax.spines[\"bottom\"].set_visible(False) \n",
    "    ax.spines[\"left\"].set_visible(False)\n",
    "\n",
    "    plt.xticks([y+1 for y in range(len(data))], ['x1', 'x2', 'x3'])\n",
    "\n",
    "    # raised title\n",
    "    plt.text(2, 9, 'Modified',\n",
    "         horizontalalignment='center',\n",
    "         fontsize=18)\n",
    "\n",
    "    plt.tight_layout()\n",
    "    plt.show()"
   ]
  },
  {
   "cell_type": "code",
   "execution_count": 10,
   "metadata": {},
   "outputs": [
    {
     "data": {
      "image/png": "[encoded data removed]",
      "text/plain": [
       "<Figure size 576x432 with 1 Axes>"
      ]
     },
     "metadata": {
      "needs_background": "light"
     },
     "output_type": "display_data"
    }
   ],
   "source": [
    "boxplot_default()"
   ]
  },
  {
   "cell_type": "code",
   "execution_count": 11,
   "metadata": {},
   "outputs": [
    {
     "name": "stderr",
     "output_type": "stream",
     "text": [
      "/home/masoud/anaconda37/lib/python3.7/site-packages/matplotlib/cbook/__init__.py:424: MatplotlibDeprecationWarning: \n",
      "Passing one of 'on', 'true', 'off', 'false' as a boolean is deprecated; use an actual boolean (True/False) instead.\n",
      "  warn_deprecated(\"2.2\", \"Passing one of 'on', 'true', 'off', 'false' as a \"\n"
     ]
    },
    {
     "data": {
      "image/png": "[encoded data removed]",
      "text/plain": [
       "<Figure size 576x432 with 1 Axes>"
      ]
     },
     "metadata": {
      "needs_background": "light"
     },
     "output_type": "display_data"
    }
   ],
   "source": [
    "boxplot_modified()"
   ]
  },
  {
   "cell_type": "code",
   "execution_count": 13,
   "metadata": {},
   "outputs": [],
   "source": [
    "import matplotlib.pyplot as plt\n",
    "\n",
    "def barplot_default():   \n",
    "\n",
    "    # input data\n",
    "    mean_values = [1, 2, 3]\n",
    "    variance = [0.2, 0.4, 0.5]\n",
    "    bar_labels = ['bar 1', 'bar 2', 'bar 3']\n",
    "\n",
    "    fig = plt.figure(figsize=(6,4))\n",
    "\n",
    "    # plot bars\n",
    "    x_pos = list(range(len(bar_labels)))\n",
    "    plt.bar(x_pos, mean_values, yerr=variance, align='center')\n",
    "\n",
    "\n",
    "    # set axes labels and title\n",
    "    plt.ylabel('variable y')\n",
    "    plt.xticks(x_pos, bar_labels)\n",
    "    plt.title('Matplotlib default')\n",
    "\n",
    "    plt.show()\n"
   ]
  },
  {
   "cell_type": "code",
   "execution_count": 14,
   "metadata": {},
   "outputs": [],
   "source": [
    "import matplotlib.pyplot as plt\n",
    "\n",
    "def barplot_modified():\n",
    "\n",
    "    # input data\n",
    "    mean_values = [1, 2, 3]\n",
    "    variance = [0.2, 0.4, 0.5]\n",
    "    bar_labels = ['bar 1', 'bar 2', 'bar 3']\n",
    "\n",
    "    fig = plt.figure(figsize=(6,4))\n",
    "    ax = plt.subplot(111) \n",
    "    \n",
    "    # plot bars\n",
    "    x_pos = list(range(len(bar_labels)))\n",
    "    plt.bar(x_pos, mean_values, yerr=variance, \n",
    "            ecolor='black', # black error bar color\n",
    "            alpha=0.5,      # transparency\n",
    "            width=0.5,      # smaller bar width\n",
    "            align='center')\n",
    "\n",
    "    # set height of the y-axis\n",
    "    max_y = max(zip(mean_values, variance)) # returns a tuple, here: (3, 5)\n",
    "    plt.ylim([0, (max_y[0] + max_y[1]) * 1.1])\n",
    "\n",
    "    # hiding axis ticks\n",
    "    plt.tick_params(axis=\"both\", which=\"both\", bottom=\"off\", top=\"off\",  \n",
    "            labelbottom=\"on\", left=\"off\", right=\"off\", labelleft=\"on\")\n",
    "\n",
    "    # adding horizontal grid lines \n",
    "    ax.yaxis.grid(True) \n",
    "    \n",
    "    # remove axis spines\n",
    "    ax.spines[\"top\"].set_visible(False)  \n",
    "    ax.spines[\"right\"].set_visible(False) \n",
    "    ax.spines[\"bottom\"].set_visible(False) \n",
    "    ax.spines[\"left\"].set_visible(False)\n",
    "\n",
    "    # set axes labels and title\n",
    "    plt.ylabel('variable y')\n",
    "    plt.xticks(x_pos, bar_labels)\n",
    "    \n",
    "    plt.text(1, 4, 'Modified',\n",
    "         horizontalalignment='center',\n",
    "         fontsize=18)\n",
    "\n",
    "    \n",
    "    \n",
    "    plt.tight_layout()\n",
    "    plt.show()\n"
   ]
  },
  {
   "cell_type": "code",
   "execution_count": 15,
   "metadata": {},
   "outputs": [
    {
     "data": {
      "image/png": "[encoded data removed]",
      "text/plain": [
       "<Figure size 432x288 with 1 Axes>"
      ]
     },
     "metadata": {
      "needs_background": "light"
     },
     "output_type": "display_data"
    }
   ],
   "source": [
    "barplot_default()"
   ]
  },
  {
   "cell_type": "code",
   "execution_count": 16,
   "metadata": {},
   "outputs": [
    {
     "data": {
      "image/png": "[encoded data removed]",
      "text/plain": [
       "<Figure size 432x288 with 1 Axes>"
      ]
     },
     "metadata": {
      "needs_background": "light"
     },
     "output_type": "display_data"
    }
   ],
   "source": [
    "barplot_modified()"
   ]
  },
  {
   "cell_type": "code",
   "execution_count": 17,
   "metadata": {},
   "outputs": [],
   "source": [
    "import numpy as np\n",
    "import random\n",
    "from matplotlib import pyplot as plt\n",
    "\n",
    "data1 = [random.gauss(15,10) for i in range(500)]  \n",
    "data2 = [random.gauss(5,5) for i in range(500)]  "
   ]
  },
  {
   "cell_type": "code",
   "execution_count": 18,
   "metadata": {},
   "outputs": [],
   "source": [
    "def histogram_default():\n",
    "\n",
    "    fig = plt.figure(figsize=(8,6))\n",
    "    \n",
    "    bins = np.arange(-60, 60, 2.5)\n",
    "\n",
    "    # plot histograms\n",
    "    plt.hist(data1, bins=bins, label='class 1')\n",
    "    plt.hist(data2, bins=bins, label='class 2')\n",
    "    \n",
    "    # labels\n",
    "    plt.title('Matplotlib default')\n",
    "    plt.xlabel('variable X')\n",
    "    plt.ylabel('count')\n",
    "    plt.legend(loc='upper right')\n",
    "\n",
    "    plt.show()"
   ]
  },
  {
   "cell_type": "code",
   "execution_count": 19,
   "metadata": {},
   "outputs": [],
   "source": [
    "def histogram_modified():\n",
    "\n",
    "    bins = np.arange(-60, 60, 2.5)\n",
    "    \n",
    "    fig = plt.figure(figsize=(8,6))\n",
    "    ax = plt.subplot(111) \n",
    "    \n",
    "    # plot histograms\n",
    "    plt.hist(data1, bins=bins, \n",
    "             alpha=0.3,        # transparency\n",
    "             label='class 1')\n",
    "    plt.hist(data2, bins=bins, \n",
    "             alpha=0.3,        # transparency\n",
    "             label='class 2')\n",
    "    \n",
    "    # axis formatting\n",
    "    plt.ylim([0, 110])\n",
    "    plt.xlim([min(data1+data2)-5, max(data1+data2)+5])\n",
    "\n",
    "    # hiding axis ticks\n",
    "    plt.tick_params(axis=\"both\", which=\"both\", bottom=\"off\", top=\"off\",  \n",
    "            labelbottom=\"on\", left=\"off\", right=\"off\", labelleft=\"on\")\n",
    "\n",
    "    # adding horizontal grid lines \n",
    "    ax.yaxis.grid(True) \n",
    "    \n",
    "    # remove axis spines\n",
    "    ax.spines[\"top\"].set_visible(False)  \n",
    "    ax.spines[\"right\"].set_visible(False) \n",
    "    ax.spines[\"bottom\"].set_visible(False) \n",
    "    ax.spines[\"left\"].set_visible(False)    \n",
    "    \n",
    "    # labels    \n",
    "    plt.xlabel('variable X')\n",
    "    plt.ylabel('count')\n",
    "    plt.legend(loc='upper right', fancybox=True)\n",
    "\n",
    "    # raised title\n",
    "    plt.text(15, 120, 'Modified',\n",
    "         horizontalalignment='center',\n",
    "         fontsize=18)    \n",
    "    \n",
    "    plt.show()"
   ]
  },
  {
   "cell_type": "code",
   "execution_count": 20,
   "metadata": {},
   "outputs": [
    {
     "data": {
      "image/png": "[encoded data removed]",
      "text/plain": [
       "<Figure size 576x432 with 1 Axes>"
      ]
     },
     "metadata": {
      "needs_background": "light"
     },
     "output_type": "display_data"
    }
   ],
   "source": [
    "histogram_default()"
   ]
  },
  {
   "cell_type": "code",
   "execution_count": 21,
   "metadata": {},
   "outputs": [
    {
     "data": {
      "image/png": "[encoded data removed]",
      "text/plain": [
       "<Figure size 576x432 with 1 Axes>"
      ]
     },
     "metadata": {
      "needs_background": "light"
     },
     "output_type": "display_data"
    }
   ],
   "source": [
    "histogram_modified()"
   ]
  },
  {
   "cell_type": "code",
   "execution_count": 22,
   "metadata": {},
   "outputs": [],
   "source": [
    "from matplotlib import pyplot as plt\n",
    "import numpy as np\n",
    "\n",
    "def piechart_default():\n",
    "\n",
    "    plt.pie(\n",
    "        (10,5),\n",
    "        labels=('spam','ham'))\n",
    "    plt.legend()\n",
    "    plt.title('Matplotlib default')\n",
    "    plt.show()"
   ]
  },
  {
   "cell_type": "code",
   "execution_count": 23,
   "metadata": {},
   "outputs": [],
   "source": [
    "def piechart_modified():\n",
    "\n",
    "    plt.pie(\n",
    "        (10,5),\n",
    "        labels=('spam','ham'),\n",
    "        shadow=True,\n",
    "        colors=('lightskyblue', 'yellowgreen'),\n",
    "        explode=(0,0.15), # space between slices \n",
    "        startangle=90,    # rotate conter-clockwise by 90 degrees\n",
    "        autopct='%1.1f%%',# display fraction as percentage\n",
    "        )\n",
    "    plt.legend(fancybox=True)\n",
    "    plt.axis('equal')     # plot pyplot as circle\n",
    "    plt.tight_layout()\n",
    "    plt.title('Modified')\n",
    "    plt.show()"
   ]
  },
  {
   "cell_type": "code",
   "execution_count": 24,
   "metadata": {},
   "outputs": [
    {
     "data": {
      "image/png": "[encoded data removed]",
      "text/plain": [
       "<Figure size 432x288 with 1 Axes>"
      ]
     },
     "metadata": {},
     "output_type": "display_data"
    }
   ],
   "source": [
    "piechart_default()"
   ]
  },
  {
   "cell_type": "code",
   "execution_count": 25,
   "metadata": {},
   "outputs": [
    {
     "data": {
      "image/png": "[encoded data removed]",
      "text/plain": [
       "<Figure size 432x288 with 1 Axes>"
      ]
     },
     "metadata": {},
     "output_type": "display_data"
    }
   ],
   "source": [
    "piechart_modified()"
   ]
  },
  {
   "cell_type": "markdown",
   "metadata": {},
   "source": [
    "<br>\n",
    "<br>"
   ]
  },
  {
   "cell_type": "code",
   "execution_count": 26,
   "metadata": {},
   "outputs": [],
   "source": [
    "import numpy as np\n",
    "data = [np.random.normal(0, std, 50) for std in range(1, 4)]"
   ]
  },
  {
   "cell_type": "code",
   "execution_count": 27,
   "metadata": {},
   "outputs": [],
   "source": [
    "import matplotlib.pyplot as plt\n",
    "\n",
    "def violin_default():\n",
    "\n",
    "    fig = plt.figure(figsize=(8,6))\n",
    "\n",
    "    plt.violinplot(data)\n",
    "\n",
    "    plt.xticks([y+1 for y in range(len(data))], ['x1', 'x2', 'x3'])\n",
    "    plt.title('Matplotlib default')\n",
    "    plt.show()"
   ]
  },
  {
   "cell_type": "code",
   "execution_count": 28,
   "metadata": {},
   "outputs": [],
   "source": [
    "def violin_modified():\n",
    "    \n",
    "    fig = plt.figure(figsize=(8,6))\n",
    "    ax = plt.subplot(111) \n",
    "\n",
    "    vplot = plt.violinplot(data,\n",
    "               showmeans=False,\n",
    "               showmedians=True,\n",
    "               showextrema=False\n",
    "               )\n",
    "\n",
    "    # choosing custom colors to fill the boxes\n",
    "    colors = ['red', 'blue', 'green']\n",
    "    for patch, color in zip(vplot['bodies'], colors):\n",
    "        patch.set_facecolor(color)\n",
    "\n",
    "\n",
    "    # hiding axis ticks\n",
    "    plt.tick_params(axis=\"both\", which=\"both\", bottom=\"off\", top=\"off\",  \n",
    "            labelbottom=\"on\", left=\"off\", right=\"off\", labelleft=\"on\")\n",
    "\n",
    "    # adding horizontal grid lines \n",
    "    ax.yaxis.grid(True) \n",
    "    \n",
    "    # remove axis spines\n",
    "    ax.spines[\"top\"].set_visible(False)  \n",
    "    ax.spines[\"right\"].set_visible(False) \n",
    "    ax.spines[\"bottom\"].set_visible(False) \n",
    "    ax.spines[\"left\"].set_visible(False)\n",
    "\n",
    "    plt.xticks([y+1 for y in range(len(data))], ['x1', 'x2', 'x3'])\n",
    "\n",
    "    # raised title\n",
    "    plt.text(2, 9, 'Modified',\n",
    "         horizontalalignment='center',\n",
    "         fontsize=18)\n",
    "\n",
    "    plt.tight_layout()\n",
    "    plt.show()"
   ]
  },
  {
   "cell_type": "code",
   "execution_count": 30,
   "metadata": {},
   "outputs": [
    {
     "data": {
      "image/png": "[encoded data removed]",
      "text/plain": [
       "<Figure size 576x432 with 1 Axes>"
      ]
     },
     "metadata": {
      "needs_background": "light"
     },
     "output_type": "display_data"
    }
   ],
   "source": [
    "violin_default()"
   ]
  },
  {
   "cell_type": "code",
   "execution_count": 29,
   "metadata": {},
   "outputs": [
    {
     "data": {
      "image/png": "[encoded data removed]",
      "text/plain": [
       "<Figure size 576x432 with 1 Axes>"
      ]
     },
     "metadata": {
      "needs_background": "light"
     },
     "output_type": "display_data"
    }
   ],
   "source": [
    "violin_modified()"
   ]
  },
  {
   "cell_type": "markdown",
   "metadata": {},
   "source": [
    "source and resources:<br />\n",
    "http://www.sebastianraschka.com<br />\n",
    "https://github.com/rasbt/matplotlib-gallery<br />\n",
    "https://matplotlib.org/"
   ]
  }
 ],
 "metadata": {
  "kernelspec": {
   "display_name": "Python 3",
   "language": "python",
   "name": "python3"
  },
  "language_info": {
   "codemirror_mode": {
    "name": "ipython",
    "version": 3
   },
   "file_extension": ".py",
   "mimetype": "text/x-python",
   "name": "python",
   "nbconvert_exporter": "python",
   "pygments_lexer": "ipython3",
   "version": "3.7.3"
  }
 },
 "nbformat": 4,
 "nbformat_minor": 1
}
