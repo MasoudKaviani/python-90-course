{
  "cells": [
    {
      "metadata": {
        "_uuid": "1247188a5193a0bb99f176fea36dc594d283160e"
      },
      "cell_type": "markdown",
      "source": "<img src='http://s9.picofile.com/file/8351628176/nlp.png' width=600 height=600 >\n<div style=\"text-align:center\">last update: <b>12/02/2019</b></div>\n\n\n>You are reading **10 Steps to Become a Data Scientist** and are now in the 8th step : \n\n1. [Leren Python](https://www.kaggle.com/mjbahmani/the-data-scientist-s-toolbox-tutorial-1)\n2. [Python Packages](https://www.kaggle.com/mjbahmani/the-data-scientist-s-toolbox-tutorial-2)\n3. [Mathematics and Linear Algebra](https://www.kaggle.com/mjbahmani/linear-algebra-for-data-scientists)\n4. <font color=\"red\">You are in the 4th step</font>\n5. [Big Data](https://www.kaggle.com/mjbahmani/a-data-science-framework-for-quora)\n6. [Data visualization](https://www.kaggle.com/mjbahmani/top-5-data-visualization-libraries-tutorial)\n7. [Data Cleaning](https://www.kaggle.com/mjbahmani/machine-learning-workflow-for-house-prices)\n8. [Tutorial-on-ensemble-learning](https://www.kaggle.com/mjbahmani/tutorial-on-ensemble-learning)\n9. [A Comprehensive ML  Workflow with Python](https://www.kaggle.com/mjbahmani/a-comprehensive-ml-workflow-with-python)\n10. [Deep Learning](https://www.kaggle.com/mjbahmani/top-5-deep-learning-frameworks-tutorial)\n\n\n\n---------------------------------------------------------------------\nYou can Fork and Run this kernel on Github:\n> ###### [ GitHub](https://github.com/mjbahmani/10-steps-to-become-a-data-scientist)\n\n-------------------------------------------------------------------------------------------------------------\n\n **I hope you find this kernel helpful and some <font color=\"red\"><b>UPVOTES</b></font> would be very much appreciated**\n \n -----------"
    },
    {
      "metadata": {
        "_uuid": "0a45d14ee727bf2f88a7cd0ba5e6aa338977d10b"
      },
      "cell_type": "markdown",
      "source": " <a id=\"top\"></a> <br>\n## Notebook  Content\n1. [Introduction](#1)\n    1. [Import](#11)\n    1. [Version](#12)\n    1. [Setup](#13)\n    1. [Data set](#14)\n    1. [Gendered Pronoun Analysis](#15)\n        1. [Problem Feature](#151)\n        1. [Variables](#152)\n1. [NLTK](#2)\n    1. [Tokenizing sentences](#21)\n    1. [NLTK and arrays](#22)\n    1. [NLTK stop words](#23)\n    1. [NLTK – stemming](#24)\n    1. [NLTK speech tagging](#25)\n    1. [Natural Language Processing – prediction](#26)\n        1. [nlp prediction example](#261)\n    1. [nlp prediction example](#27)\n1. [spaCy](#3)\n    1. [Sentence detection](#31)\n    1. [Part Of Speech Tagging](#32)\n    1. [spaCy](#33)\n    1. [displaCy](#34)\n1. [Gensim](#4)\n1. [Comparison of Python NLP libraries by Activewizards](#5)\n1. [References](#6)"
    },
    {
      "metadata": {
        "_uuid": "ec7344e7f2a1bafa9a44a518722fcd8ec47c374b"
      },
      "cell_type": "markdown",
      "source": "<a id=\"1\"></a> <br>\n# 1-Introduction\nThis Kernel is mostly for **beginners**, and of course, all **professionals** who think they need to review  their  knowledge.\nAlso, we introduce and teach three known libraries ( NLTK+spaCy+Gensim) for text processing And we will introduce for each of them some examples based on [gendered-pronoun-resolution](https://www.kaggle.com/c/gendered-pronoun-resolution)."
    },
    {
      "metadata": {
        "_uuid": "4e28cde75726e3617dc80585626f7f8a1297a9e4"
      },
      "cell_type": "markdown",
      "source": "<a id=\"11\"></a> <br>\n##   1-1 Import"
    },
    {
      "metadata": {
        "_cell_guid": "b1076dfc-b9ad-4769-8c92-a6c4dae69d19",
        "_kg_hide-input": true,
        "_uuid": "8f2839f25d086af736a60e9eeb907d3b93b6e0e5",
        "trusted": true
      },
      "cell_type": "code",
      "source": "import matplotlib.pyplot as plt\nimport seaborn as sns\nimport pandas as pd\nimport numpy as np\nimport matplotlib\nimport warnings\nimport sklearn\nimport gensim\nimport scipy\nimport numpy\nimport json\nimport nltk\nimport sys\nimport csv\nimport os",
      "execution_count": null,
      "outputs": []
    },
    {
      "metadata": {
        "_uuid": "3c3c434ac82d771c5549c4f36d0e8e878489f252"
      },
      "cell_type": "markdown",
      "source": "<a id=\"12\"></a> <br>\n## 1-2 Version"
    },
    {
      "metadata": {
        "_kg_hide-input": true,
        "_uuid": "72fdff866b7cbe404867e82f9122e16fc33facf2",
        "trusted": true
      },
      "cell_type": "code",
      "source": "print('matplotlib: {}'.format(matplotlib.__version__))\nprint('scipy: {}'.format(scipy.__version__))\nprint('seaborn: {}'.format(sns.__version__))\nprint('pandas: {}'.format(pd.__version__))\nprint('numpy: {}'.format(np.__version__))\nprint('Python: {}'.format(sys.version))",
      "execution_count": null,
      "outputs": []
    },
    {
      "metadata": {
        "_uuid": "4284a92f8326eb09dccf0a795f44931c5a7487cc"
      },
      "cell_type": "markdown",
      "source": "<a id=\"13\"></a> <br>\n## 1-3 Setup\n\nA few tiny adjustments for better **code readability**"
    },
    {
      "metadata": {
        "_kg_hide-input": true,
        "_uuid": "f9a265dce077fd183b2172378a85ed2d23290189",
        "trusted": true
      },
      "cell_type": "code",
      "source": "sns.set(style='white', context='notebook', palette='deep')\nwarnings.filterwarnings('ignore')\nsns.set_style('white')\n%matplotlib inline",
      "execution_count": null,
      "outputs": []
    },
    {
      "metadata": {
        "_uuid": "2f9bb958b20b3412b3497ed7f34d1f29f73c9c04"
      },
      "cell_type": "markdown",
      "source": "<a id=\"14\"></a> <br>\n## 1-4 Data set"
    },
    {
      "metadata": {
        "trusted": true,
        "_uuid": "01131ed1f0d7c9973b33431af34a9e918e36c2bb"
      },
      "cell_type": "code",
      "source": "print(os.listdir(\"../input/\"))",
      "execution_count": null,
      "outputs": []
    },
    {
      "metadata": {
        "_uuid": "cedecea930b278f86292367cc28d2996a235a169",
        "trusted": true
      },
      "cell_type": "code",
      "source": "gendered_pronoun_df = pd.read_csv('../input/test_stage_1.tsv', delimiter='\\t')",
      "execution_count": null,
      "outputs": []
    },
    {
      "metadata": {
        "trusted": true,
        "_uuid": "43deb221b65048bfc4b3e0055fae848ff84d3143"
      },
      "cell_type": "code",
      "source": "submission = pd.read_csv('../input/sample_submission_stage_1.csv')",
      "execution_count": null,
      "outputs": []
    },
    {
      "metadata": {
        "trusted": true,
        "_uuid": "6e0d934d1ec4864c1b211324cada605fee8077a8"
      },
      "cell_type": "code",
      "source": "gendered_pronoun_df.shape",
      "execution_count": null,
      "outputs": []
    },
    {
      "metadata": {
        "trusted": true,
        "_uuid": "a15832c243c22add987ccfc8f1e13238c5a18435"
      },
      "cell_type": "code",
      "source": "submission.shape",
      "execution_count": null,
      "outputs": []
    },
    {
      "metadata": {
        "_uuid": "984626a96b68c3e3fa1f70ffecbe6afca5156bea"
      },
      "cell_type": "markdown",
      "source": "<a id=\"15\"></a> <br>\n## 1-5 Gendered Pronoun Data set Analysis\n<img src='https://storage.googleapis.com/kaggle-media/competitions/GoogleAI-GenderedPronoun/PronounResolution.png' width=600 height=600>\n**Pronoun resolution** is part of coreference resolution, the task of pairing an expression to its referring entity. This is an important task for natural language understanding, and the resolution of ambiguous pronouns is a longstanding challenge. for more information you can check this [link](https://www.kaggle.com/c/gendered-pronoun-resolution)\n<a id=\"151\"></a> <br>\n### 1-5-1 Problem Feature\nIn this competition, you must identify the target of a pronoun within a text passage. The source text is taken from Wikipedia articles. You are provided with the pronoun and two candidate names to which the pronoun could refer. You must create an algorithm capable of deciding whether the pronoun refers to name A, name B, or neither."
    },
    {
      "metadata": {
        "trusted": true,
        "_uuid": "b6f8c6a6a9f29fc49ff2bb1d8294426c33563433"
      },
      "cell_type": "code",
      "source": "gendered_pronoun_df.head()",
      "execution_count": null,
      "outputs": []
    },
    {
      "metadata": {
        "trusted": true,
        "_uuid": "073d5e85a4f4acc4938109dfd0f8ecd350abd0cf"
      },
      "cell_type": "code",
      "source": "gendered_pronoun_df.info()",
      "execution_count": null,
      "outputs": []
    },
    {
      "metadata": {
        "_uuid": "3ec61de15ab10fdeafcd98088cc47c8586caa477"
      },
      "cell_type": "markdown",
      "source": "<a id=\"152\"></a> <br>\n### 1-5-2  Variables\n\n1. ID - Unique identifier for an example (Matches to Id in output file format)\n1. Text - Text containing the ambiguous pronoun and two candidate names (about a paragraph in length)\n1. Pronoun - The target pronoun (text)\n1. Pronoun-offset The character offset of Pronoun in Text\n1. A - The first name candidate (text)\n1. A-offset - The character offset of name A in Text\n1. B - The second name candidate\n1. B-offset - The character offset of name B in Text\n1. URL - The URL of the source Wikipedia page for the example"
    },
    {
      "metadata": {
        "trusted": true,
        "_uuid": "b81a1e300309cddfa51b7c64ae4d18e55035fb10"
      },
      "cell_type": "code",
      "source": "print(gendered_pronoun_df.Text.head())",
      "execution_count": null,
      "outputs": []
    },
    {
      "metadata": {
        "_uuid": "c08d722cf215cefb65a17b57a141f0b7b9245cb3"
      },
      "cell_type": "markdown",
      "source": "<a id=\"153\"></a> <br>\n### 1-5-3  Evaluation\nSubmissions are evaluated using the multi-class logarithmic loss. Each pronoun has been labeled with whether it refers to A, B, or NEITHER. For each pronoun, you must submit a set of predicted probabilities (one for each class). The formula is :\n<img src='http://s8.picofile.com/file/8351608076/1.png'>"
    },
    {
      "metadata": {
        "trusted": true,
        "_uuid": "6bb8c7baeb7f44bac5b466ba7623fbe17fb3f92b"
      },
      "cell_type": "code",
      "source": "print(\"Shape of train set : \",gendered_pronoun_df.shape)",
      "execution_count": null,
      "outputs": []
    },
    {
      "metadata": {
        "trusted": true,
        "_uuid": "f8add9178a5c9effd42f468319ab78a84c793d6d"
      },
      "cell_type": "code",
      "source": "gendered_pronoun_df.columns",
      "execution_count": null,
      "outputs": []
    },
    {
      "metadata": {
        "_uuid": "8de6c0cb6f790d063af993989947c42ef6eeb0f6"
      },
      "cell_type": "markdown",
      "source": "## Check Missing Data"
    },
    {
      "metadata": {
        "trusted": true,
        "_uuid": "dcc997467cd5d9872f3de26b3c664f23befac147"
      },
      "cell_type": "code",
      "source": "def check_missing_data(df):\n    flag=df.isna().sum().any()\n    if flag==True:\n        total = df.isnull().sum()\n        percent = (df.isnull().sum())/(df.isnull().count()*100)\n        output = pd.concat([total, percent], axis=1, keys=['Total', 'Percent'])\n        data_type = []\n        # written by MJ Bahmani\n        for col in df.columns:\n            dtype = str(df[col].dtype)\n            data_type.append(dtype)\n        output['Types'] = data_type\n        return(np.transpose(output))\n    else:\n        return(False)",
      "execution_count": null,
      "outputs": []
    },
    {
      "metadata": {
        "trusted": true,
        "_uuid": "0233123b25c8955206476b5d43b68f078a81ccba"
      },
      "cell_type": "code",
      "source": "check_missing_data(gendered_pronoun_df)",
      "execution_count": null,
      "outputs": []
    },
    {
      "metadata": {
        "_uuid": "fffdb2c356ad89df08f40184f67a7e1d82585eaf"
      },
      "cell_type": "markdown",
      "source": "<a id=\"154\"></a> <br>\n## 1-5-4 Some New Features\nIn this section, I will extract a few new statistical features from the text field"
    },
    {
      "metadata": {
        "_uuid": "12e97cbf772cd13d9403a7806d42739253a017ff"
      },
      "cell_type": "markdown",
      "source": "### Number of words in the text"
    },
    {
      "metadata": {
        "trusted": true,
        "_uuid": "39e587dc0059dea070a800c3987e2015e0bd68f6"
      },
      "cell_type": "code",
      "source": "gendered_pronoun_df[\"num_words\"] = gendered_pronoun_df[\"Text\"].apply(lambda x: len(str(x).split()))",
      "execution_count": null,
      "outputs": []
    },
    {
      "metadata": {
        "trusted": true,
        "_uuid": "9459d55197f128ba4b0d4cecdcca700f95d4fccf"
      },
      "cell_type": "code",
      "source": "#MJ Bahmani\nprint('maximum of num_words in data_df',gendered_pronoun_df[\"num_words\"].max())\nprint('min of num_words in data_df',gendered_pronoun_df[\"num_words\"].min())",
      "execution_count": null,
      "outputs": []
    },
    {
      "metadata": {
        "_uuid": "92e63580cf1a8e795a24544f1ce16d57e20f16ae"
      },
      "cell_type": "markdown",
      "source": "### Number of unique words in the text"
    },
    {
      "metadata": {
        "trusted": true,
        "_uuid": "2180897cc82e1262b1a693a9a143735e9202ad9f"
      },
      "cell_type": "code",
      "source": "gendered_pronoun_df[\"num_unique_words\"] = gendered_pronoun_df[\"Text\"].apply(lambda x: len(set(str(x).split())))\nprint('maximum of num_unique_words in train',gendered_pronoun_df[\"num_unique_words\"].max())\nprint('mean of num_unique_words in data_df',gendered_pronoun_df[\"num_unique_words\"].mean())",
      "execution_count": null,
      "outputs": []
    },
    {
      "metadata": {
        "_uuid": "d2ca0159f70233588e98b25b9a91da2054c5b815"
      },
      "cell_type": "markdown",
      "source": "### Number of characters in the text"
    },
    {
      "metadata": {
        "trusted": true,
        "_uuid": "908c86b9946d8df03cbef68a05e4b7ff1b661d7c"
      },
      "cell_type": "code",
      "source": "gendered_pronoun_df[\"num_chars\"] = gendered_pronoun_df[\"Text\"].apply(lambda x: len(str(x)))\nprint('maximum of num_chars in data_df',gendered_pronoun_df[\"num_chars\"].max())",
      "execution_count": null,
      "outputs": []
    },
    {
      "metadata": {
        "_uuid": "c92b550daefdf3b24b70d8699db5dd0c574cff9c"
      },
      "cell_type": "markdown",
      "source": "### Number of stopwords in the text"
    },
    {
      "metadata": {
        "trusted": true,
        "_uuid": "aac35abcf25fe2eedb2c8cbfa41aec7a1b343027"
      },
      "cell_type": "code",
      "source": "from nltk.corpus import stopwords\neng_stopwords = set(stopwords.words(\"english\"))",
      "execution_count": null,
      "outputs": []
    },
    {
      "metadata": {
        "trusted": true,
        "_uuid": "820f129f67cb992a9a7cf5a6eb517435bc134868"
      },
      "cell_type": "code",
      "source": "gendered_pronoun_df[\"num_stopwords\"] = gendered_pronoun_df[\"Text\"].apply(lambda x: len([w for w in str(x).lower().split() if w in eng_stopwords]))\n\nprint('maximum of num_stopwords in data_df',gendered_pronoun_df[\"num_stopwords\"].max())",
      "execution_count": null,
      "outputs": []
    },
    {
      "metadata": {
        "_uuid": "e08b8010d753e7f3ddb2899007f774f8b37f9563"
      },
      "cell_type": "markdown",
      "source": "### Number of punctuations in the text\n"
    },
    {
      "metadata": {
        "trusted": true,
        "_uuid": "0bfb80fd81acd6f7cfdd9c4951d063efac55e7fe"
      },
      "cell_type": "code",
      "source": "import string\ngendered_pronoun_df[\"num_punctuations\"] =gendered_pronoun_df['Text'].apply(lambda x: len([c for c in str(x) if c in string.punctuation]) )\nprint('maximum of num_punctuations in data_df',gendered_pronoun_df[\"num_punctuations\"].max())",
      "execution_count": null,
      "outputs": []
    },
    {
      "metadata": {
        "_uuid": "870b75ce6c170a655ff93f7b92f0d6d2efadcbea"
      },
      "cell_type": "markdown",
      "source": "### Number of title case words in the text"
    },
    {
      "metadata": {
        "trusted": true,
        "_uuid": "ef4efb54840d12d666b0688e3c34652261a3565a"
      },
      "cell_type": "code",
      "source": "gendered_pronoun_df[\"num_words_upper\"] = gendered_pronoun_df[\"Text\"].apply(lambda x: len([w for w in str(x).split() if w.isupper()]))\nprint('maximum of num_words_upper in data_df',gendered_pronoun_df[\"num_words_upper\"].max())",
      "execution_count": null,
      "outputs": []
    },
    {
      "metadata": {
        "trusted": true,
        "_uuid": "a745d428fbf0a85faa371c20125f6a45d133dc4d"
      },
      "cell_type": "code",
      "source": "print(gendered_pronoun_df.columns)\ngendered_pronoun_df.head(1)",
      "execution_count": null,
      "outputs": []
    },
    {
      "metadata": {
        "trusted": true,
        "_uuid": "27724fbc41131531a97558394627a6327b8104ae"
      },
      "cell_type": "code",
      "source": "pronoun=gendered_pronoun_df[\"Pronoun\"]",
      "execution_count": null,
      "outputs": []
    },
    {
      "metadata": {
        "trusted": true,
        "_uuid": "e4e059d1204d780321dbc23d2180ce178d6295f2"
      },
      "cell_type": "code",
      "source": "np.unique(pronoun)",
      "execution_count": null,
      "outputs": []
    },
    {
      "metadata": {
        "trusted": true,
        "_uuid": "74a6654383f6a8665f53a4b86beede0b6320a800"
      },
      "cell_type": "code",
      "source": "## is suggested by  https://www.kaggle.com/aavella77\nbinary = {\n    \"He\": 0,\n    \"he\": 0,\n    \"She\": 1,\n    \"she\": 1,\n    \"His\": 2,\n    \"his\": 2,\n    \"Him\": 3,\n    \"him\": 3,\n    \"Her\": 4,\n    \"her\": 4\n}\nfor index in range(len(gendered_pronoun_df)):\n    key = gendered_pronoun_df.iloc[index]['Pronoun']\n    gendered_pronoun_df.at[index, 'Pronoun_binary'] = binary[key]\ngendered_pronoun_df.head(30)",
      "execution_count": null,
      "outputs": []
    },
    {
      "metadata": {
        "_uuid": "7178f16ef76a23595609b2f59273453b10452b59"
      },
      "cell_type": "markdown",
      "source": "## 1-5-4 Visualization"
    },
    {
      "metadata": {
        "_uuid": "80b242ec9b0b3de002cd1832b7c219e79350b710"
      },
      "cell_type": "markdown",
      "source": "### 1-5-4-1 WordCloud"
    },
    {
      "metadata": {
        "trusted": true,
        "_uuid": "053ee85dd9d499e77a6af3f30aebda14ff32844c"
      },
      "cell_type": "code",
      "source": "from wordcloud import WordCloud as wc\nfrom nltk.corpus import stopwords\ndef generate_wordcloud(text): \n    wordcloud = wc(relative_scaling = 1.0,stopwords = eng_stopwords).generate(text)\n    fig,ax = plt.subplots(1,1,figsize=(10,10))\n    ax.imshow(wordcloud, interpolation='bilinear')\n    ax.axis(\"off\")\n    ax.margins(x=0, y=0)\n    plt.show()",
      "execution_count": null,
      "outputs": []
    },
    {
      "metadata": {
        "trusted": true,
        "_uuid": "f9f6be8b9c41582903c7e0cb59dadda3b699dc64"
      },
      "cell_type": "code",
      "source": "from nltk.corpus import stopwords\neng_stopwords = set(stopwords.words(\"english\"))",
      "execution_count": null,
      "outputs": []
    },
    {
      "metadata": {
        "trusted": true,
        "_uuid": "8803c955d3b73da82a80f02d58496a6719d86b29"
      },
      "cell_type": "code",
      "source": "text =\" \".join(gendered_pronoun_df.Text)\ngenerate_wordcloud(text)",
      "execution_count": null,
      "outputs": []
    },
    {
      "metadata": {
        "trusted": true,
        "_uuid": "ae3511201a4a21c7b86b69db825bbcd4be472ba4"
      },
      "cell_type": "code",
      "source": "gendered_pronoun_df.hist();",
      "execution_count": null,
      "outputs": []
    },
    {
      "metadata": {
        "trusted": true,
        "_uuid": "3da398667df0a5cf4a2ed74fdc1e62fe52535ca7"
      },
      "cell_type": "code",
      "source": "pd.plotting.scatter_matrix(gendered_pronoun_df,figsize=(10,10))\nplt.figure();",
      "execution_count": null,
      "outputs": []
    },
    {
      "metadata": {
        "trusted": true,
        "_uuid": "3a57fbbb8831b1291f2fbcad5319002db8e39d4f"
      },
      "cell_type": "code",
      "source": "sns.jointplot(x='Pronoun-offset',y='A-offset' ,data=gendered_pronoun_df, kind='reg')",
      "execution_count": null,
      "outputs": []
    },
    {
      "metadata": {
        "trusted": true,
        "_uuid": "1d2ebe259e38e894a7a3a5ce42b65105475dc25c"
      },
      "cell_type": "code",
      "source": "sns.swarmplot(x='Pronoun-offset',y='B-offset',data=gendered_pronoun_df);",
      "execution_count": null,
      "outputs": []
    },
    {
      "metadata": {
        "trusted": true,
        "_uuid": "c9c45edf205c9cae42c45ff76a83fe8b4247460d"
      },
      "cell_type": "code",
      "source": "sns.distplot(gendered_pronoun_df[\"Pronoun-offset\"])",
      "execution_count": null,
      "outputs": []
    },
    {
      "metadata": {
        "trusted": true,
        "_uuid": "79f6e274d58e2ff8347ceb3bb3dc2bff542389ef"
      },
      "cell_type": "code",
      "source": "sns.violinplot(data=gendered_pronoun_df,x=\"Pronoun_binary\", y=\"num_words\")",
      "execution_count": null,
      "outputs": []
    },
    {
      "metadata": {
        "_uuid": "45c537518846b1d52e7c9f6012210c085d5d6bd3"
      },
      "cell_type": "markdown",
      "source": "<a id=\"14\"></a> <br>\n# Top 3 NLP Libraries Tutorial\n1. NLTK\n1. spaCy\n1. Gensim"
    },
    {
      "metadata": {
        "_uuid": "c5048b61a4837c8826551c8871609973ebbe3847"
      },
      "cell_type": "markdown",
      "source": "<a id=\"2\"></a> <br>\n# 2- NLTK\nThe Natural Language Toolkit (NLTK) is one of the leading platforms for working with human language data and Python, the module NLTK is used for natural language processing. NLTK is literally an acronym for Natural Language Toolkit. with it you can tokenizing words and sentences.[https://www.nltk.org/](https://www.nltk.org/)\n<br>\nNLTK is a library of Python that can mine (scrap and upload data) and analyse very large amounts of textual data using computational methods.this tutorial is based on **this great course** [**https://pythonspot.com/category/nltk/**](https://pythonspot.com/category/nltk/)\n<img src='https://arts.unimelb.edu.au/__data/assets/image/0005/2735348/nltk.jpg' width=400 height=400>"
    },
    {
      "metadata": {
        "_uuid": "80fce6716dfb83635a26771db46a931028dda3ff"
      },
      "cell_type": "markdown",
      "source": "If you are using Windows or Linux or Mac, you can install NLTK using pip:\n>**$ pip install nltk**\n\nYou can use NLTK on Python 2.7, 3.4, and 3.6."
    },
    {
      "metadata": {
        "_uuid": "61ed17e35622e90f065c8a65c2679158add5f59b"
      },
      "cell_type": "markdown",
      "source": "To get started, we first select a few sentences from the data set."
    },
    {
      "metadata": {
        "_kg_hide-input": true,
        "_uuid": "adadeb7a83d0bc711a779948197c40841b10f1ca",
        "trusted": true
      },
      "cell_type": "code",
      "source": "from nltk.tokenize import sent_tokenize, word_tokenize",
      "execution_count": null,
      "outputs": []
    },
    {
      "metadata": {
        "trusted": true,
        "_uuid": "c44b8faf0903a7a4ca4ddc1b3eaf9aed680de226"
      },
      "cell_type": "code",
      "source": "gendered_pronoun_df.Text[0]",
      "execution_count": null,
      "outputs": []
    },
    {
      "metadata": {
        "trusted": true,
        "_uuid": "fc5612f627a6760982b099ef45fdac41aa59c4d5"
      },
      "cell_type": "code",
      "source": "our_text=gendered_pronoun_df.Text[0]",
      "execution_count": null,
      "outputs": []
    },
    {
      "metadata": {
        "trusted": true,
        "_uuid": "4d11f0f4aff764014298b53574dd81bd167742dc"
      },
      "cell_type": "code",
      "source": "print(word_tokenize(our_text))",
      "execution_count": null,
      "outputs": []
    },
    {
      "metadata": {
        "_uuid": "e49407d9fe96b86c9851fbd7065ebfb218281687"
      },
      "cell_type": "markdown",
      "source": "<a id=\"21\"></a> <br>\n## 2-1 Tokenizing sentences\n**What is Tokenizer?**\nTokenizing raw text data is an important pre-processing step for many NLP methods. As explained on wikipedia, tokenization is “the process of breaking a stream of text up into words, phrases, symbols, or other meaningful elements called tokens.” In the context of actually working through an NLP analysis, this usually translates to converting a string like \"My favorite color is blue\" to a list or array like [\"My\", \"favorite\", \"color\", \"is\", \"blue\"].[**http://tint.fbk.eu/tokenization.html**](http://tint.fbk.eu/tokenization.html)"
    },
    {
      "metadata": {
        "_kg_hide-input": true,
        "_uuid": "ec9e6c715a1d49b2813c934fb4405ccec77884a1",
        "trusted": true
      },
      "cell_type": "code",
      "source": "from nltk.tokenize import sent_tokenize, word_tokenize\nprint(sent_tokenize(our_text))",
      "execution_count": null,
      "outputs": []
    },
    {
      "metadata": {
        "_uuid": "75bb691fdb4982097ee8eb59ae930c1d81074afa"
      },
      "cell_type": "markdown",
      "source": "<a id=\"22\"></a> <br>\n## 2-2 NLTK and Arrays\nIf you wish to you can store the words and sentences in arrays."
    },
    {
      "metadata": {
        "_kg_hide-input": true,
        "_uuid": "fde02d4189b0a52b7f919ac0fa0643d84ebacaf7",
        "trusted": true
      },
      "cell_type": "code",
      "source": "from nltk.tokenize import sent_tokenize, word_tokenize\n \nphrases = sent_tokenize(our_text)\nwords = word_tokenize(our_text)\nprint(phrases)",
      "execution_count": null,
      "outputs": []
    },
    {
      "metadata": {
        "trusted": true,
        "_uuid": "3b0d05b496d67fb08b0c7a7ae49c46db20771cf8"
      },
      "cell_type": "code",
      "source": "print(words)",
      "execution_count": null,
      "outputs": []
    },
    {
      "metadata": {
        "trusted": true,
        "_uuid": "35647f3a8ff74ec459e2d4f52697aaa373678d56"
      },
      "cell_type": "code",
      "source": "type(words)",
      "execution_count": null,
      "outputs": []
    },
    {
      "metadata": {
        "_uuid": "f7fad127cb8ed99cc063b98b3391645263737958"
      },
      "cell_type": "markdown",
      "source": "<a id=\"23\"></a> <br>\n## 2-3 NLTK Stop Words\nNatural language processing (nlp) is a research field that presents many challenges such as natural language understanding.\nText may contain stop words like ‘the’, ‘is’, ‘are’. Stop words can be filtered from the text to be processed. There is no universal list of stop words in nlp research, however the nltk module contains a list of stop words.\n\nIn this article you will learn how to remove stop words with the nltk module.[https://pythonspot.com/nltk-stop-words/](https://pythonspot.com/nltk-stop-words/)"
    },
    {
      "metadata": {
        "_kg_hide-input": true,
        "_uuid": "3357ec158943478d584c392bb7702fe7e6d4b355",
        "trusted": true
      },
      "cell_type": "code",
      "source": "from nltk.tokenize import sent_tokenize, word_tokenize\nfrom nltk.corpus import stopwords",
      "execution_count": null,
      "outputs": []
    },
    {
      "metadata": {
        "trusted": true,
        "_uuid": "cf7d588ecb461f41b1083972b8e5d1209854a4c7"
      },
      "cell_type": "code",
      "source": " \n\nstopWords = set(stopwords.words('english'))\nwords = word_tokenize(our_text)\nwordsFiltered = []\n \nfor w in words:\n    if w not in stopWords:\n        wordsFiltered.append(w)\n \nprint(wordsFiltered)",
      "execution_count": null,
      "outputs": []
    },
    {
      "metadata": {
        "_uuid": "581a7ba2ce1ae5dae6c36d54f8999af838c7b80c"
      },
      "cell_type": "markdown",
      "source": "A module has been imported:\n\n"
    },
    {
      "metadata": {
        "_uuid": "2cb63648a5f138fe779744f0c52d570f30f84b13",
        "_kg_hide-input": true,
        "trusted": true
      },
      "cell_type": "code",
      "source": "from nltk.corpus import stopwords\n",
      "execution_count": null,
      "outputs": []
    },
    {
      "metadata": {
        "_uuid": "e7528080723ea540729e78b6e135475a870a5618"
      },
      "cell_type": "markdown",
      "source": "We get a set of English stop words using the line:\n\n"
    },
    {
      "metadata": {
        "_uuid": "6fbe468728072fb1883e064d0c1e892259fb1c0c",
        "_kg_hide-input": true,
        "trusted": true
      },
      "cell_type": "code",
      "source": "stopWords = set(stopwords.words('english'))\n",
      "execution_count": null,
      "outputs": []
    },
    {
      "metadata": {
        "_uuid": "43843cdaccbe961422631c13d982e13bf25607c6"
      },
      "cell_type": "markdown",
      "source": "The returned list stopWords contains 153 stop words on my computer.\nYou can view the length or contents of this array with the lines:"
    },
    {
      "metadata": {
        "_uuid": "53582f8f5ae2871e2cbba4542fc38965b61a5012",
        "_kg_hide-input": true,
        "trusted": true
      },
      "cell_type": "code",
      "source": "print(len(stopWords))\nprint(stopWords)",
      "execution_count": null,
      "outputs": []
    },
    {
      "metadata": {
        "_uuid": "d25fed9ed1fd0016cea56de8e71b010a0d3176c3"
      },
      "cell_type": "markdown",
      "source": "We create a new list called wordsFiltered which contains all words which are not stop words.\nTo create it we iterate over the list of words and only add it if its not in the stopWords list."
    },
    {
      "metadata": {
        "_uuid": "3b28823a9862bb263183c6d62a4e91286bfe8d30",
        "_kg_hide-input": true,
        "trusted": true
      },
      "cell_type": "code",
      "source": "for w in words:\n    if w not in stopWords:\n        wordsFiltered.append(w)",
      "execution_count": null,
      "outputs": []
    },
    {
      "metadata": {
        "_uuid": "8546a903a5b3916bca4feb96116dd00db1fc51c0"
      },
      "cell_type": "markdown",
      "source": "<a id=\"24\"></a> <br>\n## 2-4 NLTK – Stemming\nStemming is the process of producing morphological variants of a root/base word. Stemming programs are commonly referred to as stemming algorithms or stemmers. A stemming algorithm reduces the words “chocolates”, “chocolatey”, “choco” to the root word, “chocolate” and “retrieval”, “retrieved”, “retrieves” reduce to the stem “retrieve”.[https://www.geeksforgeeks.org/python-stemming-words-with-nltk/](https://www.geeksforgeeks.org/python-stemming-words-with-nltk/).\n<img src='https://pythonspot-9329.kxcdn.com/wp-content/uploads/2016/08/word-stem.png.webp'>\n[Image-credit](https://pythonspot.com/nltk-stemming/)\n\nStart by defining some words:"
    },
    {
      "metadata": {
        "_uuid": "f3a8e1427f235183fc5b9656a15a1cdb9befb55b",
        "_kg_hide-input": true,
        "trusted": true
      },
      "cell_type": "code",
      "source": "our_text=gendered_pronoun_df.Text[0]\n",
      "execution_count": null,
      "outputs": []
    },
    {
      "metadata": {
        "_uuid": "4a6ea3737dbb032d08c896f24cc6555b7b516274",
        "_kg_hide-input": true,
        "trusted": true
      },
      "cell_type": "code",
      "source": "from nltk.stem import PorterStemmer\nfrom nltk.tokenize import sent_tokenize, word_tokenize",
      "execution_count": null,
      "outputs": []
    },
    {
      "metadata": {
        "_uuid": "4bd4f0bc00227a77cfe734575ebfa7d124d333d4"
      },
      "cell_type": "markdown",
      "source": "And stem the words in the list using:"
    },
    {
      "metadata": {
        "_uuid": "12b5f99ca390ed21e68862e5eb5968d31e3858ef",
        "_kg_hide-input": false,
        "trusted": true,
        "_kg_hide-output": true
      },
      "cell_type": "code",
      "source": "from nltk.stem import PorterStemmer\nfrom nltk.tokenize import sent_tokenize, word_tokenize\n\n\nps = PorterStemmer()\n \nfor word in word_tokenize(our_text):\n    print(ps.stem(word))",
      "execution_count": null,
      "outputs": []
    },
    {
      "metadata": {
        "_uuid": "b0af11da2319b2be2643ad0003ebbc207067dc34"
      },
      "cell_type": "markdown",
      "source": "<a id=\"25\"></a> <br>\n## 2-5 NLTK speech tagging\nThe **module NLTK** can automatically **tag speech**.\nGiven a sentence or paragraph, It can label words such as verbs, nouns and so on.\n\nThe example below automatically tags words with a corresponding class.[https://www.nltk.org/book/ch05.html](https://www.nltk.org/book/ch05.html)"
    },
    {
      "metadata": {
        "_uuid": "fe586131bec724c1901a441b56753c1d47562483",
        "_kg_hide-input": true,
        "trusted": true
      },
      "cell_type": "code",
      "source": "import nltk\nfrom nltk.tokenize import PunktSentenceTokenizer\n \n\nsentences = nltk.sent_tokenize(our_text)   \nfor sent in sentences:\n    print(nltk.pos_tag(nltk.word_tokenize(sent)))",
      "execution_count": null,
      "outputs": []
    },
    {
      "metadata": {
        "_uuid": "22e469c3b880de5c4f00a609192e74d97d22436a"
      },
      "cell_type": "markdown",
      "source": "We can filter this data based on the type of word:"
    },
    {
      "metadata": {
        "_uuid": "8edca0d46e25f4d8dba85c454bb70299b7c1e112",
        "_kg_hide-input": true,
        "trusted": true
      },
      "cell_type": "code",
      "source": "import nltk\nfrom nltk.corpus import state_union\nfrom nltk.tokenize import PunktSentenceTokenizer\n \n\nsentences = nltk.sent_tokenize(our_text)   \n \ndata = []\nfor sent in sentences:\n    data = data + nltk.pos_tag(nltk.word_tokenize(sent))\n \nfor word in data: \n    if 'NNP' in word[1]: \n        print(word)",
      "execution_count": null,
      "outputs": []
    },
    {
      "metadata": {
        "_uuid": "488b9eadaebb4fb6ae4585e991b9d1d6af176490"
      },
      "cell_type": "markdown",
      "source": "<a id=\"26\"></a> <br>\n## 2-6 Natural Language Processing – prediction\nWe can use natural language processing to make predictions. Example: Given a product review, a computer can predict if its positive or negative based on the text. In this article you will learn how to make a prediction program based on natural language processing."
    },
    {
      "metadata": {
        "_uuid": "a6dd913ea82ac7dcc478ab861e92e483a57beca0"
      },
      "cell_type": "markdown",
      "source": "<a id=\"261\"></a> <br>\n## 2-6-1 NLP Prediction Example Based on pythonspot\nGiven a name, the classifier will predict if it’s a male or female.\n\nTo create our analysis program, we have several steps:\n\n1. Data preparation\n1. Feature extraction\n1. Training\n1. Prediction\n1. Data preparation\nThe first step is to prepare data. We use the names set included with nltk.[https://pythonspot.com/natural-language-processing-prediction/](https://pythonspot.com/natural-language-processing-prediction/)"
    },
    {
      "metadata": {
        "_uuid": "73da028c3418b256653ec37d516b667af5541225",
        "_kg_hide-input": true,
        "trusted": true
      },
      "cell_type": "code",
      "source": "#https://pythonspot.com/natural-language-processing-prediction/\nfrom nltk.corpus import names\n \n# Load data and training \nnames = ([(name, 'male') for name in names.words('male.txt')] + [(name, 'female') for name in names.words('female.txt')])",
      "execution_count": null,
      "outputs": []
    },
    {
      "metadata": {
        "_uuid": "3421ce619481bc3f4b8817fd14c3c33374975c9b"
      },
      "cell_type": "markdown",
      "source": "This dataset is simply a collection of tuples. To give you an idea of what the dataset looks like:"
    },
    {
      "metadata": {
        "_uuid": "fd30af0cc73300d0d83c7d525af3281bfc718e54",
        "_kg_hide-input": true,
        "trusted": true
      },
      "cell_type": "code",
      "source": "[(u'Aaron', 'male'), (u'Abbey', 'male'), (u'Abbie', 'male')]\n[(u'Zorana', 'female'), (u'Zorina', 'female'), (u'Zorine', 'female')]",
      "execution_count": null,
      "outputs": []
    },
    {
      "metadata": {
        "_uuid": "022d450b9d514737392698136ee046fbbd73597c"
      },
      "cell_type": "markdown",
      "source": "You can define your own set of tuples if you wish, its simply a list containing many tuples.\n\nFeature extraction\nBased on the dataset, we prepare our feature. The feature we will use is the last letter of a name:\nWe define a featureset using:"
    },
    {
      "metadata": {
        "_uuid": "3745234017dc235c7e903943d2d67930402eac1a"
      },
      "cell_type": "markdown",
      "source": "featuresets = [(gender_features(n), g) for (n,g) in names]\nand the features (last letters) are extracted using:"
    },
    {
      "metadata": {
        "_uuid": "f3baaa6a29bbf22a153094df0bbf38c8a0ff0430",
        "_kg_hide-input": true,
        "trusted": true
      },
      "cell_type": "code",
      "source": "def gender_features(word): \n    return {'last_letter': word[-1]}",
      "execution_count": null,
      "outputs": []
    },
    {
      "metadata": {
        "_uuid": "9ef5cb06006e20577878cb93d2c8c488fe341c70"
      },
      "cell_type": "markdown",
      "source": "Training and prediction\nWe train and predict using:"
    },
    {
      "metadata": {
        "_uuid": "dba616c9612c65a875319837061d8c3861e9e6dd",
        "_kg_hide-input": true,
        "trusted": true
      },
      "cell_type": "code",
      "source": "#Based on https://pythonspot.com/category/nltk/\nimport nltk.classify.util\nfrom nltk.classify import NaiveBayesClassifier\nfrom nltk.corpus import names\n \ndef gender_features(word): \n    return {'last_letter': word[-1]} \n \n# Load data and training \nnames = ([(name, 'male') for name in names.words('male.txt')] + \n\t [(name, 'female') for name in names.words('female.txt')])\n \nfeaturesets = [(gender_features(n), g) for (n,g) in names] \ntrain_set = featuresets\nclassifier = nltk.NaiveBayesClassifier.train(train_set) \n \n# Predict\nprint(classifier.classify(gender_features('Frank')))",
      "execution_count": null,
      "outputs": []
    },
    {
      "metadata": {
        "_uuid": "d2d2be49b9597ad4fee4f0bc48dfd1df7934a447"
      },
      "cell_type": "markdown",
      "source": "If you want to give the name during runtime, change the last line to:"
    },
    {
      "metadata": {
        "_uuid": "a55ec4316a7dd340d09b4c93f579357b2022db5f",
        "_kg_hide-input": true,
        "trusted": true
      },
      "cell_type": "code",
      "source": "# Predict, you can change name\nname = 'Sarah'\nprint(classifier.classify(gender_features(name)))",
      "execution_count": null,
      "outputs": []
    },
    {
      "metadata": {
        "_uuid": "9f7e32d6aeeed974e9c9d23189241aa17ca69de3"
      },
      "cell_type": "markdown",
      "source": "<a id=\"27\"></a> <br>\n## 2-7 Python Sentiment Analysis\nIn Natural Language Processing there is a concept known as **Sentiment Analysis**. in this section we use this great [**course**](https://pythonspot.com/category/nltk/) to explain Sentiment Analysis\n\n<img src='https://s3.amazonaws.com/com.twilio.prod.twilio-docs/images/SentimentAnalysis.width-800.png'>\n[image-credit](https://www.twilio.com/docs/glossary/what-is-sentiment-analysis)\n\n1. Given a movie review or a tweet, it can be automatically classified in categories.\n1. These categories can be user defined (positive, negative) or whichever classes you want.\n1. Classification is done using several steps: training and prediction.\n1. The training phase needs to have training data, this is example data in which we define examples. \n1. The classifier will use the training data to make predictions."
    },
    {
      "metadata": {
        "_uuid": "180a352f2870cf979345790226b4d4bfe813c886"
      },
      "cell_type": "markdown",
      "source": "We start by defining 3 classes: positive, negative and neutral.\nEach of these is defined by a vocabulary:"
    },
    {
      "metadata": {
        "_uuid": "199b8ebaa48d358cf2a2520d4ee1b8edcf22f81c",
        "_kg_hide-input": true,
        "trusted": true
      },
      "cell_type": "code",
      "source": "positive_vocab = [ 'awesome', 'outstanding', 'fantastic', 'terrific', 'good', 'nice', 'great', ':)' ]\nnegative_vocab = [ 'bad', 'terrible','useless', 'hate', ':(' ]\nneutral_vocab = [ 'movie','the','sound','was','is','actors','did','know','words','not' ]",
      "execution_count": null,
      "outputs": []
    },
    {
      "metadata": {
        "_uuid": "f50e153d90eb5519f6c76e487ac7c0212c9dd0ee"
      },
      "cell_type": "markdown",
      "source": "Every word is converted into a feature using a simplified bag of words model:"
    },
    {
      "metadata": {
        "_uuid": "5bba07df26463ff90b6d71a551f8aae0960de7e0",
        "_kg_hide-input": true,
        "trusted": true
      },
      "cell_type": "code",
      "source": "def word_feats(words):\n    return dict([(word, True) for word in words])\n \npositive_features = [(word_feats(pos), 'pos') for pos in positive_vocab]\nnegative_features = [(word_feats(neg), 'neg') for neg in negative_vocab]\nneutral_features = [(word_feats(neu), 'neu') for neu in neutral_vocab]",
      "execution_count": null,
      "outputs": []
    },
    {
      "metadata": {
        "_uuid": "2e02426d80adacc804fc5497c9e3d7607e8cc030"
      },
      "cell_type": "markdown",
      "source": "Our training set is then the sum of these three feature sets:"
    },
    {
      "metadata": {
        "_uuid": "c9f2545fa20caca3034dbb62521e064ff4d322b6",
        "_kg_hide-input": true,
        "trusted": true
      },
      "cell_type": "code",
      "source": "train_set = negative_features + positive_features + neutral_features",
      "execution_count": null,
      "outputs": []
    },
    {
      "metadata": {
        "_uuid": "cf69fcf2e05e3a55c05c1f62adaa74c8cebfcf45"
      },
      "cell_type": "markdown",
      "source": "We train the classifier:"
    },
    {
      "metadata": {
        "_uuid": "0577b4e7dcb13b48a0918c7b632716482e9c042e"
      },
      "cell_type": "markdown",
      "source": "classifier = NaiveBayesClassifier.train(train_set)"
    },
    {
      "metadata": {
        "_uuid": "97abd270ce5492d1d178858fc1b7f2ef3eb71c69"
      },
      "cell_type": "markdown",
      "source": "This example classifies sentences according to the training set."
    },
    {
      "metadata": {
        "_uuid": "6214a67beb47748105aa7f0c51201925f39e9e7b",
        "_kg_hide-input": true,
        "trusted": true
      },
      "cell_type": "code",
      "source": "#Based on https://pythonspot.com/category/nltk/\nimport nltk.classify.util\nfrom nltk.classify import NaiveBayesClassifier\nfrom nltk.corpus import names\n \ndef word_feats(words):\n    return dict([(word, True) for word in words])\n \npositive_vocab = [ 'awesome', 'outstanding', 'fantastic', 'terrific', 'good', 'nice', 'great', ':)' ]\nnegative_vocab = [ 'bad', 'terrible','useless', 'hate', ':(' ]\nneutral_vocab = [ 'movie','the','sound','was','is','actors','did','know','words','not' ]\n \npositive_features = [(word_feats(pos), 'pos') for pos in positive_vocab]\nnegative_features = [(word_feats(neg), 'neg') for neg in negative_vocab]\nneutral_features = [(word_feats(neu), 'neu') for neu in neutral_vocab]\n \ntrain_set = negative_features + positive_features + neutral_features\n \nclassifier = NaiveBayesClassifier.train(train_set) \n \n# Predict\nneg = 0\npos = 0\n##sentence = \"Awesome movie, I liked it\"\nour_text = our_text.lower()\nwords = our_text.split(' ')\nfor word in words:\n    classResult = classifier.classify( word_feats(word))\n    if classResult == 'neg':\n        neg = neg + 1\n    if classResult == 'pos':\n        pos = pos + 1\n \nprint('Positive: ' + str(float(pos)/len(words)))\nprint('Negative: ' + str(float(neg)/len(words)))",
      "execution_count": null,
      "outputs": []
    },
    {
      "metadata": {
        "_uuid": "a12c93a7d6661d03dc2bb7bb00b82423bda2af50"
      },
      "cell_type": "markdown",
      "source": "<a id=\"3\"></a> <br>\n# 3- spaCy\n<img src='https://upload.wikimedia.org/wikipedia/commons/thumb/8/88/SpaCy_logo.svg/1920px-SpaCy_logo.svg.png' width=400 height=400>\nspaCy is an Industrial-Strength Natural Language Processing in python. [**spacy**](https://spacy.io/)"
    },
    {
      "metadata": {
        "trusted": true,
        "_uuid": "c45780f33f00c6e8900cdf3db0f67f6d3d0bc205"
      },
      "cell_type": "code",
      "source": "import spacy",
      "execution_count": null,
      "outputs": []
    },
    {
      "metadata": {
        "_kg_hide-output": false,
        "_kg_hide-input": false,
        "trusted": true,
        "_uuid": "be92ac2f20190d01d2dcccebf6aa933b853d5a51"
      },
      "cell_type": "code",
      "source": "nlp = spacy.load('en')\ndoc = nlp(our_text)\ni=0\nfor token in doc:\n    i=i+1;\n    if i<20:\n        print('\"' + token.text + '\"')",
      "execution_count": null,
      "outputs": []
    },
    {
      "metadata": {
        "_uuid": "51c9b694c44a8ad3a681fcfe5a9c92542d7ef412"
      },
      "cell_type": "markdown",
      "source": "## 3-1 Sentence detection\n"
    },
    {
      "metadata": {
        "_uuid": "52a01d4f3aac44b15fc0bbdc57b96dd62f7b7e88",
        "trusted": true
      },
      "cell_type": "code",
      "source": "nlp = spacy.load('en')\ndoc=nlp(our_text)\ni=0\nfor sent in doc.sents:\n    i=i+1\n    print(i,' - ',sent)",
      "execution_count": null,
      "outputs": []
    },
    {
      "metadata": {
        "_uuid": "c575e6d2312e8cb2e1eafe87a049d5147a6f28b7"
      },
      "cell_type": "markdown",
      "source": "## 3-2 Part Of Speech Tagging"
    },
    {
      "metadata": {
        "trusted": true,
        "_uuid": "89a8b576e16cdc552a0a5998e4289618a88ebe0e"
      },
      "cell_type": "code",
      "source": "doc = nlp( our_text)\nprint([(token.text, token.tag_) for token in doc])",
      "execution_count": null,
      "outputs": []
    },
    {
      "metadata": {
        "_uuid": "23fdb565e464824ba510edb56103c75757929a3f"
      },
      "cell_type": "markdown",
      "source": "## 3-3 Named Entity Recognition\n"
    },
    {
      "metadata": {
        "trusted": true,
        "_uuid": "eac78294d3e8af942591f6a0158639362c61b45a"
      },
      "cell_type": "code",
      "source": "doc = nlp(our_text)\nfor ent in doc.ents:\n    print(ent.text, ent.label_)",
      "execution_count": null,
      "outputs": []
    },
    {
      "metadata": {
        "_uuid": "79ca7a0e02cda6c8f3ae1a828f2936785930adb7"
      },
      "cell_type": "markdown",
      "source": "## 3-4 displaCy "
    },
    {
      "metadata": {
        "trusted": true,
        "_uuid": "5875c14095151e40d3258757ef991f84934e3cf3"
      },
      "cell_type": "code",
      "source": "from spacy import displacy\n \ndoc = nlp(our_text )\ndisplacy.render(doc, style='ent', jupyter=True)",
      "execution_count": null,
      "outputs": []
    },
    {
      "metadata": {
        "_uuid": "c1b698c82992c4b56b97ce9f74305a7b97ff20c9"
      },
      "cell_type": "markdown",
      "source": "visualizing the dependency tree!"
    },
    {
      "metadata": {
        "trusted": true,
        "_uuid": "8e675e757218f67bccb6f7345f8ce967df2cb81a"
      },
      "cell_type": "code",
      "source": "from spacy import displacy\n \ndoc = nlp(our_text)\ndisplacy.render(doc, style='dep', jupyter=True, options={'distance': 90})",
      "execution_count": null,
      "outputs": []
    },
    {
      "metadata": {
        "_uuid": "eac964a2807ec040a8ede88108cb69c747db33cb"
      },
      "cell_type": "markdown",
      "source": "<a id=\"4\"></a> <br>\n# 4- Gensim\nGensim is a Python library for topic modelling, document indexing and similarity retrieval with large corpora. Target audience is the natural language processing (NLP) and information retrieval (IR) community.[https://github.com/chirayukong/gensim](https://github.com/chirayukong/gensim)\n1. Gensim is a FREE Python library\n1. Scalable statistical semantics\n1. Analyze plain-text documents for semantic structure\n1. Retrieve semantically similar documents. [https://radimrehurek.com/gensim/](https://radimrehurek.com/gensim/)"
    },
    {
      "metadata": {
        "_uuid": "9c9468097f1f39300fcbbba350c9e919e9a35d6a",
        "trusted": true
      },
      "cell_type": "code",
      "source": "import gensim\nfrom gensim import corpora\nfrom pprint import pprint\n# How to create a dictionary from a list of sentences?\ndocuments = [\" Zoe Telford  played the police officer girlfriend of Simon, Maggie.\",\n             \"Dumped by Simon in the final episode of series 1, after he slept with Jenny, and is not seen again.\",\n             \"Phoebe Thomas played Cheryl Cassidy, Paulines friend and also a year 11 pupil in Simons class.\", \n             \"Dumped her boyfriend following Simons advice after he wouldnt \",\n             \"have sex with her but later realised this was due to him catching crabs off her friend Pauline.\"]\n\ndocuments_2 = [\"One source says the report will likely conclude that\", \n                \"the operation was carried out without clearance and\", \n                \"transparency and that those involved will be held\", \n                \"responsible. One of the sources acknowledged that the\", \n                \"report is still being prepared and cautioned that\", \n                \"things could change.\"]",
      "execution_count": null,
      "outputs": []
    },
    {
      "metadata": {
        "_uuid": "1a4fbd5743864eeaa545f96580451d4c2d9bb947"
      },
      "cell_type": "markdown",
      "source": "### Tokenize(split) the sentences into words"
    },
    {
      "metadata": {
        "trusted": true,
        "_uuid": "322db8916db513997c4f022dd3635418ab1c9c39"
      },
      "cell_type": "code",
      "source": "\ntexts = [[text for text in doc.split()] for doc in documents]\n\n# Create dictionary\ndictionary = corpora.Dictionary(texts)\n\n# Get information about the dictionary\nprint(dictionary)",
      "execution_count": null,
      "outputs": []
    },
    {
      "metadata": {
        "_uuid": "016377ecc572d865ecb630e82b4cdd61cc372374"
      },
      "cell_type": "markdown",
      "source": "### Show the word to id map"
    },
    {
      "metadata": {
        "trusted": true,
        "_uuid": "06e91430f55f3e8a5ba2814c173c3c2d86d13e93"
      },
      "cell_type": "code",
      "source": "# \nprint(dictionary.token2id)",
      "execution_count": null,
      "outputs": []
    },
    {
      "metadata": {
        "_uuid": "bd72e9218aa9341231361fc68053913ac6e28c35"
      },
      "cell_type": "markdown",
      "source": "<a id=\"5\"></a> <br>\n## 5- Comparison of Python NLP libraries by Activewizards"
    },
    {
      "metadata": {
        "_uuid": "7b5ad8afda0c69fc349625fdbd9116f18af2a536"
      },
      "cell_type": "markdown",
      "source": "<img src='https://activewizards.com/content/blog/Comparison_of_Python_NLP_libraries/nlp-librares-python-prs-and-cons01.png'>"
    },
    {
      "metadata": {
        "_uuid": "a8424e6f84874112757040d36b93542a2e5ba8cb"
      },
      "cell_type": "markdown",
      "source": ">###### you may  be interested have a look at it: [**10-steps-to-become-a-data-scientist**](https://github.com/mjbahmani/10-steps-to-become-a-data-scientist)\n\n\n---------------------------------------------------------------------\nYou can Fork and Run this kernel on Github:\n> ###### [ GitHub](https://github.com/mjbahmani/10-steps-to-become-a-data-scientist)\n\n-------------------------------------------------------------------------------------------------------------\n\n **I hope you find this kernel helpful and some <font color=\"red\"><b>UPVOTES</b></font> would be very much appreciated**\n \n -----------"
    },
    {
      "metadata": {
        "_uuid": "1923ba01df86012077df2a2750b92ebb2adb8236"
      },
      "cell_type": "markdown",
      "source": "<a id=\"6\"></a> <br>\n# 6- References & Credits\n1. [https://www.coursera.org/specializations/data-science-python](https://www.coursera.org/specializations/data-science-python)\n1. [https://github.com/chirayukong/gensim](https://github.com/chirayukong/gensim)\n1. [https://pythonspot.com/category/nltk/](https://pythonspot.com/category/nltk/)\n1. [sunscrapers](https://sunscrapers.com/blog/6-best-python-natural-language-processing-nlp-libraries/)\n1. [spacy](https://spacy.io/)\n1. [gensim](https://pypi.org/project/gensim/)\n1. [nlpforhackers](https://nlpforhackers.io/complete-guide-to-spacy/)\n1. [a-sentiment-analysis-approach-to-predicting-stock-returns](https://medium.com/@tomyuz/a-sentiment-analysis-approach-to-predicting-stock-returns-d5ca8b75a42)\n1. [machinelearningplus](https://www.machinelearningplus.com/nlp/gensim-tutorial/)\n1. [https://towardsdatascience.com/topic-modelling-in-python-with-nltk-and-gensim-4ef03213cd21](https://towardsdatascience.com/topic-modelling-in-python-with-nltk-and-gensim-4ef03213cd21)\n###### [Go to top](#top)"
    },
    {
      "metadata": {
        "_uuid": "c3ee017f0b0c6632aa5d49b0db8b6decef7dc179"
      },
      "cell_type": "markdown",
      "source": "Go to first step: [**Course Home Page**](https://www.kaggle.com/mjbahmani/10-steps-to-become-a-data-scientist)\n\nGo to next step : [**Mathematics and Linear Algebra**](https://www.kaggle.com/mjbahmani/linear-algebra-for-data-scientists)"
    }
  ],
  "metadata": {
    "kernelspec": {
      "display_name": "Python 3",
      "language": "python",
      "name": "python3"
    },
    "language_info": {
      "name": "python",
      "version": "3.6.6",
      "mimetype": "text/x-python",
      "codemirror_mode": {
        "name": "ipython",
        "version": 3
      },
      "pygments_lexer": "ipython3",
      "nbconvert_exporter": "python",
      "file_extension": ".py"
    }
  },
  "nbformat": 4,
  "nbformat_minor": 1
}