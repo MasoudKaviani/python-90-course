{
  "cells": [
    {
      "metadata": {
        "_uuid": "750903cc2679d39058f56df6c6c040be02b748df"
      },
      "cell_type": "markdown",
      "source": " <a id=\"1\"></a> <br>\n## Introduction\n**[Elo](https://www.cartaoelo.com.br/)** has defined a competition in **Kaggle**. A realistic and attractive data set for data scientists.\non this notebook, we just do some EDA.\n\n Have Fun!"
    },
    {
      "metadata": {
        "_cell_guid": "b1076dfc-b9ad-4769-8c92-a6c4dae69d19",
        "_kg_hide-input": true,
        "_uuid": "8f2839f25d086af736a60e9eeb907d3b93b6e0e5",
        "trusted": true
      },
      "cell_type": "code",
      "source": "import matplotlib.pylab as pylab\nimport matplotlib.pyplot as plt\nfrom pandas import get_dummies\nimport matplotlib as mpl\nimport seaborn as sns\nimport pandas as pd\nimport numpy as np\nimport matplotlib\nimport warnings\nimport sklearn\nimport scipy\nimport numpy\nimport json\nimport sys\nimport csv\nimport os",
      "execution_count": null,
      "outputs": []
    },
    {
      "metadata": {
        "_kg_hide-input": true,
        "_uuid": "9269ae851b744856bce56840637030a16a5877e1",
        "trusted": true
      },
      "cell_type": "code",
      "source": "train = pd.read_csv('../input/train.csv', parse_dates=[\"first_active_month\"] )\ntest = pd.read_csv('../input/test.csv' ,parse_dates=[\"first_active_month\"] )\nmerchants=pd.read_csv('../input/merchants.csv')\n",
      "execution_count": null,
      "outputs": []
    },
    {
      "metadata": {
        "_uuid": "8a8d34d874032d0aa0898f44832a23c623ed330f"
      },
      "cell_type": "markdown",
      "source": "##  data_dictionary Analysis\nElo Provides a excel file to describe about data. It has four sheet and we have just read them with below code:"
    },
    {
      "metadata": {
        "trusted": true,
        "_uuid": "1e882cf7e8696a51d8aa2fe05dd9035bd7063b56"
      },
      "cell_type": "code",
      "source": "data_dictionary_train=pd.read_excel('../input/Data_Dictionary.xlsx',sheet_name='train')\ndata_dictionary_history=pd.read_excel('../input/Data_Dictionary.xlsx',sheet_name='history')\ndata_dictionary_new_merchant_period=pd.read_excel('../input/Data_Dictionary.xlsx',sheet_name='new_merchant_period')\ndata_dictionary_merchant=pd.read_excel('../input/Data_Dictionary.xlsx',sheet_name='merchant')",
      "execution_count": null,
      "outputs": []
    },
    {
      "metadata": {
        "_uuid": "513bf092e78388de9a1337b8e2f401a1aa61704a"
      },
      "cell_type": "markdown",
      "source": "###  data_dictionary_train"
    },
    {
      "metadata": {
        "trusted": true,
        "_uuid": "cb0c886bd76df2497a3845e805db69e31cda4bf1",
        "_kg_hide-input": true
      },
      "cell_type": "code",
      "source": "data_dictionary_train.head(10)\n# what we know about train:",
      "execution_count": null,
      "outputs": []
    },
    {
      "metadata": {
        "_uuid": "ac8d426954246fea0684765402be77c40a4beaf1"
      },
      "cell_type": "markdown",
      "source": "### data_dictionary_history"
    },
    {
      "metadata": {
        "trusted": true,
        "_uuid": "2dc908cd4b38873830f70ed4af8f7e9e951a896d",
        "_kg_hide-input": true
      },
      "cell_type": "code",
      "source": "data_dictionary_history.head(10)\n# what we know about history:",
      "execution_count": null,
      "outputs": []
    },
    {
      "metadata": {
        "_uuid": "ce946d38bbfdfb90ab6622656e3511bb6d5e6b29"
      },
      "cell_type": "markdown",
      "source": "###  data_dictionary_new_merchant_period"
    },
    {
      "metadata": {
        "trusted": true,
        "_uuid": "9e8f388465e2e8684eb00f0d20094441b4a0155e",
        "_kg_hide-input": true
      },
      "cell_type": "code",
      "source": "data_dictionary_new_merchant_period.head(10)\n# what we know about new_merchant_period:",
      "execution_count": null,
      "outputs": []
    },
    {
      "metadata": {
        "_uuid": "80594c47da7c1cfa28d81d683bdbe0100a34aec4"
      },
      "cell_type": "markdown",
      "source": "###  data_dictionary_merchant:"
    },
    {
      "metadata": {
        "trusted": true,
        "_uuid": "5b2e4f8c61d7eb96e486999144dd35e1dbc8e4a7",
        "_kg_hide-input": true
      },
      "cell_type": "code",
      "source": "data_dictionary_merchant.head(30)\n# what we know about merchant:",
      "execution_count": null,
      "outputs": []
    },
    {
      "metadata": {
        "_uuid": "bcf89ac9e4b2944e241279956859a257b049d2e6"
      },
      "cell_type": "markdown",
      "source": "##  Train Analysis"
    },
    {
      "metadata": {
        "_uuid": "4708d70e39d1ae861bbf34411cf03d07f261fceb",
        "trusted": true,
        "_kg_hide-input": true
      },
      "cell_type": "code",
      "source": "train.sample(1) ",
      "execution_count": null,
      "outputs": []
    },
    {
      "metadata": {
        "_uuid": "f8e7a84ab982504d7263b1812fa66bba78bddbdc",
        "trusted": true,
        "_kg_hide-input": true
      },
      "cell_type": "code",
      "source": "test.sample(1) ",
      "execution_count": null,
      "outputs": []
    },
    {
      "metadata": {
        "_uuid": "3483fbc1e932d9f387703a796248963e77cefa1d"
      },
      "cell_type": "markdown",
      "source": "Or you can use others command to explorer dataset, such as "
    },
    {
      "metadata": {
        "_uuid": "08a94b16129d4c231b64d4691374e18aa80f1d80",
        "trusted": true,
        "_kg_hide-input": true
      },
      "cell_type": "code",
      "source": "train.tail(1)",
      "execution_count": null,
      "outputs": []
    },
    {
      "metadata": {
        "_uuid": "581b90e6a869c3793472c7edd59091d6d6342fb2"
      },
      "cell_type": "markdown",
      "source": "<a id=\"17\"></a> <br>\n## Features\n\nFor getting some information about the dataset you can use **info()** command."
    },
    {
      "metadata": {
        "_kg_hide-input": true,
        "_uuid": "ca840f02925751186f87e402fcb5f637ab1ab8a0",
        "trusted": true
      },
      "cell_type": "code",
      "source": "print(train.info())",
      "execution_count": null,
      "outputs": []
    },
    {
      "metadata": {
        "_uuid": "4cbcf76344a6e3c8e841ccf1f43bf00d040a06a1",
        "trusted": true,
        "_kg_hide-input": true
      },
      "cell_type": "code",
      "source": "print(test.info())",
      "execution_count": null,
      "outputs": []
    },
    {
      "metadata": {
        "_uuid": "73ab30f86273b590a51fc363d9bf78c2709558fa"
      },
      "cell_type": "markdown",
      "source": "<a id=\"18\"></a> <br>\n## Explorer Dataset"
    },
    {
      "metadata": {
        "_kg_hide-input": true,
        "_uuid": "4b45251be7be77333051fe738639104ae1005fa5",
        "trusted": true
      },
      "cell_type": "code",
      "source": "# shape for train and test\nprint('Shape of train:',train.shape)\nprint('Shape of test:',test.shape)",
      "execution_count": null,
      "outputs": []
    },
    {
      "metadata": {
        "_kg_hide-input": true,
        "_uuid": "c64e9d3e0bf394fb833de94a0fc5c34f69fce24c",
        "trusted": true
      },
      "cell_type": "code",
      "source": "#columns*rows\ntrain.size",
      "execution_count": null,
      "outputs": []
    },
    {
      "metadata": {
        "_uuid": "7b5fd1034cd591ebd29fba1c77d342ec2b408d13"
      },
      "cell_type": "markdown",
      "source": "After loading the data via **pandas**, we should checkout what the content is, description and via the following:"
    },
    {
      "metadata": {
        "_kg_hide-input": true,
        "_uuid": "edd043f8feb76cfe51b79785302ca4936ceb7b51",
        "trusted": true
      },
      "cell_type": "code",
      "source": "type(train)",
      "execution_count": null,
      "outputs": []
    },
    {
      "metadata": {
        "_kg_hide-input": true,
        "_uuid": "edd043f8feb76cfe51b79785302ca4936ceb7b51",
        "trusted": true
      },
      "cell_type": "code",
      "source": "type(test)",
      "execution_count": null,
      "outputs": []
    },
    {
      "metadata": {
        "_uuid": "1b8b6f0c962a59e5258e74ed9e740a4aaf7c8113",
        "trusted": true,
        "_kg_hide-input": true
      },
      "cell_type": "code",
      "source": "train.describe()",
      "execution_count": null,
      "outputs": []
    },
    {
      "metadata": {
        "_uuid": "2c288c3dc8656a872a8529368812546e434d3a22"
      },
      "cell_type": "markdown",
      "source": "To pop up 5 random rows from the data set, we can use **sample(5)**  function and find the type of features."
    },
    {
      "metadata": {
        "_uuid": "09eb18d1fcf4a2b73ba2f5ddce99dfa521681140",
        "trusted": true,
        "_kg_hide-input": true
      },
      "cell_type": "code",
      "source": "train.sample(5) ",
      "execution_count": null,
      "outputs": []
    },
    {
      "metadata": {
        "_uuid": "a6315bf510cecb907b2d23aad25faf6ccad32ac4"
      },
      "cell_type": "markdown",
      "source": "How many NA elements in every column!!\n\nGood news, it is Zero!\n\nTo check out how many null info are on the dataset, we can use **isnull().sum()**."
    },
    {
      "metadata": {
        "_kg_hide-input": true,
        "_uuid": "675f72fb58d83c527f71819e71ed8e17f81126f5",
        "trusted": true
      },
      "cell_type": "code",
      "source": "train.isnull().sum()",
      "execution_count": null,
      "outputs": []
    },
    {
      "metadata": {
        "_uuid": "5faa6528c6667060c05268757ff46e211b4fea3f"
      },
      "cell_type": "markdown",
      "source": "But if we had , we can just use **dropna()**(be careful sometimes you should not do this!)"
    },
    {
      "metadata": {
        "_kg_hide-input": true,
        "_uuid": "e8e124ca20643ad307d9bfdc34328d548c6ddcbc",
        "trusted": true
      },
      "cell_type": "code",
      "source": "# remove rows that have NA's\nprint('Before Droping',train.shape)\ntrain = train.dropna()\nprint('After Droping',train.shape)",
      "execution_count": null,
      "outputs": []
    },
    {
      "metadata": {
        "_uuid": "277e1998627d6a3ddeff4e913a6b8c3dc81dec96"
      },
      "cell_type": "markdown",
      "source": "\nWe can get a quick idea of how many instances (rows) and how many attributes (columns) the data contains with the shape property."
    },
    {
      "metadata": {
        "_uuid": "c2f1eaf0b6dfdc7cc4dace04614e99ed56425d00"
      },
      "cell_type": "markdown",
      "source": "To print dataset **columns**, we can use columns atribute."
    },
    {
      "metadata": {
        "_uuid": "909d61b33ec06249d0842e6115597bbacf21163f",
        "trusted": true,
        "_kg_hide-input": true
      },
      "cell_type": "code",
      "source": "train.columns",
      "execution_count": null,
      "outputs": []
    },
    {
      "metadata": {
        "_uuid": "3458838205be4c7fbff88e95ef69934e13e2199b"
      },
      "cell_type": "markdown",
      "source": "You see number of unique item for Target  with command below:"
    },
    {
      "metadata": {
        "_kg_hide-input": true,
        "_uuid": "c7937700664991b29bdb0b3f04942c59498da760",
        "trusted": true
      },
      "cell_type": "code",
      "source": "train_target = train['target'].values\n\nnp.unique(train_target)",
      "execution_count": null,
      "outputs": []
    },
    {
      "metadata": {
        "_uuid": "ae08b544a8d4202c7d0a47ec83d685e81c91a66d"
      },
      "cell_type": "markdown",
      "source": "To check the first 5 rows of the data set, we can use head(5)."
    },
    {
      "metadata": {
        "_kg_hide-input": true,
        "_uuid": "5899889553c3416b27e93efceddb106eb71f5156",
        "trusted": true
      },
      "cell_type": "code",
      "source": "train.head(5) ",
      "execution_count": null,
      "outputs": []
    },
    {
      "metadata": {
        "_uuid": "1150b6ac3d82562aefd5c64f9f01accee5eace4d"
      },
      "cell_type": "markdown",
      "source": "Or to check out last 5 row of the data set, we use tail() function."
    },
    {
      "metadata": {
        "_uuid": "79339442ff1f53ae1054d794337b9541295d3305",
        "trusted": true,
        "_kg_hide-input": true
      },
      "cell_type": "code",
      "source": "train.tail() ",
      "execution_count": null,
      "outputs": []
    },
    {
      "metadata": {
        "_uuid": "c8a1cc36348c68fb98d6cb28aa9919fc5f2892f3"
      },
      "cell_type": "markdown",
      "source": "To give a **statistical summary** about the dataset, we can use **describe()**\n"
    },
    {
      "metadata": {
        "_uuid": "3f7211e96627b9a81c5b620a9ba61446f7719ea3",
        "trusted": true,
        "_kg_hide-input": true
      },
      "cell_type": "code",
      "source": "train.describe() ",
      "execution_count": null,
      "outputs": []
    },
    {
      "metadata": {
        "_uuid": "10bdb8246f66c14043392806cae714f688cc8251"
      },
      "cell_type": "markdown",
      "source": "As you can see, the statistical information that this command gives us is not suitable for this type of data\n**describe() is more useful for numerical data sets**"
    },
    {
      "metadata": {
        "_uuid": "6c8c838f497c66a227975fb9a2f588e431f0c568"
      },
      "cell_type": "markdown",
      "source": "**<< Note 2 >>**\nin pandas's data frame you can perform some query such as \"where\""
    },
    {
      "metadata": {
        "_uuid": "c8c8d9fd63d9bdb601183aeb4f1435affeb8a596",
        "trusted": true,
        "_kg_hide-input": true
      },
      "cell_type": "code",
      "source": "train.where(train ['target']==1).count()",
      "execution_count": null,
      "outputs": []
    },
    {
      "metadata": {
        "_uuid": "33fc33a18489b438a884819d99dc00a02b113be8"
      },
      "cell_type": "markdown",
      "source": "As you can see in the below in python, it is so easy perform some query on the dataframe:"
    },
    {
      "metadata": {
        "_kg_hide-input": true,
        "trusted": true,
        "_uuid": "19d3ed2ef536b88a079e563b8fd237ff4b64ccaa"
      },
      "cell_type": "code",
      "source": "train.feature_1.unique()",
      "execution_count": null,
      "outputs": []
    },
    {
      "metadata": {
        "_kg_hide-input": true,
        "trusted": true,
        "_uuid": "679c51cf1d0818124da821835f6aa394a511f6c4"
      },
      "cell_type": "code",
      "source": "train.feature_2.unique()",
      "execution_count": null,
      "outputs": []
    },
    {
      "metadata": {
        "_kg_hide-input": true,
        "trusted": true,
        "_uuid": "31c3542bf74e1552d93aa22419d19c329efb9446"
      },
      "cell_type": "code",
      "source": "train.feature_3.unique()",
      "execution_count": null,
      "outputs": []
    },
    {
      "metadata": {
        "_kg_hide-input": true,
        "trusted": true,
        "_uuid": "600b1b02db54739461e00e2f56675dee4cedf977"
      },
      "cell_type": "code",
      "source": "train.first_active_month.unique()",
      "execution_count": null,
      "outputs": []
    },
    {
      "metadata": {
        "_uuid": "055772bd170aa8018aabd85106b76675802c33b3"
      },
      "cell_type": "markdown",
      "source": "<a id=\"23\"></a> <br>\n## 1-4 Data Visualization\n**Data visualization**  is the presentation of data in a pictorial or graphical format. It enables decision makers to see analytics presented visually, so they can grasp difficult concepts or identify new patterns.\n\n> * Two** important rules** for Data visualization:\n>     1. Do not put too little information\n>     1. Do not put too much information\n\n###### [Go to top](#top)"
    },
    {
      "metadata": {
        "_uuid": "fbe8c50bcc1b632f42dd249e27a9a7c14517fd29"
      },
      "cell_type": "markdown",
      "source": "<a id=\"63\"></a> <br>\n##  Histogram"
    },
    {
      "metadata": {
        "_kg_hide-input": true,
        "_uuid": "e065ebff5374a9ab83df9c099a05962eb3645934",
        "trusted": true
      },
      "cell_type": "code",
      "source": "train[\"target\"].hist();",
      "execution_count": null,
      "outputs": []
    },
    {
      "metadata": {
        "trusted": true,
        "_uuid": "42991453dab1bac979de2207dcbbbe98e2c7921a"
      },
      "cell_type": "code",
      "source": "# histograms\ntrain.hist(figsize=(15,20))\nplt.figure()",
      "execution_count": null,
      "outputs": []
    },
    {
      "metadata": {
        "trusted": true,
        "_uuid": "1026049fc9949cd408fd3687d2fb8fd46b4a91cf"
      },
      "cell_type": "code",
      "source": "f,ax=plt.subplots(1,2,figsize=(20,10))\ntrain[train['feature_3']==0].target.plot.hist(ax=ax[0],bins=20,edgecolor='black',color='red')\nax[0].set_title('feature_3= 0')\nx1=list(range(0,85,5))\nax[0].set_xticks(x1)\ntrain[train['feature_3']==1].target.plot.hist(ax=ax[1],color='green',bins=20,edgecolor='black')\nax[1].set_title('feature_3= 1')\nx2=list(range(0,85,5))\nax[1].set_xticks(x2)\nplt.show()",
      "execution_count": null,
      "outputs": []
    },
    {
      "metadata": {
        "trusted": true,
        "_uuid": "8dc3a96d6f689c8d50dec8f0099f3d2eade17d56"
      },
      "cell_type": "code",
      "source": "f,ax=plt.subplots(1,2,figsize=(18,8))\ntrain['feature_3'].value_counts().plot.pie(explode=[0,0.1],autopct='%1.1f%%',ax=ax[0],shadow=True)\nax[0].set_title('feature_3')\nax[0].set_ylabel('')\nsns.countplot('feature_3',data=train,ax=ax[1])\nax[1].set_title('feature_3')\nplt.show()",
      "execution_count": null,
      "outputs": []
    },
    {
      "metadata": {
        "trusted": true,
        "_uuid": "517f0ceb6ad267a9aff9f8cac0f2f103669a25c5"
      },
      "cell_type": "code",
      "source": "f,ax=plt.subplots(1,2,figsize=(18,8))\ntrain[['feature_3','feature_2']].groupby(['feature_3']).mean().plot.bar(ax=ax[0])\nax[0].set_title('Survived vs feature_2')\nsns.countplot('feature_3',hue='feature_2',data=train,ax=ax[1])\nax[1].set_title('feature_3:feature')\nplt.show()",
      "execution_count": null,
      "outputs": []
    },
    {
      "metadata": {
        "_uuid": "6ac47758b3b5019e9171d2f97e3b2237d6c023b6"
      },
      "cell_type": "markdown",
      "source": "##   distplot"
    },
    {
      "metadata": {
        "_kg_hide-input": true,
        "trusted": true,
        "_uuid": "2c1ec5a796a1fe04d7ebf2623f4878d0d155fa7a"
      },
      "cell_type": "code",
      "source": "sns.distplot(train['target'])",
      "execution_count": null,
      "outputs": []
    },
    {
      "metadata": {
        "_uuid": "2ad9e0a985358467c2ee96f886f36f704ca06c91"
      },
      "cell_type": "markdown",
      "source": "##  violinplot"
    },
    {
      "metadata": {
        "_kg_hide-input": true,
        "trusted": true,
        "_uuid": "5ae31260ab611ea0b7c4f794c11d49ec2b679aba"
      },
      "cell_type": "code",
      "source": "sns.violinplot(data=train, x=\"feature_1\", y='target')",
      "execution_count": null,
      "outputs": []
    },
    {
      "metadata": {
        "_uuid": "93b7635568ef38bd6c12b23750dd960fa942aab8"
      },
      "cell_type": "markdown",
      "source": "## Scatter plot\nScatter plot Purpose to identify the type of relationship (if any) between two quantitative variables"
    },
    {
      "metadata": {
        "trusted": true,
        "_uuid": "362ecd283f5a648d08f5b82b5c26882f6cf9620b"
      },
      "cell_type": "code",
      "source": "# Modify the graph above by assigning each species an individual color.\ng = sns.FacetGrid(train, hue=\"feature_3\", col=\"feature_2\", margin_titles=True,\n                  palette={1:\"blue\", 0:\"red\"} )\ng=g.map(plt.scatter, \"first_active_month\", \"target\",edgecolor=\"w\").add_legend();",
      "execution_count": null,
      "outputs": []
    },
    {
      "metadata": {
        "_uuid": "e4a41e83625a4d4fe831a104e973adbd30f566df"
      },
      "cell_type": "markdown",
      "source": "\n##  Box\nIn descriptive statistics, a box plot or boxplot is a method for graphically depicting groups of numerical data through their quartiles. Box plots may also have lines extending vertically from the boxes (whiskers) indicating variability outside the upper and lower quartiles, hence the terms box-and-whisker plot and box-and-whisker diagram.[wikipedia]"
    },
    {
      "metadata": {
        "trusted": true,
        "_uuid": "2cb7dc55fb72a95fa786cefaa5c016c09d311cbd"
      },
      "cell_type": "code",
      "source": "sns.boxplot(x=\"feature_3\", y=\"feature_2\", data=test )\nplt.show()",
      "execution_count": null,
      "outputs": []
    },
    {
      "metadata": {
        "_uuid": "d67f43bc3f49ef1accb71d4721e0d92f91e7db2b"
      },
      "cell_type": "markdown",
      "source": "\nI know that there are still some problems then I hope to get your feedback to improve it.\n"
    },
    {
      "metadata": {
        "_uuid": "cf3679a51c72dbe2d2549b5fe97e4ac5f1fa0fa0"
      },
      "cell_type": "markdown",
      "source": "you can Fork and Run this kernel on **Github**:\n> ###### [ GitHub](https://github.com/mjbahmani/10-steps-to-become-a-data-scientist)\n"
    },
    {
      "metadata": {
        "_uuid": "3218340bb7dfc4ab53987820284a5c2b1c34eb45"
      },
      "cell_type": "markdown",
      "source": "#### The kernel is not completed and will be updated soon  !!!"
    }
  ],
  "metadata": {
    "kernelspec": {
      "display_name": "Python 3",
      "language": "python",
      "name": "python3"
    },
    "language_info": {
      "name": "python",
      "version": "3.6.6",
      "mimetype": "text/x-python",
      "codemirror_mode": {
        "name": "ipython",
        "version": 3
      },
      "pygments_lexer": "ipython3",
      "nbconvert_exporter": "python",
      "file_extension": ".py"
    }
  },
  "nbformat": 4,
  "nbformat_minor": 1
}