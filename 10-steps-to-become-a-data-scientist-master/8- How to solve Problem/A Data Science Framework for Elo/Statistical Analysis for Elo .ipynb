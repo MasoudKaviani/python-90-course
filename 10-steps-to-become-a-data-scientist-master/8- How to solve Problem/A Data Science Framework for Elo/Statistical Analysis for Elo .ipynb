{
  "cells": [
    {
      "metadata": {
        "_uuid": "a8f9622945156d6337ba73c481da2de7efef7384"
      },
      "cell_type": "markdown",
      "source": "# <div style=\"text-align: center\">Statistical Analysis for Elo</div>\n### <div align=\"center\"><b>Quite Practical and Far from any Theoretical Concepts</b></div>\n<div style=\"text-align:center\">last update: <b>01/24/2019</b></div>\n<img src='http://s8.picofile.com/file/8344134250/KOpng.png'>\nYou can Fork and Run this kernel on **Github**:\n> ###### [ GitHub](https://github.com/mjbahmani/10-steps-to-become-a-data-scientist)\n\n-------------------------------------------------------------------------------------------------------------\n **I hope you find this kernel helpful and some <font color=\"red\"><b>UPVOTES</b></font> would be very much appreciated**\n \n -----------"
    },
    {
      "metadata": {
        "_uuid": "750903cc2679d39058f56df6c6c040be02b748df"
      },
      "cell_type": "markdown",
      "source": " <a id=\"1\"></a> <br>\n## 1- Introduction\n**[Elo](https://www.cartaoelo.com.br/)** has defined a competition in **Kaggle**. A realistic and attractive data set for data scientists.\non this notebook, I will provide a **comprehensive** approach to solve Elo Recommendation problem.\n\nI am open to getting your feedback for improving this **kernel**."
    },
    {
      "metadata": {
        "_uuid": "cda11210a88d6484112cbe2c3624225328326c6a"
      },
      "cell_type": "markdown",
      "source": "<a id=\"top\"></a> <br>\n## Notebook  Content\n1. [Introduction](#1)\n1. [Data Science Workflow for Elo](#2)\n1. [Problem Definition](#3)\n    1. [About Elo](#31)\n    1. [Business View](#32)\n        1. [Real world Application Vs Competitions](#321)\n1. [Problem feature](#7)\n    1. [Aim](#8)\n    1. [Variables](#9)\n    1. [ Inputs & Outputs](#10)\n    1. [Evaluation](#10)\n1. [Select Framework](#11)\n    1. [Import](#12)\n    1. [Version](#13)\n    1. [Setup](#14)\n1. [Exploratory data analysis](#15)\n    1. [Data Collection](#16)\n        1. [data_dictionary Analysis](#17)\n        1. [Explorer Dataset](#18)\n    1. [Data Cleaning](#19)\n    1. [Data Preprocessing](#20)\n    1. [Data Visualization](#23)\n        1. [countplot](#61)\n        1. [pie plot](#62)\n        1. [Histogram](#63)\n        1. [violin plot](#64)\n        1. [kdeplot](#65)\n1. [Apply Learning](#24)\n1. [Conclusion](#25)\n1. [References](#26)"
    },
    {
      "metadata": {
        "_uuid": "e9438d850fcacb93c4dc1f7873255803ecbf521c"
      },
      "cell_type": "markdown",
      "source": "-------------------------------------------------------------------------------------------------------------\n\n **I hope you find this kernel helpful and some <font color=\"red\"><b>UPVOTES</b></font> would be very much appreciated**\n \n -----------"
    },
    {
      "metadata": {
        "_uuid": "e11b73b618b0f6e4335520ef80267c6d577d1ba5"
      },
      "cell_type": "markdown",
      "source": "<a id=\"2\"></a> <br>\n## 2- A Data Science Workflow for Elo\nOf course, the same solution can not be provided for all problems, so the best way is to create a **general framework** and adapt it to new problem.\n\n**You can see my workflow in the below image** :\n\n <img src=\"http://s8.picofile.com/file/8342707700/workflow2.png\"  />\n\n**You should feel free\tto\tadjust \tthis\tchecklist \tto\tyour needs**\n###### [Go to top](#top)"
    },
    {
      "metadata": {
        "_uuid": "600be852c0d28e7c0c5ebb718904ab15a536342c"
      },
      "cell_type": "markdown",
      "source": "<a id=\"3\"></a> <br>\n## 3- Problem Definition\nI think one of the important things when you start a new machine learning project is Defining your problem. that means you should understand business problem.( **Problem Formalization**)\n<img src='http://s8.picofile.com/file/8344103134/Problem_Definition2.png' width=400 height=400>\n ><font color=\"red\"><b>Note: </b></font>\nWe are predicting a **loyalty score** for each card_id represented in test.csv and sample_submission.csv."
    },
    {
      "metadata": {
        "_uuid": "098f8cc653e55276c366f5c515b56c0971b4486f"
      },
      "cell_type": "markdown",
      "source": "<a id=\"31\"></a> <br>\n## 3-1 About Elo\n [Elo](https://www.cartaoelo.com.br/) is one of the largest **payment brands** in Brazil, has built partnerships with merchants in order to offer promotions or discounts to cardholders. But \n1. do these promotions work for either the consumer or the merchant?\n1. Do customers enjoy their experience? \n1. Do merchants see repeat business? \n\n ><font color=\"red\"><b>Note: </b></font>\n**Personalization is key**.\n"
    },
    {
      "metadata": {
        "_uuid": "e2a7568d0008e141952fd5130fa5fda9fedad544"
      },
      "cell_type": "markdown",
      "source": "<a id=\"32\"></a> <br>\n## 3-2 Business View \n**Elo** has built machine learning models to understand the most important aspects and preferences in their customers’ lifecycle, from food to shopping. But so far none of them is specifically tailored for an individual or profile. This is where you come in.\n\n###### [Go to top](#top)"
    },
    {
      "metadata": {
        "_uuid": "556980c672d2f7b2a4ee943b9d13b88de6e41e04"
      },
      "cell_type": "markdown",
      "source": "<a id=\"4\"></a> <br>\n## 4- Problem Feature\nProblem Definition has four steps that have illustrated in the picture below:\n\n\n1. Aim\n1. Variable\n1. Inputs & Outputs\n1. Evaluation\n<a id=\"41\"></a> <br>\n\n### 4-1 Aim\nDevelop algorithms to identify and serve the most relevant opportunities to individuals, by uncovering signal in customer loyalty.\nWe are predicting a **loyalty score** for each card_id represented in test.csv and sample_submission.csv.\n\n<a id=\"42\"></a> <br>\n### 4-2 Variables\nThe data is formatted as follows:\n\ntrain.csv and test.csv contain card_ids and information about the card itself - the first month the card was active, etc. train.csv also contains the target.\n\nhistorical_transactions.csv and new_merchant_transactions.csv are designed to be joined with train.csv, test.csv, and merchants.csv. They contain information about transactions for each card, as described above.\n\nmerchants can be joined with the transaction sets to provide additional merchant-level information.\n\n\n<a id=\"43\"></a> <br>\n### 4-3 Inputs & Outputs\nwe use **train.csv** and **test.csv** as Input and we should upload a  **submission.csv** as Output\n\n### 4-4 Evaluation\nSubmissions are scored on the root mean squared error. RMSE(Root Mean Squared Error) is defined as:\n<img src='https://www.includehelp.com/ml-ai/Images/rmse-1.jpg'>\nwhere y^ is the predicted loyalty score for each card_id, and y is the actual loyalty score assigned to a card_id.\n\n ><font color=\"red\"><b>Note: </b></font>\n You must answer the following question:\nHow does your company expect to use and benefit from **your model**.\n###### [Go to top](#top)"
    },
    {
      "metadata": {
        "_uuid": "fbedcae8843986c2139f18dad4b5f313e6535ac5"
      },
      "cell_type": "markdown",
      "source": "<a id=\"5\"></a> <br>\n## 5- Select Framework\nAfter problem definition and problem feature, we should select our **framework** to solve the **problem**.\nWhat we mean by the framework is that  the programming languages you use and by what modules the problem will be solved.\n###### [Go to top](#top)"
    },
    {
      "metadata": {
        "_uuid": "c90e261f3b150e10aaec1f34ab3be768acf7aa25"
      },
      "cell_type": "markdown",
      "source": "<a id=\"51\"></a> <br>\n## 5-1 Import"
    },
    {
      "metadata": {
        "_cell_guid": "b1076dfc-b9ad-4769-8c92-a6c4dae69d19",
        "_kg_hide-input": true,
        "_uuid": "8f2839f25d086af736a60e9eeb907d3b93b6e0e5",
        "trusted": true
      },
      "cell_type": "code",
      "source": "from sklearn.model_selection import train_test_split\nfrom sklearn.metrics import classification_report\nfrom sklearn.metrics import confusion_matrix\nfrom sklearn.metrics import accuracy_score\nimport matplotlib.pylab as pylab\nimport matplotlib.pyplot as plt\nfrom pandas import get_dummies\nimport matplotlib as mpl\nimport seaborn as sns\nimport pandas as pd\nimport numpy as np\nimport matplotlib\nimport warnings\nimport sklearn\nimport scipy\nimport numpy\nimport json\nimport sys\nimport csv\nimport os",
      "execution_count": 58,
      "outputs": []
    },
    {
      "metadata": {
        "_uuid": "1c2beac253f7ddddcc2e1aa26dc850d5b87268f3"
      },
      "cell_type": "markdown",
      "source": "<a id=\"52\"></a> <br>\n## 5-2 version"
    },
    {
      "metadata": {
        "_kg_hide-input": true,
        "_uuid": "9ffe2f1e5995150c8138f9e98509c7525fb230b4",
        "trusted": true
      },
      "cell_type": "code",
      "source": "print('matplotlib: {}'.format(matplotlib.__version__))\nprint('sklearn: {}'.format(sklearn.__version__))\nprint('scipy: {}'.format(scipy.__version__))\nprint('seaborn: {}'.format(sns.__version__))\nprint('pandas: {}'.format(pd.__version__))\nprint('numpy: {}'.format(np.__version__))\nprint('Python: {}'.format(sys.version))\n",
      "execution_count": 59,
      "outputs": [
        {
          "output_type": "stream",
          "text": "matplotlib: 2.2.3\nsklearn: 0.20.2\nscipy: 1.1.0\nseaborn: 0.9.0\npandas: 0.23.4\nnumpy: 1.16.0\nPython: 3.6.6 |Anaconda, Inc.| (default, Oct  9 2018, 12:34:16) \n[GCC 7.3.0]\n",
          "name": "stdout"
        }
      ]
    },
    {
      "metadata": {
        "_uuid": "431bf889ae401c1089a13835356c13f2b6a06f6c"
      },
      "cell_type": "markdown",
      "source": "<a id=\"53\"></a> <br>\n## 5-3 Setup\n\nA few tiny adjustments for better **code readability**"
    },
    {
      "metadata": {
        "_kg_hide-input": true,
        "trusted": true,
        "_uuid": "05ccd847c8212f67972d1f127b67931eb546110f"
      },
      "cell_type": "code",
      "source": "sns.set(style='white', context='notebook', palette='deep')\nwarnings.filterwarnings('ignore')\nsns.set_style('white')\n%matplotlib inline",
      "execution_count": 60,
      "outputs": []
    },
    {
      "metadata": {
        "_uuid": "04ff1a533119d589baee777c21194a951168b0c7"
      },
      "cell_type": "markdown",
      "source": "<a id=\"6\"></a> <br>\n## 6- EDA\nBy the end of the section, you'll be able to answer these questions and more, while generating graphics that are both insightful and beautiful.  then We will review analytical and statistical operations:\n\n1. Data Collection\n1. Visualization\n1. Data Cleaning\n1. Data Preprocessing\n<img src=\"http://s9.picofile.com/file/8338476134/EDA.png\" width=400 height=400>\n\n ###### [Go to top](#top)"
    },
    {
      "metadata": {
        "_uuid": "cedecea930b278f86292367cc28d2996a235a169"
      },
      "cell_type": "markdown",
      "source": "<a id=\"61\"></a> <br>\n## 6-1 Data Collection\n**Data collection** is the process of gathering and measuring data, information or any variables of interest in a standardized and established manner that enables the collector to answer or test hypothesis and evaluate outcomes of the particular collection.[techopedia]\n\nI start Collection Data by the training and testing datasets into **Pandas DataFrames**.\n###### [Go to top](#top)"
    },
    {
      "metadata": {
        "_kg_hide-input": true,
        "trusted": true,
        "_uuid": "3ab7e42ef3c17e344893d7e61154fa8a94ddf21a"
      },
      "cell_type": "code",
      "source": "import os\nprint(os.listdir(\"../input\"))\n",
      "execution_count": 61,
      "outputs": [
        {
          "output_type": "stream",
          "text": "['train.csv', 'merchants.csv', 'sample_submission.csv', 'test.csv', 'historical_transactions.csv', 'Data_Dictionary.xlsx', 'new_merchant_transactions.csv']\n",
          "name": "stdout"
        }
      ]
    },
    {
      "metadata": {
        "_kg_hide-input": true,
        "_uuid": "9269ae851b744856bce56840637030a16a5877e1",
        "trusted": true
      },
      "cell_type": "code",
      "source": "train = pd.read_csv('../input/train.csv', parse_dates=[\"first_active_month\"] )\ntest = pd.read_csv('../input/test.csv' ,parse_dates=[\"first_active_month\"] )\nmerchants=pd.read_csv('../input/merchants.csv')\nnew_merchant_transactions=pd.read_csv('../input/new_merchant_transactions.csv')\nhistorical_transactions = pd.read_csv(\"../input/historical_transactions.csv\")",
      "execution_count": null,
      "outputs": []
    },
    {
      "metadata": {
        "_kg_hide-input": true,
        "_uuid": "ca840f02925751186f87e402fcb5f637ab1ab8a0",
        "trusted": true
      },
      "cell_type": "code",
      "source": "print(train.info())",
      "execution_count": null,
      "outputs": []
    },
    {
      "metadata": {
        "_uuid": "4cbcf76344a6e3c8e841ccf1f43bf00d040a06a1",
        "trusted": true,
        "_kg_hide-input": true
      },
      "cell_type": "code",
      "source": "#print(test.info())",
      "execution_count": null,
      "outputs": []
    },
    {
      "metadata": {
        "_uuid": "73ab30f86273b590a51fc363d9bf78c2709558fa"
      },
      "cell_type": "markdown",
      "source": "<a id=\"612\"></a> <br>\n## 6-1-2 Explorer Dataset\n1- Dimensions of the dataset.\n\n2- Peek at the data itself.\n\n3- Statistical summary of all attributes.\n\n4- Breakdown of the data by the class variable.\n\n ><font color=\"red\"><b>Note: </b></font> Don’t worry, each look at the data is **one command**. These are useful commands that you can use again and again on future projects.\n###### [Go to top](#top)"
    },
    {
      "metadata": {
        "_uuid": "58ed9c838069f54de5cf90b20a774c3e236149b3"
      },
      "cell_type": "markdown",
      "source": " ><font color=\"red\"><b>Note: </b></font>\n \n* All **data** is simulated and fictitious, and is not real customer data\n* Each **row** is an observation (also known as : sample, example, instance, record).\n* Each **column** is a feature (also known as: Predictor, attribute, Independent Variable, input, regressor, Covariate).\n###### [Go to top](#top)"
    },
    {
      "metadata": {
        "_kg_hide-input": true,
        "trusted": true,
        "_uuid": "88bad715c0032fdb08a8d22db2384e73dfa1e911"
      },
      "cell_type": "code",
      "source": "print(\"Shape of train set                 : \",train.shape)\nprint(\"Shape of test set                  : \",test.shape)\nprint(\"Shape of historical_transactions   : \",historical_transactions.shape)\nprint(\"Shape of merchants                 : \",merchants.shape)\nprint(\"Shape of new_merchant_transactions : \",new_merchant_transactions.shape)\n",
      "execution_count": null,
      "outputs": []
    },
    {
      "metadata": {
        "_uuid": "8a8d34d874032d0aa0898f44832a23c623ed330f"
      },
      "cell_type": "markdown",
      "source": "<a id=\"6111\"></a> <br>\n## 6-1-1-1 data_dictionary Analysis\nElo Provides a excel file to describe about data(feature). It has four sheet and we have just read them with below code:"
    },
    {
      "metadata": {
        "trusted": true,
        "_uuid": "1e882cf7e8696a51d8aa2fe05dd9035bd7063b56",
        "_kg_hide-input": true
      },
      "cell_type": "code",
      "source": "data_dictionary_train=pd.read_excel('../input/Data_Dictionary.xlsx',sheet_name='train')\ndata_dictionary_history=pd.read_excel('../input/Data_Dictionary.xlsx',sheet_name='history')\ndata_dictionary_new_merchant_period=pd.read_excel('../input/Data_Dictionary.xlsx',sheet_name='new_merchant_period')\ndata_dictionary_merchant=pd.read_excel('../input/Data_Dictionary.xlsx',sheet_name='merchant')",
      "execution_count": null,
      "outputs": []
    },
    {
      "metadata": {
        "_uuid": "581b90e6a869c3793472c7edd59091d6d6342fb2"
      },
      "cell_type": "markdown",
      "source": "<a id=\"611\"></a> <br>\n## 6-1-4 Features\nFeatures can be from following types:\n* numeric\n* categorical\n* ordinal\n* datetime\n* coordinates\n\nFind the type of features in **Elo dataset**?!\n\nFor getting some information about the dataset you can use **info()** command."
    },
    {
      "metadata": {
        "_uuid": "bcf89ac9e4b2944e241279956859a257b049d2e6"
      },
      "cell_type": "markdown",
      "source": "<a id=\"612\"></a> <br>\n## 6-1-2 Train Analysis"
    },
    {
      "metadata": {
        "_uuid": "3483fbc1e932d9f387703a796248963e77cefa1d"
      },
      "cell_type": "markdown",
      "source": "you can use tails command to explorer dataset, such as "
    },
    {
      "metadata": {
        "_uuid": "08a94b16129d4c231b64d4691374e18aa80f1d80",
        "trusted": true,
        "_kg_hide-input": true
      },
      "cell_type": "code",
      "source": "train.tail()",
      "execution_count": null,
      "outputs": []
    },
    {
      "metadata": {
        "_uuid": "513bf092e78388de9a1337b8e2f401a1aa61704a"
      },
      "cell_type": "markdown",
      "source": "<a id=\"6121\"></a> <br>\n### 6-1-2-1 Train Description\nsome info about train set"
    },
    {
      "metadata": {
        "trusted": true,
        "_uuid": "cb0c886bd76df2497a3845e805db69e31cda4bf1",
        "_kg_hide-input": true
      },
      "cell_type": "code",
      "source": "data_dictionary_train.head(10)\n# what we know about train:",
      "execution_count": null,
      "outputs": []
    },
    {
      "metadata": {
        "_uuid": "5e75b8bcdcbec72a9cd5c56be4aeee20771ebea3"
      },
      "cell_type": "markdown",
      "source": "We have three features that they are **Anonymized** "
    },
    {
      "metadata": {
        "trusted": true,
        "_uuid": "b7089fa19da3dc0c2c862bcf655e00366c9a48bb"
      },
      "cell_type": "code",
      "source": "test.tail()",
      "execution_count": null,
      "outputs": []
    },
    {
      "metadata": {
        "_uuid": "7b5fd1034cd591ebd29fba1c77d342ec2b408d13"
      },
      "cell_type": "markdown",
      "source": "After loading the data via **pandas**, we should checkout what the content is, description and via the following:"
    },
    {
      "metadata": {
        "_uuid": "1b8b6f0c962a59e5258e74ed9e740a4aaf7c8113",
        "trusted": true,
        "_kg_hide-input": true
      },
      "cell_type": "code",
      "source": "train.describe()",
      "execution_count": null,
      "outputs": []
    },
    {
      "metadata": {
        "_uuid": "9ef27bfbe249d1d51a763b2bf6e08ab4f1cb8c3c"
      },
      "cell_type": "markdown",
      "source": "The train set  is approximately twice the test set"
    },
    {
      "metadata": {
        "_kg_hide-input": true,
        "trusted": true,
        "_uuid": "3c0ae9d99f97445f1798843ec4aae9cb5cb07a03"
      },
      "cell_type": "code",
      "source": "print('----- train set--------')\nprint(train.head(5))\nprint('----- test set--------')\nprint(test.head(5))",
      "execution_count": null,
      "outputs": []
    },
    {
      "metadata": {
        "_uuid": "ac8d426954246fea0684765402be77c40a4beaf1"
      },
      "cell_type": "markdown",
      "source": "<a id=\"613\"></a> <br>\n## 6-1-3 Historical Transactions Analysis"
    },
    {
      "metadata": {
        "trusted": true,
        "_uuid": "2dc908cd4b38873830f70ed4af8f7e9e951a896d"
      },
      "cell_type": "code",
      "source": "data_dictionary_history.head(10)\n# what we know about history:",
      "execution_count": null,
      "outputs": []
    },
    {
      "metadata": {
        "trusted": true,
        "_uuid": "27486b18846df59597b051041a5e098461a81289"
      },
      "cell_type": "code",
      "source": "historical_transactions.head()",
      "execution_count": null,
      "outputs": []
    },
    {
      "metadata": {
        "trusted": true,
        "_uuid": "a5038fec8be23ac0b7e0911bddbda053e0a94b06"
      },
      "cell_type": "code",
      "source": "historical_transactions.shape",
      "execution_count": null,
      "outputs": []
    },
    {
      "metadata": {
        "_uuid": "ce946d38bbfdfb90ab6622656e3511bb6d5e6b29"
      },
      "cell_type": "markdown",
      "source": "<a id=\"614\"></a> <br>\n## 6-1-4 Merchant Analysis"
    },
    {
      "metadata": {
        "trusted": true,
        "_uuid": "aba73da7f5b98fb5ee0edb62c60227f0bf5fc61c"
      },
      "cell_type": "code",
      "source": "merchants.head()",
      "execution_count": null,
      "outputs": []
    },
    {
      "metadata": {
        "trusted": true,
        "_uuid": "5b2e4f8c61d7eb96e486999144dd35e1dbc8e4a7"
      },
      "cell_type": "code",
      "source": "data_dictionary_merchant.head(30)\n# what we know about merchant:",
      "execution_count": null,
      "outputs": []
    },
    {
      "metadata": {
        "_uuid": "d899bc495a0345967ea4c58959b62e47742af090"
      },
      "cell_type": "markdown",
      "source": "## 6-1-5 New Merchant Transactions Analysis"
    },
    {
      "metadata": {
        "trusted": true,
        "_uuid": "501ec46300880b04dcf08b7bf359cd35d4e6c8a9"
      },
      "cell_type": "code",
      "source": "new_merchant_transactions.head()",
      "execution_count": null,
      "outputs": []
    },
    {
      "metadata": {
        "trusted": true,
        "_uuid": "9e8f388465e2e8684eb00f0d20094441b4a0155e"
      },
      "cell_type": "code",
      "source": "data_dictionary_new_merchant_period.head(10)\n# what we know about new_merchant_period:",
      "execution_count": null,
      "outputs": []
    },
    {
      "metadata": {
        "_uuid": "8280749a19af32869978c61941d1dea306632d71"
      },
      "cell_type": "markdown",
      "source": "<a id=\"62\"></a> <br>\n## 6-2 Data Cleaning\nWhen dealing with real-world data, dirty data is the norm rather than the exception.\n\n###### [Go to top](#top)"
    },
    {
      "metadata": {
        "_uuid": "a6315bf510cecb907b2d23aad25faf6ccad32ac4"
      },
      "cell_type": "markdown",
      "source": "How many NA elements in every column!!\n\nGood news, it is Zero!\n\n ><font color=\"red\"><b>Note: </b></font> To check out how many null info are on the dataset, we can use **isnull().sum()**."
    },
    {
      "metadata": {
        "_kg_hide-input": true,
        "_uuid": "675f72fb58d83c527f71819e71ed8e17f81126f5",
        "trusted": true
      },
      "cell_type": "code",
      "source": "print ('for train :',train.isnull().sum())\nprint ('for test:',train.isnull().sum())",
      "execution_count": null,
      "outputs": []
    },
    {
      "metadata": {
        "_uuid": "5faa6528c6667060c05268757ff46e211b4fea3f"
      },
      "cell_type": "markdown",
      "source": " ><font color=\"red\"><b>Note: </b></font> But if we had , we can just use **dropna()**(be careful sometimes you should not do this!)"
    },
    {
      "metadata": {
        "_kg_hide-input": true,
        "_uuid": "e8e124ca20643ad307d9bfdc34328d548c6ddcbc",
        "trusted": true
      },
      "cell_type": "code",
      "source": "# remove rows that have NA's\nprint('Before Droping',train.shape)\ntrain = train.dropna()\nprint('After Droping',train.shape)",
      "execution_count": null,
      "outputs": []
    },
    {
      "metadata": {
        "_uuid": "277e1998627d6a3ddeff4e913a6b8c3dc81dec96"
      },
      "cell_type": "markdown",
      "source": "\nWe can get a quick idea of how many instances (rows) and how many attributes (columns) the data contains with the shape property."
    },
    {
      "metadata": {
        "_uuid": "c2f1eaf0b6dfdc7cc4dace04614e99ed56425d00"
      },
      "cell_type": "markdown",
      "source": "To print dataset **columns**, we can use columns atribute."
    },
    {
      "metadata": {
        "_uuid": "909d61b33ec06249d0842e6115597bbacf21163f",
        "trusted": true,
        "_kg_hide-input": true
      },
      "cell_type": "code",
      "source": "train.columns",
      "execution_count": null,
      "outputs": []
    },
    {
      "metadata": {
        "_uuid": "91dda1f631cf4ed362162501aaaac6d19cfd6cc7"
      },
      "cell_type": "markdown",
      "source": "<a id=\"63\"></a> <br>\n## 6-3 Data Preprocessing\n**Data preprocessing** refers to the transformations applied to our data before feeding it to the algorithm.\n \nData Preprocessing is a technique that is used to convert the raw data into a clean data set. In other words, whenever the data is gathered from different sources it is collected in raw format which is not feasible for the analysis.\nthere are plenty of steps for data preprocessing and we just listed some of them in general(Not just for Quora) :\n1. removing Target column (id)\n1. Sampling (without replacement)\n1. Making part of iris unbalanced and balancing (with undersampling and SMOTE)\n1. Introducing missing values and treating them (replacing by average values)\n1. Noise filtering\n1. Data discretization\n1. Normalization and standardization\n1. PCA analysis\n1. Feature selection (filter, embedded, wrapper)\n1. Etc.\n\nWhat methods of preprocessing can we run on  Elo?! \n###### [Go to top](#top)"
    },
    {
      "metadata": {
        "_uuid": "6c8c838f497c66a227975fb9a2f588e431f0c568"
      },
      "cell_type": "markdown",
      "source": "**<< Note 2 >>**\nin pandas's data frame you can perform some query such as \"where\""
    },
    {
      "metadata": {
        "_uuid": "c8c8d9fd63d9bdb601183aeb4f1435affeb8a596",
        "trusted": true,
        "_kg_hide-input": true
      },
      "cell_type": "code",
      "source": "train.where(train ['target']==1).count()",
      "execution_count": null,
      "outputs": []
    },
    {
      "metadata": {
        "_uuid": "33fc33a18489b438a884819d99dc00a02b113be8"
      },
      "cell_type": "markdown",
      "source": "As you can see in the below in python, it is so easy perform some query on the dataframe:"
    },
    {
      "metadata": {
        "_uuid": "8b545ff7e8367c5ab9c1db710f70b6936ac8422c",
        "trusted": true,
        "_kg_hide-input": true
      },
      "cell_type": "code",
      "source": "train[train['target']<-32].head(5)",
      "execution_count": null,
      "outputs": []
    },
    {
      "metadata": {
        "_uuid": "d517b2b99a455a6b89c238faf1647515b8a67d87",
        "trusted": true,
        "_kg_hide-input": true
      },
      "cell_type": "code",
      "source": "train[train['target']==1].head(5)",
      "execution_count": null,
      "outputs": []
    },
    {
      "metadata": {
        "_kg_hide-input": true,
        "trusted": true,
        "_uuid": "19d3ed2ef536b88a079e563b8fd237ff4b64ccaa"
      },
      "cell_type": "code",
      "source": "train.feature_1.unique()",
      "execution_count": null,
      "outputs": []
    },
    {
      "metadata": {
        "_kg_hide-input": true,
        "trusted": true,
        "_uuid": "679c51cf1d0818124da821835f6aa394a511f6c4"
      },
      "cell_type": "code",
      "source": "train.feature_2.unique()",
      "execution_count": null,
      "outputs": []
    },
    {
      "metadata": {
        "_kg_hide-input": true,
        "trusted": true,
        "_uuid": "31c3542bf74e1552d93aa22419d19c329efb9446"
      },
      "cell_type": "code",
      "source": "train.feature_3.unique()",
      "execution_count": null,
      "outputs": []
    },
    {
      "metadata": {
        "_kg_hide-input": true,
        "trusted": true,
        "_uuid": "600b1b02db54739461e00e2f56675dee4cedf977"
      },
      "cell_type": "code",
      "source": "train.first_active_month.unique()",
      "execution_count": null,
      "outputs": []
    },
    {
      "metadata": {
        "_uuid": "aa882e5bcdc7d5f440489eff75d1d225269655a4"
      },
      "cell_type": "markdown",
      "source": "**<< Note >>**\n>**Preprocessing and generation pipelines depend on a model type**"
    },
    {
      "metadata": {
        "_uuid": "055772bd170aa8018aabd85106b76675802c33b3"
      },
      "cell_type": "markdown",
      "source": "<a id=\"64\"></a> <br>\n## 6-4 Data Visualization\n**Data visualization**  is the presentation of data in a pictorial or graphical format. It enables decision makers to see analytics presented visually, so they can grasp difficult concepts or identify new patterns.\n\n> * Two** important rules** for Data visualization:\n>     1. Do not put too little information\n>     1. Do not put too much information\n\n###### [Go to top](#top)"
    },
    {
      "metadata": {
        "_uuid": "fbe8c50bcc1b632f42dd249e27a9a7c14517fd29"
      },
      "cell_type": "markdown",
      "source": "<a id=\"641\"></a> <br>\n## 6-4-1  Histogram"
    },
    {
      "metadata": {
        "_kg_hide-input": true,
        "_uuid": "e065ebff5374a9ab83df9c099a05962eb3645934",
        "trusted": true
      },
      "cell_type": "code",
      "source": "train[\"target\"].hist();",
      "execution_count": null,
      "outputs": []
    },
    {
      "metadata": {
        "trusted": true,
        "_uuid": "42991453dab1bac979de2207dcbbbe98e2c7921a"
      },
      "cell_type": "code",
      "source": "# histograms\ntrain.hist(figsize=(15,20))\nplt.figure()",
      "execution_count": null,
      "outputs": []
    },
    {
      "metadata": {
        "trusted": true,
        "_uuid": "1026049fc9949cd408fd3687d2fb8fd46b4a91cf"
      },
      "cell_type": "code",
      "source": "f,ax=plt.subplots(1,2,figsize=(20,10))\ntrain[train['feature_3']==0].target.plot.hist(ax=ax[0],bins=20,edgecolor='black',color='red')\nax[0].set_title('feature_3= 0')\nx1=list(range(0,85,5))\nax[0].set_xticks(x1)\ntrain[train['feature_3']==1].target.plot.hist(ax=ax[1],color='green',bins=20,edgecolor='black')\nax[1].set_title('feature_3= 1')\nx2=list(range(0,85,5))\nax[1].set_xticks(x2)\nplt.show()",
      "execution_count": null,
      "outputs": []
    },
    {
      "metadata": {
        "trusted": true,
        "_uuid": "8dc3a96d6f689c8d50dec8f0099f3d2eade17d56"
      },
      "cell_type": "code",
      "source": "f,ax=plt.subplots(1,2,figsize=(18,8))\ntrain['feature_3'].value_counts().plot.pie(explode=[0,0.1],autopct='%1.1f%%',ax=ax[0],shadow=True)\nax[0].set_title('feature_3')\nax[0].set_ylabel('')\nsns.countplot('feature_3',data=train,ax=ax[1])\nax[1].set_title('feature_3')\nplt.show()",
      "execution_count": null,
      "outputs": []
    },
    {
      "metadata": {
        "trusted": true,
        "_uuid": "517f0ceb6ad267a9aff9f8cac0f2f103669a25c5"
      },
      "cell_type": "code",
      "source": "f,ax=plt.subplots(1,2,figsize=(18,8))\ntrain[['feature_3','feature_2']].groupby(['feature_3']).mean().plot.bar(ax=ax[0])\nax[0].set_title('Survived vs feature_2')\nsns.countplot('feature_3',hue='feature_2',data=train,ax=ax[1])\nax[1].set_title('feature_3:feature')\nplt.show()",
      "execution_count": null,
      "outputs": []
    },
    {
      "metadata": {
        "_uuid": "6ac47758b3b5019e9171d2f97e3b2237d6c023b6"
      },
      "cell_type": "markdown",
      "source": "<a id=\"642\"></a> <br>\n## 6-4-2  distplot"
    },
    {
      "metadata": {
        "_kg_hide-input": true,
        "trusted": true,
        "_uuid": "2c1ec5a796a1fe04d7ebf2623f4878d0d155fa7a"
      },
      "cell_type": "code",
      "source": "sns.distplot(train['target'])",
      "execution_count": null,
      "outputs": []
    },
    {
      "metadata": {
        "_uuid": "2ad9e0a985358467c2ee96f886f36f704ca06c91"
      },
      "cell_type": "markdown",
      "source": "<a id=\"643\"></a> <br>\n## 6-4-3 violinplot"
    },
    {
      "metadata": {
        "_kg_hide-input": true,
        "trusted": true,
        "_uuid": "5ae31260ab611ea0b7c4f794c11d49ec2b679aba"
      },
      "cell_type": "code",
      "source": "sns.violinplot(data=train, x=\"feature_1\", y='target')",
      "execution_count": null,
      "outputs": []
    },
    {
      "metadata": {
        "_uuid": "93b7635568ef38bd6c12b23750dd960fa942aab8"
      },
      "cell_type": "markdown",
      "source": "<a id=\"624\"></a> <br>\n## 6-2-4 Scatter plot\nScatter plot Purpose to identify the type of relationship (if any) between two quantitative variables"
    },
    {
      "metadata": {
        "trusted": true,
        "_uuid": "362ecd283f5a648d08f5b82b5c26882f6cf9620b"
      },
      "cell_type": "code",
      "source": "# Modify the graph above by assigning each species an individual color.\ng = sns.FacetGrid(train, hue=\"feature_3\", col=\"feature_2\", margin_titles=True,\n                  palette={1:\"blue\", 0:\"red\"} )\ng=g.map(plt.scatter, \"first_active_month\", \"target\",edgecolor=\"w\").add_legend();",
      "execution_count": null,
      "outputs": []
    },
    {
      "metadata": {
        "_uuid": "e4a41e83625a4d4fe831a104e973adbd30f566df"
      },
      "cell_type": "markdown",
      "source": "<a id=\"645\"></a> <br>\n## 6-4-5 Box\nIn descriptive statistics, a box plot or boxplot is a method for graphically depicting groups of numerical data through their quartiles. Box plots may also have lines extending vertically from the boxes (whiskers) indicating variability outside the upper and lower quartiles, hence the terms box-and-whisker plot and box-and-whisker diagram.[wikipedia]"
    },
    {
      "metadata": {
        "trusted": true,
        "_uuid": "2cb7dc55fb72a95fa786cefaa5c016c09d311cbd"
      },
      "cell_type": "code",
      "source": "sns.boxplot(x=\"feature_3\", y=\"feature_2\", data=test )\nplt.show()",
      "execution_count": null,
      "outputs": []
    },
    {
      "metadata": {
        "_uuid": "72cc7c7b60a33390a85b16bc34e3b9e424650cdd"
      },
      "cell_type": "markdown",
      "source": "<a id=\"7\"></a> <br>\n## 7- Apply Learning\nHow to understand what is the best way to solve our problem?!\n\nThe answer is always \"**It depends**.\" It depends on the **size**, **quality**, and **nature** of the **data**. It depends on what you want to do with the answer. It depends on how the **math** of the algorithm was translated into instructions for the computer you are using. And it depends on how much **time** you have. Even the most **experienced data scientists** can't tell which algorithm will perform best before trying them.(see a nice [cheatsheet](https://github.com/mjbahmani/10-steps-to-become-a-data-scientist/blob/master/cheatsheets/microsoft-machine-learning-algorithm-cheat-sheet-v7.pdf) for this section)\nCategorize the problem\nThe next step is to categorize the problem. This is a two-step process.\n\n1. **Categorize by input**:\n    1. If you have labelled data, it’s a supervised learning problem.\n    1. If you have unlabelled data and want to find structure, it’s an unsupervised learning problem.\n    1. If you want to optimize an objective function by interacting with an environment, it’s a reinforcement learning problem.\n1. **Categorize by output**.\n    1. If the output of your model is a number, it’s a regression problem.\n    1. If the output of your model is a class, it’s a classification problem.\n    1. If the output of your model is a set of input groups, it’s a clustering problem.\n    1. Do you want to detect an anomaly ? That’s anomaly detection\n1. **Understand your constraints**\n    1. What is your data storage capacity? Depending on the storage capacity of your system, you might not be able to store gigabytes of classification/regression models or gigabytes of data to clusterize. This is the case, for instance, for embedded systems.\n    1. Does the prediction have to be fast? In real time applications, it is obviously very important to have a prediction as fast as possible. For instance, in autonomous driving, it’s important that the classification of road signs be as fast as possible to avoid accidents.\n    1. Does the learning have to be fast? In some circumstances, training models quickly is necessary: sometimes, you need to rapidly update, on the fly, your model with a different dataset.\n1. **Find the available algorithms**\n    1. Now that you a clear understanding of where you stand, you can identify the algorithms that are applicable and practical to implement using the tools at your disposal. Some of the factors affecting the choice of a model are:\n\n    1. Whether the model meets the business goals\n    1. How much pre processing the model needs\n    1. How accurate the model is\n    1. How explainable the model is\n    1. How fast the model is: How long does it take to build a model, and how long does the model take to make predictions.\n    1. How scalable the model is\n"
    },
    {
      "metadata": {
        "_uuid": "d67f43bc3f49ef1accb71d4721e0d92f91e7db2b"
      },
      "cell_type": "markdown",
      "source": "<a id=\"8\"></a> <br>\n# 8- Conclusion\nThis kernel is not completed yet , I have tried to cover all the parts related to the process of **Elo  problem** with a variety of Python packages and I know that there are still some issues then I hope to get your feedback to improve it.\n"
    },
    {
      "metadata": {
        "_uuid": "cf3679a51c72dbe2d2549b5fe97e4ac5f1fa0fa0"
      },
      "cell_type": "markdown",
      "source": "you can Fork and Run this kernel on **Github**:\n> ###### [ GitHub](https://github.com/mjbahmani/10-steps-to-become-a-data-scientist)\n"
    },
    {
      "metadata": {
        "_uuid": "c5512d9728d688f5c22e4f38ff3a298600f59094"
      },
      "cell_type": "markdown",
      "source": "Go to first step: [**Course Home Page**](https://www.kaggle.com/mjbahmani/10-steps-to-become-a-data-scientist)\n\nGo to next step : [**Mathematics and Linear Algebra**](https://www.kaggle.com/mjbahmani/linear-algebra-for-data-scientists)\n"
    },
    {
      "metadata": {
        "_uuid": "3218340bb7dfc4ab53987820284a5c2b1c34eb45"
      },
      "cell_type": "markdown",
      "source": "#### The kernel is not completed and will be updated soon  !!!"
    }
  ],
  "metadata": {
    "kernelspec": {
      "display_name": "Python 3",
      "language": "python",
      "name": "python3"
    },
    "language_info": {
      "name": "python",
      "version": "3.6.6",
      "mimetype": "text/x-python",
      "codemirror_mode": {
        "name": "ipython",
        "version": 3
      },
      "pygments_lexer": "ipython3",
      "nbconvert_exporter": "python",
      "file_extension": ".py"
    }
  },
  "nbformat": 4,
  "nbformat_minor": 1
}