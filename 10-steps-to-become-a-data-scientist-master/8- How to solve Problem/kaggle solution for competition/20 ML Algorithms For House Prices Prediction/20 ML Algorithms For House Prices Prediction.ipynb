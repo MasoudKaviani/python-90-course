{
 "cells": [
  {
   "cell_type": "markdown",
   "metadata": {
    "_uuid": "a8f9622945156d6337ba73c481da2de7efef7384"
   },
   "source": [
    " ## <div align=\"center\">20 ML Algorithms For House Prices Prediction</div>\n",
    "\n",
    "There are plenty of **courses and tutorials** that can help you learn machine learning from scratch but here in **Kaggle**, I want to predict **House Prices**  a popular machine learning Dataset as a comprehensive workflow with python packages. \n",
    "After reading, you can use this workflow to solve other real problems and use it as a template to deal with machine learning problems.  \n",
    "\n",
    "<img src=\"http://s9.picofile.com/file/8338980150/House_price.png\"></img>\n",
    "<div style=\"text-align:center\">last update: <b>10/23/2018</b></div>\n",
    "\n",
    "---------------------------------------------------------------------\n",
    "\n",
    ">###### you may  be interested have a look at it: [A Comprehensive Machine Learning Workflow with Python](http://https://www.kaggle.com/mjbahmani/a-comprehensive-ml-workflow-with-python)\n",
    "\n",
    "--------------------------------------------------------------------------------\n",
    "\n",
    "you can Fork and Run this kernel on Github:\n",
    "> ###### [ GitHub](https://github.com/mjbahmani/Machine-Learning-Workflow-with-Python)\n",
    "\n",
    "\n",
    "-----------------------------\n",
    " **I hope you find this kernel helpful and some <font color=\"red\"><b>UPVOTES</b></font> would be very much appreciated**\n",
    " \n",
    " \n",
    " -----------"
   ]
  },
  {
   "cell_type": "markdown",
   "metadata": {
    "_uuid": "cda11210a88d6484112cbe2c3624225328326c6a"
   },
   "source": [
    "## Notebook  Content\n",
    "*   1-  [Introduction](#1)\n",
    "*   2- [Machine learning workflow](#2)\n",
    "*   3- [Problem Definition](#3)\n",
    "*       3-1 [Problem feature](#4)\n",
    "*       3-2 [Aim](#5)\n",
    "*       3-3 [Variables](#6)\n",
    "*   4-[ Inputs & Outputs](#7)\n",
    "*   4-1 [Inputs ](#8)\n",
    "*   4-2 [Outputs](#9)\n",
    "*   5- [Installation](#10)\n",
    "*       5-1 [ jupyter notebook](#11)\n",
    "*       5-2[ kaggle kernel](#12)\n",
    "*       5-3 [Colab notebook](#13)\n",
    "*       5-4 [install python & packages](#14)\n",
    "*       5-5 [Loading Packages](#15)\n",
    "*   6- [Exploratory data analysis](#16)\n",
    "*       6-1 [Data Collection](#17)\n",
    "*       6-2 [Visualization](#18)\n",
    "*           6-2-1 [Scatter plot](#19)\n",
    "*           6-2-2 [Box](#20)\n",
    "*           6-2-3 [Histogram](#21)\n",
    "*           6-2-4 [Multivariate Plots](#22)\n",
    "*           6-2-5 [Violinplots](#23)\n",
    "*           6-2-6 [Pair plot](#24)\n",
    "*           6-2-7 [Kde plot](#25)\n",
    "*           6-2-8 [Joint plot](#26)\n",
    "*           6-2-9 [Andrews curves](#27)\n",
    "*           6-2-10 [Heatmap](#28)\n",
    "*           6-2-11 [Radviz](#29)\n",
    "*       6-3 [Data Preprocessing](#30)\n",
    "*       6-4 [Data Cleaning](#31)\n",
    "*   7- [Model Deployment](#32)\n",
    "*   8- [Conclusion](#53)\n",
    "*  9- [References](#54)"
   ]
  },
  {
   "cell_type": "markdown",
   "metadata": {
    "_uuid": "750903cc2679d39058f56df6c6c040be02b748df"
   },
   "source": [
    " <a id=\"1\"></a> <br>\n",
    "## 1- Introduction\n",
    "This is a **A Comprehensive ML Workflow for House Prices** data set, it is clear that everyone in this community is familiar with house prices dataset but if you need to review your information about the dataset please visit this [link](https://www.kaggle.com/c/house-prices-advanced-regression-techniques/data).\n",
    "\n",
    "I have tried to help **Fans of Machine Learning**  in Kaggle how to face machine learning problems. and I think it is a great opportunity for who want to learn machine learning workflow with python **completely**.\n",
    "\n",
    "I have covered most of the methods that are implemented for house prices until **2018**, you can start to learn and review your knowledge about ML with a simple dataset and try to learn and memorize the workflow for your journey in Data science world.\n",
    "\n",
    "I am open to getting your feedback for improving this **kernel**\n"
   ]
  },
  {
   "cell_type": "markdown",
   "metadata": {
    "_uuid": "e11b73b618b0f6e4335520ef80267c6d577d1ba5"
   },
   "source": [
    "<a id=\"2\"></a> <br>\n",
    "## 2- Machine Learning Workflow\n",
    "If you have already read some [machine learning books](https://towardsdatascience.com/list-of-free-must-read-machine-learning-books-89576749d2ff). You have noticed that there are different ways to stream data into machine learning.\n",
    "\n",
    "most of these books share the following steps:\n",
    "*   Define Problem\n",
    "*   Specify Inputs & Outputs\n",
    "*   Exploratory data analysis\n",
    "*   Data Collection\n",
    "*   Data Preprocessing\n",
    "*   Data Cleaning\n",
    "*   Visualization\n",
    "*   Model Design, Training, and Offline Evaluation\n",
    "*   Model Deployment, Online Evaluation, and Monitoring\n",
    "*   Model Maintenance, Diagnosis, and Retraining\n",
    "\n",
    "**You can see my workflow in the below image** :\n",
    " <img src=\"http://s9.picofile.com/file/8338227634/workflow.png\" />\n",
    "\n",
    "## 2-1 How to solve Problem?\n",
    "**Data Science has so many techniques and procedures that can confuse anyone.**\n",
    "\n",
    "**Step 1**: Translate your business problem statement into technical one\n",
    "\n",
    "Analogous to any other software problem, data science aims at solving a business problem. Most of the times, business problem statements are vague and can be interpreted in multiple ways. This occurs mostly because we generally use qualitative words in our language which cannot be directly translated into a machine readable code.\n",
    "\n",
    "Eg. Let’s say we need to develop a solution to reduce crime rate of a city. The term “reduce” can be interpreted as:\n",
    "\n",
    "Decreasing crime rate of areas with high crime rate\n",
    "Decreasing crime rate of the most common type of crime\n",
    "It is a good practice to circle back with the client or the business team who define the problem to decide on the right interpretation.\n",
    "\n",
    "**Step 2**: Decide on the supervised learning technique\n",
    "\n",
    "The end goal of almost every data science problem is usually classification or regression. Deciding the supervised technique for the problem will help you get more clarity on the business statement.\n",
    "\n",
    "Eg. Let’s look at our problem of reducing crime rate. While the problem of reducing crime rate is more of a policy decision, depending on the choice above, we would have to decide if we need to do classification or regression.\n",
    "\n",
    "If we need to decrease crime rate of areas with high crime rate, we would need to determine the crime rate rate of an area. This is a regression problem.\n",
    "If we need to decrease crime rate of most common type of crime, we would need to determine the most common type of crime in an area. This is a classification problem.\n",
    "Again it is a good practice to circle back with the client or the business team who define the problem requirements to clarify on the exact requirement.\n",
    "\n",
    "**Step 3**: Literature survey\n",
    "\n",
    "Literature Survey is one of the most important step (and often most ignored step) to approach any problem. If you read any article about components of Data Science, you will find computer science, statistics / math and domain knowledge. As it is quite inhuman for someone to have subject expertise in all possible fields, literature survey can often help in bridging the gaps of inadequate subject expertise.\n",
    "\n",
    "After going through existing literature related to a problem, I usually try to come up with a set of hypotheses that could form my potential set of features. Going through existing literature helps you understand existing proofs in the domain serving as a guide to take the right direction in your problem. It also helps in interpretation of the results obtained from the prediction models.\n",
    "\n",
    "Eg. Going back to our problem of reducing crime rate, if you want to predict crime rate of an area, you would consider factors from general knowledge like demographics, neighboring areas, law enforcement rules etc. Literature survey will help you consider additional variables like climate, mode of transportation, divorce rate etc.\n",
    "\n",
    "**Step 4**: Data cleaning\n",
    "\n",
    "If you speak with anyone who has spent some time in data science, they will always say that most of their time is spent on cleaning the data. Real world data is always messy. Here are a few common discrepancies in most data-sets and some techniques of how to clean them:\n",
    "\n",
    "Missing values\n",
    "Missing values are values that are blank in the data-set. This can be due to various reasons like value being unknown, unrecorded, confidential etc. Since the reason for a value being missing is not clear, it is hard to guess the value.\n",
    "\n",
    "You could try different techniques to impute missing values starting with simple methods like column mean, median etc. and complex methods like using machine leaning models to estimate missing values.\n",
    "\n",
    "Duplicate records\n",
    "The challenge with duplicate records is identifying a record being duplicate. Duplicate records often occur while merging data from multiple sources. It could also occur due to human error. To identify duplicates, you could approximate a numeric values to certain decimal places and for text values, fuzzy matching could be a good start. Identification of duplicates could help the data engineering team to improve collection of data to prevent such errors.\n",
    "\n",
    "Incorrect values\n",
    "Incorrect values are mostly due to human error. For Eg. If there is a field called age and the value is 500, it is clearly wrong. Having domain knowledge of the data will help identify such values. A good technique to identify incorrect values for numerical columns could be to manually look at values beyond 3 standard deviations from the mean to check for correctness.\n",
    "\n",
    "**Step 5**: Feature engineering\n",
    "\n",
    "Feature Engineering is one of the most important step in any data science problem. Good set of features might make simple models work for your data. If features are not good enough, you might need to go for complex models. Feature Engineering mostly involves:\n",
    "\n",
    "Removing redundant features\n",
    "If a feature is not contributing a lot to the output value or is a function of other features, you can remove the feature. There are various metrics like AIC and BIC to identify redundant features. There are built in packages to perform operations like forward selection, backward selection etc. to remove redundant features.\n",
    "\n",
    "Transforming a feature\n",
    "A feature might have a non linear relationship with the output column. While complex models can capture this with enough data, simple models might not be able to capture this. I usually try to visualize different functions of each column like log, inverse, quadratic, cubic etc. and choose the transformation that looks closest to a normal curve.\n",
    "\n",
    "**Step 6**: Data modification\n",
    "\n",
    "Once the data is cleaned, there are a few modifications that might be needed before applying machine learning models. One of the most common modification would be scaling every column to the same range in order to give same weight to all columns. Some of the other required modifications might be data specific Eg. If output column is skewed, you might need to up-sample or down-sample.\n",
    "\n",
    "Steps 7 through 9 are iterative.\n",
    "\n",
    "**Step 7**: Modelling\n",
    "\n",
    "Once I have the data ready, I usually start with trying all the standard machine learning models. If it is a classification problem, a good start will beLogistic Regression, Naive Bayes, k-Nearest Neighbors, Decision Tree etc. If it is a regression problem, you could try linear regression, regression tree etc. The reason for starting with simple models is that simple models have lesser parameters to alter. If we start with a complex model like Neural Network orSupport Vector Machines, there are so many parameters that you could change that trying all options exhaustively might be time consuming.\n",
    "\n",
    "Each of the machine learning models make some underlying assumptions about the data. For Eg. Linear Regression / Logistic Regression assumes that the data comes from a linear combination of input parameters. Naive Bayes makes an assumption that the input parameters are independent of each other. Having the knowledge of these assumptions can help you judge the results of the different models. It is often helpful to visualize the actual vs predicted values to see these differences.\n",
    "\n",
    "**Step 8**: Model comparison\n",
    "\n",
    "One of the most standard technique to evaluate different machine learning models would be through the process of cross validation. I usually choose 10-fold cross validation but you may choose the right cross validation split based on the size of the data. Cross validation basically brings out an average performance of a model. This can help eliminate choosing a model that performs good specific to the data or in other words avoid over-fitting. It is often a good practice to randomize data before cross validation.\n",
    "\n",
    "A good technique to compare performance of different models is ROC curves. ROC curves help you visualize performance of different models across different thresholds. While ROC curves give a holistic sense of model performance, based on the business decision, you must choose the performance metric like Accuracy, True Positive Rate, False Positive Rate, F1-Score etc.\n",
    "\n",
    "**Step 9**: Error analysis\n",
    "\n",
    "At this point, you have tried a bunch of machine learning models and got the results. It is a good usage of time to not just look at the results like accuracy or True Positive Rate but to look at the set of data points that failed in some of the models. This will help you understand the data better and improve the models faster than trying all possible combinations of models. This is the time to try ensemble models like Random Forest, Gradient Boosting or a meta model of your own [Eg. Decision tree + Logistic Regression]. Ensemble models are almost always guaranteed to perform better than any standard model.\n",
    "\n",
    "**Step 10**: Improving your best model\n",
    "\n",
    "Once I have the best model, I usually plot training vs testing accuracy [or the right metric] against the number of parameters. Usually, it is easy to check training and testing accuracy against number of data points. Basically this plot will tell you whether your model is over-fitting or under-fitting. This articleDetecting over-fitting vs under-fitting explains this concept clearly.\n",
    "\n",
    "Understanding if your model is over-fitting or under-fitting will tell you how to proceed with the next steps. If the model is over-fitting, you might consider collecting more data. If the model is under-fitting, you might consider making the models more complex. [Eg. Adding higher order terms to a linear / logistic regression]\n",
    "\n",
    "**Step 11**: Deploying the model\n",
    "\n",
    "Once you have your final model, you would want the model to be deployed so that it automatically predicts output for new data point without retraining. While you can derive a formula for simple models like Linear Regression, Logistic Regression, Decision Tree etc. , it is not so straight forward for complex models like SVM, Neural Networks, Random Forest etc. I’m not very familiar with other languages but Python has a library called pickle which allows you to save models and use it to predict output for new data.\n",
    "\n",
    "**Step 12**: Adding feedback\n",
    "\n",
    "Usually, data for any data science problem is historical data. While this might be similar to the current data up-to a certain degree, it might not be able to capture the current trends or changes. For Eg. If you are using population as an input parameter, while population from 2015–2016 might vary slightly, if you use the model after 5 years, it might give incorrect results.\n",
    "\n",
    "One way to deal with this problem is to keep retraining your model with additional data. This might be a good option but retraining a model might be time consuming. Also, if you have applications in which data inflow is huge, this might need to be done at regular intervals. An alternative and a better option would be to use active learning. Active learning basically tries to use real time data as feedback and automatically update the model. The most common approaches to do this are Batch Gradient Descent and Stochastic Gradient Descent. It might be appropriate to use the right approach based on the application.\n",
    "\n",
    "Concluding remarks\n",
    "\n",
    "The field of data science is really vast. People spend their lifetime researching on individual topics discussed above. As a data scientist, you would mostly have to solve business problems than researching on individual subtopics. Additionally, you will have to explain the technical process and results to business teams who might not have enough technical knowledge. Thus, while you might not need a very in-depth knowledge of every technique, you need to have enough clarity to abstract the technical process and results and explain it in business terms.[3]\n"
   ]
  },
  {
   "cell_type": "markdown",
   "metadata": {},
   "source": [
    "## 2-1 Real world Application Vs Competitions\n",
    "<img src=\"http://s9.picofile.com/file/8339956300/reallife.png\" height=\"600\" width=\"500\" />"
   ]
  },
  {
   "cell_type": "markdown",
   "metadata": {
    "_uuid": "600be852c0d28e7c0c5ebb718904ab15a536342c"
   },
   "source": [
    "<a id=\"3\"></a> <br>\n",
    "## 3- Problem Definition\n",
    "I think one of the important things when you start a new machine learning project is Defining your problem.\n",
    "\n",
    "Problem Definition has four steps that have illustrated in the picture below:\n",
    "<img src=\"http://s8.picofile.com/file/8338227734/ProblemDefination.png\">\n",
    "<a id=\"4\"></a> <br>\n",
    "### 3-1 Problem Feature\n",
    "we will use the house prices data set. This dataset contains information about house prices and the target value is:\n",
    "\n",
    "* SalePrice\n",
    "\n",
    "<img src=\"https://kaggle2.blob.core.windows.net/competitions/kaggle/5407/media/housesbanner.png\"></img>\n",
    "**Why am I  using House price dataset:**\n",
    "\n",
    "1- This is a good project because it is so well understood.\n",
    "\n",
    "2- Attributes are numeric and categurical so you have to figure out how to load and handle data.\n",
    "\n",
    "3- It is a Regression problem, allowing you to practice with perhaps an easier type of supervised learning algorithm.\n",
    "\n",
    "4- This is a perfect competition for data science students who have completed an online course in machine learning and are looking to expand their skill set before trying a featured competition. \n",
    "\n",
    "5-Creative feature engineering .\n",
    "\n",
    "\n",
    "<a id=\"5\"></a> <br>\n",
    "### 3-2 Aim\n",
    "It is your job to predict the sales price for each house. For each Id in the test set, you must predict the value of the SalePrice variable. \n",
    "<img src=\"https://totalbitcoin.org/wp-content/uploads/2015/12/Bitcoin-price-projections-for-2016.png\"></img>\n",
    "<a id=\"6\"></a> <br>\n",
    "### 3-3 Variables\n",
    "The variables are :\n",
    "* SalePrice - the property's sale price in dollars. This is the target variable that you're trying to predict.\n",
    "* MSSubClass: The building class\n",
    "* MSZoning: The general zoning classification\n",
    "* LotFrontage: Linear feet of street connected to property\n",
    "* LotArea: Lot size in square feet\n",
    "* Street: Type of road access\n",
    "* Alley: Type of alley access\n",
    "* LotShape: General shape of property\n",
    "* LandContour: Flatness of the property\n",
    "* Utilities: Type of utilities available\n",
    "* LotConfig: Lot configuration\n",
    "* LandSlope: Slope of property\n",
    "* Neighborhood: Physical locations within Ames city limits\n",
    "* Condition1: Proximity to main road or railroad\n",
    "* Condition2: Proximity to main road or railroad (if a second is present)\n",
    "* BldgType: Type of dwelling\n",
    "* HouseStyle: Style of dwelling\n",
    "* OverallQual: Overall material and finish quality\n",
    "* OverallCond: Overall condition rating\n",
    "* YearBuilt: Original construction date\n",
    "* YearRemodAdd: Remodel date\n",
    "* RoofStyle: Type of roof\n",
    "* RoofMatl: Roof material\n",
    "* Exterior1st: Exterior covering on house\n",
    "* Exterior2nd: Exterior covering on house (if more than one material)\n",
    "* MasVnrType: Masonry veneer type\n",
    "* MasVnrArea: Masonry veneer area in square feet\n",
    "* ExterQual: Exterior material quality\n",
    "* ExterCond: Present condition of the material on the exterior\n",
    "* Foundation: Type of foundation\n",
    "* BsmtQual: Height of the basement\n",
    "* BsmtCond: General condition of the basement\n",
    "* BsmtExposure: Walkout or garden level basement walls\n",
    "* BsmtFinType1: Quality of basement finished area\n",
    "* BsmtFinSF1: Type 1 finished square feet\n",
    "* BsmtFinType2: Quality of second finished area (if present)\n",
    "* BsmtFinSF2: Type 2 finished square feet\n",
    "* BsmtUnfSF: Unfinished square feet of basement area\n",
    "* TotalBsmtSF: Total square feet of basement area\n",
    "* Heating: Type of heating\n",
    "* HeatingQC: Heating quality and condition\n",
    "* CentralAir: Central air conditioning\n",
    "* Electrical: Electrical system\n",
    "* 1stFlrSF: First Floor square feet\n",
    "* 2ndFlrSF: Second floor square feet\n",
    "*  LowQualFinSF: Low quality finished square feet (all floors)\n",
    "* GrLivArea: Above grade (ground) living area square feet\n",
    "* BsmtFullBath: Basement full bathrooms\n",
    "* BsmtHalfBath: Basement half bathrooms\n",
    "* FullBath: Full bathrooms above grade\n",
    "* HalfBath: Half baths above grade\n",
    "* Bedroom: Number of bedrooms above basement level\n",
    "* Kitchen: Number of kitchens\n",
    "* KitchenQual: Kitchen quality\n",
    "* TotRmsAbvGrd: Total rooms above grade (does not include bathrooms)\n",
    "* Functional: Home functionality rating\n",
    "* Fireplaces: Number of fireplaces\n",
    "* FireplaceQu: Fireplace quality\n",
    "* GarageType: Garage location\n",
    "* GarageYrBlt: Year garage was built\n",
    "* GarageFinish: Interior finish of the garage\n",
    "* GarageCars: Size of garage in car capacity\n",
    "* GarageArea: Size of garage in square feet\n",
    "* GarageQual: Garage quality\n",
    "* GarageCond: Garage condition\n",
    "* PavedDrive: Paved driveway\n",
    "* WoodDeckSF: Wood deck area in square feet\n",
    "* OpenPorchSF: Open porch area in square feet\n",
    "* EnclosedPorch: Enclosed porch area in square feet\n",
    "* 3SsnPorch: Three season porch area in square feet\n",
    "* ScreenPorch: Screen porch area in square feet\n",
    "* PoolArea: Pool area in square feet\n",
    "* PoolQC: Pool quality\n",
    "* Fence: Fence quality\n",
    "* MiscFeature: Miscellaneous feature not covered in other categories\n",
    "* MiscVal: $Value of miscellaneous feature\n",
    "* MoSold: Month Sold\n",
    "* YrSold: Year Sold\n",
    "* SaleType: Type of sale\n",
    "* SaleCondition: Condition of sale"
   ]
  },
  {
   "cell_type": "markdown",
   "metadata": {
    "_uuid": "8bb4dfebb521f83543e1d45db3559216dad8f6fb"
   },
   "source": [
    "<a id=\"7\"></a> <br>\n",
    "## 4- Inputs & Outputs\n",
    "<img src=\"https://upload.wikimedia.org/wikipedia/commons/b/bc/Input-Output.JPG\"></img>\n",
    "\n",
    "<a id=\"8\"></a> <br>\n",
    "### 4-1 Inputs\n",
    "* train.csv - the training set\n",
    "\n",
    "<a id=\"9\"></a> <br>\n",
    "\n",
    "### 4-2 Outputs\n",
    "* sale prices for every record in test.csv"
   ]
  },
  {
   "cell_type": "markdown",
   "metadata": {
    "_uuid": "89ee0cda57822cd4102eadf8992c5bfe1964d557"
   },
   "source": [
    "<a id=\"10\"></a> <br>\n",
    "## 5-Installation\n",
    "#### Windows:\n",
    "* Anaconda (from https://www.continuum.io) is a free Python distribution for SciPy stack. It is also available for Linux and Mac.\n",
    "* Canopy (https://www.enthought.com/products/canopy/) is available as free as well as commercial distribution with full SciPy stack for Windows, Linux and Mac.\n",
    "* Python (x,y) is a free Python distribution with SciPy stack and Spyder IDE for Windows OS. (Downloadable from http://python-xy.github.io/)\n",
    "#### Linux\n",
    "Package managers of respective Linux distributions are used to install one or more packages in SciPy stack.\n",
    "\n",
    "For Ubuntu Users:\n",
    "sudo apt-get install python-numpy python-scipy python-matplotlibipythonipythonnotebook\n",
    "python-pandas python-sympy python-nose"
   ]
  },
  {
   "cell_type": "markdown",
   "metadata": {
    "_uuid": "c1793fb141d3338bbc4300874be6ffa5cb1a9139"
   },
   "source": [
    "<a id=\"11\"></a> <br>\n",
    "## 5-1 Jupyter notebook\n",
    "I strongly recommend installing **Python** and **Jupyter** using the **[Anaconda Distribution](https://www.anaconda.com/download/)**, which includes Python, the Jupyter Notebook, and other commonly used packages for scientific computing and data science.\n",
    "<img src=\"https://s3-ap-south-1.amazonaws.com/av-blog-media/wp-content/uploads/2018/04/jupyter-768x382.png\"></img>\n",
    "First, download Anaconda. We recommend downloading Anaconda’s latest Python 3 version.\n",
    "\n",
    "Second, install the version of Anaconda which you downloaded, following the instructions on the download page.\n",
    "\n",
    "Congratulations, you have installed Jupyter Notebook! To run the notebook, run the following command at the Terminal (Mac/Linux) or Command Prompt (Windows):"
   ]
  },
  {
   "cell_type": "markdown",
   "metadata": {
    "_uuid": "abbd1757dde9805758a2cec47a186e31dbc29822"
   },
   "source": [
    "> jupyter notebook\n",
    "> "
   ]
  },
  {
   "cell_type": "markdown",
   "metadata": {
    "_uuid": "8a70c253d5afa93f07a7a7e048dbb2d7812c8d10"
   },
   "source": [
    "<a id=\"12\"></a> <br>\n",
    "## 5-2 Kaggle Kernel\n",
    "Kaggle kernel is an environment just like you use jupyter notebook, it's an **extension** of the where in you are able to carry out all the functions of jupyter notebooks plus it has some added tools like forking et al."
   ]
  },
  {
   "cell_type": "markdown",
   "metadata": {
    "_uuid": "237bbe4e4509c9491ce165e3599c432b979d7b90"
   },
   "source": [
    "<a id=\"13\"></a> <br>\n",
    "## 5-3 Colab notebook\n",
    "**Colaboratory** is a research tool for machine learning education and research. It’s a Jupyter notebook environment that requires no setup to use.\n",
    "### 5-3-1 What browsers are supported?\n",
    "Colaboratory works with most major browsers, and is most thoroughly tested with desktop versions of Chrome and Firefox.\n",
    "### 5-3-2 Is it free to use?\n",
    "Yes. Colaboratory is a research project that is free to use.\n",
    "### 5-3-3 What is the difference between Jupyter and Colaboratory?\n",
    "Jupyter is the open source project on which Colaboratory is based. Colaboratory allows you to use and share Jupyter notebooks with others without having to download, install, or run anything on your own computer other than a browser."
   ]
  },
  {
   "cell_type": "markdown",
   "metadata": {
    "_uuid": "fbedcae8843986c2139f18dad4b5f313e6535ac5"
   },
   "source": [
    "<a id=\"15\"></a> <br>\n",
    "## 5-5 Loading Packages\n",
    "In this kernel we are using the following packages:"
   ]
  },
  {
   "cell_type": "markdown",
   "metadata": {
    "_uuid": "61f49281fdd8592b44c0867225f57e6fce36342c"
   },
   "source": [
    " <img src=\"http://s8.picofile.com/file/8338227868/packages.png\">"
   ]
  },
  {
   "cell_type": "code",
   "execution_count": 1,
   "metadata": {
    "_cell_guid": "b1076dfc-b9ad-4769-8c92-a6c4dae69d19",
    "_uuid": "8f2839f25d086af736a60e9eeb907d3b93b6e0e5"
   },
   "outputs": [
    {
     "ename": "ModuleNotFoundError",
     "evalue": "No module named 'lightgbm'",
     "output_type": "error",
     "traceback": [
      "\u001b[1;31m---------------------------------------------------------------------------\u001b[0m",
      "\u001b[1;31mModuleNotFoundError\u001b[0m                       Traceback (most recent call last)",
      "\u001b[1;32m<ipython-input-1-b58de690c234>\u001b[0m in \u001b[0;36m<module>\u001b[1;34m()\u001b[0m\n\u001b[0;32m     12\u001b[0m \u001b[1;32mimport\u001b[0m \u001b[0mmatplotlib\u001b[0m\u001b[1;33m.\u001b[0m\u001b[0mpyplot\u001b[0m \u001b[1;32mas\u001b[0m \u001b[0mplt\u001b[0m\u001b[1;33m\u001b[0m\u001b[0m\n\u001b[0;32m     13\u001b[0m \u001b[1;32mimport\u001b[0m \u001b[0mscipy\u001b[0m\u001b[1;33m.\u001b[0m\u001b[0mstats\u001b[0m \u001b[1;32mas\u001b[0m \u001b[0mstats\u001b[0m\u001b[1;33m\u001b[0m\u001b[0m\n\u001b[1;32m---> 14\u001b[1;33m \u001b[1;32mimport\u001b[0m \u001b[0mlightgbm\u001b[0m \u001b[1;32mas\u001b[0m \u001b[0mlgb\u001b[0m\u001b[1;33m\u001b[0m\u001b[0m\n\u001b[0m\u001b[0;32m     15\u001b[0m \u001b[1;32mimport\u001b[0m \u001b[0mseaborn\u001b[0m \u001b[1;32mas\u001b[0m \u001b[0msns\u001b[0m\u001b[1;33m\u001b[0m\u001b[0m\n\u001b[0;32m     16\u001b[0m \u001b[1;32mimport\u001b[0m \u001b[0mxgboost\u001b[0m \u001b[1;32mas\u001b[0m \u001b[0mxgb\u001b[0m\u001b[1;33m\u001b[0m\u001b[0m\n",
      "\u001b[1;31mModuleNotFoundError\u001b[0m: No module named 'lightgbm'"
     ]
    }
   ],
   "source": [
    "from sklearn.base import BaseEstimator, TransformerMixin, RegressorMixin, clone\n",
    "from sklearn.linear_model import ElasticNet, Lasso,  BayesianRidge, LassoLarsIC\n",
    "from sklearn.ensemble import RandomForestRegressor,  GradientBoostingRegressor\n",
    "from sklearn.model_selection import KFold, cross_val_score, train_test_split\n",
    "from sklearn.metrics import classification_report\n",
    "from sklearn.metrics import mean_squared_error\n",
    "from sklearn.preprocessing import RobustScaler\n",
    "from sklearn.metrics import confusion_matrix\n",
    "from sklearn.kernel_ridge import KernelRidge\n",
    "from sklearn.pipeline import make_pipeline\n",
    "from sklearn.metrics import accuracy_score\n",
    "import matplotlib.pyplot as plt\n",
    "import scipy.stats as stats\n",
    "import lightgbm as lgb\n",
    "import seaborn as sns\n",
    "import xgboost as xgb\n",
    "import pandas as pd\n",
    "import numpy as np\n",
    "import matplotlib\n",
    "import warnings\n",
    "import sklearn\n",
    "import scipy\n",
    "import numpy\n",
    "import json\n",
    "import sys\n",
    "import csv\n",
    "import os\n",
    "\n",
    "\n",
    "\n",
    "\n",
    "print('matplotlib: {}'.format(matplotlib.__version__))\n",
    "print('sklearn: {}'.format(sklearn.__version__))\n",
    "print('scipy: {}'.format(scipy.__version__))\n",
    "print('seaborn: {}'.format(sns.__version__))\n",
    "print('pandas: {}'.format(pd.__version__))\n",
    "print('numpy: {}'.format(np.__version__))\n",
    "print('Python: {}'.format(sys.version))\n",
    "\n",
    "\n",
    "\n",
    "\n",
    "\n",
    "\n",
    "\n",
    "\n",
    "\n",
    "warnings.filterwarnings('ignore')\n",
    "sns.set(color_codes=True)\n",
    "plt.style.available\n",
    "%matplotlib inline\n",
    "%precision 2"
   ]
  },
  {
   "cell_type": "markdown",
   "metadata": {
    "_uuid": "04ff1a533119d589baee777c21194a951168b0c7"
   },
   "source": [
    "<a id=\"16\"></a> <br>\n",
    "## 6- Exploratory Data Analysis(EDA)\n",
    " In this section, you'll learn how to use graphical and numerical techniques to begin uncovering the structure of your data. \n",
    " \n",
    "* Which variables suggest interesting relationships?\n",
    "* Which observations are unusual?\n",
    "\n",
    "By the end of the section, you'll be able to answer these questions and more, while generating graphics that are both insightful and beautiful.  then We will review analytical and statistical operations:\n",
    "\n",
    "*   5-1 Data Collection\n",
    "*   5-2 Visualization\n",
    "*   5-3 Data Preprocessing\n",
    "*   5-4 Data Cleaning\n",
    "<img src=\"http://s9.picofile.com/file/8338476134/EDA.png\">"
   ]
  },
  {
   "cell_type": "markdown",
   "metadata": {
    "_uuid": "cedecea930b278f86292367cc28d2996a235a169"
   },
   "source": [
    "<a id=\"17\"></a> <br>\n",
    "## 6-1 Data Collection\n",
    "**Data collection** is the process of gathering and measuring data, information or any variables of interest in a standardized and established manner that enables the collector to answer or test hypothesis and evaluate outcomes of the particular collection.[techopedia]\n",
    "\n",
    "\n",
    "> **<< Note >>**\n",
    "\n",
    "> **The rows being the samples and the columns being attributes**\n"
   ]
  },
  {
   "cell_type": "code",
   "execution_count": null,
   "metadata": {
    "_uuid": "9269ae851b744856bce56840637030a16a5877e1",
    "collapsed": true
   },
   "outputs": [],
   "source": [
    "# import Dataset to play with it\n",
    "train = pd.read_csv('../input/train.csv')\n",
    "test= pd.read_csv('../input/test.csv')\n",
    "\n"
   ]
  },
  {
   "cell_type": "markdown",
   "metadata": {
    "_uuid": "58ed9c838069f54de5cf90b20a774c3e236149b3"
   },
   "source": [
    "**<< Note 1 >>**\n",
    "\n",
    "* Each row is an observation (also known as : sample, example, instance, record)\n",
    "* Each column is a feature (also known as: Predictor, attribute, Independent Variable, input, regressor, Covariate)"
   ]
  },
  {
   "cell_type": "markdown",
   "metadata": {
    "_uuid": "7b5fd1034cd591ebd29fba1c77d342ec2b408d13"
   },
   "source": [
    "After loading the data via **pandas**, we should checkout what the content is, description and via the following:"
   ]
  },
  {
   "cell_type": "code",
   "execution_count": null,
   "metadata": {
    "_uuid": "edd043f8feb76cfe51b79785302ca4936ceb7b51",
    "collapsed": true
   },
   "outputs": [],
   "source": [
    "type(train)"
   ]
  },
  {
   "cell_type": "code",
   "execution_count": null,
   "metadata": {
    "_uuid": "84d5501bec1fe4bed4f3566522749ff419acd5d3",
    "collapsed": true
   },
   "outputs": [],
   "source": [
    "type(test)"
   ]
  },
  {
   "cell_type": "markdown",
   "metadata": {
    "_uuid": "581b90e6a869c3793472c7edd59091d6d6342fb2"
   },
   "source": [
    "## 6-1-1 Statistical Summary\n",
    "1- Dimensions of the dataset.\n",
    "\n",
    "2- Peek at the data itself.\n",
    "\n",
    "3- Statistical summary of all attributes.\n",
    "\n",
    "4- Breakdown of the data by the class variable.[7]\n",
    "\n",
    "Don’t worry, each look at the data is **one command**. These are useful commands that you can use again and again on future projects."
   ]
  },
  {
   "cell_type": "code",
   "execution_count": null,
   "metadata": {
    "_uuid": "4b45251be7be77333051fe738639104ae1005fa5",
    "collapsed": true
   },
   "outputs": [],
   "source": [
    "# shape\n",
    "print(train.shape)"
   ]
  },
  {
   "cell_type": "markdown",
   "metadata": {
    "_uuid": "52ab14a7403315e4b9181c5578cd53ffe8cefbfd"
   },
   "source": [
    "Train has one column more than test why?   (yes ==>> **target value**)"
   ]
  },
  {
   "cell_type": "code",
   "execution_count": null,
   "metadata": {
    "_uuid": "145f02fa22f216885a59cddee46dc08550426fa9",
    "collapsed": true
   },
   "outputs": [],
   "source": [
    "# shape\n",
    "print(test.shape)"
   ]
  },
  {
   "cell_type": "code",
   "execution_count": null,
   "metadata": {
    "_uuid": "c64e9d3e0bf394fb833de94a0fc5c34f69fce24c",
    "collapsed": true
   },
   "outputs": [],
   "source": [
    "#columns*rows\n",
    "train.size"
   ]
  },
  {
   "cell_type": "code",
   "execution_count": null,
   "metadata": {
    "_uuid": "ab9191a7ba134d3d69112b43ea87a76f7678e7ef",
    "collapsed": true
   },
   "outputs": [],
   "source": [
    "#columns*rows\n",
    "test.size"
   ]
  },
  {
   "cell_type": "markdown",
   "metadata": {
    "_uuid": "277e1998627d6a3ddeff4e913a6b8c3dc81dec96"
   },
   "source": [
    "\n",
    "We can get a quick idea of how many instances (rows) and how many attributes (columns) the data contains with the shape property.\n",
    "\n",
    "**You should see 1460 instances and  81  attributes for train and 1459 instances and  80 attributes for test**"
   ]
  },
  {
   "cell_type": "markdown",
   "metadata": {
    "_uuid": "95ee5e18f97bc410df1e54ac74e32cdff2b30755"
   },
   "source": [
    "for getting some information about the dataset you can use **info()** command"
   ]
  },
  {
   "cell_type": "code",
   "execution_count": null,
   "metadata": {
    "_uuid": "ca840f02925751186f87e402fcb5f637ab1ab8a0",
    "collapsed": true
   },
   "outputs": [],
   "source": [
    "print(train.info())"
   ]
  },
  {
   "cell_type": "markdown",
   "metadata": {
    "_uuid": "b8c23c40749ebc193b55facb2267b488c3a5c7e5"
   },
   "source": [
    "**if you want see the type of data and unique value of it you use following script**"
   ]
  },
  {
   "cell_type": "code",
   "execution_count": null,
   "metadata": {
    "_uuid": "4b90d165a007106ae99809ad28edd75bd8153dd8",
    "collapsed": true
   },
   "outputs": [],
   "source": [
    "train['Fence'].unique()"
   ]
  },
  {
   "cell_type": "code",
   "execution_count": null,
   "metadata": {
    "_uuid": "8accfbddf2228274ad412c3ad3be72b4107d6f6c",
    "collapsed": true
   },
   "outputs": [],
   "source": [
    "train[\"HouseStyle\"].value_counts()\n"
   ]
  },
  {
   "cell_type": "markdown",
   "metadata": {
    "_uuid": "ae08b544a8d4202c7d0a47ec83d685e81c91a66d"
   },
   "source": [
    "**to check the first 5 rows of the data set, we can use head(5).**"
   ]
  },
  {
   "cell_type": "code",
   "execution_count": null,
   "metadata": {
    "_uuid": "5899889553c3416b27e93efceddb106eb71f5156",
    "collapsed": true
   },
   "outputs": [],
   "source": [
    "train.head(5) "
   ]
  },
  {
   "cell_type": "markdown",
   "metadata": {
    "_uuid": "1150b6ac3d82562aefd5c64f9f01accee5eace4d"
   },
   "source": [
    "**to check out last 5 row of the data set, we use tail() function**"
   ]
  },
  {
   "cell_type": "code",
   "execution_count": null,
   "metadata": {
    "_uuid": "79339442ff1f53ae1054d794337b9541295d3305",
    "collapsed": true
   },
   "outputs": [],
   "source": [
    "train.tail() "
   ]
  },
  {
   "cell_type": "markdown",
   "metadata": {
    "_uuid": "2c288c3dc8656a872a8529368812546e434d3a22"
   },
   "source": [
    "to pop up 5 random rows from the data set, we can use **sample(5)**  function"
   ]
  },
  {
   "cell_type": "code",
   "execution_count": null,
   "metadata": {
    "_uuid": "09eb18d1fcf4a2b73ba2f5ddce99dfa521681140",
    "collapsed": true
   },
   "outputs": [],
   "source": [
    "train.sample(5) "
   ]
  },
  {
   "cell_type": "markdown",
   "metadata": {
    "_uuid": "c8a1cc36348c68fb98d6cb28aa9919fc5f2892f3"
   },
   "source": [
    "to give a statistical summary about the dataset, we can use **describe()"
   ]
  },
  {
   "cell_type": "code",
   "execution_count": null,
   "metadata": {
    "_uuid": "3f7211e96627b9a81c5b620a9ba61446f7719ea3",
    "collapsed": true
   },
   "outputs": [],
   "source": [
    "train.describe() "
   ]
  },
  {
   "cell_type": "markdown",
   "metadata": {
    "_uuid": "031d16ca235837e889734635ecff193be64b27a4"
   },
   "source": [
    "to check out how many null info are on the dataset, we can use **isnull().sum()"
   ]
  },
  {
   "cell_type": "code",
   "execution_count": null,
   "metadata": {
    "_uuid": "8807b632269e2fa734ad26e8513199400fc09a83",
    "collapsed": true
   },
   "outputs": [],
   "source": [
    "train.isnull().sum()"
   ]
  },
  {
   "cell_type": "code",
   "execution_count": null,
   "metadata": {
    "_uuid": "446e6162e16325213047ff31454813455668b574",
    "collapsed": true
   },
   "outputs": [],
   "source": [
    "train.groupby('SaleType').count()"
   ]
  },
  {
   "cell_type": "markdown",
   "metadata": {
    "_uuid": "c2f1eaf0b6dfdc7cc4dace04614e99ed56425d00"
   },
   "source": [
    "to print dataset **columns**, we can use columns atribute"
   ]
  },
  {
   "cell_type": "code",
   "execution_count": null,
   "metadata": {
    "_uuid": "909d61b33ec06249d0842e6115597bbacf21163f",
    "collapsed": true
   },
   "outputs": [],
   "source": [
    "train.columns"
   ]
  },
  {
   "cell_type": "code",
   "execution_count": null,
   "metadata": {
    "_uuid": "f19c27cec4367f8b176d2609f12d22afbd7e1e0d",
    "collapsed": true
   },
   "outputs": [],
   "source": [
    "type((train.columns))"
   ]
  },
  {
   "cell_type": "markdown",
   "metadata": {
    "_uuid": "22bc5d81c18275ee1fb082c0adbb7a65bdbec4cc"
   },
   "source": [
    "**<< Note 2 >>**\n",
    "in pandas's data frame you can perform some query such as \"where\""
   ]
  },
  {
   "cell_type": "code",
   "execution_count": null,
   "metadata": {
    "_uuid": "8b545ff7e8367c5ab9c1db710f70b6936ac8422c",
    "collapsed": true
   },
   "outputs": [],
   "source": [
    "train[train['SalePrice']>700000]"
   ]
  },
  {
   "cell_type": "markdown",
   "metadata": {
    "_uuid": "a13559aa5f98e70d9cab54c714ac299a63b737f4"
   },
   "source": [
    "## 6-1-2Select numberical features and categorical features"
   ]
  },
  {
   "cell_type": "code",
   "execution_count": null,
   "metadata": {
    "_uuid": "55651cdda3b812451c08875762b9708155f53ce2",
    "collapsed": true
   },
   "outputs": [],
   "source": [
    "numberic_features=train.select_dtypes(include=[np.number])\n",
    "categorical_features=train.select_dtypes(include=[np.object])"
   ]
  },
  {
   "cell_type": "markdown",
   "metadata": {
    "_uuid": "85d23b77d7fb1bb3e000535dc2475aca5862f242"
   },
   "source": [
    "## 6-1-3 Target Value Analysis\n",
    "as you know **SalePrice** is our target value that we should predict it then now we take a look at it"
   ]
  },
  {
   "cell_type": "code",
   "execution_count": null,
   "metadata": {
    "_uuid": "2d891ad744dec398f3920ce0fd9458c00671ed7b",
    "collapsed": true
   },
   "outputs": [],
   "source": [
    "\n",
    "train['SalePrice'].describe()"
   ]
  },
  {
   "cell_type": "markdown",
   "metadata": {
    "_uuid": "09f6d29aa3a63f1d0d3033e7ef6b544fd8035889"
   },
   "source": [
    "Flexibly plot a univariate distribution of observations.\n",
    "\n"
   ]
  },
  {
   "cell_type": "code",
   "execution_count": null,
   "metadata": {
    "_uuid": "c7dceaddee057bb78a930c519221d3ad43eed360",
    "collapsed": true
   },
   "outputs": [],
   "source": [
    "sns.distplot(train['SalePrice']);\n"
   ]
  },
  {
   "cell_type": "code",
   "execution_count": null,
   "metadata": {
    "_uuid": "a4fe40f3d3f57bf1369c7b9847c5c05ec704c0b6",
    "collapsed": true
   },
   "outputs": [],
   "source": [
    "#skewness and kurtosis\n",
    "print(\"Skewness: %f\" % train['SalePrice'].skew())\n",
    "print(\"Kurtosis: %f\" % train['SalePrice'].kurt())"
   ]
  },
  {
   "cell_type": "markdown",
   "metadata": {
    "_uuid": "055772bd170aa8018aabd85106b76675802c33b3"
   },
   "source": [
    "<a id=\"18\"></a> <br>\n",
    "## 6-2 Visualization\n",
    "**Data visualization**  is the presentation of data in a pictorial or graphical format. It enables decision makers to see analytics presented visually, so they can grasp difficult concepts or identify new patterns.\n",
    "\n",
    "With interactive visualization, you can take the concept a step further by using technology to drill down into charts and graphs for more detail, interactively changing what data you see and how it’s processed.[SAS]\n",
    "\n",
    " In this section I show you  **11 plots** with **matplotlib** and **seaborn** that is listed in the blew picture:\n",
    " <img src=\"http://s8.picofile.com/file/8338475500/visualization.jpg\" />\n"
   ]
  },
  {
   "cell_type": "markdown",
   "metadata": {
    "_uuid": "b0014a7a52e714996bc443981c853095926d20e5"
   },
   "source": [
    "<a id=\"19\"></a> <br>\n",
    "### 6-2-1 Scatter plot\n",
    "\n",
    "Scatter plot Purpose To identify the type of relationship (if any) between two quantitative variables\n",
    "\n",
    "\n"
   ]
  },
  {
   "cell_type": "code",
   "execution_count": null,
   "metadata": {
    "_uuid": "af099546eed64ebc796403d4139cb4c977c27b03",
    "collapsed": true
   },
   "outputs": [],
   "source": [
    "# Modify the graph above by assigning each species an individual color.\n",
    "columns = ['SalePrice','OverallQual','TotalBsmtSF','GrLivArea','GarageArea','FullBath','YearBuilt','YearRemodAdd']\n",
    "sns.FacetGrid(train[columns], hue=\"OverallQual\", size=5) \\\n",
    "   .map(plt.scatter, \"OverallQual\", \"SalePrice\") \\\n",
    "   .add_legend()\n",
    "plt.show()"
   ]
  },
  {
   "cell_type": "markdown",
   "metadata": {
    "_uuid": "d1c7b62b5f8cba427bca13049256365141655372"
   },
   "source": [
    "<a id=\"20\"></a> <br>\n",
    "### 6-2-2 Box\n",
    "In descriptive statistics, a **box plot** or boxplot is a method for graphically depicting groups of numerical data through their quartiles. Box plots may also have lines extending vertically from the boxes (whiskers) indicating variability outside the upper and lower quartiles, hence the terms box-and-whisker plot and box-and-whisker diagram.[wikipedia]"
   ]
  },
  {
   "cell_type": "code",
   "execution_count": null,
   "metadata": {
    "_uuid": "0655e20f31a582f861d391308a088778cd7eaae9",
    "collapsed": true
   },
   "outputs": [],
   "source": [
    "train[columns].plot(y='SalePrice',x='OverallQual',kind='box')\n",
    "plt.figure()\n",
    "#This gives us a much clearer idea of the distribution of the input attributes:\n"
   ]
  },
  {
   "cell_type": "code",
   "execution_count": null,
   "metadata": {
    "_uuid": "ad8774475841cac4bb2559b64b70252b360a9aa8",
    "collapsed": true
   },
   "outputs": [],
   "source": [
    "data = pd.concat([train['SalePrice'], train['OverallQual']], axis=1)\n",
    "f, ax = plt.subplots(figsize=(12, 8))\n",
    "fig = sns.boxplot(x='OverallQual', y=\"SalePrice\", data=data)\n"
   ]
  },
  {
   "cell_type": "code",
   "execution_count": null,
   "metadata": {
    "_uuid": "f7f6426fd44bcd77d35a5fdbc8c4fc4f18d991ad",
    "collapsed": true
   },
   "outputs": [],
   "source": [
    "# To plot the species data using a box plot:\n",
    "\n",
    "sns.boxplot(x=\"OverallQual\", y=\"SalePrice\", data=train[columns] )\n",
    "plt.show()"
   ]
  },
  {
   "cell_type": "code",
   "execution_count": null,
   "metadata": {
    "_uuid": "7b193e4aa7e6fb337d3f65c334849094addd097a",
    "collapsed": true
   },
   "outputs": [],
   "source": [
    "# Use Seaborn's striplot to add data points on top of the box plot \n",
    "# Insert jitter=True so that the data points remain scattered and not piled into a verticle line.\n",
    "# Assign ax to each axis, so that each plot is ontop of the previous axis. \n",
    "\n",
    "ax= sns.boxplot(x=\"OverallQual\", y=\"SalePrice\", data=train[columns])\n",
    "ax= sns.stripplot(x=\"OverallQual\", y=\"SalePrice\", data=train[columns], jitter=True, edgecolor=\"gray\")\n",
    "plt.show()"
   ]
  },
  {
   "cell_type": "code",
   "execution_count": null,
   "metadata": {
    "_uuid": "56adbafa89c117118621c72b3b7cb19edc21298e",
    "collapsed": true
   },
   "outputs": [],
   "source": [
    "# Tweek the plot above to change fill and border color color using ax.artists.\n",
    "# Assing ax.artists a variable name, and insert the box number into the corresponding brackets\n",
    "\n",
    "ax= sns.boxplot(x=\"OverallQual\", y=\"SalePrice\", data=train[columns])\n",
    "ax= sns.stripplot(x=\"OverallQual\", y=\"SalePrice\", data=train[columns], jitter=True, edgecolor=\"gray\")\n",
    "\n",
    "boxtwo = ax.artists[2]\n",
    "boxtwo.set_facecolor('red')\n",
    "boxtwo.set_edgecolor('black')\n",
    "boxthree=ax.artists[1]\n",
    "boxthree.set_facecolor('yellow')\n",
    "boxthree.set_edgecolor('black')\n",
    "\n",
    "plt.show()"
   ]
  },
  {
   "cell_type": "markdown",
   "metadata": {
    "_uuid": "743a92c3c2fff1a1f99845518247f7971ad18b7c"
   },
   "source": [
    "<a id=\"21\"></a> <br>\n",
    "### 6-2-3 Histogram\n",
    "We can also create a **histogram** of each input variable to get an idea of the distribution.\n",
    "\n"
   ]
  },
  {
   "cell_type": "code",
   "execution_count": null,
   "metadata": {
    "_uuid": "5da0520ed3e738ee8814b2d91843ed4acec2b6e6",
    "collapsed": true
   },
   "outputs": [],
   "source": [
    "# histograms\n",
    "train.hist(figsize=(15,20))\n",
    "plt.figure()"
   ]
  },
  {
   "cell_type": "markdown",
   "metadata": {
    "_uuid": "b4e3de19781686010c6038f0e3076eb678398169"
   },
   "source": [
    "It looks like perhaps two of the input variables have a Gaussian distribution. This is useful to note as we can use algorithms that can exploit this assumption.\n",
    "\n"
   ]
  },
  {
   "cell_type": "markdown",
   "metadata": {
    "_uuid": "3bbff56707484f88625eb8ef309b712ba03f939e"
   },
   "source": [
    "<a id=\"22\"></a> <br>\n",
    "### 6-2-4 Multivariate Plots\n",
    "Now we can look at the interactions between the variables.\n",
    "\n",
    "First, let’s look at scatterplots of all pairs of attributes. This can be helpful to spot structured relationships between input variables."
   ]
  },
  {
   "cell_type": "code",
   "execution_count": null,
   "metadata": {
    "_uuid": "eb4e5d117e4ef40d7668632f42130206a5537bd0",
    "collapsed": true
   },
   "outputs": [],
   "source": [
    "\n",
    "# scatter plot matrix\n",
    "pd.plotting.scatter_matrix(train[columns],figsize=(10,10))\n",
    "plt.figure()"
   ]
  },
  {
   "cell_type": "markdown",
   "metadata": {
    "_uuid": "de7fea7986071fafbe0b93933e3beda445cbe373"
   },
   "source": [
    "Note the diagonal grouping of some pairs of attributes. This suggests a high correlation and a predictable relationship."
   ]
  },
  {
   "cell_type": "markdown",
   "metadata": {
    "_uuid": "e0f696ec021ec99c1058a62e22c8b73082fe6fa7"
   },
   "source": [
    "<a id=\"23\"></a> <br>\n",
    "### 6-2-5 violinplots"
   ]
  },
  {
   "cell_type": "code",
   "execution_count": null,
   "metadata": {
    "_uuid": "e352d2f8340609adf4bf6718b1d2ecee0fa730b5",
    "collapsed": true
   },
   "outputs": [],
   "source": [
    "# violinplots on petal-length for each species\n",
    "sns.violinplot(data=train,x=\"Functional\", y=\"SalePrice\")"
   ]
  },
  {
   "cell_type": "markdown",
   "metadata": {
    "_uuid": "0ed35bceb87051e56316d35a630334518e8b8c64"
   },
   "source": [
    "<a id=\"24\"></a> <br>\n",
    "### 6-2-6 pairplot"
   ]
  },
  {
   "cell_type": "code",
   "execution_count": null,
   "metadata": {
    "_uuid": "b80350add6f9a742f10bffc4b497562f8bebea95",
    "collapsed": true
   },
   "outputs": [],
   "source": [
    "# Using seaborn pairplot to see the bivariate relation between each pair of features\n",
    "sns.set()\n",
    "columns = ['SalePrice','OverallQual','TotalBsmtSF','GrLivArea','GarageArea','FullBath','YearBuilt','YearRemodAdd']\n",
    "sns.pairplot(train[columns],size = 2 ,kind ='scatter')\n",
    "plt.show()"
   ]
  },
  {
   "cell_type": "markdown",
   "metadata": {
    "_uuid": "fb187bcc0fb51e53f8abe9e3952c6ae5c3177411"
   },
   "source": [
    "From the plot, we can see that the species setosa is separataed from the other two across all feature combinations\n",
    "\n",
    "We can also replace the histograms shown in the diagonal of the pairplot by kde."
   ]
  },
  {
   "cell_type": "markdown",
   "metadata": {
    "_uuid": "2544d3c2dd34a360d295019d8cb597c7ef8f66bc"
   },
   "source": [
    "<a id=\"25\"></a> <br>\n",
    "###  6-2-7 kdeplot"
   ]
  },
  {
   "cell_type": "code",
   "execution_count": null,
   "metadata": {
    "_uuid": "1d07222b89303b386e9e824d52cc73c045667f25",
    "collapsed": true
   },
   "outputs": [],
   "source": [
    "# seaborn's kdeplot, plots univariate or bivariate density estimates.\n",
    "#Size can be changed by tweeking the value used\n",
    "columns = ['SalePrice','OverallQual','TotalBsmtSF','GrLivArea','GarageArea','FullBath','YearBuilt','YearRemodAdd']\n",
    "sns.FacetGrid(train[columns], hue=\"OverallQual\", size=5).map(sns.kdeplot, \"YearBuilt\").add_legend()\n",
    "plt.show()"
   ]
  },
  {
   "cell_type": "markdown",
   "metadata": {
    "_uuid": "560d8e8f17bacefaf8c3855a9648f26b82fdee9b"
   },
   "source": [
    "<a id=\"26\"></a> <br>\n",
    "### 6-2-8 jointplot"
   ]
  },
  {
   "cell_type": "code",
   "execution_count": null,
   "metadata": {
    "_uuid": "4adb4da16ea61e0f1a12bc9925dfbbaaa81e0360",
    "collapsed": true
   },
   "outputs": [],
   "source": [
    "# Use seaborn's jointplot to make a hexagonal bin plot\n",
    "#Set desired size and ratio and choose a color.\n",
    "columns = ['SalePrice','OverallQual','TotalBsmtSF','GrLivArea','GarageArea','FullBath','YearBuilt','YearRemodAdd']\n",
    "sns.jointplot(x=\"OverallQual\", y=\"SalePrice\", data=train[columns], size=10,ratio=10, kind='hex',color='green')\n",
    "plt.show()"
   ]
  },
  {
   "cell_type": "markdown",
   "metadata": {
    "_uuid": "3768e31e990bfe4c2ff7b45087fbba85e0560d00"
   },
   "source": [
    "<a id=\"27\"></a> <br>\n",
    "###  6-2-9 andrews_curves"
   ]
  },
  {
   "cell_type": "code",
   "execution_count": null,
   "metadata": {
    "_uuid": "937b6856d109001db14a3ac99568df45efbe1070",
    "collapsed": true
   },
   "outputs": [],
   "source": [
    "#In Pandas use Andrews Curves to plot and visualize data structure.\n",
    "#Each multivariate observation is transformed into a curve and represents the coefficients of a Fourier series.\n",
    "#This useful for detecting outliers in times series data.\n",
    "#Use colormap to change the color of the curves\n",
    "columns = ['SalePrice','OverallQual','TotalBsmtSF','GrLivArea','GarageArea','FullBath','YearBuilt','YearRemodAdd']\n",
    "from pandas.tools.plotting import andrews_curves\n",
    "andrews_curves(train[columns], \"YearBuilt\",colormap='rainbow')\n",
    "plt.show()"
   ]
  },
  {
   "cell_type": "code",
   "execution_count": null,
   "metadata": {
    "_uuid": "263eaa9d2bfad0f8c68b6e8e874bdc11a6e802ac",
    "collapsed": true
   },
   "outputs": [],
   "source": [
    "# we will use seaborn jointplot shows bivariate scatterplots and univariate histograms with Kernel density \n",
    "# estimation in the same figure\n",
    "columns = ['SalePrice','OverallQual','TotalBsmtSF','GrLivArea','GarageArea','FullBath','YearBuilt','YearRemodAdd']\n",
    "sns.jointplot(x=\"SalePrice\", y=\"YearBuilt\", data=train[columns], size=6, kind='kde', color='#800000', space=0)"
   ]
  },
  {
   "cell_type": "markdown",
   "metadata": {
    "_uuid": "8e73333289d17dd648b7b2112d7fe3fe7ea444d0"
   },
   "source": [
    "<a id=\"28\"></a> <br>\n",
    "### 6-2-10 Heatmap"
   ]
  },
  {
   "cell_type": "code",
   "execution_count": null,
   "metadata": {
    "_uuid": "3100955ca9dc61ac7d435e9c064d10d06f26afa7",
    "collapsed": true
   },
   "outputs": [],
   "source": [
    "plt.figure(figsize=(7,4)) \n",
    "columns = ['SalePrice','OverallQual','TotalBsmtSF','GrLivArea','GarageArea','FullBath','YearBuilt','YearRemodAdd']\n",
    "sns.heatmap(train[columns].corr(),annot=True,cmap='cubehelix_r') #draws  heatmap with input as the correlation matrix calculted by(iris.corr())\n",
    "plt.show()"
   ]
  },
  {
   "cell_type": "markdown",
   "metadata": {
    "_uuid": "b81dbdd5dd8cb92a86b1f7114ffb6f088458a527"
   },
   "source": [
    "<a id=\"29\"></a> <br>\n",
    "### 6-2-11 radviz"
   ]
  },
  {
   "cell_type": "code",
   "execution_count": null,
   "metadata": {
    "_uuid": "33fed3027d7242227d612a84bbb42b012356091b",
    "collapsed": true
   },
   "outputs": [],
   "source": [
    "# A final multivariate visualization technique pandas has is radviz\n",
    "# Which puts each feature as a point on a 2D plane, and then simulates\n",
    "# having each sample attached to those points through a spring weighted\n",
    "# by the relative value for that feature\n",
    "from pandas.tools.plotting import radviz\n",
    "columns = ['SalePrice','OverallQual','TotalBsmtSF','GrLivArea','GarageArea','FullBath','YearBuilt','YearRemodAdd']\n",
    "radviz(train[columns], \"OverallQual\")"
   ]
  },
  {
   "cell_type": "markdown",
   "metadata": {
    "_uuid": "5af51158a5bc342947c553392e3d1665ac24ba62"
   },
   "source": [
    "### 6-2-12 Conclusion\n",
    "we have used Python to apply data visualization tools to the House prices dataset. Color and size changes were made to the data points in scatterplots. I changed the border and fill color of the boxplot and violin, respectively."
   ]
  },
  {
   "cell_type": "markdown",
   "metadata": {
    "_uuid": "91dda1f631cf4ed362162501aaaac6d19cfd6cc7"
   },
   "source": [
    "<a id=\"30\"></a> <br>\n",
    "## 6-3 Data Preprocessing\n",
    "**Data preprocessing** refers to the transformations applied to our data before feeding it to the algorithm.\n",
    " \n",
    "Data Preprocessing is a technique that is used to convert the raw data into a clean data set. In other words, whenever the data is gathered from different sources it is collected in raw format which is not feasible for the analysis.\n",
    "there are plenty of steps for data preprocessing and we just listed some of them :\n",
    "* removing Target column (id)\n",
    "* Sampling (without replacement)\n",
    "* Making part of iris unbalanced and balancing (with undersampling and SMOTE)\n",
    "* Introducing missing values and treating them (replacing by average values)\n",
    "* Noise filtering\n",
    "* Data discretization\n",
    "* Normalization and standardization\n",
    "* PCA analysis\n",
    "* Feature selection (filter, embedded, wrapper)"
   ]
  },
  {
   "cell_type": "markdown",
   "metadata": {
    "_uuid": "1f8ae3a438f0fd7104974daa57b42b29f079ec45"
   },
   "source": [
    "## 6-3-1 removing ID"
   ]
  },
  {
   "cell_type": "code",
   "execution_count": null,
   "metadata": {
    "_uuid": "3487e242b0c6ef83c93730c1b8eab2e231fff269",
    "collapsed": true
   },
   "outputs": [],
   "source": [
    "# Save Id and drop it\n",
    "train_ID=train['Id']\n",
    "test_ID=test['Id']\n",
    "train.drop('Id',axis=1,inplace=True)\n",
    "test.drop('Id',axis=1,inplace=True)"
   ]
  },
  {
   "cell_type": "markdown",
   "metadata": {
    "_uuid": "1756ad43f10e017c7d3af76f640b8c948a65fe02"
   },
   "source": [
    "## 6-3-2 Noise filtering"
   ]
  },
  {
   "cell_type": "code",
   "execution_count": null,
   "metadata": {
    "_uuid": "1c92b300076a232321c915857d8a7c5685a97865",
    "collapsed": true
   },
   "outputs": [],
   "source": [
    "fig, ax = plt.subplots()\n",
    "ax.scatter(x = train['GrLivArea'], y = train['SalePrice'])\n",
    "plt.ylabel('SalePrice', fontsize=13)\n",
    "plt.xlabel('GrLivArea', fontsize=13)\n",
    "plt.show()"
   ]
  },
  {
   "cell_type": "markdown",
   "metadata": {
    "_uuid": "90f79293f40d0558bad91352ff70482bdfb77041"
   },
   "source": [
    "We can see at the bottom right two with extremely large GrLivArea that are of a low price. These values are huge oultliers. Therefore, we can safely delete them."
   ]
  },
  {
   "cell_type": "code",
   "execution_count": null,
   "metadata": {
    "_uuid": "def67c793d2e365f07e90b190ae8211c0afd886c",
    "collapsed": true
   },
   "outputs": [],
   "source": [
    "\n",
    "#Deleting outliers\n",
    "train = train.drop(train[(train['GrLivArea']>4000) & (train['SalePrice']<300000)].index)\n",
    "\n",
    "#Check the graphic again\n",
    "fig, ax = plt.subplots()\n",
    "ax.scatter(train['GrLivArea'], train['SalePrice'])\n",
    "plt.ylabel('SalePrice', fontsize=13)\n",
    "plt.xlabel('GrLivArea', fontsize=13)\n",
    "plt.show()"
   ]
  },
  {
   "cell_type": "markdown",
   "metadata": {
    "_uuid": "183141b0c586eaf07701807196a48f792e10e374"
   },
   "source": [
    "## 6-3-3 Target Variable\n",
    "SalePrice is the variable we need to predict. So let's do some analysis on this variable first."
   ]
  },
  {
   "cell_type": "code",
   "execution_count": null,
   "metadata": {
    "_uuid": "8e9795273f50c45e5e582bf8af30facfb9087b8f",
    "collapsed": true
   },
   "outputs": [],
   "source": [
    "sns.distplot(train['SalePrice'] , fit=norm);\n",
    "\n",
    "# Get the fitted parameters used by the function\n",
    "(mu, sigma) = norm.fit(train['SalePrice'])\n",
    "print( '\\n mu = {:.2f} and sigma = {:.2f}\\n'.format(mu, sigma))\n",
    "\n",
    "#Now plot the distribution\n",
    "plt.legend(['Normal dist. ($\\mu=$ {:.2f} and $\\sigma=$ {:.2f} )'.format(mu, sigma)],\n",
    "            loc='best')\n",
    "plt.ylabel('Frequency')\n",
    "plt.title('SalePrice distribution')\n",
    "\n",
    "#Get also the QQ-plot\n",
    "fig = plt.figure()\n",
    "res = stats.probplot(train['SalePrice'], plot=plt)\n",
    "plt.show()"
   ]
  },
  {
   "cell_type": "markdown",
   "metadata": {
    "_uuid": "1440b564cfa5fdd2059d684af5b1b1711658d929"
   },
   "source": [
    "The target variable is right skewed. As (linear) models love normally distributed data , we need to transform this variable and make it more normally distributed.\n"
   ]
  },
  {
   "cell_type": "markdown",
   "metadata": {
    "_uuid": "ce6f0b8460a6ed6e0170885e25cb8a9c15199746"
   },
   "source": [
    "Log-transformation of the target variable"
   ]
  },
  {
   "cell_type": "code",
   "execution_count": null,
   "metadata": {
    "_uuid": "e13d451c514c35bf24c6bbd634bf6162cd0bfbed",
    "collapsed": true
   },
   "outputs": [],
   "source": [
    "#We use the numpy fuction log1p which  applies log(1+x) to all elements of the column\n",
    "train[\"SalePrice\"] = np.log1p(train[\"SalePrice\"])\n",
    "\n",
    "#Check the new distribution \n",
    "sns.distplot(train['SalePrice'] , fit=norm);\n",
    "\n",
    "# Get the fitted parameters used by the function\n",
    "(mu, sigma) = norm.fit(train['SalePrice'])\n",
    "print( '\\n mu = {:.2f} and sigma = {:.2f}\\n'.format(mu, sigma))\n",
    "\n",
    "#Now plot the distribution\n",
    "plt.legend(['Normal dist. ($\\mu=$ {:.2f} and $\\sigma=$ {:.2f} )'.format(mu, sigma)],\n",
    "            loc='best')\n",
    "plt.ylabel('Frequency')\n",
    "plt.title('SalePrice distribution')\n",
    "\n",
    "#Get also the QQ-plot\n",
    "fig = plt.figure()\n",
    "res = stats.probplot(train['SalePrice'], plot=plt)\n",
    "plt.show()"
   ]
  },
  {
   "cell_type": "markdown",
   "metadata": {
    "_uuid": "46e63104bd10792804b7605f4aed43ef1b8b87b4"
   },
   "source": [
    "The skew seems now corrected and the data appears more normally distributed."
   ]
  },
  {
   "cell_type": "markdown",
   "metadata": {
    "_uuid": "247350c88346f931d7987b4aacc3b55cae11d092"
   },
   "source": [
    "## 6-3-4 Feature selection\n",
    "let's first concatenate the train and test data in the same dataframe"
   ]
  },
  {
   "cell_type": "code",
   "execution_count": null,
   "metadata": {
    "_uuid": "5584b10a50a819f6e5eb684efa01e69536d6e910",
    "collapsed": true
   },
   "outputs": [],
   "source": [
    "ntrain = train.shape[0]\n",
    "ntest = test.shape[0]\n",
    "y_train = train.SalePrice.values\n",
    "all_data = pd.concat((train, test)).reset_index(drop=True)\n",
    "all_data.drop(['SalePrice'], axis=1, inplace=True)\n",
    "print(\"all_data size is : {}\".format(all_data.shape))"
   ]
  },
  {
   "cell_type": "markdown",
   "metadata": {
    "_uuid": "58270b83638976da66c1aef6ba97017e01ef6dde"
   },
   "source": [
    "<a id=\"31\"></a> <br>\n",
    "## 6-4 Data Cleaning\n",
    "When dealing with real-world data, dirty data is the norm rather than the exception. We continuously need to predict correct values, impute missing ones, and find links between various data artefacts such as schemas and records. We need to stop treating data cleaning as a piecemeal exercise (resolving different types of errors in isolation), and instead leverage all signals and resources (such as constraints, available statistics, and dictionaries) to accurately predict corrective actions.\n",
    "\n",
    "The primary goal of data cleaning is to detect and remove errors and anomalies to increase the value of data in analytics and decision making. While it has been the focus of many researchers for several years, individual problems have been addressed separately. These include missing value imputation, outliers detection, transformations, integrity constraints violations detection and repair, consistent query answering, deduplication, and many other related problems such as profiling and constraints mining.[8]"
   ]
  },
  {
   "cell_type": "code",
   "execution_count": null,
   "metadata": {
    "_uuid": "4f37f9033ce20f8f60455419038b643e227f4eb7",
    "collapsed": true
   },
   "outputs": [],
   "source": [
    "all_data_na = (all_data.isnull().sum() / len(all_data)) * 100\n",
    "all_data_na = all_data_na.drop(all_data_na[all_data_na == 0].index).sort_values(ascending=False)[:30]\n",
    "missing_data = pd.DataFrame({'Missing Ratio' :all_data_na})\n",
    "missing_data"
   ]
  },
  {
   "cell_type": "code",
   "execution_count": null,
   "metadata": {
    "_uuid": "bcf718ed92a7d790f04ebcb5fe493109ad9a0d2d",
    "collapsed": true
   },
   "outputs": [],
   "source": [
    "f, ax = plt.subplots(figsize=(15, 12))\n",
    "plt.xticks(rotation='90')\n",
    "sns.barplot(x=all_data_na.index, y=all_data_na)\n",
    "plt.xlabel('Features', fontsize=15)\n",
    "plt.ylabel('Percent of missing values', fontsize=15)\n",
    "plt.title('Percent missing data by feature', fontsize=15)"
   ]
  },
  {
   "cell_type": "code",
   "execution_count": null,
   "metadata": {
    "_uuid": "4014c62255af00a70ab63c1b03d5a510e88f3126",
    "collapsed": true
   },
   "outputs": [],
   "source": [
    "#Correlation map to see how features are correlated with SalePrice\n",
    "corrmat = train.corr()\n",
    "plt.subplots(figsize=(12,9))\n",
    "sns.heatmap(corrmat, vmax=0.9, square=True)"
   ]
  },
  {
   "cell_type": "markdown",
   "metadata": {
    "_uuid": "acebef6cacdb2d377f8c66e15781021b4dd623bd"
   },
   "source": [
    "## 6-4-1 Imputing missing values"
   ]
  },
  {
   "cell_type": "markdown",
   "metadata": {
    "_uuid": "f4d374f64c50c29c534e286798033fd4586c929a"
   },
   "source": [
    "We impute them by proceeding sequentially through features with missing values\n",
    "\n",
    "PoolQC : data description says NA means \"No Pool\". That make sense, given the huge ratio of missing value (+99%) and majority of houses have no Pool at all in general. "
   ]
  },
  {
   "cell_type": "code",
   "execution_count": null,
   "metadata": {
    "_uuid": "cb7ae811b45fd5288639b3933a7cb76117d9e918",
    "collapsed": true
   },
   "outputs": [],
   "source": [
    "all_data[\"PoolQC\"] = all_data[\"PoolQC\"].fillna(\"None\")"
   ]
  },
  {
   "cell_type": "markdown",
   "metadata": {
    "_uuid": "a698f185d0bc10d50adad032d5aa4df6e971fc42"
   },
   "source": [
    "MiscFeature : data description says NA means \"no misc feature\""
   ]
  },
  {
   "cell_type": "code",
   "execution_count": null,
   "metadata": {
    "_uuid": "63c20b645a9b8885ed0421ab0fbe4f7e762c1e80",
    "collapsed": true
   },
   "outputs": [],
   "source": [
    "all_data[\"MiscFeature\"] = all_data[\"MiscFeature\"].fillna(\"None\")"
   ]
  },
  {
   "cell_type": "markdown",
   "metadata": {
    "_uuid": "6d8cdccabe631475c6911ff2ddacb0c8c0bb099d"
   },
   "source": [
    "Alley : data description says NA means \"no alley access\""
   ]
  },
  {
   "cell_type": "code",
   "execution_count": null,
   "metadata": {
    "_uuid": "d513b815317dfa095ca32de6158fe34e3d8b630a",
    "collapsed": true
   },
   "outputs": [],
   "source": [
    "all_data[\"Alley\"] = all_data[\"Alley\"].fillna(\"None\")"
   ]
  },
  {
   "cell_type": "markdown",
   "metadata": {
    "_uuid": "8df3b4eafb903e8961425d37f5a956f748454049"
   },
   "source": [
    "Fence : data description says NA means \"no fence\""
   ]
  },
  {
   "cell_type": "code",
   "execution_count": null,
   "metadata": {
    "_uuid": "ca718d780d6523767d8721ffe2a5776f3318c21e",
    "collapsed": true
   },
   "outputs": [],
   "source": [
    "all_data[\"Fence\"] = all_data[\"Fence\"].fillna(\"None\")"
   ]
  },
  {
   "cell_type": "markdown",
   "metadata": {
    "_uuid": "c00dc7a0fee9e12df4b679ce15acc0b68bdb9269"
   },
   "source": [
    "FireplaceQu : data description says NA means \"no fireplace\""
   ]
  },
  {
   "cell_type": "markdown",
   "metadata": {
    "_uuid": "d264ec2eda6739c5468edec9524fbc88545ab023"
   },
   "source": [
    "LotFrontage : Since the area of each street connected to the house property most likely have a similar area to other houses in its neighborhood , we can fill in missing values by the median LotFrontage of the neighborhood."
   ]
  },
  {
   "cell_type": "code",
   "execution_count": null,
   "metadata": {
    "_uuid": "043fd8463ce9e9ce9a204c36793cacb0bc9e7da7",
    "collapsed": true
   },
   "outputs": [],
   "source": [
    "#Group by neighborhood and fill in missing value by the median LotFrontage of all the neighborhood\n",
    "all_data[\"LotFrontage\"] = all_data.groupby(\"Neighborhood\")[\"LotFrontage\"].transform(\n",
    "    lambda x: x.fillna(x.median()))"
   ]
  },
  {
   "cell_type": "markdown",
   "metadata": {
    "_uuid": "a3de6297ee4b1c8aa191f371b7c4439c44dc6d17"
   },
   "source": [
    "GarageType, GarageFinish, GarageQual and GarageCond : Replacing missing data with None"
   ]
  },
  {
   "cell_type": "code",
   "execution_count": null,
   "metadata": {
    "_uuid": "9e891f0e9f74e1c73df4eb4b6998ca0145ef2cf4",
    "collapsed": true
   },
   "outputs": [],
   "source": [
    "for col in ('GarageType', 'GarageFinish', 'GarageQual', 'GarageCond'):\n",
    "    all_data[col] = all_data[col].fillna('None')"
   ]
  },
  {
   "cell_type": "markdown",
   "metadata": {
    "_uuid": "e187c90a90d3ef19ad70502804cbf5793811dea6"
   },
   "source": [
    "GarageYrBlt, GarageArea and GarageCars : Replacing missing data with 0 (Since No garage = no cars in such garage.)"
   ]
  },
  {
   "cell_type": "code",
   "execution_count": null,
   "metadata": {
    "_uuid": "2299992e24897468a34357457ced6e0a48ed4af9",
    "collapsed": true
   },
   "outputs": [],
   "source": [
    "for col in ('GarageYrBlt', 'GarageArea', 'GarageCars'):\n",
    "    all_data[col] = all_data[col].fillna(0)"
   ]
  },
  {
   "cell_type": "markdown",
   "metadata": {
    "_uuid": "a318163bdbb74721c4312ca50f07dc707be96421"
   },
   "source": [
    "BsmtFinSF1, BsmtFinSF2, BsmtUnfSF, TotalBsmtSF, BsmtFullBath and BsmtHalfBath : missing values are likely zero for having no basement"
   ]
  },
  {
   "cell_type": "code",
   "execution_count": null,
   "metadata": {
    "_uuid": "626a388694a294d0e4a7196c30b78bcdcd76049f",
    "collapsed": true
   },
   "outputs": [],
   "source": [
    "for col in ('BsmtFinSF1', 'BsmtFinSF2', 'BsmtUnfSF','TotalBsmtSF', 'BsmtFullBath', 'BsmtHalfBath'):\n",
    "    all_data[col] = all_data[col].fillna(0)"
   ]
  },
  {
   "cell_type": "markdown",
   "metadata": {
    "_uuid": "f162adc10c70d93058400053d931117ada886366"
   },
   "source": [
    "BsmtQual, BsmtCond, BsmtExposure, BsmtFinType1 and BsmtFinType2 : For all these categorical basement-related features, NaN means that there is no basement."
   ]
  },
  {
   "cell_type": "code",
   "execution_count": null,
   "metadata": {
    "_uuid": "3837452a0ff8a13fa9a586460de324990cde7681",
    "collapsed": true
   },
   "outputs": [],
   "source": [
    "for col in ('BsmtQual', 'BsmtCond', 'BsmtExposure', 'BsmtFinType1', 'BsmtFinType2'):\n",
    "    all_data[col] = all_data[col].fillna('None')"
   ]
  },
  {
   "cell_type": "markdown",
   "metadata": {
    "_uuid": "aeb4b6ba3f5dc22d2611fdef40bf013689adf6cc"
   },
   "source": [
    "MasVnrArea and MasVnrType : NA most likely means no masonry veneer for these houses. We can fill 0 for the area and None for the type. "
   ]
  },
  {
   "cell_type": "code",
   "execution_count": null,
   "metadata": {
    "_uuid": "5943301908ccdbc320559eebe0fa039768f483b0",
    "collapsed": true
   },
   "outputs": [],
   "source": [
    "all_data[\"MasVnrType\"] = all_data[\"MasVnrType\"].fillna(\"None\")\n",
    "all_data[\"MasVnrArea\"] = all_data[\"MasVnrArea\"].fillna(0)"
   ]
  },
  {
   "cell_type": "markdown",
   "metadata": {
    "_uuid": "6995b801412966716240fedc95de48ff0fc30324"
   },
   "source": [
    "MSZoning (The general zoning classification) : 'RL' is by far the most common value. So we can fill in missing values with 'RL'"
   ]
  },
  {
   "cell_type": "code",
   "execution_count": null,
   "metadata": {
    "_uuid": "a3e9c2f67447bdc7bcff9cede08347e57ccd6fc8",
    "collapsed": true
   },
   "outputs": [],
   "source": [
    "all_data['MSZoning'] = all_data['MSZoning'].fillna(all_data['MSZoning'].mode()[0])"
   ]
  },
  {
   "cell_type": "markdown",
   "metadata": {
    "_uuid": "bbed86b2cc9be58ccc55717819609fa942959c8a"
   },
   "source": [
    "Functional : data description says NA means typical"
   ]
  },
  {
   "cell_type": "code",
   "execution_count": null,
   "metadata": {
    "_uuid": "27c02c0abbb923d886107d3c905b7445c6be002a",
    "collapsed": true
   },
   "outputs": [],
   "source": [
    "all_data[\"Functional\"] = all_data[\"Functional\"].fillna(\"Typ\")"
   ]
  },
  {
   "cell_type": "markdown",
   "metadata": {
    "_uuid": "04a55104d376a28fea4b2c266fa85a93e98ffa09"
   },
   "source": [
    "Electrical : It has one NA value. Since this feature has mostly 'SBrkr', we can set that for the missing value."
   ]
  },
  {
   "cell_type": "code",
   "execution_count": null,
   "metadata": {
    "_uuid": "c3c3270ff082eece4143bc770fc8e47f4d170868",
    "collapsed": true
   },
   "outputs": [],
   "source": [
    "all_data['Electrical'] = all_data['Electrical'].fillna(all_data['Electrical'].mode()[0])"
   ]
  },
  {
   "cell_type": "markdown",
   "metadata": {
    "_uuid": "a606a784f53964b90f8d24378c29f5260d81d203"
   },
   "source": [
    "KitchenQual: Only one NA value, and same as Electrical, we set 'TA' (which is the most frequent) for the missing value in KitchenQual."
   ]
  },
  {
   "cell_type": "code",
   "execution_count": null,
   "metadata": {
    "_uuid": "b43419729c3a74bcfde64130805fbbd339d80ca0",
    "collapsed": true
   },
   "outputs": [],
   "source": [
    "all_data['KitchenQual'] = all_data['KitchenQual'].fillna(all_data['KitchenQual'].mode()[0])"
   ]
  },
  {
   "cell_type": "markdown",
   "metadata": {
    "_uuid": "c712c673465bed46fca7a5b66d35413fb1ba90d9"
   },
   "source": [
    "Exterior1st and Exterior2nd : Again Both Exterior 1 & 2 have only one missing value. We will just substitute in the most common string"
   ]
  },
  {
   "cell_type": "code",
   "execution_count": null,
   "metadata": {
    "_uuid": "7546dfbcafcc04f672654be1408eeb554882aef2",
    "collapsed": true
   },
   "outputs": [],
   "source": [
    "\n",
    "all_data['Exterior1st'] = all_data['Exterior1st'].fillna(all_data['Exterior1st'].mode()[0])\n",
    "all_data['Exterior2nd'] = all_data['Exterior2nd'].fillna(all_data['Exterior2nd'].mode()[0])"
   ]
  },
  {
   "cell_type": "markdown",
   "metadata": {
    "_uuid": "c05bad0b6eedbf0ff8942f7662f2749e704e3c5a"
   },
   "source": [
    "SaleType : Fill in again with most frequent which is \"WD\""
   ]
  },
  {
   "cell_type": "code",
   "execution_count": null,
   "metadata": {
    "_uuid": "60cb2511b84686d61d82a89b3915357eef08cafb",
    "collapsed": true
   },
   "outputs": [],
   "source": [
    "all_data['SaleType'] = all_data['SaleType'].fillna(all_data['SaleType'].mode()[0])"
   ]
  },
  {
   "cell_type": "markdown",
   "metadata": {
    "_uuid": "d4ab263a1327656d5e9cb8d93f05e4438b1447b6"
   },
   "source": [
    "MSSubClass : Na most likely means No building class. We can replace missing values with None"
   ]
  },
  {
   "cell_type": "code",
   "execution_count": null,
   "metadata": {
    "_uuid": "91b32f390489a4bf3002d45a170437cadc0799b6",
    "collapsed": true
   },
   "outputs": [],
   "source": [
    "all_data['MSSubClass'] = all_data['MSSubClass'].fillna(\"None\")"
   ]
  },
  {
   "cell_type": "markdown",
   "metadata": {
    "_uuid": "fe8d0d7661c16446e9b3f8064ce9a7c9347833c2"
   },
   "source": [
    "FireplaceQu : data description says NA means \"no fireplace\""
   ]
  },
  {
   "cell_type": "code",
   "execution_count": null,
   "metadata": {
    "_uuid": "a641088283207c78240be69c4df50b3199bbc4ac",
    "collapsed": true
   },
   "outputs": [],
   "source": [
    "all_data[\"FireplaceQu\"] = all_data[\"FireplaceQu\"].fillna(\"None\")"
   ]
  },
  {
   "cell_type": "markdown",
   "metadata": {
    "_uuid": "d51b94089f5c8fd6275a3baf26b0af3b71304053"
   },
   "source": [
    "Is there any remaining missing value ?"
   ]
  },
  {
   "cell_type": "code",
   "execution_count": null,
   "metadata": {
    "_uuid": "58706fd1525df4334577d7e5c8e502dd745af232",
    "collapsed": true
   },
   "outputs": [],
   "source": [
    "#Check remaining missing values if any \n",
    "all_data_na = (all_data.isnull().sum() / len(all_data)) * 100\n",
    "all_data_na = all_data_na.drop(all_data_na[all_data_na == 0].index).sort_values(ascending=False)\n",
    "missing_data = pd.DataFrame({'Missing Ratio' :all_data_na})\n",
    "missing_data.head()"
   ]
  },
  {
   "cell_type": "markdown",
   "metadata": {
    "_uuid": "d41b34f251f139dc614e88b13b6732ff89ab2a7e"
   },
   "source": [
    "## 6-4-2 More features engeneering\n",
    "\n",
    "Transforming some numerical variables that are really categorical"
   ]
  },
  {
   "cell_type": "code",
   "execution_count": null,
   "metadata": {
    "_uuid": "62cb0d2fdf9f7c43145549f95b50fd3a72645db9",
    "collapsed": true
   },
   "outputs": [],
   "source": [
    "#MSSubClass=The building class\n",
    "all_data['MSSubClass'] = all_data['MSSubClass'].apply(str)\n",
    "\n",
    "\n",
    "#Changing OverallCond into a categorical variable\n",
    "all_data['OverallCond'] = all_data['OverallCond'].astype(str)\n",
    "\n",
    "\n",
    "#Year and month sold are transformed into categorical features.\n",
    "all_data['YrSold'] = all_data['YrSold'].astype(str)\n",
    "all_data['MoSold'] = all_data['MoSold'].astype(str)"
   ]
  },
  {
   "cell_type": "markdown",
   "metadata": {
    "_uuid": "8596a40b16f3b2ff70f89e9bf6c96d37d597c0bb"
   },
   "source": [
    "Label Encoding some categorical variables that may contain information in their ordering set"
   ]
  },
  {
   "cell_type": "code",
   "execution_count": null,
   "metadata": {
    "_uuid": "76dfc757e71406abfe2a46c6f9b5d851833173c8",
    "collapsed": true
   },
   "outputs": [],
   "source": [
    "from sklearn.preprocessing import LabelEncoder\n",
    "cols = ('FireplaceQu', 'BsmtQual', 'BsmtCond', 'GarageQual', 'GarageCond', \n",
    "        'ExterQual', 'ExterCond','HeatingQC', 'PoolQC', 'KitchenQual', 'BsmtFinType1', \n",
    "        'BsmtFinType2', 'Functional', 'Fence', 'BsmtExposure', 'GarageFinish', 'LandSlope',\n",
    "        'LotShape', 'PavedDrive', 'Street', 'Alley', 'CentralAir', 'MSSubClass', 'OverallCond', \n",
    "        'YrSold', 'MoSold')\n",
    "# process columns, apply LabelEncoder to categorical features\n",
    "for c in cols:\n",
    "    lbl = LabelEncoder() \n",
    "    lbl.fit(list(all_data[c].values)) \n",
    "    all_data[c] = lbl.transform(list(all_data[c].values))\n",
    "\n",
    "# shape        \n",
    "print('Shape all_data: {}'.format(all_data.shape))"
   ]
  },
  {
   "cell_type": "markdown",
   "metadata": {
    "_uuid": "1323b314e494ba961bd78e1d37b66fd1b04b4848"
   },
   "source": [
    "Adding one more important feature"
   ]
  },
  {
   "cell_type": "markdown",
   "metadata": {
    "_uuid": "f06c3bf68559168f99b3e6d986555957871621c5"
   },
   "source": [
    "Since area related features are very important to determine house prices, we add one more feature which is the total area of basement, first and second floor areas of each house"
   ]
  },
  {
   "cell_type": "code",
   "execution_count": null,
   "metadata": {
    "_uuid": "e798f483a3a92e37830225d644a9656e34dcd5d6",
    "collapsed": true
   },
   "outputs": [],
   "source": [
    "# Adding total sqfootage feature \n",
    "all_data['TotalSF'] = all_data['TotalBsmtSF'] + all_data['1stFlrSF'] + all_data['2ndFlrSF']"
   ]
  },
  {
   "cell_type": "markdown",
   "metadata": {
    "_uuid": "fd970993e0049ba8f5b5e245e59667a264a1c2ab"
   },
   "source": [
    "## 6-5 Skewed features"
   ]
  },
  {
   "cell_type": "code",
   "execution_count": null,
   "metadata": {
    "_uuid": "e6084e1a715325e47d110bb30aed9b662b205444",
    "collapsed": true
   },
   "outputs": [],
   "source": [
    "numeric_feats = all_data.dtypes[all_data.dtypes != \"object\"].index\n",
    "\n",
    "# Check the skew of all numerical features\n",
    "skewed_feats = all_data[numeric_feats].apply(lambda x: skew(x.dropna())).sort_values(ascending=False)\n",
    "print(\"\\nSkew in numerical features: \\n\")\n",
    "skewness = pd.DataFrame({'Skew' :skewed_feats})\n",
    "skewness.head(10)"
   ]
  },
  {
   "cell_type": "markdown",
   "metadata": {
    "_uuid": "dfa3549f9cca97eb1d11cc398b24f4c2f3bcc6e1"
   },
   "source": [
    "Box Cox Transformation of (highly) skewed features\n",
    "\n",
    "We use the scipy function boxcox1p which computes the Box-Cox transformation of \n",
    "1+x\n",
    "1+x\n",
    ".\n",
    "Note that setting \n",
    "λ=0\n",
    "λ=0\n",
    "is equivalent to log1p used above for the target variable.\n",
    "See this page for more details on Box Cox Transformation as well as the scipy function's page"
   ]
  },
  {
   "cell_type": "code",
   "execution_count": null,
   "metadata": {
    "_uuid": "cf4f2d574d61654a43bd5d51e905a43bee1a8a63",
    "collapsed": true
   },
   "outputs": [],
   "source": [
    "skewness = skewness[abs(skewness) > 0.75]\n",
    "print(\"There are {} skewed numerical features to Box Cox transform\".format(skewness.shape[0]))\n",
    "\n",
    "from scipy.special import boxcox1p\n",
    "skewed_features = skewness.index\n",
    "lam = 0.15\n",
    "for feat in skewed_features:\n",
    "    #all_data[feat] += 1\n",
    "    all_data[feat] = boxcox1p(all_data[feat], lam)\n",
    "    \n",
    "#all_data[skewed_features] = np.log1p(all_data[skewed_features])"
   ]
  },
  {
   "cell_type": "markdown",
   "metadata": {
    "_uuid": "8a5c392b2a526da1525c8a932371b09e7d17e72d"
   },
   "source": [
    "Getting dummy categorical features"
   ]
  },
  {
   "cell_type": "code",
   "execution_count": null,
   "metadata": {
    "_uuid": "289cf5d2051cdc8ecaf6c65526ddb57ca400a28a",
    "collapsed": true
   },
   "outputs": [],
   "source": [
    "all_data = pd.get_dummies(all_data)\n",
    "print(all_data.shape)"
   ]
  },
  {
   "cell_type": "markdown",
   "metadata": {
    "_uuid": "bf69a592a66f806c9609d5d541701f8f94248531"
   },
   "source": [
    "Getting the new train and test sets."
   ]
  },
  {
   "cell_type": "code",
   "execution_count": null,
   "metadata": {
    "_uuid": "cc337f5030c5e10f798ea070e9db87ad205a219a",
    "collapsed": true
   },
   "outputs": [],
   "source": [
    "train = all_data[:ntrain]\n",
    "test = all_data[ntrain:]"
   ]
  },
  {
   "cell_type": "markdown",
   "metadata": {
    "_uuid": "72cc7c7b60a33390a85b16bc34e3b9e424650cdd"
   },
   "source": [
    "<a id=\"32\"></a> <br>\n",
    "## 7- Model Deployment\n",
    "In this section have been applied more than **20 learning algorithms** that play an important rule in your experiences and improve your knowledge in case of ML technique.\n",
    "\n",
    "> **<< Note 3 >>** : The results shown here may be slightly different for your analysis because, for example, the neural network algorithms use random number generators for fixing the initial value of the weights (starting points) of the neural networks, which often result in obtaining slightly different (local minima) solutions each time you run the analysis. Also note that changing the seed for the random number generator used to create the train, test, and validation samples can change your results."
   ]
  },
  {
   "cell_type": "markdown",
   "metadata": {
    "_uuid": "b2a62eeab41a10c4dce5a17d519325e19b928c1c"
   },
   "source": [
    "## 7-1 Define a cross validation strategy"
   ]
  },
  {
   "cell_type": "markdown",
   "metadata": {
    "_uuid": "361202ee3e187da7bdfedfe0a22ccee402fc5529"
   },
   "source": [
    "We use the cross_val_score function of **Sklearn**. However this function has not a shuffle attribut, we add then one line of code, in order to shuffle the dataset prior to cross-validation"
   ]
  },
  {
   "cell_type": "code",
   "execution_count": null,
   "metadata": {
    "_uuid": "8c0a3918a57cf88a08f7784d71271bdda86a8b1a",
    "collapsed": true
   },
   "outputs": [],
   "source": [
    "\n",
    "#Validation function\n",
    "n_folds = 5\n",
    "\n",
    "def rmsle_cv(model):\n",
    "    kf = KFold(n_folds, shuffle=True, random_state=42).get_n_splits(train.values)\n",
    "    rmse= np.sqrt(-cross_val_score(model, train.values, y_train, scoring=\"neg_mean_squared_error\", cv = kf))\n",
    "    return(rmse)"
   ]
  },
  {
   "cell_type": "markdown",
   "metadata": {
    "_uuid": "8750d7d0b0d3c19b43fc27beec890055022635df"
   },
   "source": [
    "## 7-2 Model"
   ]
  },
  {
   "cell_type": "markdown",
   "metadata": {
    "_uuid": "23e42d6030d979df79b81ea58da45effc31f0d4d"
   },
   "source": [
    "## 7-2-1 LASSO Regression \n",
    "In statistics and machine learning, lasso (least absolute shrinkage and selection operator)  is a **regression analysis** method that performs both variable selection and regularization in order to enhance the prediction accuracy and interpretability of the statistical model it produces.  Lasso was originally formulated for least squares models and this simple case reveals a substantial amount about the behavior of the estimator, including its relationship to ridge regression and best subset selection and the connections between lasso coefficient estimates and so-called soft thresholding. It also reveals that (like standard linear regression) the coefficient estimates need not be unique if covariates are collinear.\n",
    "\n",
    "This model may be very sensitive to outliers. So we need to made it more robust on them. For that we use the sklearn's Robustscaler() method on pipeline"
   ]
  },
  {
   "cell_type": "code",
   "execution_count": null,
   "metadata": {
    "_uuid": "a0edc93fc6298e4696eaab1430467b8262037f2a",
    "collapsed": true
   },
   "outputs": [],
   "source": [
    "lasso = make_pipeline(RobustScaler(), Lasso(alpha =0.0005, random_state=1))"
   ]
  },
  {
   "cell_type": "markdown",
   "metadata": {
    "_uuid": "8273cf674a3d93d8d5edc8849ea0ca81d80c453c"
   },
   "source": [
    "## 7-2-2 Elastic Net Regression \n",
    "the elastic net is a regularized regression method that linearly combines the L1 and L2 penalties of the lasso and ridge methods.\n",
    "again made robust to outliers"
   ]
  },
  {
   "cell_type": "code",
   "execution_count": null,
   "metadata": {
    "_uuid": "36065ec44f99bffc2e61904d444918a3f8d15104",
    "collapsed": true
   },
   "outputs": [],
   "source": [
    "ENet = make_pipeline(RobustScaler(), ElasticNet(alpha=0.0005, l1_ratio=.9, random_state=3))"
   ]
  },
  {
   "cell_type": "markdown",
   "metadata": {
    "_uuid": "8e92dca79ca3291620ba7d07de3c9879030aee90"
   },
   "source": [
    "## 7-2-3 Kernel Ridge Regression \n",
    "Kernel ridge regression (KRR)  combines Ridge Regression (linear least squares with l2-norm regularization) with the kernel trick. It thus learns a linear function in the space induced by the respective kernel and the data. For non-linear kernels, this corresponds to a non-linear function in the original space."
   ]
  },
  {
   "cell_type": "code",
   "execution_count": null,
   "metadata": {
    "_uuid": "d9242099a3f75392efe6dfe23a06f8b472bbf6b0",
    "collapsed": true
   },
   "outputs": [],
   "source": [
    "KRR = KernelRidge(alpha=0.6, kernel='polynomial', degree=2, coef0=2.5)"
   ]
  },
  {
   "cell_type": "markdown",
   "metadata": {
    "_uuid": "0b2f64974b200069e751844090c32044a2ab08aa"
   },
   "source": [
    "## 7-2-4 Gradient Boosting Regression\n",
    "With huber loss that makes it robust to outliers"
   ]
  },
  {
   "cell_type": "code",
   "execution_count": null,
   "metadata": {
    "_uuid": "29f20b79c32d0083171671453399bf28f0677ce2",
    "collapsed": true
   },
   "outputs": [],
   "source": [
    "GBoost = GradientBoostingRegressor(n_estimators=3000, learning_rate=0.05,\n",
    "                                   max_depth=4, max_features='sqrt',\n",
    "                                   min_samples_leaf=15, min_samples_split=10, \n",
    "                                   loss='huber', random_state =5)"
   ]
  },
  {
   "cell_type": "markdown",
   "metadata": {
    "_uuid": "55a55a6cfca539fd9a8b110ab6143a09e4962972"
   },
   "source": [
    "## 7-2-5 XGBoost"
   ]
  },
  {
   "cell_type": "code",
   "execution_count": null,
   "metadata": {
    "_uuid": "64f958e8e7e3c4880eb23a7f654f405a3dbff163",
    "collapsed": true
   },
   "outputs": [],
   "source": [
    "model_xgb = xgb.XGBRegressor(colsample_bytree=0.4603, gamma=0.0468, \n",
    "                             learning_rate=0.05, max_depth=3, \n",
    "                             min_child_weight=1.7817, n_estimators=2200,\n",
    "                             reg_alpha=0.4640, reg_lambda=0.8571,\n",
    "                             subsample=0.5213, silent=1,\n",
    "                             random_state =7, nthread = -1)"
   ]
  },
  {
   "cell_type": "markdown",
   "metadata": {
    "_uuid": "1fef6eaaf1cf5780ec134cf3e1017750e500dfc7"
   },
   "source": [
    "## 7-2-6 LightGBM"
   ]
  },
  {
   "cell_type": "code",
   "execution_count": null,
   "metadata": {
    "_uuid": "b08f8cb3235e85ccd962dd26c030ca38c6c1ddb5",
    "collapsed": true
   },
   "outputs": [],
   "source": [
    "model_lgb = lgb.LGBMRegressor(objective='regression',num_leaves=5,\n",
    "                              learning_rate=0.05, n_estimators=720,\n",
    "                              max_bin = 55, bagging_fraction = 0.8,\n",
    "                              bagging_freq = 5, feature_fraction = 0.2319,\n",
    "                              feature_fraction_seed=9, bagging_seed=9,\n",
    "                              min_data_in_leaf =6, min_sum_hessian_in_leaf = 11)"
   ]
  },
  {
   "cell_type": "markdown",
   "metadata": {
    "_uuid": "4811c189f288825b7a3d4a73589bea75966ad6f8"
   },
   "source": [
    "\n",
    "## 7-2-7 Base models scores\n",
    "\n",
    "Let's see how these base models perform on the data by evaluating the cross-validation rmsle error"
   ]
  },
  {
   "cell_type": "code",
   "execution_count": null,
   "metadata": {
    "_uuid": "432cfefb8fd0481baa754ee142900da68e1242a1",
    "collapsed": true
   },
   "outputs": [],
   "source": [
    "score = rmsle_cv(lasso)\n",
    "print(\"\\nLasso score: {:.4f} ({:.4f})\\n\".format(score.mean(), score.std()))"
   ]
  },
  {
   "cell_type": "code",
   "execution_count": null,
   "metadata": {
    "_uuid": "1a1b1442588e8027fa3e322336d429a6bd0a0698",
    "collapsed": true
   },
   "outputs": [],
   "source": [
    "score = rmsle_cv(ENet)\n",
    "print(\"ElasticNet score: {:.4f} ({:.4f})\\n\".format(score.mean(), score.std()))"
   ]
  },
  {
   "cell_type": "code",
   "execution_count": null,
   "metadata": {
    "_uuid": "2733161f02721cfedf6fb87b75c4ec02373c11b6",
    "collapsed": true
   },
   "outputs": [],
   "source": [
    "score = rmsle_cv(KRR)\n",
    "print(\"Kernel Ridge score: {:.4f} ({:.4f})\\n\".format(score.mean(), score.std()))"
   ]
  },
  {
   "cell_type": "code",
   "execution_count": null,
   "metadata": {
    "_uuid": "f47e020b29a530a41262d1e303c30db37b73adc7",
    "collapsed": true
   },
   "outputs": [],
   "source": [
    "score = rmsle_cv(GBoost)\n",
    "print(\"Gradient Boosting score: {:.4f} ({:.4f})\\n\".format(score.mean(), score.std()))"
   ]
  },
  {
   "cell_type": "code",
   "execution_count": null,
   "metadata": {
    "_uuid": "c2a6b8ae0750efcb82851f5bca5fe1052e105a78",
    "collapsed": true
   },
   "outputs": [],
   "source": [
    "score = rmsle_cv(model_xgb)\n",
    "print(\"Xgboost score: {:.4f} ({:.4f})\\n\".format(score.mean(), score.std()))"
   ]
  },
  {
   "cell_type": "code",
   "execution_count": null,
   "metadata": {
    "_uuid": "abc7b6c547d39419c7b61924cfea81b55f353a4c",
    "collapsed": true
   },
   "outputs": [],
   "source": [
    "score = rmsle_cv(model_lgb)\n",
    "print(\"LGBM score: {:.4f} ({:.4f})\\n\" .format(score.mean(), score.std()))"
   ]
  },
  {
   "cell_type": "markdown",
   "metadata": {
    "_uuid": "feb056008e799b45ef4c34b09a288606c9587857"
   },
   "source": [
    "Stacking models"
   ]
  },
  {
   "cell_type": "markdown",
   "metadata": {
    "_uuid": "bce02781b5a07d0fdd1e5f53908d2d7c7410b1a3"
   },
   "source": [
    "Simplest Stacking approach : Averaging base models\n",
    "We begin with this simple approach of averaging base models. We build a new class to extend scikit-learn with our model and also to laverage encapsulation and code reuse (inheritance)"
   ]
  },
  {
   "cell_type": "markdown",
   "metadata": {
    "_uuid": "47bf4fec6d2a926a04b3eecfe4c32a092b00037f"
   },
   "source": [
    "Averaged base models class"
   ]
  },
  {
   "cell_type": "code",
   "execution_count": null,
   "metadata": {
    "_uuid": "45f494d3bf43f0e7d54802555ea75e52c3d71a0b",
    "collapsed": true
   },
   "outputs": [],
   "source": [
    "\n",
    "class AveragingModels(BaseEstimator, RegressorMixin, TransformerMixin):\n",
    "    def __init__(self, models):\n",
    "        self.models = models\n",
    "        \n",
    "    # we define clones of the original models to fit the data in\n",
    "    def fit(self, X, y):\n",
    "        self.models_ = [clone(x) for x in self.models]\n",
    "        \n",
    "        # Train cloned base models\n",
    "        for model in self.models_:\n",
    "            model.fit(X, y)\n",
    "\n",
    "        return self\n",
    "    \n",
    "    #Now we do the predictions for cloned models and average them\n",
    "    def predict(self, X):\n",
    "        predictions = np.column_stack([\n",
    "            model.predict(X) for model in self.models_\n",
    "        ])\n",
    "        return np.mean(predictions, axis=1) "
   ]
  },
  {
   "cell_type": "markdown",
   "metadata": {
    "_uuid": "0a277422c2957a9780a723b78d3420dded90876c"
   },
   "source": [
    "\n",
    "Averaged base models score\n",
    "\n",
    "We just average four models here ENet, GBoost, KRR and lasso. Of course we could easily add more models in the mix."
   ]
  },
  {
   "cell_type": "code",
   "execution_count": null,
   "metadata": {
    "_uuid": "219536044d4f86e0787854c61e47fe066d7c74ea",
    "collapsed": true
   },
   "outputs": [],
   "source": [
    "averaged_models = AveragingModels(models = (ENet, GBoost, KRR, lasso))\n",
    "\n",
    "score = rmsle_cv(averaged_models)\n",
    "print(\" Averaged base models score: {:.4f} ({:.4f})\\n\".format(score.mean(), score.std()))"
   ]
  },
  {
   "cell_type": "code",
   "execution_count": null,
   "metadata": {
    "_uuid": "d7c6a15fce609c765ea854ac4b6b159eaad681a1",
    "collapsed": true
   },
   "outputs": [],
   "source": [
    "class StackingAveragedModels(BaseEstimator, RegressorMixin, TransformerMixin):\n",
    "    def __init__(self, base_models, meta_model, n_folds=5):\n",
    "        self.base_models = base_models\n",
    "        self.meta_model = meta_model\n",
    "        self.n_folds = n_folds\n",
    "   # We again fit the data on clones of the original models\n",
    "    def fit(self, X, y):\n",
    "        self.base_models_ = [list() for x in self.base_models]\n",
    "        self.meta_model_ = clone(self.meta_model)\n",
    "        kfold = KFold(n_splits=self.n_folds, shuffle=True, random_state=156)\n",
    "        \n",
    "        # Train cloned base models then create out-of-fold predictions\n",
    "        # that are needed to train the cloned meta-model\n",
    "        out_of_fold_predictions = np.zeros((X.shape[0], len(self.base_models)))\n",
    "        for i, model in enumerate(self.base_models):\n",
    "            for train_index, holdout_index in kfold.split(X, y):\n",
    "                instance = clone(model)\n",
    "                self.base_models_[i].append(instance)\n",
    "                instance.fit(X[train_index], y[train_index])\n",
    "                y_pred = instance.predict(X[holdout_index])\n",
    "                out_of_fold_predictions[holdout_index, i] = y_pred\n",
    "                \n",
    "        # Now train the cloned  meta-model using the out-of-fold predictions as new feature\n",
    "        self.meta_model_.fit(out_of_fold_predictions, y)\n",
    "        return self\n",
    "   #Do the predictions of all base models on the test data and use the averaged predictions as \n",
    "    #meta-features for the final prediction which is done by the meta-model\n",
    "    def predict(self, X):\n",
    "        meta_features = np.column_stack([\n",
    "            np.column_stack([model.predict(X) for model in base_models]).mean(axis=1)\n",
    "            for base_models in self.base_models_ ])\n",
    "        return self.meta_model_.predict(meta_features)"
   ]
  },
  {
   "cell_type": "code",
   "execution_count": null,
   "metadata": {
    "_uuid": "4906e53b1fcf685b054ea884cc2281b613a78918",
    "collapsed": true
   },
   "outputs": [],
   "source": [
    "stacked_averaged_models = StackingAveragedModels(base_models = (ENet, GBoost, KRR),\n",
    "                                                 meta_model = lasso)\n",
    "\n",
    "score = rmsle_cv(stacked_averaged_models)\n",
    "print(\"Stacking Averaged models score: {:.4f} ({:.4f})\".format(score.mean(), score.std()))"
   ]
  },
  {
   "cell_type": "code",
   "execution_count": null,
   "metadata": {
    "_uuid": "a67243faf709d764428b6b7451aa61e917da0bab",
    "collapsed": true
   },
   "outputs": [],
   "source": [
    "def rmsle(y, y_pred):\n",
    "    return np.sqrt(mean_squared_error(y, y_pred))"
   ]
  },
  {
   "cell_type": "code",
   "execution_count": null,
   "metadata": {
    "_uuid": "45edc8ed4de1313734facc50567a74ccf7f7075b",
    "collapsed": true
   },
   "outputs": [],
   "source": [
    "#StackedRegressor\n",
    "#Final Training and Prediction\n",
    "stacked_averaged_models.fit(train.values, y_train)\n",
    "stacked_train_pred = stacked_averaged_models.predict(train.values)\n",
    "stacked_pred = np.expm1(stacked_averaged_models.predict(test.values))\n",
    "print(rmsle(y_train, stacked_train_pred))"
   ]
  },
  {
   "cell_type": "code",
   "execution_count": null,
   "metadata": {
    "_uuid": "ca83502d37f38b6cce5928220538749982352f2e",
    "collapsed": true
   },
   "outputs": [],
   "source": [
    "#XGBoost\n",
    "model_xgb.fit(train, y_train)\n",
    "xgb_train_pred = model_xgb.predict(train)\n",
    "xgb_pred = np.expm1(model_xgb.predict(test))\n",
    "print(rmsle(y_train, xgb_train_pred))"
   ]
  },
  {
   "cell_type": "code",
   "execution_count": null,
   "metadata": {
    "_uuid": "9611bf793492523c101226912037b78ad54b2bdc",
    "collapsed": true
   },
   "outputs": [],
   "source": [
    "#lightGBM\n",
    "model_lgb.fit(train, y_train)\n",
    "lgb_train_pred = model_lgb.predict(train)\n",
    "lgb_pred = np.expm1(model_lgb.predict(test.values))\n",
    "print(rmsle(y_train, lgb_train_pred))"
   ]
  },
  {
   "cell_type": "code",
   "execution_count": null,
   "metadata": {
    "_uuid": "435ff580ab2d73f4709ad871af48f254ddabbc7b",
    "collapsed": true
   },
   "outputs": [],
   "source": [
    "'''RMSE on the entire Train data when averaging'''\n",
    "\n",
    "print('RMSLE score on train data:')\n",
    "print(rmsle(y_train,stacked_train_pred*0.70 +\n",
    "               xgb_train_pred*0.15 + lgb_train_pred*0.15 ))"
   ]
  },
  {
   "cell_type": "markdown",
   "metadata": {
    "_uuid": "9e18ae69a5e4a12f5b4042f91e65b88da7d1b6ba"
   },
   "source": [
    "## 7-2-8 Ensemble prediction"
   ]
  },
  {
   "cell_type": "code",
   "execution_count": null,
   "metadata": {
    "_uuid": "f82001f0b991dd92f701d9781e2fe5c5dbfbdaac",
    "collapsed": true
   },
   "outputs": [],
   "source": [
    "ensemble = stacked_pred*0.70 + xgb_pred*0.15 + lgb_pred*0.15"
   ]
  },
  {
   "cell_type": "code",
   "execution_count": null,
   "metadata": {
    "_uuid": "b1839af2f826485972714196d8ea8ee17400808e",
    "collapsed": true
   },
   "outputs": [],
   "source": [
    "sub = pd.DataFrame()\n",
    "sub['Id'] = test_ID\n",
    "sub['SalePrice'] = ensemble\n",
    "sub.to_csv('submission.csv',index=False)\n"
   ]
  },
  {
   "cell_type": "markdown",
   "metadata": {
    "_uuid": "97adc471c068fbd8d36ca19a4db0d98b0924c731"
   },
   "source": [
    "-----------------\n",
    "<a id=\"53\"></a> <br>\n",
    "## 8- Conclusion"
   ]
  },
  {
   "cell_type": "markdown",
   "metadata": {
    "_uuid": "1adfb5ba84e0f1d8fba58a2fca30546ead095047",
    "collapsed": true
   },
   "source": [
    "In this kernel, I have tried to cover all the parts related to the process of ML with a variety of Python packages and I know that there are still some problems then I hope to get your feedback to improve it."
   ]
  },
  {
   "cell_type": "markdown",
   "metadata": {
    "_uuid": "cf3679a51c72dbe2d2549b5fe97e4ac5f1fa0fa0"
   },
   "source": [
    "you can follow me on:\n",
    "> ###### [ GitHub](https://github.com/mjbahmani)\n",
    "> ###### [Kaggle](https://www.kaggle.com/mjbahmani/)\n",
    "\n",
    "--------------------------------------\n",
    "\n",
    " **I hope you find this kernel helpful and some <font color=\"red\"><b>UPVOTES</b></font> would be very much appreciated** "
   ]
  },
  {
   "cell_type": "markdown",
   "metadata": {
    "_cell_guid": "79c7e3d0-c299-4dcb-8224-4455121ee9b0",
    "_uuid": "d629ff2d2480ee46fbb7e2d37f6b5fab8052498a",
    "collapsed": true
   },
   "source": [
    "<a id=\"54\"></a> <br>\n",
    "# 9- References\n",
    "* [1] [https://skymind.ai/wiki/machine-learning-workflow](https://skymind.ai/wiki/machine-learning-workflow)\n",
    "* [2] [Problem-define](https://machinelearningmastery.com/machine-learning-in-python-step-by-step/)\n",
    "* [3] [Sklearn](http://scikit-learn.org/)\n",
    "* [4] [machine-learning-in-python-step-by-step](https://machinelearningmastery.com/machine-learning-in-python-step-by-step/)\n",
    "* [5] [Data Cleaning](http://wp.sigmod.org/?p=2288)\n",
    "* [6] [kaggle kernel](https://www.kaggle.com/serigne/stacked-regressions-top-4-on-leaderboard)\n",
    "\n"
   ]
  },
  {
   "cell_type": "markdown",
   "metadata": {},
   "source": [
    "###   Not Completed Yet !!! "
   ]
  }
 ],
 "metadata": {
  "kernelspec": {
   "display_name": "Python 3",
   "language": "python",
   "name": "python3"
  },
  "language_info": {
   "codemirror_mode": {
    "name": "ipython",
    "version": 3
   },
   "file_extension": ".py",
   "mimetype": "text/x-python",
   "name": "python",
   "nbconvert_exporter": "python",
   "pygments_lexer": "ipython3",
   "version": "3.6.1"
  }
 },
 "nbformat": 4,
 "nbformat_minor": 1
}
