{
 "cells": [
  {
   "cell_type": "markdown",
   "metadata": {
    "_uuid": "a8f9622945156d6337ba73c481da2de7efef7384"
   },
   "source": [
    "# <div style=\"text-align: center\">A Data Science Framework for Quora </div>\n",
    "### <div align=\"center\"><b>Quite Practical and Far from any Theoretical Concepts</b></div>\n",
    "<img src='http://s9.picofile.com/file/8342477368/kq.png'>\n",
    "<div style=\"text-align:center\">last update: <b>11/15/2018</b></div>\n",
    "\n",
    "You can Fork and Run this kernel on Github:\n",
    "> ###### [ GitHub](https://github.com/mjbahmani/10-steps-to-become-a-data-scientist)\n"
   ]
  },
  {
   "cell_type": "markdown",
   "metadata": {
    "_uuid": "750903cc2679d39058f56df6c6c040be02b748df"
   },
   "source": [
    " <a id=\"1\"></a> <br>\n",
    "## 1- Introduction\n",
    "**Quora** has defined a competition in **Kaggle**. A realistic and attractive data set for data scientists.\n",
    "on this notebook, I will provide a **comprehensive** approach to solve Quora classification problem.\n",
    "\n",
    "I am open to getting your feedback for improving this **kernel**"
   ]
  },
  {
   "cell_type": "markdown",
   "metadata": {
    "_uuid": "cda11210a88d6484112cbe2c3624225328326c6a"
   },
   "source": [
    "<a id=\"top\"></a> <br>\n",
    "## Notebook  Content\n",
    "1. [Introduction](#1)\n",
    "1. [Data Science Workflow for Quora](#2)\n",
    "1. [Problem Definition](#3)\n",
    "    1. [Business View](#4)\n",
    "        1. [Real world Application Vs Competitions](#31)\n",
    "    1. [What is a insincere question?](#5)\n",
    "    1. [How can we find insincere question?](#6)\n",
    "1. [Problem feature](#7)\n",
    "    1. [Aim](#8)\n",
    "    1. [Variables](#9)\n",
    "    1. [ Inputs & Outputs](#10)\n",
    "1. [Select Framework](#11)\n",
    "    1. [Import](#12)\n",
    "    1. [Version](#13)\n",
    "    1. [Setup](#14)\n",
    "1. [Exploratory data analysis](#15)\n",
    "    1. [Data Collection](#16)\n",
    "        1. [Features](#17)\n",
    "        1. [Explorer Dataset](#18)\n",
    "    1. [Data Cleaning](#19)\n",
    "    1. [Data Preprocessing](#20)\n",
    "        1. [Is data set imbalance?](#21)\n",
    "        1. [Some Feature Engineering](#22)\n",
    "    1. [Data Visualization](#23)\n",
    "        1. [countplot](#61)\n",
    "        1. [pie plot](#62)\n",
    "        1. [Histogram](#63)\n",
    "        1. [violin plot](#64)\n",
    "        1. [kdeplot](#65)\n",
    "    1. [Data Cleaning](#24)\n",
    "1. [Model Deployment](#24)\n",
    "1. [Conclusion](#25)\n",
    "1. [References](#26)"
   ]
  },
  {
   "cell_type": "markdown",
   "metadata": {
    "_uuid": "e9438d850fcacb93c4dc1f7873255803ecbf521c"
   },
   "source": [
    "-------------------------------------------------------------------------------------------------------------\n",
    "\n",
    " **I hope you find this kernel helpful and some <font color=\"red\"><b>UPVOTES</b></font> would be very much appreciated**\n",
    " \n",
    " -----------"
   ]
  },
  {
   "cell_type": "markdown",
   "metadata": {
    "_uuid": "e11b73b618b0f6e4335520ef80267c6d577d1ba5"
   },
   "source": [
    "<a id=\"2\"></a> <br>\n",
    "## 2- A Data Science Workflow for Quora\n",
    "Of course, the same solution can not be provided for all problems, so the best way is to create a general framework and adapt it to new problem.\n",
    "\n",
    "**You can see my workflow in the below image** :\n",
    "\n",
    " <img src=\"http://s8.picofile.com/file/8342707700/workflow2.png\"  />\n",
    "\n",
    "**you should\tfeel free\tto\tadapt \tthis\tchecklist \tto\tyour needs**\n",
    "###### [Go to top](#top)"
   ]
  },
  {
   "cell_type": "markdown",
   "metadata": {
    "_uuid": "600be852c0d28e7c0c5ebb718904ab15a536342c"
   },
   "source": [
    "<a id=\"3\"></a> <br>\n",
    "## 3- Problem Definition\n",
    "I think one of the important things when you start a new machine learning project is Defining your problem. that means you should understand business problem.( **Problem Formalization**)\n",
    "> **we will be predicting whether a question asked on Quora is sincere or not.**\n",
    "\n",
    "## 3-1 About Quora\n",
    "Quora is a platform that empowers people to learn from each other. On Quora, people can ask questions and connect with others who contribute unique insights and quality answers. A key challenge is to weed out insincere questions -- those founded upon false premises, or that intend to make a statement rather than look for helpful answers.\n",
    "<a id=\"4\"></a> <br>\n",
    "## 3-2 Business View \n",
    "An existential problem for any major website today is how to handle toxic and divisive content. **Quora** wants to tackle this problem head-on to keep their platform a place where users can feel safe sharing their knowledge with the world.\n",
    "\n",
    "**Quora** is a platform that empowers people to learn from each other. On Quora, people can ask questions and connect with others who contribute unique insights and quality answers. A key challenge is to weed out insincere questions -- those founded upon false premises, or that intend to make a statement rather than look for helpful answers.\n",
    "\n",
    "In this kernel, I will develop models that identify and flag insincere questions.we Help Quora uphold their policy of “Be Nice, Be Respectful” and continue to be a place for sharing and growing the world’s knowledge.\n",
    "<a id=\"31\"></a> <br>\n",
    "### 3-2-1 Real world Application Vs Competitions\n",
    "Just a simple comparison between real-world apps with competitions:\n",
    "<img src=\"http://s9.picofile.com/file/8339956300/reallife.png\" height=\"600\" width=\"500\" />\n",
    "<a id=\"5\"></a> <br>\n",
    "## 3-3 What is a insincere question?\n",
    "is defined as a question intended to make a **statement** rather than look for **helpful answers**.\n",
    "<img src='http://s8.picofile.com/file/8342711526/Quora_moderation.png'>\n",
    "<a id=\"6\"></a> <br>\n",
    "## 3-4 How can we find insincere question?\n",
    "Some characteristics that can signify that a question is insincere:\n",
    "\n",
    "1. **Has a non-neutral tone**\n",
    "    1. Has an exaggerated tone to underscore a point about a group of people\n",
    "    1. Is rhetorical and meant to imply a statement about a group of people\n",
    "1. **Is disparaging or inflammatory**\n",
    "    1. Suggests a discriminatory idea against a protected class of people, or seeks confirmation of a stereotype\n",
    "    1. Makes disparaging attacks/insults against a specific person or group of people\n",
    "    1. Based on an outlandish premise about a group of people\n",
    "    1. Disparages against a characteristic that is not fixable and not measurable\n",
    "1. **Isn't grounded in reality**\n",
    "    1. Based on false information, or contains absurd assumptions\n",
    "    1. Uses sexual content (incest, bestiality, pedophilia) for shock value, and not to seek genuine answers\n",
    "    ###### [Go to top](#top)"
   ]
  },
  {
   "cell_type": "markdown",
   "metadata": {
    "_uuid": "556980c672d2f7b2a4ee943b9d13b88de6e41e04"
   },
   "source": [
    "<a id=\"7\"></a> <br>\n",
    "## 4- Problem Feature\n",
    "Problem Definition has three steps that have illustrated in the picture below:\n",
    "\n",
    "1. Aim\n",
    "1. Variable\n",
    "1. Inputs & Outputs\n",
    "\n",
    "\n",
    "\n",
    "\n",
    "\n",
    "<a id=\"8\"></a> <br>\n",
    "### 4-1 Aim\n",
    "we will be predicting whether a question asked on Quora is **sincere** or not.\n",
    "\n",
    "\n",
    "<a id=\"9\"></a> <br>\n",
    "### 4-2 Variables\n",
    "\n",
    "1. qid - unique question identifier\n",
    "1. question_text - Quora question text\n",
    "1. target - a question labeled \"insincere\" has a value of 1, otherwise 0\n",
    "\n",
    "<a id=\"10\"></a> <br>\n",
    "### 4-3 Inputs & Outputs\n",
    "we use train.csv and test.csv as Input and we should upload a  submission.csv as Output\n",
    "\n",
    "\n",
    "**<< Note >>**\n",
    "> You must answer the following question:\n",
    "How does your company expect to use and benefit from **your model**.\n",
    "###### [Go to top](#top)"
   ]
  },
  {
   "cell_type": "markdown",
   "metadata": {
    "_uuid": "fbedcae8843986c2139f18dad4b5f313e6535ac5"
   },
   "source": [
    "<a id=\"11\"></a> <br>\n",
    "## 5- Select Framework\n",
    "After problem definition and problem feature, we should select our framework to solve the problem.\n",
    "What we mean by the framework is that  the programming languages you use and by what modules the problem will be solved."
   ]
  },
  {
   "cell_type": "markdown",
   "metadata": {
    "_uuid": "c90e261f3b150e10aaec1f34ab3be768acf7aa25"
   },
   "source": [
    "<a id=\"12\"></a> <br>\n",
    "### 5-1 Import"
   ]
  },
  {
   "cell_type": "code",
   "execution_count": 1,
   "metadata": {
    "_cell_guid": "b1076dfc-b9ad-4769-8c92-a6c4dae69d19",
    "_kg_hide-input": true,
    "_uuid": "8f2839f25d086af736a60e9eeb907d3b93b6e0e5"
   },
   "outputs": [],
   "source": [
    "from sklearn.model_selection import train_test_split\n",
    "from sklearn.metrics import classification_report\n",
    "from sklearn.metrics import confusion_matrix\n",
    "from sklearn.metrics import accuracy_score\n",
    "from nltk.corpus import stopwords\n",
    "import matplotlib.pylab as pylab\n",
    "import matplotlib.pyplot as plt\n",
    "from pandas import get_dummies\n",
    "import matplotlib as mpl\n",
    "import seaborn as sns\n",
    "import pandas as pd\n",
    "import numpy as np\n",
    "import matplotlib\n",
    "import warnings\n",
    "import sklearn\n",
    "import string\n",
    "import scipy\n",
    "import numpy\n",
    "import nltk\n",
    "import json\n",
    "import sys\n",
    "import csv\n",
    "import os"
   ]
  },
  {
   "cell_type": "markdown",
   "metadata": {
    "_uuid": "1c2beac253f7ddddcc2e1aa26dc850d5b87268f3"
   },
   "source": [
    "<a id=\"13\"></a> <br>\n",
    "### 5-2 version"
   ]
  },
  {
   "cell_type": "code",
   "execution_count": 2,
   "metadata": {
    "_kg_hide-input": true,
    "_uuid": "9ffe2f1e5995150c8138f9e98509c7525fb230b4"
   },
   "outputs": [
    {
     "name": "stdout",
     "output_type": "stream",
     "text": [
      "matplotlib: 2.2.3\n",
      "sklearn: 0.20.0\n",
      "scipy: 1.1.0\n",
      "seaborn: 0.8.1\n",
      "pandas: 0.23.4\n",
      "numpy: 1.15.3\n",
      "Python: 3.6.6 |Anaconda, Inc.| (default, Oct  9 2018, 12:34:16) \n",
      "[GCC 7.3.0]\n"
     ]
    }
   ],
   "source": [
    "print('matplotlib: {}'.format(matplotlib.__version__))\n",
    "print('sklearn: {}'.format(sklearn.__version__))\n",
    "print('scipy: {}'.format(scipy.__version__))\n",
    "print('seaborn: {}'.format(sns.__version__))\n",
    "print('pandas: {}'.format(pd.__version__))\n",
    "print('numpy: {}'.format(np.__version__))\n",
    "print('Python: {}'.format(sys.version))\n"
   ]
  },
  {
   "cell_type": "markdown",
   "metadata": {
    "_uuid": "431bf889ae401c1089a13835356c13f2b6a06f6c"
   },
   "source": [
    "<a id=\"14\"></a> <br>\n",
    "### 5-3 Setup\n",
    "\n",
    "A few tiny adjustments for better **code readability**"
   ]
  },
  {
   "cell_type": "code",
   "execution_count": 3,
   "metadata": {
    "_kg_hide-input": true,
    "_uuid": "2a498652935827a033d0bcb7df1d28c068f44a25"
   },
   "outputs": [],
   "source": [
    "sns.set(style='white', context='notebook', palette='deep')\n",
    "pylab.rcParams['figure.figsize'] = 12,8\n",
    "warnings.filterwarnings('ignore')\n",
    "mpl.style.use('ggplot')\n",
    "sns.set_style('white')\n",
    "%matplotlib inline"
   ]
  },
  {
   "cell_type": "markdown",
   "metadata": {
    "_uuid": "04ff1a533119d589baee777c21194a951168b0c7"
   },
   "source": [
    "<a id=\"15\"></a> <br>\n",
    "## 6- EDA\n",
    " In this section, you'll learn how to use graphical and numerical techniques to begin uncovering the structure of your data. \n",
    " \n",
    "* Which variables suggest interesting relationships?\n",
    "* Which observations are unusual?\n",
    "* Analysis of the features!\n",
    "\n",
    "By the end of the section, you'll be able to answer these questions and more, while generating graphics that are both insightful and beautiful.  then We will review analytical and statistical operations:\n",
    "\n",
    "1. Data Collection\n",
    "1. Visualization\n",
    "1. Data Cleaning\n",
    "1. Data Preprocessing\n",
    "<img src=\"http://s9.picofile.com/file/8338476134/EDA.png\">\n",
    "\n",
    " ###### [Go to top](#top)"
   ]
  },
  {
   "cell_type": "markdown",
   "metadata": {
    "_uuid": "cedecea930b278f86292367cc28d2996a235a169"
   },
   "source": [
    "<a id=\"16\"></a> <br>\n",
    "## 6-1 Data Collection\n",
    "**Data collection** is the process of gathering and measuring data, information or any variables of interest in a standardized and established manner that enables the collector to answer or test hypothesis and evaluate outcomes of the particular collection.[techopedia]\n",
    "\n",
    "I start Collection Data by the training and testing datasets into **Pandas DataFrames**\n",
    "###### [Go to top](#top)"
   ]
  },
  {
   "cell_type": "code",
   "execution_count": 4,
   "metadata": {
    "_kg_hide-input": true,
    "_uuid": "9269ae851b744856bce56840637030a16a5877e1"
   },
   "outputs": [],
   "source": [
    "train = pd.read_csv('../input/train.csv')\n",
    "test = pd.read_csv('../input/test.csv')"
   ]
  },
  {
   "cell_type": "markdown",
   "metadata": {
    "_uuid": "58ed9c838069f54de5cf90b20a774c3e236149b3"
   },
   "source": [
    "**<< Note 1 >>**\n",
    "\n",
    "* Each **row** is an observation (also known as : sample, example, instance, record)\n",
    "* Each **column** is a feature (also known as: Predictor, attribute, Independent Variable, input, regressor, Covariate)\n",
    "###### [Go to top](#top)"
   ]
  },
  {
   "cell_type": "code",
   "execution_count": 5,
   "metadata": {
    "_uuid": "4708d70e39d1ae861bbf34411cf03d07f261fceb"
   },
   "outputs": [
    {
     "data": {
      "text/html": [
       "<div>\n",
       "<style scoped>\n",
       "    .dataframe tbody tr th:only-of-type {\n",
       "        vertical-align: middle;\n",
       "    }\n",
       "\n",
       "    .dataframe tbody tr th {\n",
       "        vertical-align: top;\n",
       "    }\n",
       "\n",
       "    .dataframe thead th {\n",
       "        text-align: right;\n",
       "    }\n",
       "</style>\n",
       "<table border=\"1\" class=\"dataframe\">\n",
       "  <thead>\n",
       "    <tr style=\"text-align: right;\">\n",
       "      <th></th>\n",
       "      <th>qid</th>\n",
       "      <th>question_text</th>\n",
       "      <th>target</th>\n",
       "    </tr>\n",
       "  </thead>\n",
       "  <tbody>\n",
       "    <tr>\n",
       "      <th>167824</th>\n",
       "      <td>20cb546f58332d34152d</td>\n",
       "      <td>Can I read advance accounting with group 1 of ...</td>\n",
       "      <td>0</td>\n",
       "    </tr>\n",
       "  </tbody>\n",
       "</table>\n",
       "</div>"
      ],
      "text/plain": [
       "                         qid  ...   target\n",
       "167824  20cb546f58332d34152d  ...        0\n",
       "\n",
       "[1 rows x 3 columns]"
      ]
     },
     "execution_count": 5,
     "metadata": {},
     "output_type": "execute_result"
    }
   ],
   "source": [
    "train.sample(1) "
   ]
  },
  {
   "cell_type": "code",
   "execution_count": 6,
   "metadata": {
    "_uuid": "f8e7a84ab982504d7263b1812fa66bba78bddbdc"
   },
   "outputs": [
    {
     "data": {
      "text/html": [
       "<div>\n",
       "<style scoped>\n",
       "    .dataframe tbody tr th:only-of-type {\n",
       "        vertical-align: middle;\n",
       "    }\n",
       "\n",
       "    .dataframe tbody tr th {\n",
       "        vertical-align: top;\n",
       "    }\n",
       "\n",
       "    .dataframe thead th {\n",
       "        text-align: right;\n",
       "    }\n",
       "</style>\n",
       "<table border=\"1\" class=\"dataframe\">\n",
       "  <thead>\n",
       "    <tr style=\"text-align: right;\">\n",
       "      <th></th>\n",
       "      <th>qid</th>\n",
       "      <th>question_text</th>\n",
       "    </tr>\n",
       "  </thead>\n",
       "  <tbody>\n",
       "    <tr>\n",
       "      <th>9845</th>\n",
       "      <td>2d491c06968216fd3415</td>\n",
       "      <td>Why does the Australian Army no longer have Se...</td>\n",
       "    </tr>\n",
       "  </tbody>\n",
       "</table>\n",
       "</div>"
      ],
      "text/plain": [
       "                       qid                                      question_text\n",
       "9845  2d491c06968216fd3415  Why does the Australian Army no longer have Se..."
      ]
     },
     "execution_count": 6,
     "metadata": {},
     "output_type": "execute_result"
    }
   ],
   "source": [
    "test.sample(1) "
   ]
  },
  {
   "cell_type": "markdown",
   "metadata": {
    "_uuid": "581b90e6a869c3793472c7edd59091d6d6342fb2"
   },
   "source": [
    "<a id=\"17\"></a> <br>\n",
    "## 6-1-1 Features\n",
    "Features can be from following types:\n",
    "* numeric\n",
    "* categorical\n",
    "* ordinal\n",
    "* datetime\n",
    "* coordinates\n",
    "\n",
    "Find the type of features in **Qoura dataset**?!\n",
    "for getting some information about the dataset you can use **info()** command"
   ]
  },
  {
   "cell_type": "code",
   "execution_count": 7,
   "metadata": {
    "_kg_hide-input": true,
    "_uuid": "ca840f02925751186f87e402fcb5f637ab1ab8a0"
   },
   "outputs": [
    {
     "name": "stdout",
     "output_type": "stream",
     "text": [
      "<class 'pandas.core.frame.DataFrame'>\n",
      "RangeIndex: 1306122 entries, 0 to 1306121\n",
      "Data columns (total 3 columns):\n",
      "qid              1306122 non-null object\n",
      "question_text    1306122 non-null object\n",
      "target           1306122 non-null int64\n",
      "dtypes: int64(1), object(2)\n",
      "memory usage: 29.9+ MB\n",
      "None\n"
     ]
    }
   ],
   "source": [
    "print(train.info())"
   ]
  },
  {
   "cell_type": "code",
   "execution_count": 8,
   "metadata": {
    "_uuid": "4cbcf76344a6e3c8e841ccf1f43bf00d040a06a1"
   },
   "outputs": [
    {
     "name": "stdout",
     "output_type": "stream",
     "text": [
      "<class 'pandas.core.frame.DataFrame'>\n",
      "RangeIndex: 56370 entries, 0 to 56369\n",
      "Data columns (total 2 columns):\n",
      "qid              56370 non-null object\n",
      "question_text    56370 non-null object\n",
      "dtypes: object(2)\n",
      "memory usage: 880.9+ KB\n",
      "None\n"
     ]
    }
   ],
   "source": [
    "print(test.info())"
   ]
  },
  {
   "cell_type": "markdown",
   "metadata": {
    "_uuid": "73ab30f86273b590a51fc363d9bf78c2709558fa"
   },
   "source": [
    "<a id=\"18\"></a> <br>\n",
    "## 6-1-2 Explorer Dataset\n",
    "1- Dimensions of the dataset.\n",
    "\n",
    "2- Peek at the data itself.\n",
    "\n",
    "3- Statistical summary of all attributes.\n",
    "\n",
    "4- Breakdown of the data by the class variable.\n",
    "\n",
    "Don’t worry, each look at the data is **one command**. These are useful commands that you can use again and again on future projects.\n",
    "###### [Go to top](#top)"
   ]
  },
  {
   "cell_type": "code",
   "execution_count": 9,
   "metadata": {
    "_kg_hide-input": true,
    "_uuid": "4b45251be7be77333051fe738639104ae1005fa5"
   },
   "outputs": [
    {
     "name": "stdout",
     "output_type": "stream",
     "text": [
      "Shape of train: (1306122, 3)\n",
      "Shape of train: (56370, 2)\n"
     ]
    }
   ],
   "source": [
    "# shape\n",
    "print('Shape of train:',train.shape)\n",
    "print('Shape of train:',test.shape)"
   ]
  },
  {
   "cell_type": "code",
   "execution_count": 10,
   "metadata": {
    "_kg_hide-input": true,
    "_uuid": "c64e9d3e0bf394fb833de94a0fc5c34f69fce24c"
   },
   "outputs": [
    {
     "data": {
      "text/plain": [
       "3918366"
      ]
     },
     "execution_count": 10,
     "metadata": {},
     "output_type": "execute_result"
    }
   ],
   "source": [
    "#columns*rows\n",
    "train.size"
   ]
  },
  {
   "cell_type": "markdown",
   "metadata": {
    "_uuid": "7b5fd1034cd591ebd29fba1c77d342ec2b408d13"
   },
   "source": [
    "After loading the data via **pandas**, we should checkout what the content is, description and via the following:"
   ]
  },
  {
   "cell_type": "code",
   "execution_count": 11,
   "metadata": {
    "_kg_hide-input": true,
    "_uuid": "edd043f8feb76cfe51b79785302ca4936ceb7b51"
   },
   "outputs": [
    {
     "data": {
      "text/plain": [
       "pandas.core.frame.DataFrame"
      ]
     },
     "execution_count": 11,
     "metadata": {},
     "output_type": "execute_result"
    }
   ],
   "source": [
    "type(train)"
   ]
  },
  {
   "cell_type": "code",
   "execution_count": 12,
   "metadata": {
    "_kg_hide-input": true,
    "_uuid": "edd043f8feb76cfe51b79785302ca4936ceb7b51"
   },
   "outputs": [
    {
     "data": {
      "text/plain": [
       "pandas.core.frame.DataFrame"
      ]
     },
     "execution_count": 12,
     "metadata": {},
     "output_type": "execute_result"
    }
   ],
   "source": [
    "type(test)"
   ]
  },
  {
   "cell_type": "markdown",
   "metadata": {
    "_uuid": "2c288c3dc8656a872a8529368812546e434d3a22"
   },
   "source": [
    "to pop up 5 random rows from the data set, we can use **sample(5)**  function and find the type of features"
   ]
  },
  {
   "cell_type": "code",
   "execution_count": 13,
   "metadata": {
    "_uuid": "09eb18d1fcf4a2b73ba2f5ddce99dfa521681140"
   },
   "outputs": [
    {
     "data": {
      "text/html": [
       "<div>\n",
       "<style scoped>\n",
       "    .dataframe tbody tr th:only-of-type {\n",
       "        vertical-align: middle;\n",
       "    }\n",
       "\n",
       "    .dataframe tbody tr th {\n",
       "        vertical-align: top;\n",
       "    }\n",
       "\n",
       "    .dataframe thead th {\n",
       "        text-align: right;\n",
       "    }\n",
       "</style>\n",
       "<table border=\"1\" class=\"dataframe\">\n",
       "  <thead>\n",
       "    <tr style=\"text-align: right;\">\n",
       "      <th></th>\n",
       "      <th>qid</th>\n",
       "      <th>question_text</th>\n",
       "      <th>target</th>\n",
       "    </tr>\n",
       "  </thead>\n",
       "  <tbody>\n",
       "    <tr>\n",
       "      <th>624541</th>\n",
       "      <td>7a4d2521b77a69160d90</td>\n",
       "      <td>What are the best career options for an econom...</td>\n",
       "      <td>0</td>\n",
       "    </tr>\n",
       "    <tr>\n",
       "      <th>483522</th>\n",
       "      <td>5eae84b6e6ce4d73582d</td>\n",
       "      <td>What is the strangest way you have heard of so...</td>\n",
       "      <td>0</td>\n",
       "    </tr>\n",
       "    <tr>\n",
       "      <th>355995</th>\n",
       "      <td>45c67f2c6d2c7de28237</td>\n",
       "      <td>Do you enjoy singing solo or do you prefer sin...</td>\n",
       "      <td>0</td>\n",
       "    </tr>\n",
       "    <tr>\n",
       "      <th>690055</th>\n",
       "      <td>87280d74bf98068abc3c</td>\n",
       "      <td>Where can I find spy training materials on the...</td>\n",
       "      <td>0</td>\n",
       "    </tr>\n",
       "    <tr>\n",
       "      <th>714583</th>\n",
       "      <td>8be14d40729a491a26ec</td>\n",
       "      <td>What is Telugu word kannukottadam called in En...</td>\n",
       "      <td>0</td>\n",
       "    </tr>\n",
       "  </tbody>\n",
       "</table>\n",
       "</div>"
      ],
      "text/plain": [
       "                         qid  ...   target\n",
       "624541  7a4d2521b77a69160d90  ...        0\n",
       "483522  5eae84b6e6ce4d73582d  ...        0\n",
       "355995  45c67f2c6d2c7de28237  ...        0\n",
       "690055  87280d74bf98068abc3c  ...        0\n",
       "714583  8be14d40729a491a26ec  ...        0\n",
       "\n",
       "[5 rows x 3 columns]"
      ]
     },
     "execution_count": 13,
     "metadata": {},
     "output_type": "execute_result"
    }
   ],
   "source": [
    "train.sample(5) "
   ]
  },
  {
   "cell_type": "markdown",
   "metadata": {
    "_uuid": "8280749a19af32869978c61941d1dea306632d71"
   },
   "source": [
    "<a id=\"19\"></a> <br>\n",
    "## 6-2 Data Cleaning\n",
    "When dealing with real-world data, dirty data is the norm rather than the exception. We continuously need to predict correct values, impute missing ones, and find links between various data artefacts such as schemas and records. We need to stop treating data cleaning as a piecemeal exercise (resolving different types of errors in isolation), and instead leverage all signals and resources (such as constraints, available statistics, and dictionaries) to accurately predict corrective actions.\n",
    "\n",
    "The primary goal of data cleaning is to detect and remove errors and **anomalies** to increase the value of data in analytics and decision making. While it has been the focus of many researchers for several years, individual problems have been addressed separately. These include missing value imputation, outliers detection, transformations, integrity constraints violations detection and repair, consistent query answering, deduplication, and many other related problems such as profiling and constraints mining.[4]\n",
    "###### [Go to top](#top)"
   ]
  },
  {
   "cell_type": "markdown",
   "metadata": {
    "_uuid": "a6315bf510cecb907b2d23aad25faf6ccad32ac4"
   },
   "source": [
    "how many NA elements in every column!!\n",
    "Good news, it is Zero!\n",
    "to check out how many null info are on the dataset, we can use **isnull().sum()**"
   ]
  },
  {
   "cell_type": "code",
   "execution_count": 14,
   "metadata": {
    "_kg_hide-input": true,
    "_uuid": "675f72fb58d83c527f71819e71ed8e17f81126f5"
   },
   "outputs": [
    {
     "data": {
      "text/plain": [
       "qid              0\n",
       "question_text    0\n",
       "target           0\n",
       "dtype: int64"
      ]
     },
     "execution_count": 14,
     "metadata": {},
     "output_type": "execute_result"
    }
   ],
   "source": [
    "train.isnull().sum()"
   ]
  },
  {
   "cell_type": "markdown",
   "metadata": {
    "_uuid": "5faa6528c6667060c05268757ff46e211b4fea3f"
   },
   "source": [
    "But if we had , we can just use **dropna()**(be careful sometimes you should not do this!)"
   ]
  },
  {
   "cell_type": "code",
   "execution_count": 15,
   "metadata": {
    "_kg_hide-input": true,
    "_uuid": "e8e124ca20643ad307d9bfdc34328d548c6ddcbc"
   },
   "outputs": [
    {
     "name": "stdout",
     "output_type": "stream",
     "text": [
      "Before Droping (1306122, 3)\n",
      "After Droping (1306122, 3)\n"
     ]
    }
   ],
   "source": [
    "# remove rows that have NA's\n",
    "print('Before Droping',train.shape)\n",
    "train = train.dropna()\n",
    "print('After Droping',train.shape)"
   ]
  },
  {
   "cell_type": "markdown",
   "metadata": {
    "_uuid": "277e1998627d6a3ddeff4e913a6b8c3dc81dec96"
   },
   "source": [
    "\n",
    "We can get a quick idea of how many instances (rows) and how many attributes (columns) the data contains with the shape property."
   ]
  },
  {
   "cell_type": "markdown",
   "metadata": {
    "_uuid": "c2f1eaf0b6dfdc7cc4dace04614e99ed56425d00"
   },
   "source": [
    "to print dataset **columns**, we can use columns atribute"
   ]
  },
  {
   "cell_type": "code",
   "execution_count": 16,
   "metadata": {
    "_uuid": "909d61b33ec06249d0842e6115597bbacf21163f"
   },
   "outputs": [
    {
     "data": {
      "text/plain": [
       "Index(['qid', 'question_text', 'target'], dtype='object')"
      ]
     },
     "execution_count": 16,
     "metadata": {},
     "output_type": "execute_result"
    }
   ],
   "source": [
    "train.columns"
   ]
  },
  {
   "cell_type": "markdown",
   "metadata": {
    "_uuid": "3458838205be4c7fbff88e95ef69934e13e2199b"
   },
   "source": [
    "you see number of unique item for Target  with command below:"
   ]
  },
  {
   "cell_type": "code",
   "execution_count": 17,
   "metadata": {
    "_kg_hide-input": true,
    "_uuid": "c7937700664991b29bdb0b3f04942c59498da760"
   },
   "outputs": [
    {
     "data": {
      "text/plain": [
       "array([0, 1])"
      ]
     },
     "execution_count": 17,
     "metadata": {},
     "output_type": "execute_result"
    }
   ],
   "source": [
    "train_target = train['target'].values\n",
    "\n",
    "np.unique(train_target)"
   ]
  },
  {
   "cell_type": "markdown",
   "metadata": {
    "_uuid": "d824cb29e135dc5ae98964e71ec0adc0e05ebd43"
   },
   "source": [
    "YES, quora problem is a binary classification! :)"
   ]
  },
  {
   "cell_type": "markdown",
   "metadata": {
    "_uuid": "ae08b544a8d4202c7d0a47ec83d685e81c91a66d"
   },
   "source": [
    "to check the first 5 rows of the data set, we can use head(5)."
   ]
  },
  {
   "cell_type": "code",
   "execution_count": 18,
   "metadata": {
    "_kg_hide-input": true,
    "_uuid": "5899889553c3416b27e93efceddb106eb71f5156"
   },
   "outputs": [
    {
     "data": {
      "text/html": [
       "<div>\n",
       "<style scoped>\n",
       "    .dataframe tbody tr th:only-of-type {\n",
       "        vertical-align: middle;\n",
       "    }\n",
       "\n",
       "    .dataframe tbody tr th {\n",
       "        vertical-align: top;\n",
       "    }\n",
       "\n",
       "    .dataframe thead th {\n",
       "        text-align: right;\n",
       "    }\n",
       "</style>\n",
       "<table border=\"1\" class=\"dataframe\">\n",
       "  <thead>\n",
       "    <tr style=\"text-align: right;\">\n",
       "      <th></th>\n",
       "      <th>qid</th>\n",
       "      <th>question_text</th>\n",
       "      <th>target</th>\n",
       "    </tr>\n",
       "  </thead>\n",
       "  <tbody>\n",
       "    <tr>\n",
       "      <th>0</th>\n",
       "      <td>00002165364db923c7e6</td>\n",
       "      <td>How did Quebec nationalists see their province...</td>\n",
       "      <td>0</td>\n",
       "    </tr>\n",
       "    <tr>\n",
       "      <th>1</th>\n",
       "      <td>000032939017120e6e44</td>\n",
       "      <td>Do you have an adopted dog, how would you enco...</td>\n",
       "      <td>0</td>\n",
       "    </tr>\n",
       "    <tr>\n",
       "      <th>2</th>\n",
       "      <td>0000412ca6e4628ce2cf</td>\n",
       "      <td>Why does velocity affect time? Does velocity a...</td>\n",
       "      <td>0</td>\n",
       "    </tr>\n",
       "    <tr>\n",
       "      <th>3</th>\n",
       "      <td>000042bf85aa498cd78e</td>\n",
       "      <td>How did Otto von Guericke used the Magdeburg h...</td>\n",
       "      <td>0</td>\n",
       "    </tr>\n",
       "    <tr>\n",
       "      <th>4</th>\n",
       "      <td>0000455dfa3e01eae3af</td>\n",
       "      <td>Can I convert montra helicon D to a mountain b...</td>\n",
       "      <td>0</td>\n",
       "    </tr>\n",
       "  </tbody>\n",
       "</table>\n",
       "</div>"
      ],
      "text/plain": [
       "                    qid  ...   target\n",
       "0  00002165364db923c7e6  ...        0\n",
       "1  000032939017120e6e44  ...        0\n",
       "2  0000412ca6e4628ce2cf  ...        0\n",
       "3  000042bf85aa498cd78e  ...        0\n",
       "4  0000455dfa3e01eae3af  ...        0\n",
       "\n",
       "[5 rows x 3 columns]"
      ]
     },
     "execution_count": 18,
     "metadata": {},
     "output_type": "execute_result"
    }
   ],
   "source": [
    "train.head(5) "
   ]
  },
  {
   "cell_type": "markdown",
   "metadata": {
    "_uuid": "1150b6ac3d82562aefd5c64f9f01accee5eace4d"
   },
   "source": [
    "or to check out last 5 row of the data set, we use tail() function"
   ]
  },
  {
   "cell_type": "code",
   "execution_count": 19,
   "metadata": {
    "_uuid": "79339442ff1f53ae1054d794337b9541295d3305"
   },
   "outputs": [
    {
     "data": {
      "text/html": [
       "<div>\n",
       "<style scoped>\n",
       "    .dataframe tbody tr th:only-of-type {\n",
       "        vertical-align: middle;\n",
       "    }\n",
       "\n",
       "    .dataframe tbody tr th {\n",
       "        vertical-align: top;\n",
       "    }\n",
       "\n",
       "    .dataframe thead th {\n",
       "        text-align: right;\n",
       "    }\n",
       "</style>\n",
       "<table border=\"1\" class=\"dataframe\">\n",
       "  <thead>\n",
       "    <tr style=\"text-align: right;\">\n",
       "      <th></th>\n",
       "      <th>qid</th>\n",
       "      <th>question_text</th>\n",
       "      <th>target</th>\n",
       "    </tr>\n",
       "  </thead>\n",
       "  <tbody>\n",
       "    <tr>\n",
       "      <th>1306117</th>\n",
       "      <td>ffffcc4e2331aaf1e41e</td>\n",
       "      <td>What other technical skills do you need as a c...</td>\n",
       "      <td>0</td>\n",
       "    </tr>\n",
       "    <tr>\n",
       "      <th>1306118</th>\n",
       "      <td>ffffd431801e5a2f4861</td>\n",
       "      <td>Does MS in ECE have good job prospects in USA ...</td>\n",
       "      <td>0</td>\n",
       "    </tr>\n",
       "    <tr>\n",
       "      <th>1306119</th>\n",
       "      <td>ffffd48fb36b63db010c</td>\n",
       "      <td>Is foam insulation toxic?</td>\n",
       "      <td>0</td>\n",
       "    </tr>\n",
       "    <tr>\n",
       "      <th>1306120</th>\n",
       "      <td>ffffec519fa37cf60c78</td>\n",
       "      <td>How can one start a research project based on ...</td>\n",
       "      <td>0</td>\n",
       "    </tr>\n",
       "    <tr>\n",
       "      <th>1306121</th>\n",
       "      <td>ffffed09fedb5088744a</td>\n",
       "      <td>Who wins in a battle between a Wolverine and a...</td>\n",
       "      <td>0</td>\n",
       "    </tr>\n",
       "  </tbody>\n",
       "</table>\n",
       "</div>"
      ],
      "text/plain": [
       "                          qid  ...   target\n",
       "1306117  ffffcc4e2331aaf1e41e  ...        0\n",
       "1306118  ffffd431801e5a2f4861  ...        0\n",
       "1306119  ffffd48fb36b63db010c  ...        0\n",
       "1306120  ffffec519fa37cf60c78  ...        0\n",
       "1306121  ffffed09fedb5088744a  ...        0\n",
       "\n",
       "[5 rows x 3 columns]"
      ]
     },
     "execution_count": 19,
     "metadata": {},
     "output_type": "execute_result"
    }
   ],
   "source": [
    "train.tail() "
   ]
  },
  {
   "cell_type": "markdown",
   "metadata": {
    "_uuid": "c8a1cc36348c68fb98d6cb28aa9919fc5f2892f3"
   },
   "source": [
    "to give a **statistical summary** about the dataset, we can use **describe()"
   ]
  },
  {
   "cell_type": "code",
   "execution_count": 20,
   "metadata": {
    "_uuid": "3f7211e96627b9a81c5b620a9ba61446f7719ea3"
   },
   "outputs": [
    {
     "data": {
      "text/html": [
       "<div>\n",
       "<style scoped>\n",
       "    .dataframe tbody tr th:only-of-type {\n",
       "        vertical-align: middle;\n",
       "    }\n",
       "\n",
       "    .dataframe tbody tr th {\n",
       "        vertical-align: top;\n",
       "    }\n",
       "\n",
       "    .dataframe thead th {\n",
       "        text-align: right;\n",
       "    }\n",
       "</style>\n",
       "<table border=\"1\" class=\"dataframe\">\n",
       "  <thead>\n",
       "    <tr style=\"text-align: right;\">\n",
       "      <th></th>\n",
       "      <th>target</th>\n",
       "    </tr>\n",
       "  </thead>\n",
       "  <tbody>\n",
       "    <tr>\n",
       "      <th>count</th>\n",
       "      <td>1.306122e+06</td>\n",
       "    </tr>\n",
       "    <tr>\n",
       "      <th>mean</th>\n",
       "      <td>6.187018e-02</td>\n",
       "    </tr>\n",
       "    <tr>\n",
       "      <th>std</th>\n",
       "      <td>2.409197e-01</td>\n",
       "    </tr>\n",
       "    <tr>\n",
       "      <th>min</th>\n",
       "      <td>0.000000e+00</td>\n",
       "    </tr>\n",
       "    <tr>\n",
       "      <th>25%</th>\n",
       "      <td>0.000000e+00</td>\n",
       "    </tr>\n",
       "    <tr>\n",
       "      <th>50%</th>\n",
       "      <td>0.000000e+00</td>\n",
       "    </tr>\n",
       "    <tr>\n",
       "      <th>75%</th>\n",
       "      <td>0.000000e+00</td>\n",
       "    </tr>\n",
       "    <tr>\n",
       "      <th>max</th>\n",
       "      <td>1.000000e+00</td>\n",
       "    </tr>\n",
       "  </tbody>\n",
       "</table>\n",
       "</div>"
      ],
      "text/plain": [
       "             target\n",
       "count  1.306122e+06\n",
       "mean   6.187018e-02\n",
       "std    2.409197e-01\n",
       "min    0.000000e+00\n",
       "25%    0.000000e+00\n",
       "50%    0.000000e+00\n",
       "75%    0.000000e+00\n",
       "max    1.000000e+00"
      ]
     },
     "execution_count": 20,
     "metadata": {},
     "output_type": "execute_result"
    }
   ],
   "source": [
    "train.describe() "
   ]
  },
  {
   "cell_type": "markdown",
   "metadata": {
    "_uuid": "10bdb8246f66c14043392806cae714f688cc8251"
   },
   "source": [
    "**describe() is more useful for numerical data sets**"
   ]
  },
  {
   "cell_type": "markdown",
   "metadata": {
    "_uuid": "91dda1f631cf4ed362162501aaaac6d19cfd6cc7"
   },
   "source": [
    "<a id=\"20\"></a> <br>\n",
    "## 6-3 Data Preprocessing\n",
    "**Data preprocessing** refers to the transformations applied to our data before feeding it to the algorithm.\n",
    " \n",
    "Data Preprocessing is a technique that is used to convert the raw data into a clean data set. In other words, whenever the data is gathered from different sources it is collected in raw format which is not feasible for the analysis.\n",
    "there are plenty of steps for data preprocessing and we just listed some of them in general(Not just for Quora) :\n",
    "* removing Target column (id)\n",
    "* Sampling (without replacement)\n",
    "* Making part of iris unbalanced and balancing (with undersampling and SMOTE)\n",
    "* Introducing missing values and treating them (replacing by average values)\n",
    "* Noise filtering\n",
    "* Data discretization\n",
    "* Normalization and standardization\n",
    "* PCA analysis\n",
    "* Feature selection (filter, embedded, wrapper)\n",
    "###### [Go to top](#top)"
   ]
  },
  {
   "cell_type": "markdown",
   "metadata": {
    "_uuid": "6c8c838f497c66a227975fb9a2f588e431f0c568"
   },
   "source": [
    "**<< Note 2 >>**\n",
    "in pandas's data frame you can perform some query such as \"where\""
   ]
  },
  {
   "cell_type": "code",
   "execution_count": 21,
   "metadata": {
    "_uuid": "c8c8d9fd63d9bdb601183aeb4f1435affeb8a596"
   },
   "outputs": [
    {
     "data": {
      "text/plain": [
       "qid              80810\n",
       "question_text    80810\n",
       "target           80810\n",
       "dtype: int64"
      ]
     },
     "execution_count": 21,
     "metadata": {},
     "output_type": "execute_result"
    }
   ],
   "source": [
    "train.where(train ['target']==1).count()"
   ]
  },
  {
   "cell_type": "markdown",
   "metadata": {
    "_uuid": "33fc33a18489b438a884819d99dc00a02b113be8"
   },
   "source": [
    "as you can see in the below in python, it is so easy perform some query on the dataframe:"
   ]
  },
  {
   "cell_type": "code",
   "execution_count": 22,
   "metadata": {
    "_uuid": "8b545ff7e8367c5ab9c1db710f70b6936ac8422c"
   },
   "outputs": [
    {
     "data": {
      "text/html": [
       "<div>\n",
       "<style scoped>\n",
       "    .dataframe tbody tr th:only-of-type {\n",
       "        vertical-align: middle;\n",
       "    }\n",
       "\n",
       "    .dataframe tbody tr th {\n",
       "        vertical-align: top;\n",
       "    }\n",
       "\n",
       "    .dataframe thead th {\n",
       "        text-align: right;\n",
       "    }\n",
       "</style>\n",
       "<table border=\"1\" class=\"dataframe\">\n",
       "  <thead>\n",
       "    <tr style=\"text-align: right;\">\n",
       "      <th></th>\n",
       "      <th>qid</th>\n",
       "      <th>question_text</th>\n",
       "      <th>target</th>\n",
       "    </tr>\n",
       "  </thead>\n",
       "  <tbody>\n",
       "  </tbody>\n",
       "</table>\n",
       "</div>"
      ],
      "text/plain": [
       "Empty DataFrame\n",
       "Columns: [qid, question_text, target]\n",
       "Index: []"
      ]
     },
     "execution_count": 22,
     "metadata": {},
     "output_type": "execute_result"
    }
   ],
   "source": [
    "train[train['target']>1]"
   ]
  },
  {
   "cell_type": "code",
   "execution_count": 23,
   "metadata": {
    "_uuid": "d517b2b99a455a6b89c238faf1647515b8a67d87"
   },
   "outputs": [
    {
     "data": {
      "text/html": [
       "<div>\n",
       "<style scoped>\n",
       "    .dataframe tbody tr th:only-of-type {\n",
       "        vertical-align: middle;\n",
       "    }\n",
       "\n",
       "    .dataframe tbody tr th {\n",
       "        vertical-align: top;\n",
       "    }\n",
       "\n",
       "    .dataframe thead th {\n",
       "        text-align: right;\n",
       "    }\n",
       "</style>\n",
       "<table border=\"1\" class=\"dataframe\">\n",
       "  <thead>\n",
       "    <tr style=\"text-align: right;\">\n",
       "      <th></th>\n",
       "      <th>qid</th>\n",
       "      <th>question_text</th>\n",
       "      <th>target</th>\n",
       "    </tr>\n",
       "  </thead>\n",
       "  <tbody>\n",
       "    <tr>\n",
       "      <th>22</th>\n",
       "      <td>0000e91571b60c2fb487</td>\n",
       "      <td>Has the United States become the largest dicta...</td>\n",
       "      <td>1</td>\n",
       "    </tr>\n",
       "    <tr>\n",
       "      <th>30</th>\n",
       "      <td>00013ceca3f624b09f42</td>\n",
       "      <td>Which babies are more sweeter to their parents...</td>\n",
       "      <td>1</td>\n",
       "    </tr>\n",
       "    <tr>\n",
       "      <th>110</th>\n",
       "      <td>0004a7fcb2bf73076489</td>\n",
       "      <td>If blacks support school choice and mandatory ...</td>\n",
       "      <td>1</td>\n",
       "    </tr>\n",
       "    <tr>\n",
       "      <th>114</th>\n",
       "      <td>00052793eaa287aff1e1</td>\n",
       "      <td>I am gay boy and I love my cousin (boy). He is...</td>\n",
       "      <td>1</td>\n",
       "    </tr>\n",
       "    <tr>\n",
       "      <th>115</th>\n",
       "      <td>000537213b01fd77b58a</td>\n",
       "      <td>Which races have the smallest penis?</td>\n",
       "      <td>1</td>\n",
       "    </tr>\n",
       "  </tbody>\n",
       "</table>\n",
       "</div>"
      ],
      "text/plain": [
       "                      qid  ...   target\n",
       "22   0000e91571b60c2fb487  ...        1\n",
       "30   00013ceca3f624b09f42  ...        1\n",
       "110  0004a7fcb2bf73076489  ...        1\n",
       "114  00052793eaa287aff1e1  ...        1\n",
       "115  000537213b01fd77b58a  ...        1\n",
       "\n",
       "[5 rows x 3 columns]"
      ]
     },
     "execution_count": 23,
     "metadata": {},
     "output_type": "execute_result"
    }
   ],
   "source": [
    "train[train['target']==1].head(5)"
   ]
  },
  {
   "cell_type": "markdown",
   "metadata": {
    "_uuid": "4b67d109a0cec1a5475b863bbce8aa3ac9d2d4fb"
   },
   "source": [
    "<a id=\"21\"></a> <br>\n",
    "## 6-3-1 Is data set imbalance?"
   ]
  },
  {
   "cell_type": "code",
   "execution_count": 24,
   "metadata": {
    "_uuid": "4218d492753322c50142021833efb24cfdfc6ad3"
   },
   "outputs": [
    {
     "data": {
      "text/plain": [
       "0.06187017751787352"
      ]
     },
     "execution_count": 24,
     "metadata": {},
     "output_type": "execute_result"
    }
   ],
   "source": [
    "train_target.mean()"
   ]
  },
  {
   "cell_type": "markdown",
   "metadata": {
    "_uuid": "8e058f90ca403f00d91d0405a7d8822dc7d6de55"
   },
   "source": [
    "A large part of the data is unbalanced, but **how can we  solve it?**"
   ]
  },
  {
   "cell_type": "code",
   "execution_count": 25,
   "metadata": {
    "_kg_hide-input": true,
    "_uuid": "dc6340ee1b637d192e29cbc8d3744ae6351b9c8b"
   },
   "outputs": [
    {
     "data": {
      "text/plain": [
       "0    1225312\n",
       "1      80810\n",
       "Name: target, dtype: int64"
      ]
     },
     "execution_count": 25,
     "metadata": {},
     "output_type": "execute_result"
    }
   ],
   "source": [
    "train[\"target\"].value_counts()\n",
    "# data is imbalance"
   ]
  },
  {
   "cell_type": "markdown",
   "metadata": {
    "_uuid": "c50c6c2683c5c08a6c9c34b75be61567d5993fa0"
   },
   "source": [
    "<a id=\"22\"></a> <br>\n",
    "## 6-3-2 Some Feature Engineering"
   ]
  },
  {
   "cell_type": "markdown",
   "metadata": {
    "_uuid": "c641754f26e07c368596af3054268f1b3b764921"
   },
   "source": [
    "[NLTK](https://www.nltk.org/) is one of the leading platforms for working with human language data and Python, the module NLTK is used for natural language processing. NLTK is literally an acronym for Natural Language Toolkit.\n",
    "\n",
    "We get a set of **English stop** words using the line"
   ]
  },
  {
   "cell_type": "code",
   "execution_count": 26,
   "metadata": {
    "_kg_hide-input": true,
    "_uuid": "10ca7d56255b95fc774fff5adf7b4273ec7a1ea2"
   },
   "outputs": [],
   "source": [
    "#from nltk.corpus import stopwords\n",
    "eng_stopwords = set(stopwords.words(\"english\"))"
   ]
  },
  {
   "cell_type": "markdown",
   "metadata": {
    "_uuid": "3f5af107041b279ce723761f37f4ffebae2b22a3"
   },
   "source": [
    "The returned list stopWords contains **179 stop words**  on my computer.\n",
    "You can view the length or contents of this array with the lines:"
   ]
  },
  {
   "cell_type": "code",
   "execution_count": 27,
   "metadata": {
    "_kg_hide-input": true,
    "_uuid": "eca2d53bfae70c55b3b5b0e2c244826465cb478b"
   },
   "outputs": [
    {
     "name": "stdout",
     "output_type": "stream",
     "text": [
      "179\n",
      "{'can', 'while', 'who', 'at', 'during', 'before', 'weren', 'we', 'few', 'more', 'herself', 'they', 'further', 'but', 'once', \"didn't\", 'against', 'for', 'them', 'off', 'their', 'now', 'a', 'why', 'if', 'no', 'didn', 'its', 'has', 've', 'her', 'which', 'should', 'most', 'when', 'same', \"it's\", 'me', 'between', 'after', 'as', 're', 'our', 'himself', 'whom', 'on', 'under', 'doesn', 'an', 'to', \"you'd\", 'through', 'o', 'be', 'isn', 'it', 'hadn', 'this', 'yourself', 'from', 'the', \"you've\", \"needn't\", \"weren't\", \"wouldn't\", 'up', 'about', 'such', 'd', 'hasn', 'wouldn', 'of', 'ours', 'only', 'shan', 'y', 'm', 'with', 'too', 'll', \"shan't\", 'was', 'very', 'not', 'am', 'into', 'being', 'theirs', \"haven't\", 'having', \"you're\", 'those', 'were', 'doing', 's', 'aren', 'myself', \"mustn't\", 'down', \"you'll\", 'been', 'here', 'ma', 'again', \"isn't\", \"shouldn't\", 'themselves', 'your', 'that', 'did', 'until', 'both', 'mightn', \"mightn't\", 'wasn', 'hers', 'itself', 'have', \"doesn't\", 'than', 'shouldn', 'own', 'or', \"that'll\", 'there', 'some', 't', 'below', 'will', 'in', 'yourselves', 'nor', 'don', 'because', 'mustn', \"hadn't\", 'just', 'ourselves', 'had', 'all', 'where', 'how', \"should've\", 'yours', 'i', \"she's\", 'you', 'are', 'couldn', 'other', 'then', 'so', \"don't\", \"wasn't\", 'these', \"couldn't\", 'any', 'he', 'she', \"aren't\", 'needn', 'over', 'his', 'is', 'each', \"hasn't\", 'does', 'by', 'what', 'ain', 'do', 'and', 'above', 'out', 'my', 'him', 'won', \"won't\", 'haven'}\n"
     ]
    }
   ],
   "source": [
    "print(len(eng_stopwords))\n",
    "print(eng_stopwords)"
   ]
  },
  {
   "cell_type": "markdown",
   "metadata": {
    "_uuid": "6f049c6d9633200496ed97f8066257849b4824da"
   },
   "source": [
    "The metafeatures that we'll create based on  SRK's  EDAs, [sudalairajkumar](http://http://www.kaggle.com/sudalairajkumar/simple-feature-engg-notebook-spooky-author) and [tunguz](https://www.kaggle.com/tunguz/just-some-simple-eda) are:\n",
    "* Number of words in the text\n",
    "* Number of unique words in the text\n",
    "* Number of characters in the text\n",
    "* Number of stopwords\n",
    "* Number of punctuations\n",
    "* Number of upper case words\n",
    "* Number of title case words\n",
    "* Average length of the words\n",
    "\n",
    "###### [Go to top](#top)"
   ]
  },
  {
   "cell_type": "markdown",
   "metadata": {
    "_uuid": "f4982fc699bcb147513c247b9f4d86b02902eded"
   },
   "source": [
    "Number of words in the text "
   ]
  },
  {
   "cell_type": "code",
   "execution_count": 28,
   "metadata": {
    "_kg_hide-input": true,
    "_uuid": "5b29fbd86ab48be6bd84fcac6fb6bca84d4b8792"
   },
   "outputs": [
    {
     "name": "stdout",
     "output_type": "stream",
     "text": [
      "maximum of num_words in train 134\n",
      "min of num_words in train 1\n",
      "maximum of  num_words in test 87\n",
      "min of num_words in train 2\n"
     ]
    }
   ],
   "source": [
    "train[\"num_words\"] = train[\"question_text\"].apply(lambda x: len(str(x).split()))\n",
    "test[\"num_words\"] = test[\"question_text\"].apply(lambda x: len(str(x).split()))\n",
    "print('maximum of num_words in train',train[\"num_words\"].max())\n",
    "print('min of num_words in train',train[\"num_words\"].min())\n",
    "print(\"maximum of  num_words in test\",test[\"num_words\"].max())\n",
    "print('min of num_words in train',test[\"num_words\"].min())\n"
   ]
  },
  {
   "cell_type": "markdown",
   "metadata": {
    "_uuid": "83becd8affc2abab2252e065f77c80dc0dcf53be"
   },
   "source": [
    "Number of unique words in the text"
   ]
  },
  {
   "cell_type": "code",
   "execution_count": 29,
   "metadata": {
    "_kg_hide-input": true,
    "_uuid": "72aebb943122982b891c959fa9fa36224adcb2fc"
   },
   "outputs": [
    {
     "name": "stdout",
     "output_type": "stream",
     "text": [
      "maximum of num_unique_words in train 96\n",
      "mean of num_unique_words in train 12.135776749798257\n",
      "maximum of num_unique_words in test 61\n",
      "mean of num_unique_words in train 12.096363313819408\n"
     ]
    }
   ],
   "source": [
    "train[\"num_unique_words\"] = train[\"question_text\"].apply(lambda x: len(set(str(x).split())))\n",
    "test[\"num_unique_words\"] = test[\"question_text\"].apply(lambda x: len(set(str(x).split())))\n",
    "print('maximum of num_unique_words in train',train[\"num_unique_words\"].max())\n",
    "print('mean of num_unique_words in train',train[\"num_unique_words\"].mean())\n",
    "print(\"maximum of num_unique_words in test\",test[\"num_unique_words\"].max())\n",
    "print('mean of num_unique_words in train',test[\"num_unique_words\"].mean())"
   ]
  },
  {
   "cell_type": "markdown",
   "metadata": {
    "_uuid": "cb2719fa417f2c3fabea9b6582081738ecdf678b"
   },
   "source": [
    "Number of characters in the text "
   ]
  },
  {
   "cell_type": "code",
   "execution_count": 30,
   "metadata": {
    "_kg_hide-input": true,
    "_uuid": "a7029af9cfed9eb2e624d7177887e111a71054ff"
   },
   "outputs": [
    {
     "name": "stdout",
     "output_type": "stream",
     "text": [
      "maximum of num_chars in train 1017\n",
      "maximum of num_chars in test 588\n"
     ]
    }
   ],
   "source": [
    "\n",
    "train[\"num_chars\"] = train[\"question_text\"].apply(lambda x: len(str(x)))\n",
    "test[\"num_chars\"] = test[\"question_text\"].apply(lambda x: len(str(x)))\n",
    "print('maximum of num_chars in train',train[\"num_chars\"].max())\n",
    "print(\"maximum of num_chars in test\",test[\"num_chars\"].max())"
   ]
  },
  {
   "cell_type": "markdown",
   "metadata": {
    "_uuid": "ddd289db2420b4f3fee7268fef94926688afd203"
   },
   "source": [
    "Number of stopwords in the text"
   ]
  },
  {
   "cell_type": "code",
   "execution_count": 31,
   "metadata": {
    "_kg_hide-input": true,
    "_uuid": "086e229b918087420c33b57c7ad51d6723cf70f7"
   },
   "outputs": [
    {
     "name": "stdout",
     "output_type": "stream",
     "text": [
      "maximum of num_stopwords in train 56\n",
      "maximum of num_stopwords in test 47\n"
     ]
    }
   ],
   "source": [
    "train[\"num_stopwords\"] = train[\"question_text\"].apply(lambda x: len([w for w in str(x).lower().split() if w in eng_stopwords]))\n",
    "test[\"num_stopwords\"] = test[\"question_text\"].apply(lambda x: len([w for w in str(x).lower().split() if w in eng_stopwords]))\n",
    "print('maximum of num_stopwords in train',train[\"num_stopwords\"].max())\n",
    "print(\"maximum of num_stopwords in test\",test[\"num_stopwords\"].max())"
   ]
  },
  {
   "cell_type": "markdown",
   "metadata": {
    "_uuid": "428a009f1a3b00b73ec7d6e8558aebc995e42594"
   },
   "source": [
    "Number of punctuations in the text"
   ]
  },
  {
   "cell_type": "code",
   "execution_count": 32,
   "metadata": {
    "_kg_hide-input": true,
    "_uuid": "947abd63c51d74dc33c2891fb1e1b9381d9da23c"
   },
   "outputs": [
    {
     "name": "stdout",
     "output_type": "stream",
     "text": [
      "maximum of num_punctuations in train 411\n",
      "maximum of num_punctuations in test 260\n"
     ]
    }
   ],
   "source": [
    "\n",
    "train[\"num_punctuations\"] =train['question_text'].apply(lambda x: len([c for c in str(x) if c in string.punctuation]) )\n",
    "test[\"num_punctuations\"] =test['question_text'].apply(lambda x: len([c for c in str(x) if c in string.punctuation]) )\n",
    "print('maximum of num_punctuations in train',train[\"num_punctuations\"].max())\n",
    "print(\"maximum of num_punctuations in test\",test[\"num_punctuations\"].max())"
   ]
  },
  {
   "cell_type": "markdown",
   "metadata": {
    "_uuid": "a93e8fd32c2ff7dffd81f62ff3b6b3a5975d6836"
   },
   "source": [
    "Number of title case words in the text"
   ]
  },
  {
   "cell_type": "code",
   "execution_count": 33,
   "metadata": {
    "_kg_hide-input": true,
    "_uuid": "82c95fcf5848ca383a6a84501fe74fef371392d1"
   },
   "outputs": [
    {
     "name": "stdout",
     "output_type": "stream",
     "text": [
      "maximum of num_words_upper in train 37\n",
      "maximum of num_words_upper in test 36\n"
     ]
    }
   ],
   "source": [
    "\n",
    "train[\"num_words_upper\"] = train[\"question_text\"].apply(lambda x: len([w for w in str(x).split() if w.isupper()]))\n",
    "test[\"num_words_upper\"] = test[\"question_text\"].apply(lambda x: len([w for w in str(x).split() if w.isupper()]))\n",
    "print('maximum of num_words_upper in train',train[\"num_words_upper\"].max())\n",
    "print(\"maximum of num_words_upper in test\",test[\"num_words_upper\"].max())"
   ]
  },
  {
   "cell_type": "markdown",
   "metadata": {
    "_uuid": "5bc4c2b642cb8adf12fd6dbb01616079a454d384"
   },
   "source": [
    "Number of title case words in the text"
   ]
  },
  {
   "cell_type": "code",
   "execution_count": 34,
   "metadata": {
    "_kg_hide-input": true,
    "_uuid": "b938bdcfe7c418f5b4d57c9fd21c77d8bf4d3f06"
   },
   "outputs": [
    {
     "name": "stdout",
     "output_type": "stream",
     "text": [
      "maximum of num_words_title in train 37\n",
      "maximum of num_words_title in test 24\n"
     ]
    }
   ],
   "source": [
    "\n",
    "train[\"num_words_title\"] = train[\"question_text\"].apply(lambda x: len([w for w in str(x).split() if w.istitle()]))\n",
    "test[\"num_words_title\"] = test[\"question_text\"].apply(lambda x: len([w for w in str(x).split() if w.istitle()]))\n",
    "print('maximum of num_words_title in train',train[\"num_words_title\"].max())\n",
    "print(\"maximum of num_words_title in test\",test[\"num_words_title\"].max())"
   ]
  },
  {
   "cell_type": "markdown",
   "metadata": {
    "_uuid": "2c81bb79d34d242f74b8ed650a8998efdb29e38b"
   },
   "source": [
    " Average length of the words in the text "
   ]
  },
  {
   "cell_type": "code",
   "execution_count": 35,
   "metadata": {
    "_kg_hide-input": true,
    "_uuid": "3058236ff8702754ee4132f7eb705dd54f354af4"
   },
   "outputs": [
    {
     "name": "stdout",
     "output_type": "stream",
     "text": [
      "mean_word_len in train 57.666666666666664\n",
      "mean_word_len in test 29.333333333333332\n"
     ]
    }
   ],
   "source": [
    "\n",
    "train[\"mean_word_len\"] = train[\"question_text\"].apply(lambda x: np.mean([len(w) for w in str(x).split()]))\n",
    "test[\"mean_word_len\"] = test[\"question_text\"].apply(lambda x: np.mean([len(w) for w in str(x).split()]))\n",
    "print('mean_word_len in train',train[\"mean_word_len\"].max())\n",
    "print(\"mean_word_len in test\",test[\"mean_word_len\"].max())"
   ]
  },
  {
   "cell_type": "markdown",
   "metadata": {
    "_uuid": "c91162602814ba230ab9fe30f9941ac6409133b9"
   },
   "source": [
    "we add some new feature to train and test data set now, print columns agains"
   ]
  },
  {
   "cell_type": "code",
   "execution_count": 36,
   "metadata": {
    "_uuid": "05cae032149a7c79a92a3b2bf80185c483d0e976"
   },
   "outputs": [
    {
     "name": "stdout",
     "output_type": "stream",
     "text": [
      "Index(['qid', 'question_text', 'target', 'num_words', 'num_unique_words',\n",
      "       'num_chars', 'num_stopwords', 'num_punctuations', 'num_words_upper',\n",
      "       'num_words_title', 'mean_word_len'],\n",
      "      dtype='object')\n"
     ]
    },
    {
     "data": {
      "text/html": [
       "<div>\n",
       "<style scoped>\n",
       "    .dataframe tbody tr th:only-of-type {\n",
       "        vertical-align: middle;\n",
       "    }\n",
       "\n",
       "    .dataframe tbody tr th {\n",
       "        vertical-align: top;\n",
       "    }\n",
       "\n",
       "    .dataframe thead th {\n",
       "        text-align: right;\n",
       "    }\n",
       "</style>\n",
       "<table border=\"1\" class=\"dataframe\">\n",
       "  <thead>\n",
       "    <tr style=\"text-align: right;\">\n",
       "      <th></th>\n",
       "      <th>qid</th>\n",
       "      <th>question_text</th>\n",
       "      <th>target</th>\n",
       "      <th>num_words</th>\n",
       "      <th>num_unique_words</th>\n",
       "      <th>num_chars</th>\n",
       "      <th>num_stopwords</th>\n",
       "      <th>num_punctuations</th>\n",
       "      <th>num_words_upper</th>\n",
       "      <th>num_words_title</th>\n",
       "      <th>mean_word_len</th>\n",
       "    </tr>\n",
       "  </thead>\n",
       "  <tbody>\n",
       "    <tr>\n",
       "      <th>0</th>\n",
       "      <td>00002165364db923c7e6</td>\n",
       "      <td>How did Quebec nationalists see their province...</td>\n",
       "      <td>0</td>\n",
       "      <td>13</td>\n",
       "      <td>13</td>\n",
       "      <td>72</td>\n",
       "      <td>7</td>\n",
       "      <td>1</td>\n",
       "      <td>0</td>\n",
       "      <td>2</td>\n",
       "      <td>4.615385</td>\n",
       "    </tr>\n",
       "  </tbody>\n",
       "</table>\n",
       "</div>"
      ],
      "text/plain": [
       "                    qid      ...      mean_word_len\n",
       "0  00002165364db923c7e6      ...           4.615385\n",
       "\n",
       "[1 rows x 11 columns]"
      ]
     },
     "execution_count": 36,
     "metadata": {},
     "output_type": "execute_result"
    }
   ],
   "source": [
    "print(train.columns)\n",
    "train.head(1)"
   ]
  },
  {
   "cell_type": "markdown",
   "metadata": {
    "_uuid": "aa882e5bcdc7d5f440489eff75d1d225269655a4"
   },
   "source": [
    "**<< Note >>**\n",
    ">**Preprocessing and generation pipelines depend on a model type**"
   ]
  },
  {
   "cell_type": "markdown",
   "metadata": {
    "_uuid": "055772bd170aa8018aabd85106b76675802c33b3"
   },
   "source": [
    "<a id=\"23\"></a> <br>\n",
    "## 6-4 Data Visualization\n",
    "**Data visualization**  is the presentation of data in a pictorial or graphical format. It enables decision makers to see analytics presented visually, so they can grasp difficult concepts or identify new patterns.\n",
    "\n",
    "> * Two** important rules** for Data visualization:\n",
    ">     1. Do not put too little information\n",
    ">     1. Do not put too much information\n",
    "\n",
    "###### [Go to top](#top)"
   ]
  },
  {
   "cell_type": "markdown",
   "metadata": {
    "_uuid": "5d991f5a4a9e4fffcbcee4a51b3cf1cd95007427"
   },
   "source": [
    "<a id=\"61\"></a> <br>\n",
    "## 6-4-1 countplot"
   ]
  },
  {
   "cell_type": "code",
   "execution_count": 37,
   "metadata": {
    "_kg_hide-input": true,
    "_uuid": "1b54931579ed4e3004369a59fe9c6f23b97719de"
   },
   "outputs": [
    {
     "data": {
      "image/png": "[encoded data removed]",
      "text/plain": [
       "<Figure size 432x288 with 1 Axes>"
      ]
     },
     "metadata": {},
     "output_type": "display_data"
    }
   ],
   "source": [
    "ax=sns.countplot(x='target',hue=\"target\", data=train  ,linewidth=5,edgecolor=sns.color_palette(\"dark\", 3))\n",
    "plt.title('Is data set imbalance?');"
   ]
  },
  {
   "cell_type": "code",
   "execution_count": 38,
   "metadata": {
    "_kg_hide-input": true,
    "_uuid": "eb15e8fed181179a086bf0db7dc21eaabb4eb088"
   },
   "outputs": [
    {
     "data": {
      "image/png": "[encoded data removed]",
      "text/plain": [
       "<Figure size 432x288 with 1 Axes>"
      ]
     },
     "metadata": {},
     "output_type": "display_data"
    }
   ],
   "source": [
    "ax = sns.countplot(y=\"target\", hue=\"target\", data=train)\n",
    "plt.title('Is data set imbalance?');"
   ]
  },
  {
   "cell_type": "markdown",
   "metadata": {
    "_uuid": "be2b936baaa6dcc2d574a861c75584ed04d3589e"
   },
   "source": [
    "<a id=\"62\"></a> <br>\n",
    "## 6-4-2  pie plot"
   ]
  },
  {
   "cell_type": "code",
   "execution_count": 39,
   "metadata": {
    "_kg_hide-input": true,
    "_uuid": "4a2332f8c87da0a4f8cc31f587ce547470a0d615"
   },
   "outputs": [
    {
     "data": {
      "image/png": "[encoded data removed]",
      "text/plain": [
       "<Figure size 432x288 with 1 Axes>"
      ]
     },
     "metadata": {},
     "output_type": "display_data"
    }
   ],
   "source": [
    "\n",
    "ax=train['target'].value_counts().plot.pie(explode=[0,0.1],autopct='%1.1f%%' ,shadow=True)\n",
    "ax.set_title('target')\n",
    "ax.set_ylabel('')\n",
    "plt.show()"
   ]
  },
  {
   "cell_type": "code",
   "execution_count": 40,
   "metadata": {
    "_uuid": "ee5a0017d867f90a5b89a78866582e73ceef5a05"
   },
   "outputs": [],
   "source": [
    "#plt.pie(train['target'],autopct='%1.1f%%')\n",
    " \n",
    "#plt.axis('equal')\n",
    "#plt.show()"
   ]
  },
  {
   "cell_type": "markdown",
   "metadata": {
    "_uuid": "fbe8c50bcc1b632f42dd249e27a9a7c14517fd29"
   },
   "source": [
    "<a id=\"63\"></a> <br>\n",
    "## 6-4-3  Histogram"
   ]
  },
  {
   "cell_type": "code",
   "execution_count": 41,
   "metadata": {
    "_kg_hide-input": true,
    "_uuid": "e41be26587175bee1bfe63e43eca1dd3f445c082"
   },
   "outputs": [
    {
     "data": {
      "image/png": "[encoded data removed]",
      "text/plain": [
       "<Figure size 1440x720 with 2 Axes>"
      ]
     },
     "metadata": {},
     "output_type": "display_data"
    }
   ],
   "source": [
    "f,ax=plt.subplots(1,2,figsize=(20,10))\n",
    "train[train['target']==0].num_words.plot.hist(ax=ax[0],bins=20,edgecolor='black',color='red')\n",
    "ax[0].set_title('target= 0')\n",
    "x1=list(range(0,85,5))\n",
    "ax[0].set_xticks(x1)\n",
    "train[train['target']==1].num_words.plot.hist(ax=ax[1],color='green',bins=20,edgecolor='black')\n",
    "ax[1].set_title('target= 1')\n",
    "x2=list(range(0,85,5))\n",
    "ax[1].set_xticks(x2)\n",
    "plt.show()"
   ]
  },
  {
   "cell_type": "code",
   "execution_count": 42,
   "metadata": {
    "_kg_hide-input": true,
    "_uuid": "a7d0a12e7f719781cd09e0d6df6ae1e780a6b1ab"
   },
   "outputs": [
    {
     "data": {
      "image/png": "[encoded data removed]",
      "text/plain": [
       "<Figure size 1296x576 with 2 Axes>"
      ]
     },
     "metadata": {},
     "output_type": "display_data"
    }
   ],
   "source": [
    "f,ax=plt.subplots(1,2,figsize=(18,8))\n",
    "train[['target','num_words']].groupby(['target']).mean().plot.bar(ax=ax[0])\n",
    "ax[0].set_title('num_words vs Sex')\n",
    "sns.countplot('num_words',hue='target',data=train,ax=ax[1])\n",
    "ax[1].set_title('num_words:target=0 vs target=1')\n",
    "plt.show()"
   ]
  },
  {
   "cell_type": "code",
   "execution_count": 43,
   "metadata": {
    "_kg_hide-input": true,
    "_uuid": "7870ad9dc4a007463301513963d6a2c1fe978aa4"
   },
   "outputs": [
    {
     "data": {
      "text/plain": [
       "<Figure size 432x288 with 0 Axes>"
      ]
     },
     "execution_count": 43,
     "metadata": {},
     "output_type": "execute_result"
    },
    {
     "data": {
      "image/png": "[encoded data removed]",
      "text/plain": [
       "<Figure size 1080x1440 with 9 Axes>"
      ]
     },
     "metadata": {},
     "output_type": "display_data"
    },
    {
     "data": {
      "text/plain": [
       "<Figure size 432x288 with 0 Axes>"
      ]
     },
     "metadata": {},
     "output_type": "display_data"
    }
   ],
   "source": [
    "# histograms\n",
    "train.hist(figsize=(15,20))\n",
    "plt.figure()"
   ]
  },
  {
   "cell_type": "code",
   "execution_count": 44,
   "metadata": {
    "_kg_hide-input": true,
    "_uuid": "e065ebff5374a9ab83df9c099a05962eb3645934"
   },
   "outputs": [
    {
     "data": {
      "image/png": "[encoded data removed]",
      "text/plain": [
       "<Figure size 432x288 with 1 Axes>"
      ]
     },
     "metadata": {},
     "output_type": "display_data"
    }
   ],
   "source": [
    "train[\"num_words\"].hist();"
   ]
  },
  {
   "cell_type": "markdown",
   "metadata": {
    "_uuid": "a0df20cff46a2bcdeef476e797d1535fd66850c4"
   },
   "source": [
    "<a id=\"64\"></a> <br>\n",
    "## 6-4-4 violin plot"
   ]
  },
  {
   "cell_type": "code",
   "execution_count": 45,
   "metadata": {
    "_kg_hide-input": true,
    "_uuid": "fe8ca6c82ce44d745ad1ebc942826cf03e2d9895"
   },
   "outputs": [
    {
     "data": {
      "text/plain": [
       "<matplotlib.axes._subplots.AxesSubplot at 0x7fae33106f28>"
      ]
     },
     "execution_count": 45,
     "metadata": {},
     "output_type": "execute_result"
    },
    {
     "data": {
      "image/png": "[encoded data removed]",
      "text/plain": [
       "<Figure size 432x288 with 1 Axes>"
      ]
     },
     "metadata": {},
     "output_type": "display_data"
    }
   ],
   "source": [
    "sns.violinplot(data=train,x=\"target\", y=\"num_words\")"
   ]
  },
  {
   "cell_type": "markdown",
   "metadata": {
    "_uuid": "b08771239bf613afa9f89457fdf25c044279940e"
   },
   "source": [
    "<a id=\"65\"></a> <br>\n",
    "## 6-4-5 kdeplot"
   ]
  },
  {
   "cell_type": "code",
   "execution_count": null,
   "metadata": {
    "_kg_hide-input": true,
    "_uuid": "92f2ce0f1ff05002d196522a6a62579f0dba6ef3"
   },
   "outputs": [],
   "source": [
    "sns.FacetGrid(train, hue=\"target\", size=5).map(sns.kdeplot, \"num_words\").add_legend()\n",
    "plt.show()"
   ]
  },
  {
   "cell_type": "markdown",
   "metadata": {
    "_uuid": "72cc7c7b60a33390a85b16bc34e3b9e424650cdd"
   },
   "source": [
    "<a id=\"24\"></a> <br>\n",
    "## 7- Apply Learning\n",
    "Coming soon"
   ]
  },
  {
   "cell_type": "markdown",
   "metadata": {
    "_uuid": "97adc471c068fbd8d36ca19a4db0d98b0924c731"
   },
   "source": [
    "-----------------\n",
    "<a id=\"25\"></a> <br>\n",
    "# 8- Conclusion"
   ]
  },
  {
   "cell_type": "markdown",
   "metadata": {
    "_uuid": "1adfb5ba84e0f1d8fba58a2fca30546ead095047",
    "collapsed": true
   },
   "source": [
    "This kernel is not completed yet , I have tried to cover all the parts related to the process of **Quora problem** with a variety of Python packages and I know that there are still some problems then I hope to get your feedback to improve it.\n"
   ]
  },
  {
   "cell_type": "markdown",
   "metadata": {
    "_uuid": "cf3679a51c72dbe2d2549b5fe97e4ac5f1fa0fa0"
   },
   "source": [
    "you can Fork and Run this kernel on Github:\n",
    "> ###### [ GitHub](https://github.com/mjbahmani/10-steps-to-become-a-data-scientist)\n",
    "\n",
    "--------------------------------------\n",
    "\n",
    " **I hope you find this kernel helpful and some <font color=\"red\"><b>UPVOTES</b></font> would be very much appreciated** "
   ]
  },
  {
   "cell_type": "markdown",
   "metadata": {
    "_cell_guid": "79c7e3d0-c299-4dcb-8224-4455121ee9b0",
    "_uuid": "d629ff2d2480ee46fbb7e2d37f6b5fab8052498a",
    "collapsed": true
   },
   "source": [
    "<a id=\"26\"></a> <br>\n",
    "\n",
    "-----------\n",
    "\n",
    "# 9- References\n",
    "## 9-1 Kaggle's Kernels\n",
    "**In the end , I want to thank all the kernels I've used in this notebook**:\n",
    "1. [SRK](https://www.kaggle.com/sudalairajkumar/simple-exploration-notebook-qiqc)\n",
    "1. [mihaskalic](https://www.kaggle.com/mihaskalic/lstm-is-all-you-need-well-maybe-embeddings-also)\n",
    "1. [artgor](https://www.kaggle.com/artgor/eda-and-lstm-cnn)\n",
    "1. [tunguz](https://www.kaggle.com/tunguz/just-some-simple-eda)\n",
    "\n",
    "## 9-2 other references\n",
    "\n",
    "1. [Machine Learning Certification by Stanford University (Coursera)](https://www.coursera.org/learn/machine-learning/)\n",
    "\n",
    "1. [Machine Learning A-Z™: Hands-On Python & R In Data Science (Udemy)](https://www.udemy.com/machinelearning/)\n",
    "\n",
    "1. [Deep Learning Certification by Andrew Ng from deeplearning.ai (Coursera)](https://www.coursera.org/specializations/deep-learning)\n",
    "\n",
    "1. [Python for Data Science and Machine Learning Bootcamp (Udemy)](Python for Data Science and Machine Learning Bootcamp (Udemy))\n",
    "\n",
    "1. [Mathematics for Machine Learning by Imperial College London](https://www.coursera.org/specializations/mathematics-machine-learning)\n",
    "\n",
    "1. [Deep Learning A-Z™: Hands-On Artificial Neural Networks](https://www.udemy.com/deeplearning/)\n",
    "\n",
    "1. [Complete Guide to TensorFlow for Deep Learning Tutorial with Python](https://www.udemy.com/complete-guide-to-tensorflow-for-deep-learning-with-python/)\n",
    "\n",
    "1. [Data Science and Machine Learning Tutorial with Python – Hands On](https://www.udemy.com/data-science-and-machine-learning-with-python-hands-on/)\n",
    "-------------\n",
    "###### [Go to top](#top)"
   ]
  },
  {
   "cell_type": "markdown",
   "metadata": {
    "_uuid": "3218340bb7dfc4ab53987820284a5c2b1c34eb45"
   },
   "source": [
    "### The kernel is not complete and will be updated soon  !!!"
   ]
  }
 ],
 "metadata": {
  "kernelspec": {
   "display_name": "Python 3",
   "language": "python",
   "name": "python3"
  },
  "language_info": {
   "codemirror_mode": {
    "name": "ipython",
    "version": 3
   },
   "file_extension": ".py",
   "mimetype": "text/x-python",
   "name": "python",
   "nbconvert_exporter": "python",
   "pygments_lexer": "ipython3",
   "version": "3.7.3"
  }
 },
 "nbformat": 4,
 "nbformat_minor": 1
}
