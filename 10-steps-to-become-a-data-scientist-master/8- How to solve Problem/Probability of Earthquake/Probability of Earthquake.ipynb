{
  "cells": [
    {
      "metadata": {
        "_uuid": "8f2839f25d086af736a60e9eeb907d3b93b6e0e5",
        "_cell_guid": "b1076dfc-b9ad-4769-8c92-a6c4dae69d19",
        "trusted": true
      },
      "cell_type": "markdown",
      "source": " #  <div style=\"text-align: center\">Probability of Earthquake: EDA, FE, +5 Models </div> \n<img src='http://s8.picofile.com/file/8355280718/pro.png' width=400 height=400>\n<div style=\"text-align:center\"> last update: <b>25/03/2019</b></div>\n\n\n\nYou can Fork code  and  Follow me on:\n\n> ###### [ GitHub](https://github.com/mjbahmani/10-steps-to-become-a-data-scientist)\n> ###### [Kaggle](https://www.kaggle.com/mjbahmani/)\n-------------------------------------------------------------------------------------------------------------\n <b> I hope you find this kernel helpful and some <font color='red'>UPVOTES</font> would be very much appreciated.</b>\n    \n -----------"
    },
    {
      "metadata": {
        "_cell_guid": "79c7e3d0-c299-4dcb-8224-4455121ee9b0",
        "collapsed": true,
        "_uuid": "d629ff2d2480ee46fbb7e2d37f6b5fab8052498a",
        "trusted": false
      },
      "cell_type": "markdown",
      "source": " <a id=\"top\"></a> <br>\n## Notebook  Content\n1. [Introduction](#1)\n1. [Load packages](#2)\n    1. [import](21)\n    1. [Setup](22)\n    1. [Version](23)\n1. [Problem Definition](#3)\n    1. [Problem Feature](#31)\n    1. [Aim](#32)\n    1. [Variables](#33)\n    1. [Evaluation](#34)\n1. [Exploratory Data Analysis(EDA)](#4)\n    1. [Data Collection](#41)\n    1. [Visualization](#42)\n        1. [Hist](#421)\n        1. [Time to failure histogram](#422)\n        1. [Distplot](#423)\n        1. [kdeplot](#424)\n    1. [Data Preprocessing](#43)\n        1. [Create new feature](#431)\n    1. [ML Explainability](#44)\n        1. [Permutation Importance](#441)\n        1. [Partial Dependence Plots](#442)\n        1. [SHAP Values](#443)\n1. [Model Development](#5)\n    1. [SVM](#51)\n    1. [LGBM](#52)\n    1. [Catboost](#53)\n1. [Submission](#6)\n    1. [Blending](#61)\n1. [References](#7)\n    1. [References](#71)\n"
    },
    {
      "metadata": {
        "_uuid": "af63d485947264b68c37768c73ffac21bb631c0f"
      },
      "cell_type": "markdown",
      "source": " <a id=\"1\"></a> <br>\n## 1- Introduction\n**Forecasting earthquakes** is one of the most important problems in **Earth science**. If you agree, the earthquake forecast is likely to be related to the concepts of **probability**. In this kernel, I try to look at the prediction of the earthquake with the **help** of the concepts of **probability** .\n<img src='https://www.preventionweb.net/files/52472_largeImage.jpg' width=600 height=600 >\nFor anyone taking first steps in data science, **Probability** is a must know concept. Concepts of probability theory are the backbone of many important concepts in data science like inferential statistics to Bayesian networks. It would not be wrong to say that the journey of mastering statistics begins with **probability**.\n\nBefore starting, I have to point out that I used the following great kernel:\n[https://www.kaggle.com/inversion/basic-feature-benchmark](https://www.kaggle.com/inversion/basic-feature-benchmark)"
    },
    {
      "metadata": {
        "_uuid": "733f1f0e45933f46a674df4d9ee6561de156d748"
      },
      "cell_type": "markdown",
      "source": " <a id=\"2\"></a> <br>\n ## 2- Load packages\n  <a id=\"21\"></a> <br>\n## 2-1 Import"
    },
    {
      "metadata": {
        "_kg_hide-input": true,
        "trusted": true,
        "_uuid": "7646c73810d475601436c096d36498cfaa489ec4"
      },
      "cell_type": "code",
      "source": "from sklearn.model_selection import StratifiedKFold, KFold, RepeatedKFold\nfrom sklearn.model_selection import train_test_split\nfrom sklearn.ensemble import RandomForestRegressor\nfrom sklearn.preprocessing import StandardScaler\nfrom sklearn.metrics import mean_absolute_error\nfrom eli5.sklearn import PermutationImportance\nfrom sklearn.tree import DecisionTreeRegressor\nfrom catboost import CatBoostRegressor,Pool\nimport matplotlib.patches as patch\nfrom scipy.stats import kurtosis\nimport matplotlib.pyplot as plt\nfrom sklearn.svm import NuSVR\nfrom scipy.stats import skew\nfrom scipy.stats import norm\nfrom scipy import linalg\nfrom sklearn import tree\nfrom sklearn import svm\nimport lightgbm as lgb\nimport xgboost as xgb\nfrom tqdm import tqdm\nimport seaborn as sns\nimport pandas as pd\nimport numpy as np\nimport graphviz\nimport warnings\nimport random\nimport eli5\nimport shap  # package used to calculate Shap values\nimport time\nimport glob\nimport sys\nimport os",
      "execution_count": 113,
      "outputs": []
    },
    {
      "metadata": {
        "_uuid": "ec9e63f88e677ed60bfe5a8de4bb0b2a8be8b00a"
      },
      "cell_type": "markdown",
      "source": " <a id=\"22\"></a> <br>\n##  2-2 Setup"
    },
    {
      "metadata": {
        "_kg_hide-input": true,
        "trusted": true,
        "_uuid": "16768a965c3ced6a76d33642e11ecae18f5977e8"
      },
      "cell_type": "code",
      "source": "%matplotlib inline\n%precision 4\nwarnings.filterwarnings('ignore')\nplt.style.use('ggplot')\nnp.set_printoptions(suppress=True)\npd.set_option(\"display.precision\", 15)",
      "execution_count": 114,
      "outputs": []
    },
    {
      "metadata": {
        "_uuid": "9bcec14c7403174f2a9fdab866ea8248aa76328d"
      },
      "cell_type": "markdown",
      "source": " <a id=\"23\"></a> <br>\n## 2-3 Version\n"
    },
    {
      "metadata": {
        "_kg_hide-input": true,
        "trusted": true,
        "_uuid": "4644581a5ce6c2c98ec2668a95037742b189c318"
      },
      "cell_type": "code",
      "source": "print('pandas: {}'.format(pd.__version__))\nprint('numpy: {}'.format(np.__version__))\nprint('Python: {}'.format(sys.version))",
      "execution_count": 115,
      "outputs": [
        {
          "output_type": "stream",
          "text": "pandas: 0.23.4\nnumpy: 1.16.2\nPython: 3.6.6 |Anaconda, Inc.| (default, Oct  9 2018, 12:34:16) \n[GCC 7.3.0]\n",
          "name": "stdout"
        }
      ]
    },
    {
      "metadata": {
        "_uuid": "ccfe7d54dac0cf31125a49b1981d25a69e679db0"
      },
      "cell_type": "markdown",
      "source": "<a id=\"3\"></a> \n<br>\n## 3- Problem Definition\nI think one of the important things when you start a new machine learning project is Defining your problem. that means you should understand business problem.( **Problem Formalization**)\n\nProblem Definition has four steps that have illustrated in the picture below:\n<img src=\"http://s8.picofile.com/file/8344103134/Problem_Definition2.png\" width=400 height=400>\n\n> <font color='red'>Note</font> : **Current scientific studies related to earthquake forecasting focus on three key points:** \n1. when the event will occur\n1. where it will occur\n1. how large it will be.\n"
    },
    {
      "metadata": {
        "_uuid": "dc84d5445dab932c46e2c5dfe86f2131e98aa0f1"
      },
      "cell_type": "markdown",
      "source": "<a id=\"31\"></a> \n### 3-1 Problem Feature\n\n1.     Train.csv - A single, continuous training segment of experimental data.\n1.     Test - A folder containing many small segments of test data.\n1.     Slample_sumbission.csv - A sample submission file in the correct format.\n"
    },
    {
      "metadata": {
        "_uuid": "449535074de09edf5cdccb5a63539661fff29be6"
      },
      "cell_type": "markdown",
      "source": "<a id=\"32\"></a> \n### 3-2 Aim\nIn this competition, you will address <font color='red'><b>WHEN</b></font> the earthquake will take place."
    },
    {
      "metadata": {
        "_uuid": "184d1004ff1f90fdf9d475cbb37ea94b89dd2567"
      },
      "cell_type": "markdown",
      "source": "<a id=\"33\"></a> \n### 3-3 Variables\n\n1.     **acoustic_data** - the seismic signal [int16]\n1.     **time_to_failure** - the time (in seconds) until the next laboratory earthquake [float64]\n1.     **seg_id**- the test segment ids for which predictions should be made (one prediction per segment)\n"
    },
    {
      "metadata": {
        "_uuid": "81b77e49bae78bad2c31bc2ce101c1fff8296af0"
      },
      "cell_type": "markdown",
      "source": "<a id=\"34\"></a> \n### 3-4 Evaluation\nSubmissions are evaluated using the [**mean absolute error**](https://en.wikipedia.org/wiki/Mean_absolute_error) between the predicted time remaining before the next lab earthquake and the act remaining time.\n<img src='https://wikimedia.org/api/rest_v1/media/math/render/svg/3ef87b78a9af65e308cf4aa9acf6f203efbdeded'>"
    },
    {
      "metadata": {
        "_uuid": "f8a54abda5d2e30c5cdb25c554bef1f8a341482c"
      },
      "cell_type": "markdown",
      "source": "<a id=\"4\"></a> \n## 4- Exploratory Data Analysis(EDA)\n In this section, we'll analysis how to use graphical and numerical techniques to begin uncovering the structure of your data. \n \n1. Which variables suggest interesting relationships?\n1. Which observations are unusual?\n1. Analysis of the features!\nBy the end of the section, you'll be able to answer these questions and more, while generating graphics that are both insightful and beautiful.  then We will review analytical and statistical operations:\n\n1. Data Collection\n1. Visualization\n1. Data Preprocessing\n1. Data Cleaning"
    },
    {
      "metadata": {
        "_uuid": "c90af9d21a49adcbd478c56871149f1282c58b7f"
      },
      "cell_type": "markdown",
      "source": " <a id=\"41\"></a> <br>\n## 4-1 Data Collection"
    },
    {
      "metadata": {
        "_uuid": "1d06b13feac1d9696419bb9e9d2f1615dfa8b6ea"
      },
      "cell_type": "markdown",
      "source": "What we have in input!"
    },
    {
      "metadata": {
        "_kg_hide-input": true,
        "trusted": true,
        "_uuid": "1c883e09dbe7e4b4d7caeb2cf380ec0f07209531"
      },
      "cell_type": "code",
      "source": "print(os.listdir(\"../input/\"))",
      "execution_count": 116,
      "outputs": [
        {
          "output_type": "stream",
          "text": "['test', 'train.csv', 'sample_submission.csv']\n",
          "name": "stdout"
        }
      ]
    },
    {
      "metadata": {
        "trusted": true,
        "_uuid": "4b43e8d926e4684a198791c5423b4af2846ecd63"
      },
      "cell_type": "code",
      "source": "%%time\ntrain = pd.read_csv('../input/train.csv' , dtype={'acoustic_data': np.int16, 'time_to_failure': np.float32})",
      "execution_count": 117,
      "outputs": [
        {
          "output_type": "stream",
          "text": "CPU times: user 2min 22s, sys: 20.2 s, total: 2min 42s\nWall time: 2min 42s\n",
          "name": "stdout"
        }
      ]
    },
    {
      "metadata": {
        "trusted": true,
        "_uuid": "2f9b4215e853b382dabd1f3de911e3f8b88bb0ed"
      },
      "cell_type": "code",
      "source": "print(\"Train has: rows:{} cols:{}\".format(train.shape[0], train.shape[1]))",
      "execution_count": 118,
      "outputs": [
        {
          "output_type": "stream",
          "text": "Train has: rows:629145480 cols:2\n",
          "name": "stdout"
        }
      ]
    },
    {
      "metadata": {
        "_kg_hide-input": true,
        "trusted": true,
        "_uuid": "9be60393f64121beb23124bdec3cef638436e788"
      },
      "cell_type": "code",
      "source": "submission = pd.read_csv('../input/sample_submission.csv', index_col='seg_id')\nsubmission.head()",
      "execution_count": 119,
      "outputs": [
        {
          "output_type": "execute_result",
          "execution_count": 119,
          "data": {
            "text/plain": "            time_to_failure\nseg_id                     \nseg_00030f                0\nseg_0012b5                0\nseg_00184e                0\nseg_003339                0\nseg_0042cc                0",
            "text/html": "<div>\n<style scoped>\n    .dataframe tbody tr th:only-of-type {\n        vertical-align: middle;\n    }\n\n    .dataframe tbody tr th {\n        vertical-align: top;\n    }\n\n    .dataframe thead th {\n        text-align: right;\n    }\n</style>\n<table border=\"1\" class=\"dataframe\">\n  <thead>\n    <tr style=\"text-align: right;\">\n      <th></th>\n      <th>time_to_failure</th>\n    </tr>\n    <tr>\n      <th>seg_id</th>\n      <th></th>\n    </tr>\n  </thead>\n  <tbody>\n    <tr>\n      <th>seg_00030f</th>\n      <td>0</td>\n    </tr>\n    <tr>\n      <th>seg_0012b5</th>\n      <td>0</td>\n    </tr>\n    <tr>\n      <th>seg_00184e</th>\n      <td>0</td>\n    </tr>\n    <tr>\n      <th>seg_003339</th>\n      <td>0</td>\n    </tr>\n    <tr>\n      <th>seg_0042cc</th>\n      <td>0</td>\n    </tr>\n  </tbody>\n</table>\n</div>"
          },
          "metadata": {}
        }
      ]
    },
    {
      "metadata": {
        "trusted": true,
        "_uuid": "7d48322bf440e94dc7dbcce6bd9e044ec4a8552c"
      },
      "cell_type": "code",
      "source": "print(\"submission has: rows:{} cols:{}\".format(submission.shape[0], submission.shape[1]))",
      "execution_count": 120,
      "outputs": [
        {
          "output_type": "stream",
          "text": "submission has: rows:2624 cols:1\n",
          "name": "stdout"
        }
      ]
    },
    {
      "metadata": {
        "_uuid": "a5a1a5ff95e179a776eff92f2c7a32d23c759b54"
      },
      "cell_type": "markdown",
      "source": "### There are 2624 files in test.zip."
    },
    {
      "metadata": {
        "trusted": true,
        "_uuid": "eec8b5f8eb051a61c9724e38431b536b0fddad4d"
      },
      "cell_type": "code",
      "source": "len(os.listdir(os.path.join('../input/', 'test')))",
      "execution_count": 121,
      "outputs": [
        {
          "output_type": "execute_result",
          "execution_count": 121,
          "data": {
            "text/plain": "2624"
          },
          "metadata": {}
        }
      ]
    },
    {
      "metadata": {
        "_uuid": "85741d0edc4c03112b60230663699d2f4c3fe73d"
      },
      "cell_type": "markdown",
      "source": "Also we have **2624**  row same as number of test files in submission , so this clear that we should predict **time_to_failure** for all of test files."
    },
    {
      "metadata": {
        "_uuid": "e0c43159a9a35be28414b553146652d9d2769177"
      },
      "cell_type": "markdown",
      "source": "## Memory usage: 3.5 GB"
    },
    {
      "metadata": {
        "trusted": true,
        "_uuid": "6779991d0364d999aac0125075c288d4715b3029"
      },
      "cell_type": "code",
      "source": "train.info()",
      "execution_count": 122,
      "outputs": [
        {
          "output_type": "stream",
          "text": "<class 'pandas.core.frame.DataFrame'>\nRangeIndex: 629145480 entries, 0 to 629145479\nData columns (total 2 columns):\nacoustic_data      int16\ntime_to_failure    float32\ndtypes: float32(1), int16(1)\nmemory usage: 3.5 GB\n",
          "name": "stdout"
        }
      ]
    },
    {
      "metadata": {
        "trusted": true,
        "_uuid": "ede4714f78cc1687a1c97ff132b34f6856a82927"
      },
      "cell_type": "code",
      "source": "#train.describe()",
      "execution_count": 123,
      "outputs": []
    },
    {
      "metadata": {
        "trusted": true,
        "_uuid": "e62c1931fef1dc46e12938d76620dde6cdcb9d60"
      },
      "cell_type": "code",
      "source": "train.shape",
      "execution_count": 124,
      "outputs": [
        {
          "output_type": "execute_result",
          "execution_count": 124,
          "data": {
            "text/plain": "(629145480, 2)"
          },
          "metadata": {}
        }
      ]
    },
    {
      "metadata": {
        "_uuid": "27a4123149135a8288d18f20ae46641edb645a52"
      },
      "cell_type": "markdown",
      "source": "### Wow! so large(rows:629145480 columns:2) for playing with it, let's select just 150000 rows!"
    },
    {
      "metadata": {
        "trusted": true,
        "_uuid": "c3a7c2fc166c47227b4f1b2d8e7d76d4530f6b2d"
      },
      "cell_type": "code",
      "source": "train.head()",
      "execution_count": 125,
      "outputs": [
        {
          "output_type": "execute_result",
          "execution_count": 125,
          "data": {
            "text/plain": "   acoustic_data    time_to_failure\n0             12  1.469099998474121\n1              6  1.469099998474121\n2              8  1.469099998474121\n3              5  1.469099998474121\n4              8  1.469099998474121",
            "text/html": "<div>\n<style scoped>\n    .dataframe tbody tr th:only-of-type {\n        vertical-align: middle;\n    }\n\n    .dataframe tbody tr th {\n        vertical-align: top;\n    }\n\n    .dataframe thead th {\n        text-align: right;\n    }\n</style>\n<table border=\"1\" class=\"dataframe\">\n  <thead>\n    <tr style=\"text-align: right;\">\n      <th></th>\n      <th>acoustic_data</th>\n      <th>time_to_failure</th>\n    </tr>\n  </thead>\n  <tbody>\n    <tr>\n      <th>0</th>\n      <td>12</td>\n      <td>1.469099998474121</td>\n    </tr>\n    <tr>\n      <th>1</th>\n      <td>6</td>\n      <td>1.469099998474121</td>\n    </tr>\n    <tr>\n      <th>2</th>\n      <td>8</td>\n      <td>1.469099998474121</td>\n    </tr>\n    <tr>\n      <th>3</th>\n      <td>5</td>\n      <td>1.469099998474121</td>\n    </tr>\n    <tr>\n      <th>4</th>\n      <td>8</td>\n      <td>1.469099998474121</td>\n    </tr>\n  </tbody>\n</table>\n</div>"
          },
          "metadata": {}
        }
      ]
    },
    {
      "metadata": {
        "_uuid": "c1eddbf9a17cb7b15b342b4d2d48af7f0ac79006"
      },
      "cell_type": "markdown",
      "source": " <a id=\"42\"></a> <br>\n## 4-2 Visualization\nBecause the size of the database is very large, for the visualization section, we only need to select a small subset of the data."
    },
    {
      "metadata": {
        "_kg_hide-input": true,
        "trusted": true,
        "_uuid": "7427d2d9ce7dff9d63a355631a1718a6fb6c5847"
      },
      "cell_type": "code",
      "source": "# we change the size of Dataset due to play with it (just loaded %0001)\nmini_train= pd.read_csv(\"../input/train.csv\",nrows=150000)",
      "execution_count": 126,
      "outputs": []
    },
    {
      "metadata": {
        "trusted": true,
        "_kg_hide-input": true,
        "_uuid": "53df1775b242c8e3374278075809c98dc3b2fb62"
      },
      "cell_type": "code",
      "source": "mini_train.describe()",
      "execution_count": 127,
      "outputs": [
        {
          "output_type": "execute_result",
          "execution_count": 127,
          "data": {
            "text/plain": "                acoustic_data         time_to_failure\ncount  150000.000000000000000  150000.000000000000000\nmean        4.884113333333334       1.450182493841733\nstd         5.101106130607257       0.011248415135459\nmin       -98.000000000000000       1.430797185900000\n25%         3.000000000000000       1.440397885225000\n50%         5.000000000000000       1.449998584550000\n75%         7.000000000000000       1.459599283875000\nmax       104.000000000000000       1.469099983200000",
            "text/html": "<div>\n<style scoped>\n    .dataframe tbody tr th:only-of-type {\n        vertical-align: middle;\n    }\n\n    .dataframe tbody tr th {\n        vertical-align: top;\n    }\n\n    .dataframe thead th {\n        text-align: right;\n    }\n</style>\n<table border=\"1\" class=\"dataframe\">\n  <thead>\n    <tr style=\"text-align: right;\">\n      <th></th>\n      <th>acoustic_data</th>\n      <th>time_to_failure</th>\n    </tr>\n  </thead>\n  <tbody>\n    <tr>\n      <th>count</th>\n      <td>150000.000000000000000</td>\n      <td>150000.000000000000000</td>\n    </tr>\n    <tr>\n      <th>mean</th>\n      <td>4.884113333333334</td>\n      <td>1.450182493841733</td>\n    </tr>\n    <tr>\n      <th>std</th>\n      <td>5.101106130607257</td>\n      <td>0.011248415135459</td>\n    </tr>\n    <tr>\n      <th>min</th>\n      <td>-98.000000000000000</td>\n      <td>1.430797185900000</td>\n    </tr>\n    <tr>\n      <th>25%</th>\n      <td>3.000000000000000</td>\n      <td>1.440397885225000</td>\n    </tr>\n    <tr>\n      <th>50%</th>\n      <td>5.000000000000000</td>\n      <td>1.449998584550000</td>\n    </tr>\n    <tr>\n      <th>75%</th>\n      <td>7.000000000000000</td>\n      <td>1.459599283875000</td>\n    </tr>\n    <tr>\n      <th>max</th>\n      <td>104.000000000000000</td>\n      <td>1.469099983200000</td>\n    </tr>\n  </tbody>\n</table>\n</div>"
          },
          "metadata": {}
        }
      ]
    },
    {
      "metadata": {
        "trusted": true,
        "_kg_hide-input": true,
        "_uuid": "b0ba2d971f1b000f2ae343dd684e8789b0fcf6cb"
      },
      "cell_type": "code",
      "source": "mini_train.shape",
      "execution_count": 128,
      "outputs": [
        {
          "output_type": "execute_result",
          "execution_count": 128,
          "data": {
            "text/plain": "(150000, 2)"
          },
          "metadata": {}
        }
      ]
    },
    {
      "metadata": {
        "trusted": true,
        "_kg_hide-input": true,
        "_uuid": "590ed0ff228f6161e42ada37ef2345e71f7f40f5"
      },
      "cell_type": "code",
      "source": "mini_train.isna().sum()",
      "execution_count": 129,
      "outputs": [
        {
          "output_type": "execute_result",
          "execution_count": 129,
          "data": {
            "text/plain": "acoustic_data      0\ntime_to_failure    0\ndtype: int64"
          },
          "metadata": {}
        }
      ]
    },
    {
      "metadata": {
        "trusted": true,
        "_uuid": "28b7d475d28834f4947d58894b662cd399f31a8a",
        "_kg_hide-input": true
      },
      "cell_type": "code",
      "source": "type(mini_train)",
      "execution_count": 130,
      "outputs": [
        {
          "output_type": "execute_result",
          "execution_count": 130,
          "data": {
            "text/plain": "pandas.core.frame.DataFrame"
          },
          "metadata": {}
        }
      ]
    },
    {
      "metadata": {
        "trusted": true,
        "_uuid": "70207522d405040466649db4664f6dc9cb75849f"
      },
      "cell_type": "markdown",
      "source": "<a id=\"421\"></a> \n### 4-2-1 Hist"
    },
    {
      "metadata": {
        "trusted": true,
        "_uuid": "04c95213d519d272e2ee16d16f873a2f6f22ba78",
        "_kg_hide-input": true
      },
      "cell_type": "code",
      "source": "#acoustic_data means signal\nmini_train[\"acoustic_data\"].hist();",
      "execution_count": 131,
      "outputs": [
        {
          "output_type": "display_data",
          "data": {
            "text/plain": "<Figure size 432x288 with 1 Axes>",
            "image/png": "[encoded data removed]"
          },
          "metadata": {}
        }
      ]
    },
    {
      "metadata": {
        "trusted": true,
        "_uuid": "ed6ad0832110a8c6b1fe8056fa50e7337b408515"
      },
      "cell_type": "markdown",
      "source": "<a id=\"422\"></a> \n### 4-2-2 Time to failure histogram"
    },
    {
      "metadata": {
        "trusted": true,
        "_uuid": "610c55e007fa11a14fdbc90ba93137766bf1a8ab",
        "_kg_hide-input": true
      },
      "cell_type": "code",
      "source": "plt.plot(mini_train[\"time_to_failure\"], mini_train[\"acoustic_data\"])\nplt.title(\"time_to_failure histogram\")",
      "execution_count": 132,
      "outputs": [
        {
          "output_type": "execute_result",
          "execution_count": 132,
          "data": {
            "text/plain": "Text(0.5, 1.0, 'time_to_failure histogram')"
          },
          "metadata": {}
        },
        {
          "output_type": "display_data",
          "data": {
            "text/plain": "<Figure size 432x288 with 1 Axes>",
            "image/png": "[encoded data removed]"
          },
          "metadata": {}
        }
      ]
    },
    {
      "metadata": {
        "trusted": true,
        "_uuid": "c7c539dd31e2d389813645c30e997f1728e9f926"
      },
      "cell_type": "markdown",
      "source": "<a id=\"423\"></a> \n### 4-2-3 Distplot"
    },
    {
      "metadata": {
        "trusted": true,
        "_uuid": "bd6affcd4ac007edc297dc726b3915112384af35",
        "_kg_hide-input": true
      },
      "cell_type": "code",
      "source": "sns.distplot(mini_train[\"acoustic_data\"])",
      "execution_count": 133,
      "outputs": [
        {
          "output_type": "execute_result",
          "execution_count": 133,
          "data": {
            "text/plain": "<matplotlib.axes._subplots.AxesSubplot at 0x7f3ee03d5d30>"
          },
          "metadata": {}
        },
        {
          "output_type": "display_data",
          "data": {
            "text/plain": "<Figure size 432x288 with 1 Axes>",
            "image/png": "[encoded data removed]"
          },
          "metadata": {}
        }
      ]
    },
    {
      "metadata": {
        "trusted": true,
        "_uuid": "c36884367038758e75c922e8269fc337285949aa"
      },
      "cell_type": "markdown",
      "source": "<a id=\"424\"></a> \n### 4-2-4 kdeplot"
    },
    {
      "metadata": {
        "trusted": true,
        "_uuid": "f3c21e9aa2dae18fbb2d949f44a0ed728b987daf",
        "_kg_hide-input": true
      },
      "cell_type": "code",
      "source": "sns.kdeplot(mini_train[\"acoustic_data\"] )",
      "execution_count": 134,
      "outputs": [
        {
          "output_type": "execute_result",
          "execution_count": 134,
          "data": {
            "text/plain": "<matplotlib.axes._subplots.AxesSubplot at 0x7f3ee0291630>"
          },
          "metadata": {}
        },
        {
          "output_type": "display_data",
          "data": {
            "text/plain": "<Figure size 432x288 with 1 Axes>",
            "image/png": "[encoded data removed]"
          },
          "metadata": {}
        }
      ]
    },
    {
      "metadata": {
        "_uuid": "8afaaae9f83971dd442a16af434d88318d82c352"
      },
      "cell_type": "markdown",
      "source": " <a id=\"43\"></a> <br>\n## 4-3 Data Preprocessing\n"
    },
    {
      "metadata": {
        "_uuid": "81d42fd41c5f8fd08cbd6304705c4c361fc31118"
      },
      "cell_type": "markdown",
      "source": "Because we have only one feature(**acoustic_data**), and the size of the training set is very large( more that 60000000 rows), it is a good idea to reduce the size of the training set with making new segment  and also to increase the number of attributes by using **statistical attributes**."
    },
    {
      "metadata": {
        "trusted": true,
        "_uuid": "618fc424689577662c303f1d017737c3db125f18"
      },
      "cell_type": "code",
      "source": "# based on : https://www.kaggle.com/inversion/basic-feature-benchmark\nrows = 150_000\nsegments = int(np.floor(train.shape[0] / rows))\nsegments",
      "execution_count": 135,
      "outputs": [
        {
          "output_type": "execute_result",
          "execution_count": 135,
          "data": {
            "text/plain": "4194"
          },
          "metadata": {}
        }
      ]
    },
    {
      "metadata": {
        "trusted": true,
        "_uuid": "8c78c897802f62bc576b20cd2c74938473337cd6"
      },
      "cell_type": "code",
      "source": "X_train = pd.DataFrame(index=range(segments), dtype=np.float64,\n                       columns=['ave', 'std', 'max', 'min','sum','skew','kurt'])\ny_train = pd.DataFrame(index=range(segments), dtype=np.float64,\n                       columns=['time_to_failure'])",
      "execution_count": 136,
      "outputs": []
    },
    {
      "metadata": {
        "_uuid": "a627284f36e7e11d356a6a3cdef2d8c802a7f600"
      },
      "cell_type": "markdown",
      "source": "### y_train is our target for prediction"
    },
    {
      "metadata": {
        "trusted": true,
        "_uuid": "e5749b5c7998fa07fdce6f4ba83affa7ccbc44e7"
      },
      "cell_type": "code",
      "source": "y_train.head()",
      "execution_count": 137,
      "outputs": [
        {
          "output_type": "execute_result",
          "execution_count": 137,
          "data": {
            "text/plain": "   time_to_failure\n0              NaN\n1              NaN\n2              NaN\n3              NaN\n4              NaN",
            "text/html": "<div>\n<style scoped>\n    .dataframe tbody tr th:only-of-type {\n        vertical-align: middle;\n    }\n\n    .dataframe tbody tr th {\n        vertical-align: top;\n    }\n\n    .dataframe thead th {\n        text-align: right;\n    }\n</style>\n<table border=\"1\" class=\"dataframe\">\n  <thead>\n    <tr style=\"text-align: right;\">\n      <th></th>\n      <th>time_to_failure</th>\n    </tr>\n  </thead>\n  <tbody>\n    <tr>\n      <th>0</th>\n      <td>NaN</td>\n    </tr>\n    <tr>\n      <th>1</th>\n      <td>NaN</td>\n    </tr>\n    <tr>\n      <th>2</th>\n      <td>NaN</td>\n    </tr>\n    <tr>\n      <th>3</th>\n      <td>NaN</td>\n    </tr>\n    <tr>\n      <th>4</th>\n      <td>NaN</td>\n    </tr>\n  </tbody>\n</table>\n</div>"
          },
          "metadata": {}
        }
      ]
    },
    {
      "metadata": {
        "_uuid": "a2d5e66ad5e467c20a0baed8bc5a0a526a1066d2"
      },
      "cell_type": "markdown",
      "source": "### our train set with 4 new feature"
    },
    {
      "metadata": {
        "trusted": true,
        "_uuid": "466f2d4cb8e00aeedd2f8d28994986593607757b"
      },
      "cell_type": "code",
      "source": "X_train.head()",
      "execution_count": 138,
      "outputs": [
        {
          "output_type": "execute_result",
          "execution_count": 138,
          "data": {
            "text/plain": "   ave  std  max  min  sum  skew  kurt\n0  NaN  NaN  NaN  NaN  NaN   NaN   NaN\n1  NaN  NaN  NaN  NaN  NaN   NaN   NaN\n2  NaN  NaN  NaN  NaN  NaN   NaN   NaN\n3  NaN  NaN  NaN  NaN  NaN   NaN   NaN\n4  NaN  NaN  NaN  NaN  NaN   NaN   NaN",
            "text/html": "<div>\n<style scoped>\n    .dataframe tbody tr th:only-of-type {\n        vertical-align: middle;\n    }\n\n    .dataframe tbody tr th {\n        vertical-align: top;\n    }\n\n    .dataframe thead th {\n        text-align: right;\n    }\n</style>\n<table border=\"1\" class=\"dataframe\">\n  <thead>\n    <tr style=\"text-align: right;\">\n      <th></th>\n      <th>ave</th>\n      <th>std</th>\n      <th>max</th>\n      <th>min</th>\n      <th>sum</th>\n      <th>skew</th>\n      <th>kurt</th>\n    </tr>\n  </thead>\n  <tbody>\n    <tr>\n      <th>0</th>\n      <td>NaN</td>\n      <td>NaN</td>\n      <td>NaN</td>\n      <td>NaN</td>\n      <td>NaN</td>\n      <td>NaN</td>\n      <td>NaN</td>\n    </tr>\n    <tr>\n      <th>1</th>\n      <td>NaN</td>\n      <td>NaN</td>\n      <td>NaN</td>\n      <td>NaN</td>\n      <td>NaN</td>\n      <td>NaN</td>\n      <td>NaN</td>\n    </tr>\n    <tr>\n      <th>2</th>\n      <td>NaN</td>\n      <td>NaN</td>\n      <td>NaN</td>\n      <td>NaN</td>\n      <td>NaN</td>\n      <td>NaN</td>\n      <td>NaN</td>\n    </tr>\n    <tr>\n      <th>3</th>\n      <td>NaN</td>\n      <td>NaN</td>\n      <td>NaN</td>\n      <td>NaN</td>\n      <td>NaN</td>\n      <td>NaN</td>\n      <td>NaN</td>\n    </tr>\n    <tr>\n      <th>4</th>\n      <td>NaN</td>\n      <td>NaN</td>\n      <td>NaN</td>\n      <td>NaN</td>\n      <td>NaN</td>\n      <td>NaN</td>\n      <td>NaN</td>\n    </tr>\n  </tbody>\n</table>\n</div>"
          },
          "metadata": {}
        }
      ]
    },
    {
      "metadata": {
        "_uuid": "59234ac2110b839ab13ca13b15de7ac8b2524b2b"
      },
      "cell_type": "markdown",
      "source": " <a id=\"431\"></a> <br>\n### 4-3-1 Create New Features"
    },
    {
      "metadata": {
        "_uuid": "0f0e8d06d8c741a802c5cf667bb459ca1dbdbe31"
      },
      "cell_type": "markdown",
      "source": "> <font color='red'>Note:</font>  \n**tqdm** means \"progress\" in Arabic (taqadum, تقدّم) and is an abbreviation for \"I love you so much\" in Spanish (te quiero demasiado). Instantly make your loops show a smart progress meter - just wrap any iterable with tqdm(iterable), and you're done! [https://tqdm.github.io/](https://tqdm.github.io/)"
    },
    {
      "metadata": {
        "trusted": true,
        "_uuid": "b57e895eca7bf88073d78492ab7b025f6e1ca89b"
      },
      "cell_type": "code",
      "source": "%%time\nfor segment in tqdm(range(segments)):\n    seg = train.iloc[segment*rows:segment*rows+rows]\n    x = seg['acoustic_data'].values\n    y = seg['time_to_failure'].values[-1]\n    \n    y_train.loc[segment, 'time_to_failure'] = y\n    X_train.loc[segment, 'ave'] = x.mean()\n    X_train.loc[segment, 'std'] = x.std()\n    X_train.loc[segment, 'max'] = x.max()\n    X_train.loc[segment, 'min'] = x.min()\n    X_train.loc[segment, 'sum'] = x.sum()\n    X_train.loc[segment, 'skew'] =skew(x)\n    X_train.loc[segment, 'kurt'] = kurtosis(x)",
      "execution_count": 139,
      "outputs": [
        {
          "output_type": "stream",
          "text": "100%|██████████| 4194/4194 [00:33<00:00, 125.15it/s]",
          "name": "stderr"
        },
        {
          "output_type": "stream",
          "text": "CPU times: user 33.9 s, sys: 0 ns, total: 33.9 s\nWall time: 33.5 s\n",
          "name": "stdout"
        },
        {
          "output_type": "stream",
          "text": "\n",
          "name": "stderr"
        }
      ]
    },
    {
      "metadata": {
        "trusted": true,
        "_kg_hide-input": true,
        "_uuid": "1d054476a562f14b8d7e88fd2a8ea3b7b70c371c"
      },
      "cell_type": "code",
      "source": "X_train.head()",
      "execution_count": 140,
      "outputs": [
        {
          "output_type": "execute_result",
          "execution_count": 140,
          "data": {
            "text/plain": "                 ave         ...                          kurt\n0  4.884113333333334         ...            33.661319221480703\n1  4.725766666666667         ...            98.755185259155695\n2  4.906393333333333         ...            33.554052910588105\n3  4.902240000000000         ...           116.544246785098039\n4  4.908720000000000         ...            52.976098920993913\n\n[5 rows x 7 columns]",
            "text/html": "<div>\n<style scoped>\n    .dataframe tbody tr th:only-of-type {\n        vertical-align: middle;\n    }\n\n    .dataframe tbody tr th {\n        vertical-align: top;\n    }\n\n    .dataframe thead th {\n        text-align: right;\n    }\n</style>\n<table border=\"1\" class=\"dataframe\">\n  <thead>\n    <tr style=\"text-align: right;\">\n      <th></th>\n      <th>ave</th>\n      <th>std</th>\n      <th>max</th>\n      <th>min</th>\n      <th>sum</th>\n      <th>skew</th>\n      <th>kurt</th>\n    </tr>\n  </thead>\n  <tbody>\n    <tr>\n      <th>0</th>\n      <td>4.884113333333334</td>\n      <td>5.101089126891323</td>\n      <td>104.0</td>\n      <td>-98.0</td>\n      <td>732617.0</td>\n      <td>-0.024060926015874</td>\n      <td>33.661319221480703</td>\n    </tr>\n    <tr>\n      <th>1</th>\n      <td>4.725766666666667</td>\n      <td>6.588801819164257</td>\n      <td>181.0</td>\n      <td>-154.0</td>\n      <td>708865.0</td>\n      <td>0.390556598755942</td>\n      <td>98.755185259155695</td>\n    </tr>\n    <tr>\n      <th>2</th>\n      <td>4.906393333333333</td>\n      <td>6.967373808828945</td>\n      <td>140.0</td>\n      <td>-106.0</td>\n      <td>735959.0</td>\n      <td>0.217388387534031</td>\n      <td>33.554052910588105</td>\n    </tr>\n    <tr>\n      <th>3</th>\n      <td>4.902240000000000</td>\n      <td>6.922282112791032</td>\n      <td>197.0</td>\n      <td>-199.0</td>\n      <td>735336.0</td>\n      <td>0.757269963614698</td>\n      <td>116.544246785098039</td>\n    </tr>\n    <tr>\n      <th>4</th>\n      <td>4.908720000000000</td>\n      <td>7.301085852684289</td>\n      <td>145.0</td>\n      <td>-126.0</td>\n      <td>736308.0</td>\n      <td>0.064530423958889</td>\n      <td>52.976098920993913</td>\n    </tr>\n  </tbody>\n</table>\n</div>"
          },
          "metadata": {}
        }
      ]
    },
    {
      "metadata": {
        "trusted": true,
        "_uuid": "5fe1e1a7c01c6720ca93f65346224a2b0d13a6cd"
      },
      "cell_type": "code",
      "source": "y_train.head()",
      "execution_count": 141,
      "outputs": [
        {
          "output_type": "execute_result",
          "execution_count": 141,
          "data": {
            "text/plain": "     time_to_failure\n0  1.430797219276428\n1  1.391498923301697\n2  1.353196144104004\n3  1.313797831535339\n4  1.274399518966675",
            "text/html": "<div>\n<style scoped>\n    .dataframe tbody tr th:only-of-type {\n        vertical-align: middle;\n    }\n\n    .dataframe tbody tr th {\n        vertical-align: top;\n    }\n\n    .dataframe thead th {\n        text-align: right;\n    }\n</style>\n<table border=\"1\" class=\"dataframe\">\n  <thead>\n    <tr style=\"text-align: right;\">\n      <th></th>\n      <th>time_to_failure</th>\n    </tr>\n  </thead>\n  <tbody>\n    <tr>\n      <th>0</th>\n      <td>1.430797219276428</td>\n    </tr>\n    <tr>\n      <th>1</th>\n      <td>1.391498923301697</td>\n    </tr>\n    <tr>\n      <th>2</th>\n      <td>1.353196144104004</td>\n    </tr>\n    <tr>\n      <th>3</th>\n      <td>1.313797831535339</td>\n    </tr>\n    <tr>\n      <th>4</th>\n      <td>1.274399518966675</td>\n    </tr>\n  </tbody>\n</table>\n</div>"
          },
          "metadata": {}
        }
      ]
    },
    {
      "metadata": {
        "_uuid": "11fdfd9ed7aac1bc4505bccdd30277617e1f4407"
      },
      "cell_type": "markdown",
      "source": "### Cheking missing Data"
    },
    {
      "metadata": {
        "trusted": true,
        "_uuid": "38f377a3b2f5fb67b01747fdc8998b5cd358f5b3"
      },
      "cell_type": "code",
      "source": "def check_missing_data(df):\n    flag=df.isna().sum().any()\n    if flag==True:\n        total = df.isnull().sum()\n        percent = (df.isnull().sum())/(df.isnull().count()*100)\n        output = pd.concat([total, percent], axis=1, keys=['Total', 'Percent'])\n        data_type = []\n        # written by MJ Bahmani\n        for col in df.columns:\n            dtype = str(df[col].dtype)\n            data_type.append(dtype)\n        output['Types'] = data_type\n        return(np.transpose(output))\n    else:\n        return(False)",
      "execution_count": 142,
      "outputs": []
    },
    {
      "metadata": {
        "trusted": true,
        "_uuid": "07d6da23ab03c139f821ce3caec73dd2225fd816"
      },
      "cell_type": "code",
      "source": "check_missing_data(X_train)",
      "execution_count": 143,
      "outputs": [
        {
          "output_type": "execute_result",
          "execution_count": 143,
          "data": {
            "text/plain": "False"
          },
          "metadata": {}
        }
      ]
    },
    {
      "metadata": {
        "_uuid": "ecf59b2d75b7c0e2cbe0009e4053a34ceac5e51a"
      },
      "cell_type": "markdown",
      "source": "### Now we must create our X_test for submission"
    },
    {
      "metadata": {
        "trusted": true,
        "_uuid": "fbb75698961086aa57e6afba1a66d39af6ce9d67"
      },
      "cell_type": "code",
      "source": "X_test = pd.DataFrame(columns=X_train.columns, dtype=np.float64, index=submission.index)",
      "execution_count": 144,
      "outputs": []
    },
    {
      "metadata": {
        "trusted": true,
        "_uuid": "c5abdf2c564a44baf20bbe47a6dc0eb129730ae6"
      },
      "cell_type": "code",
      "source": "X_test.head()",
      "execution_count": 145,
      "outputs": [
        {
          "output_type": "execute_result",
          "execution_count": 145,
          "data": {
            "text/plain": "            ave  std  max  min  sum  skew  kurt\nseg_id                                         \nseg_00030f  NaN  NaN  NaN  NaN  NaN   NaN   NaN\nseg_0012b5  NaN  NaN  NaN  NaN  NaN   NaN   NaN\nseg_00184e  NaN  NaN  NaN  NaN  NaN   NaN   NaN\nseg_003339  NaN  NaN  NaN  NaN  NaN   NaN   NaN\nseg_0042cc  NaN  NaN  NaN  NaN  NaN   NaN   NaN",
            "text/html": "<div>\n<style scoped>\n    .dataframe tbody tr th:only-of-type {\n        vertical-align: middle;\n    }\n\n    .dataframe tbody tr th {\n        vertical-align: top;\n    }\n\n    .dataframe thead th {\n        text-align: right;\n    }\n</style>\n<table border=\"1\" class=\"dataframe\">\n  <thead>\n    <tr style=\"text-align: right;\">\n      <th></th>\n      <th>ave</th>\n      <th>std</th>\n      <th>max</th>\n      <th>min</th>\n      <th>sum</th>\n      <th>skew</th>\n      <th>kurt</th>\n    </tr>\n    <tr>\n      <th>seg_id</th>\n      <th></th>\n      <th></th>\n      <th></th>\n      <th></th>\n      <th></th>\n      <th></th>\n      <th></th>\n    </tr>\n  </thead>\n  <tbody>\n    <tr>\n      <th>seg_00030f</th>\n      <td>NaN</td>\n      <td>NaN</td>\n      <td>NaN</td>\n      <td>NaN</td>\n      <td>NaN</td>\n      <td>NaN</td>\n      <td>NaN</td>\n    </tr>\n    <tr>\n      <th>seg_0012b5</th>\n      <td>NaN</td>\n      <td>NaN</td>\n      <td>NaN</td>\n      <td>NaN</td>\n      <td>NaN</td>\n      <td>NaN</td>\n      <td>NaN</td>\n    </tr>\n    <tr>\n      <th>seg_00184e</th>\n      <td>NaN</td>\n      <td>NaN</td>\n      <td>NaN</td>\n      <td>NaN</td>\n      <td>NaN</td>\n      <td>NaN</td>\n      <td>NaN</td>\n    </tr>\n    <tr>\n      <th>seg_003339</th>\n      <td>NaN</td>\n      <td>NaN</td>\n      <td>NaN</td>\n      <td>NaN</td>\n      <td>NaN</td>\n      <td>NaN</td>\n      <td>NaN</td>\n    </tr>\n    <tr>\n      <th>seg_0042cc</th>\n      <td>NaN</td>\n      <td>NaN</td>\n      <td>NaN</td>\n      <td>NaN</td>\n      <td>NaN</td>\n      <td>NaN</td>\n      <td>NaN</td>\n    </tr>\n  </tbody>\n</table>\n</div>"
          },
          "metadata": {}
        }
      ]
    },
    {
      "metadata": {
        "trusted": true,
        "_uuid": "2c3607ae61dd2ddf021f0378429ae4c8bf216546"
      },
      "cell_type": "code",
      "source": "%%time\nfor seg_id in  tqdm(X_test.index):\n    seg = pd.read_csv('../input/test/' + seg_id + '.csv')\n    \n    x = seg['acoustic_data'].values\n    \n    X_test.loc[seg_id, 'ave'] = x.mean()\n    X_test.loc[seg_id, 'std'] = x.std()\n    X_test.loc[seg_id, 'max'] = x.max()\n    X_test.loc[seg_id, 'min'] = x.min()\n    X_test.loc[seg_id, 'sum'] = x.sum()\n    X_test.loc[seg_id, 'skew'] =skew(x)\n    X_test.loc[seg_id, 'kurt'] = kurtosis(x)",
      "execution_count": 146,
      "outputs": [
        {
          "output_type": "stream",
          "text": "100%|██████████| 2624/2624 [01:04<00:00, 40.46it/s]",
          "name": "stderr"
        },
        {
          "output_type": "stream",
          "text": "CPU times: user 1min 2s, sys: 1.46 s, total: 1min 4s\nWall time: 1min 4s\n",
          "name": "stdout"
        },
        {
          "output_type": "stream",
          "text": "\n",
          "name": "stderr"
        }
      ]
    },
    {
      "metadata": {
        "trusted": true,
        "_uuid": "7a914c3345e432141f3c21aa0b92aa7c4421d86c"
      },
      "cell_type": "code",
      "source": "X_test.shape",
      "execution_count": 147,
      "outputs": [
        {
          "output_type": "execute_result",
          "execution_count": 147,
          "data": {
            "text/plain": "(2624, 7)"
          },
          "metadata": {}
        }
      ]
    },
    {
      "metadata": {
        "_uuid": "5011ae9b1756b1ac509ac18d68d81f33f3c5f218"
      },
      "cell_type": "markdown",
      "source": "Now we have all of the data frames for applying ML algorithms. just adding some feature scaling."
    },
    {
      "metadata": {
        "trusted": true,
        "_uuid": "88ebce2c42e1897252afb76e985dd11c31fdadea"
      },
      "cell_type": "code",
      "source": "scaler = StandardScaler()\nscaler.fit(X_train)\nX_train_scaled = scaler.transform(X_train)",
      "execution_count": 148,
      "outputs": []
    },
    {
      "metadata": {
        "trusted": true,
        "_uuid": "c2bdc294ca69903873f205a75722a25a8f15ee46"
      },
      "cell_type": "code",
      "source": "X_test_scaled = scaler.transform(X_test)",
      "execution_count": 149,
      "outputs": []
    },
    {
      "metadata": {
        "trusted": true,
        "_uuid": "7fbb5ed09d53b7724db6b772bdd33e775dc0ee2d"
      },
      "cell_type": "code",
      "source": "X=X_train.copy()\ny=y_train.copy()",
      "execution_count": 150,
      "outputs": []
    },
    {
      "metadata": {
        "_uuid": "108b460ee7364902746d821cc966ac55f42c9102"
      },
      "cell_type": "markdown",
      "source": " <a id=\"44\"></a> <br>\n## 4-4 ML Explainability\nIn this section, I want to try extract insights from models with the help of this excellent [Course](https://www.kaggle.com/learn/machine-learning-explainability) in Kaggle. The Goal behind of ML Explainability for Earthquake is:\n\n1. Extract insights from models.\n1. Find the most inmortant feature in models.\n1. Affect of each feature on the model's predictions."
    },
    {
      "metadata": {
        "_uuid": "94eaef127f7e66ee55c7d2b3a7b3e3e9bda4a443"
      },
      "cell_type": "markdown",
      "source": " <a id=\"441\"></a> <br>\n### 4-4-1 Permutation Importance\nIn this section we will answer following question:\n\nWhat features have the biggest impact on predictions?\n\nhow to extract insights from models?"
    },
    {
      "metadata": {
        "trusted": true,
        "_uuid": "9b2b68b4b4bb8d318e16c9be12c3b01a9c90753a"
      },
      "cell_type": "code",
      "source": "train_X, val_X, train_y, val_y = train_test_split(X, y, random_state=1)\nrfc_model = RandomForestRegressor(random_state=0).fit(train_X, train_y)",
      "execution_count": 151,
      "outputs": []
    },
    {
      "metadata": {
        "_uuid": "30d092918608335d8836cabc6746dbfc80e9e405"
      },
      "cell_type": "markdown",
      "source": "Here is how to calculate and show importances with the [eli5](https://eli5.readthedocs.io/en/latest/) library:"
    },
    {
      "metadata": {
        "trusted": true,
        "_uuid": "dd8bb77f48574ea89b56c89da49c69b4fea51127"
      },
      "cell_type": "code",
      "source": "perm = PermutationImportance(rfc_model, random_state=1).fit(val_X, val_y)",
      "execution_count": 152,
      "outputs": []
    },
    {
      "metadata": {
        "trusted": true,
        "_uuid": "8543467744e7fd1190ffa67775bfb980762601de"
      },
      "cell_type": "code",
      "source": "eli5.show_weights(perm, feature_names = val_X.columns.tolist(), top=7)",
      "execution_count": 153,
      "outputs": [
        {
          "output_type": "execute_result",
          "execution_count": 153,
          "data": {
            "text/plain": "<IPython.core.display.HTML object>",
            "text/html": "\n    <style>\n    table.eli5-weights tr:hover {\n        filter: brightness(85%);\n    }\n</style>\n\n\n\n    \n\n    \n\n    \n\n    \n\n    \n\n    \n\n\n    \n\n    \n\n    \n\n    \n\n    \n\n    \n\n\n    \n\n    \n\n    \n\n    \n\n    \n        <table class=\"eli5-weights eli5-feature-importances\" style=\"border-collapse: collapse; border: none; margin-top: 0em; table-layout: auto;\">\n    <thead>\n    <tr style=\"border: none;\">\n        <th style=\"padding: 0 1em 0 0.5em; text-align: right; border: none;\">Weight</th>\n        <th style=\"padding: 0 0.5em 0 0.5em; text-align: left; border: none;\">Feature</th>\n    </tr>\n    </thead>\n    <tbody>\n    \n        <tr style=\"background-color: hsl(120, 100.00%, 80.00%); border: none;\">\n            <td style=\"padding: 0 1em 0 0.5em; text-align: right; border: none;\">\n                0.7188\n                \n                    &plusmn; 0.1008\n                \n            </td>\n            <td style=\"padding: 0 0.5em 0 0.5em; text-align: left; border: none;\">\n                std\n            </td>\n        </tr>\n    \n        <tr style=\"background-color: hsl(120, 100.00%, 93.54%); border: none;\">\n            <td style=\"padding: 0 1em 0 0.5em; text-align: right; border: none;\">\n                0.1431\n                \n                    &plusmn; 0.0624\n                \n            </td>\n            <td style=\"padding: 0 0.5em 0 0.5em; text-align: left; border: none;\">\n                kurt\n            </td>\n        </tr>\n    \n        <tr style=\"background-color: hsl(120, 100.00%, 96.44%); border: none;\">\n            <td style=\"padding: 0 1em 0 0.5em; text-align: right; border: none;\">\n                0.0610\n                \n                    &plusmn; 0.0247\n                \n            </td>\n            <td style=\"padding: 0 0.5em 0 0.5em; text-align: left; border: none;\">\n                max\n            </td>\n        </tr>\n    \n        <tr style=\"background-color: hsl(120, 100.00%, 98.36%); border: none;\">\n            <td style=\"padding: 0 1em 0 0.5em; text-align: right; border: none;\">\n                0.0202\n                \n                    &plusmn; 0.0096\n                \n            </td>\n            <td style=\"padding: 0 0.5em 0 0.5em; text-align: left; border: none;\">\n                min\n            </td>\n        </tr>\n    \n        <tr style=\"background-color: hsl(120, 100.00%, 99.36%); border: none;\">\n            <td style=\"padding: 0 1em 0 0.5em; text-align: right; border: none;\">\n                0.0053\n                \n                    &plusmn; 0.0162\n                \n            </td>\n            <td style=\"padding: 0 0.5em 0 0.5em; text-align: left; border: none;\">\n                skew\n            </td>\n        </tr>\n    \n        <tr style=\"background-color: hsl(120, 100.00%, 99.77%); border: none;\">\n            <td style=\"padding: 0 1em 0 0.5em; text-align: right; border: none;\">\n                0.0012\n                \n                    &plusmn; 0.0051\n                \n            </td>\n            <td style=\"padding: 0 0.5em 0 0.5em; text-align: left; border: none;\">\n                ave\n            </td>\n        </tr>\n    \n        <tr style=\"background-color: hsl(120, 100.00%, 99.97%); border: none;\">\n            <td style=\"padding: 0 1em 0 0.5em; text-align: right; border: none;\">\n                0.0001\n                \n                    &plusmn; 0.0189\n                \n            </td>\n            <td style=\"padding: 0 0.5em 0 0.5em; text-align: left; border: none;\">\n                sum\n            </td>\n        </tr>\n    \n    \n    </tbody>\n</table>\n    \n\n    \n\n\n    \n\n    \n\n    \n\n    \n\n    \n\n    \n\n\n\n"
          },
          "metadata": {}
        }
      ]
    },
    {
      "metadata": {
        "_uuid": "d98664837bb37312822dcb5142186b693a1fd624"
      },
      "cell_type": "markdown",
      "source": " <a id=\"442\"></a> <br>\n### 4-4-2 Partial Dependence Plots\nWhile feature importance shows what variables most affect predictions, partial dependence plots show how a feature affects predictions. and partial dependence plots are calculated after a model has been fit. [partial-plots](https://www.kaggle.com/dansbecker/partial-plots)"
    },
    {
      "metadata": {
        "trusted": true,
        "_uuid": "a3a82fc4f67c1bd22fc6ce24c766464c51491600"
      },
      "cell_type": "code",
      "source": "train_X, val_X, train_y, val_y = train_test_split(X, y, random_state=1)\ntree_model = DecisionTreeRegressor(random_state=0, max_depth=5, min_samples_split=5).fit(train_X, train_y)",
      "execution_count": 154,
      "outputs": []
    },
    {
      "metadata": {
        "_uuid": "b3d8dde29346c52488e7afeb7994cb6372e30734"
      },
      "cell_type": "markdown",
      "source": "For the Partial of explanation, I use a Decision Tree which you can see below."
    },
    {
      "metadata": {
        "trusted": true,
        "_uuid": "3ffe9b3d1e925dbcc047cc05136f5b01d9e17e33"
      },
      "cell_type": "code",
      "source": "tree_graph = tree.export_graphviz(tree_model, out_file=None, feature_names=X.columns)",
      "execution_count": 155,
      "outputs": []
    },
    {
      "metadata": {
        "trusted": true,
        "_uuid": "f59f61843087ceae70a7ee41619ae963450e2fdc"
      },
      "cell_type": "code",
      "source": "graphviz.Source(tree_graph)",
      "execution_count": 156,
      "outputs": [
        {
          "output_type": "execute_result",
          "execution_count": 156,
          "data": {
            "text/plain": "<graphviz.files.Source at 0x7f3ee0224588>",
            "image/svg+xml": "<?xml version=\"1.0\" encoding=\"UTF-8\" standalone=\"no\"?>\n<!DOCTYPE svg PUBLIC \"-//W3C//DTD SVG 1.1//EN\"\n \"http://www.w3.org/Graphics/SVG/1.1/DTD/svg11.dtd\">\n<!-- Generated by graphviz version 2.38.0 (20140413.2041)\n -->\n<!-- Title: Tree Pages: 1 -->\n<svg width=\"3603pt\" height=\"581pt\"\n viewBox=\"0.00 0.00 3602.50 581.00\" xmlns=\"http://www.w3.org/2000/svg\" xmlns:xlink=\"http://www.w3.org/1999/xlink\">\n<g id=\"graph0\" class=\"graph\" transform=\"scale(1 1) rotate(0) translate(4 577)\">\n<title>Tree</title>\n<polygon fill=\"white\" stroke=\"none\" points=\"-4,4 -4,-577 3598.5,-577 3598.5,4 -4,4\"/>\n<!-- 0 -->\n<g id=\"node1\" class=\"node\"><title>0</title>\n<polygon fill=\"none\" stroke=\"black\" points=\"1927,-573 1823,-573 1823,-505 1927,-505 1927,-573\"/>\n<text text-anchor=\"middle\" x=\"1875\" y=\"-557.8\" font-family=\"Times,serif\" font-size=\"14.00\">std &lt;= 5.333</text>\n<text text-anchor=\"middle\" x=\"1875\" y=\"-542.8\" font-family=\"Times,serif\" font-size=\"14.00\">mse = 13.355</text>\n<text text-anchor=\"middle\" x=\"1875\" y=\"-527.8\" font-family=\"Times,serif\" font-size=\"14.00\">samples = 3145</text>\n<text text-anchor=\"middle\" x=\"1875\" y=\"-512.8\" font-family=\"Times,serif\" font-size=\"14.00\">value = 5.68</text>\n</g>\n<!-- 1 -->\n<g id=\"node2\" class=\"node\"><title>1</title>\n<polygon fill=\"none\" stroke=\"black\" points=\"1431,-469 1327,-469 1327,-401 1431,-401 1431,-469\"/>\n<text text-anchor=\"middle\" x=\"1379\" y=\"-453.8\" font-family=\"Times,serif\" font-size=\"14.00\">std &lt;= 4.458</text>\n<text text-anchor=\"middle\" x=\"1379\" y=\"-438.8\" font-family=\"Times,serif\" font-size=\"14.00\">mse = 11.531</text>\n<text text-anchor=\"middle\" x=\"1379\" y=\"-423.8\" font-family=\"Times,serif\" font-size=\"14.00\">samples = 1375</text>\n<text text-anchor=\"middle\" x=\"1379\" y=\"-408.8\" font-family=\"Times,serif\" font-size=\"14.00\">value = 7.884</text>\n</g>\n<!-- 0&#45;&gt;1 -->\n<g id=\"edge1\" class=\"edge\"><title>0&#45;&gt;1</title>\n<path fill=\"none\" stroke=\"black\" d=\"M1822.86,-527.277C1730.76,-508.338 1539.72,-469.052 1441.02,-448.755\"/>\n<polygon fill=\"black\" stroke=\"black\" points=\"1441.69,-445.319 1431.19,-446.732 1440.28,-452.175 1441.69,-445.319\"/>\n<text text-anchor=\"middle\" x=\"1444.94\" y=\"-463.909\" font-family=\"Times,serif\" font-size=\"14.00\">True</text>\n</g>\n<!-- 32 -->\n<g id=\"node33\" class=\"node\"><title>32</title>\n<polygon fill=\"none\" stroke=\"black\" points=\"2313,-469 2209,-469 2209,-401 2313,-401 2313,-469\"/>\n<text text-anchor=\"middle\" x=\"2261\" y=\"-453.8\" font-family=\"Times,serif\" font-size=\"14.00\">std &lt;= 6.745</text>\n<text text-anchor=\"middle\" x=\"2261\" y=\"-438.8\" font-family=\"Times,serif\" font-size=\"14.00\">mse = 8.071</text>\n<text text-anchor=\"middle\" x=\"2261\" y=\"-423.8\" font-family=\"Times,serif\" font-size=\"14.00\">samples = 1770</text>\n<text text-anchor=\"middle\" x=\"2261\" y=\"-408.8\" font-family=\"Times,serif\" font-size=\"14.00\">value = 3.969</text>\n</g>\n<!-- 0&#45;&gt;32 -->\n<g id=\"edge32\" class=\"edge\"><title>0&#45;&gt;32</title>\n<path fill=\"none\" stroke=\"black\" d=\"M1927.06,-524.244C1997.66,-505.587 2123.6,-472.309 2199,-452.383\"/>\n<polygon fill=\"black\" stroke=\"black\" points=\"2200.07,-455.721 2208.84,-449.782 2198.28,-448.953 2200.07,-455.721\"/>\n<text text-anchor=\"middle\" x=\"2196.27\" y=\"-467.69\" font-family=\"Times,serif\" font-size=\"14.00\">False</text>\n</g>\n<!-- 2 -->\n<g id=\"node3\" class=\"node\"><title>2</title>\n<polygon fill=\"none\" stroke=\"black\" points=\"717.5,-365 620.5,-365 620.5,-297 717.5,-297 717.5,-365\"/>\n<text text-anchor=\"middle\" x=\"669\" y=\"-349.8\" font-family=\"Times,serif\" font-size=\"14.00\">std &lt;= 3.657</text>\n<text text-anchor=\"middle\" x=\"669\" y=\"-334.8\" font-family=\"Times,serif\" font-size=\"14.00\">mse = 11.286</text>\n<text text-anchor=\"middle\" x=\"669\" y=\"-319.8\" font-family=\"Times,serif\" font-size=\"14.00\">samples = 750</text>\n<text text-anchor=\"middle\" x=\"669\" y=\"-304.8\" font-family=\"Times,serif\" font-size=\"14.00\">value = 8.779</text>\n</g>\n<!-- 1&#45;&gt;2 -->\n<g id=\"edge2\" class=\"edge\"><title>1&#45;&gt;2</title>\n<path fill=\"none\" stroke=\"black\" d=\"M1326.79,-426.5C1197.73,-407.959 864.31,-360.059 728.196,-340.504\"/>\n<polygon fill=\"black\" stroke=\"black\" points=\"728.362,-336.992 717.966,-339.035 727.367,-343.921 728.362,-336.992\"/>\n</g>\n<!-- 17 -->\n<g id=\"node18\" class=\"node\"><title>17</title>\n<polygon fill=\"none\" stroke=\"black\" points=\"1429,-365 1329,-365 1329,-297 1429,-297 1429,-365\"/>\n<text text-anchor=\"middle\" x=\"1379\" y=\"-349.8\" font-family=\"Times,serif\" font-size=\"14.00\">kurt &lt;= 48.514</text>\n<text text-anchor=\"middle\" x=\"1379\" y=\"-334.8\" font-family=\"Times,serif\" font-size=\"14.00\">mse = 9.707</text>\n<text text-anchor=\"middle\" x=\"1379\" y=\"-319.8\" font-family=\"Times,serif\" font-size=\"14.00\">samples = 625</text>\n<text text-anchor=\"middle\" x=\"1379\" y=\"-304.8\" font-family=\"Times,serif\" font-size=\"14.00\">value = 6.809</text>\n</g>\n<!-- 1&#45;&gt;17 -->\n<g id=\"edge17\" class=\"edge\"><title>1&#45;&gt;17</title>\n<path fill=\"none\" stroke=\"black\" d=\"M1379,-400.884C1379,-392.778 1379,-383.982 1379,-375.472\"/>\n<polygon fill=\"black\" stroke=\"black\" points=\"1382.5,-375.299 1379,-365.299 1375.5,-375.299 1382.5,-375.299\"/>\n</g>\n<!-- 3 -->\n<g id=\"node4\" class=\"node\"><title>3</title>\n<polygon fill=\"none\" stroke=\"black\" points=\"376.5,-261 279.5,-261 279.5,-193 376.5,-193 376.5,-261\"/>\n<text text-anchor=\"middle\" x=\"328\" y=\"-245.8\" font-family=\"Times,serif\" font-size=\"14.00\">kurt &lt;= 8.809</text>\n<text text-anchor=\"middle\" x=\"328\" y=\"-230.8\" font-family=\"Times,serif\" font-size=\"14.00\">mse = 10.681</text>\n<text text-anchor=\"middle\" x=\"328\" y=\"-215.8\" font-family=\"Times,serif\" font-size=\"14.00\">samples = 282</text>\n<text text-anchor=\"middle\" x=\"328\" y=\"-200.8\" font-family=\"Times,serif\" font-size=\"14.00\">value = 9.411</text>\n</g>\n<!-- 2&#45;&gt;3 -->\n<g id=\"edge3\" class=\"edge\"><title>2&#45;&gt;3</title>\n<path fill=\"none\" stroke=\"black\" d=\"M620.143,-315.386C558.484,-296.942 452.539,-265.252 386.594,-245.527\"/>\n<polygon fill=\"black\" stroke=\"black\" points=\"387.35,-242.1 376.766,-242.587 385.344,-248.806 387.35,-242.1\"/>\n</g>\n<!-- 10 -->\n<g id=\"node11\" class=\"node\"><title>10</title>\n<polygon fill=\"none\" stroke=\"black\" points=\"719,-261 619,-261 619,-193 719,-193 719,-261\"/>\n<text text-anchor=\"middle\" x=\"669\" y=\"-245.8\" font-family=\"Times,serif\" font-size=\"14.00\">kurt &lt;= 31.935</text>\n<text text-anchor=\"middle\" x=\"669\" y=\"-230.8\" font-family=\"Times,serif\" font-size=\"14.00\">mse = 11.266</text>\n<text text-anchor=\"middle\" x=\"669\" y=\"-215.8\" font-family=\"Times,serif\" font-size=\"14.00\">samples = 468</text>\n<text text-anchor=\"middle\" x=\"669\" y=\"-200.8\" font-family=\"Times,serif\" font-size=\"14.00\">value = 8.399</text>\n</g>\n<!-- 2&#45;&gt;10 -->\n<g id=\"edge10\" class=\"edge\"><title>2&#45;&gt;10</title>\n<path fill=\"none\" stroke=\"black\" d=\"M669,-296.884C669,-288.778 669,-279.982 669,-271.472\"/>\n<polygon fill=\"black\" stroke=\"black\" points=\"672.5,-271.299 669,-261.299 665.5,-271.299 672.5,-271.299\"/>\n</g>\n<!-- 4 -->\n<g id=\"node5\" class=\"node\"><title>4</title>\n<polygon fill=\"none\" stroke=\"black\" points=\"202,-157 110,-157 110,-89 202,-89 202,-157\"/>\n<text text-anchor=\"middle\" x=\"156\" y=\"-141.8\" font-family=\"Times,serif\" font-size=\"14.00\">std &lt;= 3.167</text>\n<text text-anchor=\"middle\" x=\"156\" y=\"-126.8\" font-family=\"Times,serif\" font-size=\"14.00\">mse = 10.49</text>\n<text text-anchor=\"middle\" x=\"156\" y=\"-111.8\" font-family=\"Times,serif\" font-size=\"14.00\">samples = 73</text>\n<text text-anchor=\"middle\" x=\"156\" y=\"-96.8\" font-family=\"Times,serif\" font-size=\"14.00\">value = 8.396</text>\n</g>\n<!-- 3&#45;&gt;4 -->\n<g id=\"edge4\" class=\"edge\"><title>3&#45;&gt;4</title>\n<path fill=\"none\" stroke=\"black\" d=\"M279.172,-197.044C257.96,-184.465 233.012,-169.67 211.137,-156.697\"/>\n<polygon fill=\"black\" stroke=\"black\" points=\"212.674,-153.54 202.287,-151.449 209.103,-159.561 212.674,-153.54\"/>\n</g>\n<!-- 7 -->\n<g id=\"node8\" class=\"node\"><title>7</title>\n<polygon fill=\"none\" stroke=\"black\" points=\"376.5,-157 279.5,-157 279.5,-89 376.5,-89 376.5,-157\"/>\n<text text-anchor=\"middle\" x=\"328\" y=\"-141.8\" font-family=\"Times,serif\" font-size=\"14.00\">ave &lt;= 4.462</text>\n<text text-anchor=\"middle\" x=\"328\" y=\"-126.8\" font-family=\"Times,serif\" font-size=\"14.00\">mse = 10.262</text>\n<text text-anchor=\"middle\" x=\"328\" y=\"-111.8\" font-family=\"Times,serif\" font-size=\"14.00\">samples = 209</text>\n<text text-anchor=\"middle\" x=\"328\" y=\"-96.8\" font-family=\"Times,serif\" font-size=\"14.00\">value = 9.765</text>\n</g>\n<!-- 3&#45;&gt;7 -->\n<g id=\"edge7\" class=\"edge\"><title>3&#45;&gt;7</title>\n<path fill=\"none\" stroke=\"black\" d=\"M328,-192.884C328,-184.778 328,-175.982 328,-167.472\"/>\n<polygon fill=\"black\" stroke=\"black\" points=\"331.5,-167.299 328,-157.299 324.5,-167.299 331.5,-167.299\"/>\n</g>\n<!-- 5 -->\n<g id=\"node6\" class=\"node\"><title>5</title>\n<polygon fill=\"none\" stroke=\"black\" points=\"92,-53 0,-53 0,-0 92,-0 92,-53\"/>\n<text text-anchor=\"middle\" x=\"46\" y=\"-37.8\" font-family=\"Times,serif\" font-size=\"14.00\">mse = 7.847</text>\n<text text-anchor=\"middle\" x=\"46\" y=\"-22.8\" font-family=\"Times,serif\" font-size=\"14.00\">samples = 37</text>\n<text text-anchor=\"middle\" x=\"46\" y=\"-7.8\" font-family=\"Times,serif\" font-size=\"14.00\">value = 9.467</text>\n</g>\n<!-- 4&#45;&gt;5 -->\n<g id=\"edge5\" class=\"edge\"><title>4&#45;&gt;5</title>\n<path fill=\"none\" stroke=\"black\" d=\"M117.527,-88.9485C106.559,-79.526 94.6248,-69.2731 83.7033,-59.8906\"/>\n<polygon fill=\"black\" stroke=\"black\" points=\"85.8241,-57.0983 75.9581,-53.2367 81.2626,-62.408 85.8241,-57.0983\"/>\n</g>\n<!-- 6 -->\n<g id=\"node7\" class=\"node\"><title>6</title>\n<polygon fill=\"none\" stroke=\"black\" points=\"202,-53 110,-53 110,-0 202,-0 202,-53\"/>\n<text text-anchor=\"middle\" x=\"156\" y=\"-37.8\" font-family=\"Times,serif\" font-size=\"14.00\">mse = 10.814</text>\n<text text-anchor=\"middle\" x=\"156\" y=\"-22.8\" font-family=\"Times,serif\" font-size=\"14.00\">samples = 36</text>\n<text text-anchor=\"middle\" x=\"156\" y=\"-7.8\" font-family=\"Times,serif\" font-size=\"14.00\">value = 7.295</text>\n</g>\n<!-- 4&#45;&gt;6 -->\n<g id=\"edge6\" class=\"edge\"><title>4&#45;&gt;6</title>\n<path fill=\"none\" stroke=\"black\" d=\"M156,-88.9485C156,-80.7153 156,-71.848 156,-63.4814\"/>\n<polygon fill=\"black\" stroke=\"black\" points=\"159.5,-63.2367 156,-53.2367 152.5,-63.2367 159.5,-63.2367\"/>\n</g>\n<!-- 8 -->\n<g id=\"node9\" class=\"node\"><title>8</title>\n<polygon fill=\"none\" stroke=\"black\" points=\"319.5,-53 220.5,-53 220.5,-0 319.5,-0 319.5,-53\"/>\n<text text-anchor=\"middle\" x=\"270\" y=\"-37.8\" font-family=\"Times,serif\" font-size=\"14.00\">mse = 13.198</text>\n<text text-anchor=\"middle\" x=\"270\" y=\"-22.8\" font-family=\"Times,serif\" font-size=\"14.00\">samples = 83</text>\n<text text-anchor=\"middle\" x=\"270\" y=\"-7.8\" font-family=\"Times,serif\" font-size=\"14.00\">value = 10.621</text>\n</g>\n<!-- 7&#45;&gt;8 -->\n<g id=\"edge8\" class=\"edge\"><title>7&#45;&gt;8</title>\n<path fill=\"none\" stroke=\"black\" d=\"M307.714,-88.9485C302.324,-80.1664 296.492,-70.6629 291.061,-61.815\"/>\n<polygon fill=\"black\" stroke=\"black\" points=\"294.01,-59.9287 285.796,-53.2367 288.044,-63.5903 294.01,-59.9287\"/>\n</g>\n<!-- 9 -->\n<g id=\"node10\" class=\"node\"><title>9</title>\n<polygon fill=\"none\" stroke=\"black\" points=\"434.5,-53 337.5,-53 337.5,-0 434.5,-0 434.5,-53\"/>\n<text text-anchor=\"middle\" x=\"386\" y=\"-37.8\" font-family=\"Times,serif\" font-size=\"14.00\">mse = 7.528</text>\n<text text-anchor=\"middle\" x=\"386\" y=\"-22.8\" font-family=\"Times,serif\" font-size=\"14.00\">samples = 126</text>\n<text text-anchor=\"middle\" x=\"386\" y=\"-7.8\" font-family=\"Times,serif\" font-size=\"14.00\">value = 9.201</text>\n</g>\n<!-- 7&#45;&gt;9 -->\n<g id=\"edge9\" class=\"edge\"><title>7&#45;&gt;9</title>\n<path fill=\"none\" stroke=\"black\" d=\"M348.286,-88.9485C353.676,-80.1664 359.508,-70.6629 364.939,-61.815\"/>\n<polygon fill=\"black\" stroke=\"black\" points=\"367.956,-63.5903 370.204,-53.2367 361.99,-59.9287 367.956,-63.5903\"/>\n</g>\n<!-- 11 -->\n<g id=\"node12\" class=\"node\"><title>11</title>\n<polygon fill=\"none\" stroke=\"black\" points=\"659.5,-157 562.5,-157 562.5,-89 659.5,-89 659.5,-157\"/>\n<text text-anchor=\"middle\" x=\"611\" y=\"-141.8\" font-family=\"Times,serif\" font-size=\"14.00\">ave &lt;= 5.041</text>\n<text text-anchor=\"middle\" x=\"611\" y=\"-126.8\" font-family=\"Times,serif\" font-size=\"14.00\">mse = 11.408</text>\n<text text-anchor=\"middle\" x=\"611\" y=\"-111.8\" font-family=\"Times,serif\" font-size=\"14.00\">samples = 229</text>\n<text text-anchor=\"middle\" x=\"611\" y=\"-96.8\" font-family=\"Times,serif\" font-size=\"14.00\">value = 7.748</text>\n</g>\n<!-- 10&#45;&gt;11 -->\n<g id=\"edge11\" class=\"edge\"><title>10&#45;&gt;11</title>\n<path fill=\"none\" stroke=\"black\" d=\"M650.169,-192.884C645.307,-184.332 640.008,-175.013 634.923,-166.072\"/>\n<polygon fill=\"black\" stroke=\"black\" points=\"637.921,-164.262 629.935,-157.299 631.835,-167.722 637.921,-164.262\"/>\n</g>\n<!-- 14 -->\n<g id=\"node15\" class=\"node\"><title>14</title>\n<polygon fill=\"none\" stroke=\"black\" points=\"776.5,-157 677.5,-157 677.5,-89 776.5,-89 776.5,-157\"/>\n<text text-anchor=\"middle\" x=\"727\" y=\"-141.8\" font-family=\"Times,serif\" font-size=\"14.00\">skew &lt;= 0.008</text>\n<text text-anchor=\"middle\" x=\"727\" y=\"-126.8\" font-family=\"Times,serif\" font-size=\"14.00\">mse = 10.336</text>\n<text text-anchor=\"middle\" x=\"727\" y=\"-111.8\" font-family=\"Times,serif\" font-size=\"14.00\">samples = 239</text>\n<text text-anchor=\"middle\" x=\"727\" y=\"-96.8\" font-family=\"Times,serif\" font-size=\"14.00\">value = 9.023</text>\n</g>\n<!-- 10&#45;&gt;14 -->\n<g id=\"edge14\" class=\"edge\"><title>10&#45;&gt;14</title>\n<path fill=\"none\" stroke=\"black\" d=\"M687.831,-192.884C692.693,-184.332 697.992,-175.013 703.077,-166.072\"/>\n<polygon fill=\"black\" stroke=\"black\" points=\"706.165,-167.722 708.065,-157.299 700.079,-164.262 706.165,-167.722\"/>\n</g>\n<!-- 12 -->\n<g id=\"node13\" class=\"node\"><title>12</title>\n<polygon fill=\"none\" stroke=\"black\" points=\"549.5,-53 452.5,-53 452.5,-0 549.5,-0 549.5,-53\"/>\n<text text-anchor=\"middle\" x=\"501\" y=\"-37.8\" font-family=\"Times,serif\" font-size=\"14.00\">mse = 10.551</text>\n<text text-anchor=\"middle\" x=\"501\" y=\"-22.8\" font-family=\"Times,serif\" font-size=\"14.00\">samples = 225</text>\n<text text-anchor=\"middle\" x=\"501\" y=\"-7.8\" font-family=\"Times,serif\" font-size=\"14.00\">value = 7.884</text>\n</g>\n<!-- 11&#45;&gt;12 -->\n<g id=\"edge12\" class=\"edge\"><title>11&#45;&gt;12</title>\n<path fill=\"none\" stroke=\"black\" d=\"M572.527,-88.9485C561.559,-79.526 549.625,-69.2731 538.703,-59.8906\"/>\n<polygon fill=\"black\" stroke=\"black\" points=\"540.824,-57.0983 530.958,-53.2367 536.263,-62.408 540.824,-57.0983\"/>\n</g>\n<!-- 13 -->\n<g id=\"node14\" class=\"node\"><title>13</title>\n<polygon fill=\"none\" stroke=\"black\" points=\"660,-53 568,-53 568,-0 660,-0 660,-53\"/>\n<text text-anchor=\"middle\" x=\"614\" y=\"-37.8\" font-family=\"Times,serif\" font-size=\"14.00\">mse = 0.002</text>\n<text text-anchor=\"middle\" x=\"614\" y=\"-22.8\" font-family=\"Times,serif\" font-size=\"14.00\">samples = 4</text>\n<text text-anchor=\"middle\" x=\"614\" y=\"-7.8\" font-family=\"Times,serif\" font-size=\"14.00\">value = 0.096</text>\n</g>\n<!-- 11&#45;&gt;13 -->\n<g id=\"edge13\" class=\"edge\"><title>11&#45;&gt;13</title>\n<path fill=\"none\" stroke=\"black\" d=\"M612.049,-88.9485C612.311,-80.7153 612.592,-71.848 612.858,-63.4814\"/>\n<polygon fill=\"black\" stroke=\"black\" points=\"616.364,-63.3428 613.183,-53.2367 609.367,-63.1206 616.364,-63.3428\"/>\n</g>\n<!-- 15 -->\n<g id=\"node16\" class=\"node\"><title>15</title>\n<polygon fill=\"none\" stroke=\"black\" points=\"770,-53 678,-53 678,-0 770,-0 770,-53\"/>\n<text text-anchor=\"middle\" x=\"724\" y=\"-37.8\" font-family=\"Times,serif\" font-size=\"14.00\">mse = 12.111</text>\n<text text-anchor=\"middle\" x=\"724\" y=\"-22.8\" font-family=\"Times,serif\" font-size=\"14.00\">samples = 55</text>\n<text text-anchor=\"middle\" x=\"724\" y=\"-7.8\" font-family=\"Times,serif\" font-size=\"14.00\">value = 7.843</text>\n</g>\n<!-- 14&#45;&gt;15 -->\n<g id=\"edge15\" class=\"edge\"><title>14&#45;&gt;15</title>\n<path fill=\"none\" stroke=\"black\" d=\"M725.951,-88.9485C725.689,-80.7153 725.408,-71.848 725.142,-63.4814\"/>\n<polygon fill=\"black\" stroke=\"black\" points=\"728.633,-63.1206 724.817,-53.2367 721.636,-63.3428 728.633,-63.1206\"/>\n</g>\n<!-- 16 -->\n<g id=\"node17\" class=\"node\"><title>16</title>\n<polygon fill=\"none\" stroke=\"black\" points=\"885.5,-53 788.5,-53 788.5,-0 885.5,-0 885.5,-53\"/>\n<text text-anchor=\"middle\" x=\"837\" y=\"-37.8\" font-family=\"Times,serif\" font-size=\"14.00\">mse = 9.265</text>\n<text text-anchor=\"middle\" x=\"837\" y=\"-22.8\" font-family=\"Times,serif\" font-size=\"14.00\">samples = 184</text>\n<text text-anchor=\"middle\" x=\"837\" y=\"-7.8\" font-family=\"Times,serif\" font-size=\"14.00\">value = 9.375</text>\n</g>\n<!-- 14&#45;&gt;16 -->\n<g id=\"edge16\" class=\"edge\"><title>14&#45;&gt;16</title>\n<path fill=\"none\" stroke=\"black\" d=\"M765.473,-88.9485C776.441,-79.526 788.375,-69.2731 799.297,-59.8906\"/>\n<polygon fill=\"black\" stroke=\"black\" points=\"801.737,-62.408 807.042,-53.2367 797.176,-57.0983 801.737,-62.408\"/>\n</g>\n<!-- 18 -->\n<g id=\"node19\" class=\"node\"><title>18</title>\n<polygon fill=\"none\" stroke=\"black\" points=\"1297.5,-261 1182.5,-261 1182.5,-193 1297.5,-193 1297.5,-261\"/>\n<text text-anchor=\"middle\" x=\"1240\" y=\"-245.8\" font-family=\"Times,serif\" font-size=\"14.00\">sum &lt;= 656455.5</text>\n<text text-anchor=\"middle\" x=\"1240\" y=\"-230.8\" font-family=\"Times,serif\" font-size=\"14.00\">mse = 7.735</text>\n<text text-anchor=\"middle\" x=\"1240\" y=\"-215.8\" font-family=\"Times,serif\" font-size=\"14.00\">samples = 388</text>\n<text text-anchor=\"middle\" x=\"1240\" y=\"-200.8\" font-family=\"Times,serif\" font-size=\"14.00\">value = 5.862</text>\n</g>\n<!-- 17&#45;&gt;18 -->\n<g id=\"edge18\" class=\"edge\"><title>17&#45;&gt;18</title>\n<path fill=\"none\" stroke=\"black\" d=\"M1333.87,-296.884C1321,-287.442 1306.86,-277.064 1293.54,-267.292\"/>\n<polygon fill=\"black\" stroke=\"black\" points=\"1295.51,-264.394 1285.38,-261.299 1291.37,-270.037 1295.51,-264.394\"/>\n</g>\n<!-- 25 -->\n<g id=\"node26\" class=\"node\"><title>25</title>\n<polygon fill=\"none\" stroke=\"black\" points=\"1514,-261 1414,-261 1414,-193 1514,-193 1514,-261\"/>\n<text text-anchor=\"middle\" x=\"1464\" y=\"-245.8\" font-family=\"Times,serif\" font-size=\"14.00\">kurt &lt;= 88.672</text>\n<text text-anchor=\"middle\" x=\"1464\" y=\"-230.8\" font-family=\"Times,serif\" font-size=\"14.00\">mse = 9.06</text>\n<text text-anchor=\"middle\" x=\"1464\" y=\"-215.8\" font-family=\"Times,serif\" font-size=\"14.00\">samples = 237</text>\n<text text-anchor=\"middle\" x=\"1464\" y=\"-200.8\" font-family=\"Times,serif\" font-size=\"14.00\">value = 8.36</text>\n</g>\n<!-- 17&#45;&gt;25 -->\n<g id=\"edge25\" class=\"edge\"><title>17&#45;&gt;25</title>\n<path fill=\"none\" stroke=\"black\" d=\"M1406.6,-296.884C1413.95,-288.065 1421.97,-278.43 1429.64,-269.235\"/>\n<polygon fill=\"black\" stroke=\"black\" points=\"1432.54,-271.222 1436.25,-261.299 1427.16,-266.741 1432.54,-271.222\"/>\n</g>\n<!-- 19 -->\n<g id=\"node20\" class=\"node\"><title>19</title>\n<polygon fill=\"none\" stroke=\"black\" points=\"1117.5,-157 1020.5,-157 1020.5,-89 1117.5,-89 1117.5,-157\"/>\n<text text-anchor=\"middle\" x=\"1069\" y=\"-141.8\" font-family=\"Times,serif\" font-size=\"14.00\">std &lt;= 4.495</text>\n<text text-anchor=\"middle\" x=\"1069\" y=\"-126.8\" font-family=\"Times,serif\" font-size=\"14.00\">mse = 10.426</text>\n<text text-anchor=\"middle\" x=\"1069\" y=\"-111.8\" font-family=\"Times,serif\" font-size=\"14.00\">samples = 102</text>\n<text text-anchor=\"middle\" x=\"1069\" y=\"-96.8\" font-family=\"Times,serif\" font-size=\"14.00\">value = 6.754</text>\n</g>\n<!-- 18&#45;&gt;19 -->\n<g id=\"edge19\" class=\"edge\"><title>18&#45;&gt;19</title>\n<path fill=\"none\" stroke=\"black\" d=\"M1184.48,-192.884C1165.88,-181.785 1145.1,-169.394 1126.36,-158.213\"/>\n<polygon fill=\"black\" stroke=\"black\" points=\"1128,-155.12 1117.62,-153.003 1124.42,-161.131 1128,-155.12\"/>\n</g>\n<!-- 22 -->\n<g id=\"node23\" class=\"node\"><title>22</title>\n<polygon fill=\"none\" stroke=\"black\" points=\"1290,-157 1190,-157 1190,-89 1290,-89 1290,-157\"/>\n<text text-anchor=\"middle\" x=\"1240\" y=\"-141.8\" font-family=\"Times,serif\" font-size=\"14.00\">kurt &lt;= 22.807</text>\n<text text-anchor=\"middle\" x=\"1240\" y=\"-126.8\" font-family=\"Times,serif\" font-size=\"14.00\">mse = 6.39</text>\n<text text-anchor=\"middle\" x=\"1240\" y=\"-111.8\" font-family=\"Times,serif\" font-size=\"14.00\">samples = 286</text>\n<text text-anchor=\"middle\" x=\"1240\" y=\"-96.8\" font-family=\"Times,serif\" font-size=\"14.00\">value = 5.544</text>\n</g>\n<!-- 18&#45;&gt;22 -->\n<g id=\"edge22\" class=\"edge\"><title>18&#45;&gt;22</title>\n<path fill=\"none\" stroke=\"black\" d=\"M1240,-192.884C1240,-184.778 1240,-175.982 1240,-167.472\"/>\n<polygon fill=\"black\" stroke=\"black\" points=\"1243.5,-167.299 1240,-157.299 1236.5,-167.299 1243.5,-167.299\"/>\n</g>\n<!-- 20 -->\n<g id=\"node21\" class=\"node\"><title>20</title>\n<polygon fill=\"none\" stroke=\"black\" points=\"1002.5,-53 903.5,-53 903.5,-0 1002.5,-0 1002.5,-53\"/>\n<text text-anchor=\"middle\" x=\"953\" y=\"-37.8\" font-family=\"Times,serif\" font-size=\"14.00\">mse = 0.751</text>\n<text text-anchor=\"middle\" x=\"953\" y=\"-22.8\" font-family=\"Times,serif\" font-size=\"14.00\">samples = 2</text>\n<text text-anchor=\"middle\" x=\"953\" y=\"-7.8\" font-family=\"Times,serif\" font-size=\"14.00\">value = 14.107</text>\n</g>\n<!-- 19&#45;&gt;20 -->\n<g id=\"edge20\" class=\"edge\"><title>19&#45;&gt;20</title>\n<path fill=\"none\" stroke=\"black\" d=\"M1028.43,-88.9485C1016.75,-79.4346 1004.03,-69.074 992.425,-59.6175\"/>\n<polygon fill=\"black\" stroke=\"black\" points=\"994.556,-56.8392 984.592,-53.2367 990.135,-62.2663 994.556,-56.8392\"/>\n</g>\n<!-- 21 -->\n<g id=\"node22\" class=\"node\"><title>21</title>\n<polygon fill=\"none\" stroke=\"black\" points=\"1117.5,-53 1020.5,-53 1020.5,-0 1117.5,-0 1117.5,-53\"/>\n<text text-anchor=\"middle\" x=\"1069\" y=\"-37.8\" font-family=\"Times,serif\" font-size=\"14.00\">mse = 9.517</text>\n<text text-anchor=\"middle\" x=\"1069\" y=\"-22.8\" font-family=\"Times,serif\" font-size=\"14.00\">samples = 100</text>\n<text text-anchor=\"middle\" x=\"1069\" y=\"-7.8\" font-family=\"Times,serif\" font-size=\"14.00\">value = 6.607</text>\n</g>\n<!-- 19&#45;&gt;21 -->\n<g id=\"edge21\" class=\"edge\"><title>19&#45;&gt;21</title>\n<path fill=\"none\" stroke=\"black\" d=\"M1069,-88.9485C1069,-80.7153 1069,-71.848 1069,-63.4814\"/>\n<polygon fill=\"black\" stroke=\"black\" points=\"1072.5,-63.2367 1069,-53.2367 1065.5,-63.2367 1072.5,-63.2367\"/>\n</g>\n<!-- 23 -->\n<g id=\"node24\" class=\"node\"><title>23</title>\n<polygon fill=\"none\" stroke=\"black\" points=\"1228,-53 1136,-53 1136,-0 1228,-0 1228,-53\"/>\n<text text-anchor=\"middle\" x=\"1182\" y=\"-37.8\" font-family=\"Times,serif\" font-size=\"14.00\">mse = 6.072</text>\n<text text-anchor=\"middle\" x=\"1182\" y=\"-22.8\" font-family=\"Times,serif\" font-size=\"14.00\">samples = 88</text>\n<text text-anchor=\"middle\" x=\"1182\" y=\"-7.8\" font-family=\"Times,serif\" font-size=\"14.00\">value = 4.619</text>\n</g>\n<!-- 22&#45;&gt;23 -->\n<g id=\"edge23\" class=\"edge\"><title>22&#45;&gt;23</title>\n<path fill=\"none\" stroke=\"black\" d=\"M1219.71,-88.9485C1214.32,-80.1664 1208.49,-70.6629 1203.06,-61.815\"/>\n<polygon fill=\"black\" stroke=\"black\" points=\"1206.01,-59.9287 1197.8,-53.2367 1200.04,-63.5903 1206.01,-59.9287\"/>\n</g>\n<!-- 24 -->\n<g id=\"node25\" class=\"node\"><title>24</title>\n<polygon fill=\"none\" stroke=\"black\" points=\"1343.5,-53 1246.5,-53 1246.5,-0 1343.5,-0 1343.5,-53\"/>\n<text text-anchor=\"middle\" x=\"1295\" y=\"-37.8\" font-family=\"Times,serif\" font-size=\"14.00\">mse = 5.983</text>\n<text text-anchor=\"middle\" x=\"1295\" y=\"-22.8\" font-family=\"Times,serif\" font-size=\"14.00\">samples = 198</text>\n<text text-anchor=\"middle\" x=\"1295\" y=\"-7.8\" font-family=\"Times,serif\" font-size=\"14.00\">value = 5.955</text>\n</g>\n<!-- 22&#45;&gt;24 -->\n<g id=\"edge24\" class=\"edge\"><title>22&#45;&gt;24</title>\n<path fill=\"none\" stroke=\"black\" d=\"M1259.24,-88.9485C1264.29,-80.2579 1269.76,-70.8608 1274.87,-62.0917\"/>\n<polygon fill=\"black\" stroke=\"black\" points=\"1278.02,-63.6401 1280.02,-53.2367 1271.97,-60.1189 1278.02,-63.6401\"/>\n</g>\n<!-- 26 -->\n<g id=\"node27\" class=\"node\"><title>26</title>\n<polygon fill=\"none\" stroke=\"black\" points=\"1514,-157 1414,-157 1414,-89 1514,-89 1514,-157\"/>\n<text text-anchor=\"middle\" x=\"1464\" y=\"-141.8\" font-family=\"Times,serif\" font-size=\"14.00\">kurt &lt;= 49.263</text>\n<text text-anchor=\"middle\" x=\"1464\" y=\"-126.8\" font-family=\"Times,serif\" font-size=\"14.00\">mse = 8.436</text>\n<text text-anchor=\"middle\" x=\"1464\" y=\"-111.8\" font-family=\"Times,serif\" font-size=\"14.00\">samples = 141</text>\n<text text-anchor=\"middle\" x=\"1464\" y=\"-96.8\" font-family=\"Times,serif\" font-size=\"14.00\">value = 7.747</text>\n</g>\n<!-- 25&#45;&gt;26 -->\n<g id=\"edge26\" class=\"edge\"><title>25&#45;&gt;26</title>\n<path fill=\"none\" stroke=\"black\" d=\"M1464,-192.884C1464,-184.778 1464,-175.982 1464,-167.472\"/>\n<polygon fill=\"black\" stroke=\"black\" points=\"1467.5,-167.299 1464,-157.299 1460.5,-167.299 1467.5,-167.299\"/>\n</g>\n<!-- 29 -->\n<g id=\"node30\" class=\"node\"><title>29</title>\n<polygon fill=\"none\" stroke=\"black\" points=\"1700.5,-157 1585.5,-157 1585.5,-89 1700.5,-89 1700.5,-157\"/>\n<text text-anchor=\"middle\" x=\"1643\" y=\"-141.8\" font-family=\"Times,serif\" font-size=\"14.00\">sum &lt;= 648871.0</text>\n<text text-anchor=\"middle\" x=\"1643\" y=\"-126.8\" font-family=\"Times,serif\" font-size=\"14.00\">mse = 8.617</text>\n<text text-anchor=\"middle\" x=\"1643\" y=\"-111.8\" font-family=\"Times,serif\" font-size=\"14.00\">samples = 96</text>\n<text text-anchor=\"middle\" x=\"1643\" y=\"-96.8\" font-family=\"Times,serif\" font-size=\"14.00\">value = 9.26</text>\n</g>\n<!-- 25&#45;&gt;29 -->\n<g id=\"edge29\" class=\"edge\"><title>25&#45;&gt;29</title>\n<path fill=\"none\" stroke=\"black\" d=\"M1514.34,-197.316C1533.7,-186.282 1556.11,-173.513 1576.75,-161.753\"/>\n<polygon fill=\"black\" stroke=\"black\" points=\"1578.51,-164.775 1585.47,-156.783 1575.05,-158.693 1578.51,-164.775\"/>\n</g>\n<!-- 27 -->\n<g id=\"node28\" class=\"node\"><title>27</title>\n<polygon fill=\"none\" stroke=\"black\" points=\"1460.5,-53 1361.5,-53 1361.5,-0 1460.5,-0 1460.5,-53\"/>\n<text text-anchor=\"middle\" x=\"1411\" y=\"-37.8\" font-family=\"Times,serif\" font-size=\"14.00\">mse = 0.74</text>\n<text text-anchor=\"middle\" x=\"1411\" y=\"-22.8\" font-family=\"Times,serif\" font-size=\"14.00\">samples = 4</text>\n<text text-anchor=\"middle\" x=\"1411\" y=\"-7.8\" font-family=\"Times,serif\" font-size=\"14.00\">value = 11.851</text>\n</g>\n<!-- 26&#45;&gt;27 -->\n<g id=\"edge27\" class=\"edge\"><title>26&#45;&gt;27</title>\n<path fill=\"none\" stroke=\"black\" d=\"M1445.46,-88.9485C1440.59,-80.2579 1435.32,-70.8608 1430.4,-62.0917\"/>\n<polygon fill=\"black\" stroke=\"black\" points=\"1433.38,-60.2465 1425.43,-53.2367 1427.27,-63.6707 1433.38,-60.2465\"/>\n</g>\n<!-- 28 -->\n<g id=\"node29\" class=\"node\"><title>28</title>\n<polygon fill=\"none\" stroke=\"black\" points=\"1575.5,-53 1478.5,-53 1478.5,-0 1575.5,-0 1575.5,-53\"/>\n<text text-anchor=\"middle\" x=\"1527\" y=\"-37.8\" font-family=\"Times,serif\" font-size=\"14.00\">mse = 8.155</text>\n<text text-anchor=\"middle\" x=\"1527\" y=\"-22.8\" font-family=\"Times,serif\" font-size=\"14.00\">samples = 137</text>\n<text text-anchor=\"middle\" x=\"1527\" y=\"-7.8\" font-family=\"Times,serif\" font-size=\"14.00\">value = 7.628</text>\n</g>\n<!-- 26&#45;&gt;28 -->\n<g id=\"edge28\" class=\"edge\"><title>26&#45;&gt;28</title>\n<path fill=\"none\" stroke=\"black\" d=\"M1486.03,-88.9485C1491.89,-80.1664 1498.22,-70.6629 1504.12,-61.815\"/>\n<polygon fill=\"black\" stroke=\"black\" points=\"1507.21,-63.4987 1509.84,-53.2367 1501.38,-59.6158 1507.21,-63.4987\"/>\n</g>\n<!-- 30 -->\n<g id=\"node31\" class=\"node\"><title>30</title>\n<polygon fill=\"none\" stroke=\"black\" points=\"1692.5,-53 1593.5,-53 1593.5,-0 1692.5,-0 1692.5,-53\"/>\n<text text-anchor=\"middle\" x=\"1643\" y=\"-37.8\" font-family=\"Times,serif\" font-size=\"14.00\">mse = 9.787</text>\n<text text-anchor=\"middle\" x=\"1643\" y=\"-22.8\" font-family=\"Times,serif\" font-size=\"14.00\">samples = 22</text>\n<text text-anchor=\"middle\" x=\"1643\" y=\"-7.8\" font-family=\"Times,serif\" font-size=\"14.00\">value = 11.168</text>\n</g>\n<!-- 29&#45;&gt;30 -->\n<g id=\"edge30\" class=\"edge\"><title>29&#45;&gt;30</title>\n<path fill=\"none\" stroke=\"black\" d=\"M1643,-88.9485C1643,-80.7153 1643,-71.848 1643,-63.4814\"/>\n<polygon fill=\"black\" stroke=\"black\" points=\"1646.5,-63.2367 1643,-53.2367 1639.5,-63.2367 1646.5,-63.2367\"/>\n</g>\n<!-- 31 -->\n<g id=\"node32\" class=\"node\"><title>31</title>\n<polygon fill=\"none\" stroke=\"black\" points=\"1803,-53 1711,-53 1711,-0 1803,-0 1803,-53\"/>\n<text text-anchor=\"middle\" x=\"1757\" y=\"-37.8\" font-family=\"Times,serif\" font-size=\"14.00\">mse = 6.865</text>\n<text text-anchor=\"middle\" x=\"1757\" y=\"-22.8\" font-family=\"Times,serif\" font-size=\"14.00\">samples = 74</text>\n<text text-anchor=\"middle\" x=\"1757\" y=\"-7.8\" font-family=\"Times,serif\" font-size=\"14.00\">value = 8.693</text>\n</g>\n<!-- 29&#45;&gt;31 -->\n<g id=\"edge31\" class=\"edge\"><title>29&#45;&gt;31</title>\n<path fill=\"none\" stroke=\"black\" d=\"M1682.87,-88.9485C1694.24,-79.526 1706.61,-69.2731 1717.93,-59.8906\"/>\n<polygon fill=\"black\" stroke=\"black\" points=\"1720.49,-62.3132 1725.95,-53.2367 1716.02,-56.924 1720.49,-62.3132\"/>\n</g>\n<!-- 33 -->\n<g id=\"node34\" class=\"node\"><title>33</title>\n<polygon fill=\"none\" stroke=\"black\" points=\"2309.5,-365 2212.5,-365 2212.5,-297 2309.5,-297 2309.5,-365\"/>\n<text text-anchor=\"middle\" x=\"2261\" y=\"-349.8\" font-family=\"Times,serif\" font-size=\"14.00\">kurt &lt;= 59.82</text>\n<text text-anchor=\"middle\" x=\"2261\" y=\"-334.8\" font-family=\"Times,serif\" font-size=\"14.00\">mse = 9.316</text>\n<text text-anchor=\"middle\" x=\"2261\" y=\"-319.8\" font-family=\"Times,serif\" font-size=\"14.00\">samples = 892</text>\n<text text-anchor=\"middle\" x=\"2261\" y=\"-304.8\" font-family=\"Times,serif\" font-size=\"14.00\">value = 4.769</text>\n</g>\n<!-- 32&#45;&gt;33 -->\n<g id=\"edge33\" class=\"edge\"><title>32&#45;&gt;33</title>\n<path fill=\"none\" stroke=\"black\" d=\"M2261,-400.884C2261,-392.778 2261,-383.982 2261,-375.472\"/>\n<polygon fill=\"black\" stroke=\"black\" points=\"2264.5,-375.299 2261,-365.299 2257.5,-375.299 2264.5,-375.299\"/>\n</g>\n<!-- 48 -->\n<g id=\"node49\" class=\"node\"><title>48</title>\n<polygon fill=\"none\" stroke=\"black\" points=\"2975.5,-365 2878.5,-365 2878.5,-297 2975.5,-297 2975.5,-365\"/>\n<text text-anchor=\"middle\" x=\"2927\" y=\"-349.8\" font-family=\"Times,serif\" font-size=\"14.00\">ave &lt;= 4.192</text>\n<text text-anchor=\"middle\" x=\"2927\" y=\"-334.8\" font-family=\"Times,serif\" font-size=\"14.00\">mse = 5.493</text>\n<text text-anchor=\"middle\" x=\"2927\" y=\"-319.8\" font-family=\"Times,serif\" font-size=\"14.00\">samples = 878</text>\n<text text-anchor=\"middle\" x=\"2927\" y=\"-304.8\" font-family=\"Times,serif\" font-size=\"14.00\">value = 3.155</text>\n</g>\n<!-- 32&#45;&gt;48 -->\n<g id=\"edge48\" class=\"edge\"><title>32&#45;&gt;48</title>\n<path fill=\"none\" stroke=\"black\" d=\"M2313.26,-425.996C2435.52,-407.272 2739.54,-360.71 2868.1,-341.02\"/>\n<polygon fill=\"black\" stroke=\"black\" points=\"2868.8,-344.455 2878.15,-339.481 2867.74,-337.535 2868.8,-344.455\"/>\n</g>\n<!-- 34 -->\n<g id=\"node35\" class=\"node\"><title>34</title>\n<polygon fill=\"none\" stroke=\"black\" points=\"2199,-261 2099,-261 2099,-193 2199,-193 2199,-261\"/>\n<text text-anchor=\"middle\" x=\"2149\" y=\"-245.8\" font-family=\"Times,serif\" font-size=\"14.00\">kurt &lt;= 25.456</text>\n<text text-anchor=\"middle\" x=\"2149\" y=\"-230.8\" font-family=\"Times,serif\" font-size=\"14.00\">mse = 7.416</text>\n<text text-anchor=\"middle\" x=\"2149\" y=\"-215.8\" font-family=\"Times,serif\" font-size=\"14.00\">samples = 581</text>\n<text text-anchor=\"middle\" x=\"2149\" y=\"-200.8\" font-family=\"Times,serif\" font-size=\"14.00\">value = 3.995</text>\n</g>\n<!-- 33&#45;&gt;34 -->\n<g id=\"edge34\" class=\"edge\"><title>33&#45;&gt;34</title>\n<path fill=\"none\" stroke=\"black\" d=\"M2224.64,-296.884C2214.56,-287.709 2203.52,-277.65 2193.06,-268.123\"/>\n<polygon fill=\"black\" stroke=\"black\" points=\"2195.31,-265.445 2185.56,-261.299 2190.6,-270.62 2195.31,-265.445\"/>\n</g>\n<!-- 41 -->\n<g id=\"node42\" class=\"node\"><title>41</title>\n<polygon fill=\"none\" stroke=\"black\" points=\"2427.5,-261 2320.5,-261 2320.5,-193 2427.5,-193 2427.5,-261\"/>\n<text text-anchor=\"middle\" x=\"2374\" y=\"-245.8\" font-family=\"Times,serif\" font-size=\"14.00\">kurt &lt;= 134.234</text>\n<text text-anchor=\"middle\" x=\"2374\" y=\"-230.8\" font-family=\"Times,serif\" font-size=\"14.00\">mse = 9.65</text>\n<text text-anchor=\"middle\" x=\"2374\" y=\"-215.8\" font-family=\"Times,serif\" font-size=\"14.00\">samples = 311</text>\n<text text-anchor=\"middle\" x=\"2374\" y=\"-200.8\" font-family=\"Times,serif\" font-size=\"14.00\">value = 6.217</text>\n</g>\n<!-- 33&#45;&gt;41 -->\n<g id=\"edge41\" class=\"edge\"><title>33&#45;&gt;41</title>\n<path fill=\"none\" stroke=\"black\" d=\"M2297.69,-296.884C2307.85,-287.709 2319,-277.65 2329.55,-268.123\"/>\n<polygon fill=\"black\" stroke=\"black\" points=\"2332.03,-270.598 2337.11,-261.299 2327.34,-265.402 2332.03,-270.598\"/>\n</g>\n<!-- 35 -->\n<g id=\"node36\" class=\"node\"><title>35</title>\n<polygon fill=\"none\" stroke=\"black\" points=\"2025.5,-157 1928.5,-157 1928.5,-89 2025.5,-89 2025.5,-157\"/>\n<text text-anchor=\"middle\" x=\"1977\" y=\"-141.8\" font-family=\"Times,serif\" font-size=\"14.00\">ave &lt;= 4.285</text>\n<text text-anchor=\"middle\" x=\"1977\" y=\"-126.8\" font-family=\"Times,serif\" font-size=\"14.00\">mse = 5.979</text>\n<text text-anchor=\"middle\" x=\"1977\" y=\"-111.8\" font-family=\"Times,serif\" font-size=\"14.00\">samples = 106</text>\n<text text-anchor=\"middle\" x=\"1977\" y=\"-96.8\" font-family=\"Times,serif\" font-size=\"14.00\">value = 2.906</text>\n</g>\n<!-- 34&#45;&gt;35 -->\n<g id=\"edge35\" class=\"edge\"><title>34&#45;&gt;35</title>\n<path fill=\"none\" stroke=\"black\" d=\"M2098.79,-196.223C2078.66,-184.286 2055.35,-170.462 2034.54,-158.122\"/>\n<polygon fill=\"black\" stroke=\"black\" points=\"2036.18,-155.025 2025.79,-152.935 2032.61,-161.046 2036.18,-155.025\"/>\n</g>\n<!-- 38 -->\n<g id=\"node39\" class=\"node\"><title>38</title>\n<polygon fill=\"none\" stroke=\"black\" points=\"2197.5,-157 2100.5,-157 2100.5,-89 2197.5,-89 2197.5,-157\"/>\n<text text-anchor=\"middle\" x=\"2149\" y=\"-141.8\" font-family=\"Times,serif\" font-size=\"14.00\">std &lt;= 5.723</text>\n<text text-anchor=\"middle\" x=\"2149\" y=\"-126.8\" font-family=\"Times,serif\" font-size=\"14.00\">mse = 7.414</text>\n<text text-anchor=\"middle\" x=\"2149\" y=\"-111.8\" font-family=\"Times,serif\" font-size=\"14.00\">samples = 475</text>\n<text text-anchor=\"middle\" x=\"2149\" y=\"-96.8\" font-family=\"Times,serif\" font-size=\"14.00\">value = 4.238</text>\n</g>\n<!-- 34&#45;&gt;38 -->\n<g id=\"edge38\" class=\"edge\"><title>34&#45;&gt;38</title>\n<path fill=\"none\" stroke=\"black\" d=\"M2149,-192.884C2149,-184.778 2149,-175.982 2149,-167.472\"/>\n<polygon fill=\"black\" stroke=\"black\" points=\"2152.5,-167.299 2149,-157.299 2145.5,-167.299 2152.5,-167.299\"/>\n</g>\n<!-- 36 -->\n<g id=\"node37\" class=\"node\"><title>36</title>\n<polygon fill=\"none\" stroke=\"black\" points=\"1913,-53 1821,-53 1821,-0 1913,-0 1913,-53\"/>\n<text text-anchor=\"middle\" x=\"1867\" y=\"-37.8\" font-family=\"Times,serif\" font-size=\"14.00\">mse = 7.248</text>\n<text text-anchor=\"middle\" x=\"1867\" y=\"-22.8\" font-family=\"Times,serif\" font-size=\"14.00\">samples = 17</text>\n<text text-anchor=\"middle\" x=\"1867\" y=\"-7.8\" font-family=\"Times,serif\" font-size=\"14.00\">value = 4.831</text>\n</g>\n<!-- 35&#45;&gt;36 -->\n<g id=\"edge36\" class=\"edge\"><title>35&#45;&gt;36</title>\n<path fill=\"none\" stroke=\"black\" d=\"M1938.53,-88.9485C1927.56,-79.526 1915.62,-69.2731 1904.7,-59.8906\"/>\n<polygon fill=\"black\" stroke=\"black\" points=\"1906.82,-57.0983 1896.96,-53.2367 1902.26,-62.408 1906.82,-57.0983\"/>\n</g>\n<!-- 37 -->\n<g id=\"node38\" class=\"node\"><title>37</title>\n<polygon fill=\"none\" stroke=\"black\" points=\"2023,-53 1931,-53 1931,-0 2023,-0 2023,-53\"/>\n<text text-anchor=\"middle\" x=\"1977\" y=\"-37.8\" font-family=\"Times,serif\" font-size=\"14.00\">mse = 4.893</text>\n<text text-anchor=\"middle\" x=\"1977\" y=\"-22.8\" font-family=\"Times,serif\" font-size=\"14.00\">samples = 89</text>\n<text text-anchor=\"middle\" x=\"1977\" y=\"-7.8\" font-family=\"Times,serif\" font-size=\"14.00\">value = 2.538</text>\n</g>\n<!-- 35&#45;&gt;37 -->\n<g id=\"edge37\" class=\"edge\"><title>35&#45;&gt;37</title>\n<path fill=\"none\" stroke=\"black\" d=\"M1977,-88.9485C1977,-80.7153 1977,-71.848 1977,-63.4814\"/>\n<polygon fill=\"black\" stroke=\"black\" points=\"1980.5,-63.2367 1977,-53.2367 1973.5,-63.2367 1980.5,-63.2367\"/>\n</g>\n<!-- 39 -->\n<g id=\"node40\" class=\"node\"><title>39</title>\n<polygon fill=\"none\" stroke=\"black\" points=\"2138.5,-53 2041.5,-53 2041.5,-0 2138.5,-0 2138.5,-53\"/>\n<text text-anchor=\"middle\" x=\"2090\" y=\"-37.8\" font-family=\"Times,serif\" font-size=\"14.00\">mse = 8.486</text>\n<text text-anchor=\"middle\" x=\"2090\" y=\"-22.8\" font-family=\"Times,serif\" font-size=\"14.00\">samples = 129</text>\n<text text-anchor=\"middle\" x=\"2090\" y=\"-7.8\" font-family=\"Times,serif\" font-size=\"14.00\">value = 5.158</text>\n</g>\n<!-- 38&#45;&gt;39 -->\n<g id=\"edge39\" class=\"edge\"><title>38&#45;&gt;39</title>\n<path fill=\"none\" stroke=\"black\" d=\"M2128.36,-88.9485C2122.88,-80.1664 2116.95,-70.6629 2111.42,-61.815\"/>\n<polygon fill=\"black\" stroke=\"black\" points=\"2114.33,-59.8656 2106.07,-53.2367 2108.4,-63.5728 2114.33,-59.8656\"/>\n</g>\n<!-- 40 -->\n<g id=\"node41\" class=\"node\"><title>40</title>\n<polygon fill=\"none\" stroke=\"black\" points=\"2253.5,-53 2156.5,-53 2156.5,-0 2253.5,-0 2253.5,-53\"/>\n<text text-anchor=\"middle\" x=\"2205\" y=\"-37.8\" font-family=\"Times,serif\" font-size=\"14.00\">mse = 6.581</text>\n<text text-anchor=\"middle\" x=\"2205\" y=\"-22.8\" font-family=\"Times,serif\" font-size=\"14.00\">samples = 346</text>\n<text text-anchor=\"middle\" x=\"2205\" y=\"-7.8\" font-family=\"Times,serif\" font-size=\"14.00\">value = 3.895</text>\n</g>\n<!-- 38&#45;&gt;40 -->\n<g id=\"edge40\" class=\"edge\"><title>38&#45;&gt;40</title>\n<path fill=\"none\" stroke=\"black\" d=\"M2168.59,-88.9485C2173.74,-80.2579 2179.3,-70.8608 2184.5,-62.0917\"/>\n<polygon fill=\"black\" stroke=\"black\" points=\"2187.66,-63.624 2189.75,-53.2367 2181.64,-60.0553 2187.66,-63.624\"/>\n</g>\n<!-- 42 -->\n<g id=\"node43\" class=\"node\"><title>42</title>\n<polygon fill=\"none\" stroke=\"black\" points=\"2422.5,-157 2325.5,-157 2325.5,-89 2422.5,-89 2422.5,-157\"/>\n<text text-anchor=\"middle\" x=\"2374\" y=\"-141.8\" font-family=\"Times,serif\" font-size=\"14.00\">max &lt;= 154.5</text>\n<text text-anchor=\"middle\" x=\"2374\" y=\"-126.8\" font-family=\"Times,serif\" font-size=\"14.00\">mse = 8.597</text>\n<text text-anchor=\"middle\" x=\"2374\" y=\"-111.8\" font-family=\"Times,serif\" font-size=\"14.00\">samples = 235</text>\n<text text-anchor=\"middle\" x=\"2374\" y=\"-96.8\" font-family=\"Times,serif\" font-size=\"14.00\">value = 5.704</text>\n</g>\n<!-- 41&#45;&gt;42 -->\n<g id=\"edge42\" class=\"edge\"><title>41&#45;&gt;42</title>\n<path fill=\"none\" stroke=\"black\" d=\"M2374,-192.884C2374,-184.778 2374,-175.982 2374,-167.472\"/>\n<polygon fill=\"black\" stroke=\"black\" points=\"2377.5,-167.299 2374,-157.299 2370.5,-167.299 2377.5,-167.299\"/>\n</g>\n<!-- 45 -->\n<g id=\"node46\" class=\"node\"><title>45</title>\n<polygon fill=\"none\" stroke=\"black\" points=\"2589,-157 2497,-157 2497,-89 2589,-89 2589,-157\"/>\n<text text-anchor=\"middle\" x=\"2543\" y=\"-141.8\" font-family=\"Times,serif\" font-size=\"14.00\">std &lt;= 6.011</text>\n<text text-anchor=\"middle\" x=\"2543\" y=\"-126.8\" font-family=\"Times,serif\" font-size=\"14.00\">mse = 9.58</text>\n<text text-anchor=\"middle\" x=\"2543\" y=\"-111.8\" font-family=\"Times,serif\" font-size=\"14.00\">samples = 76</text>\n<text text-anchor=\"middle\" x=\"2543\" y=\"-96.8\" font-family=\"Times,serif\" font-size=\"14.00\">value = 7.802</text>\n</g>\n<!-- 41&#45;&gt;45 -->\n<g id=\"edge45\" class=\"edge\"><title>41&#45;&gt;45</title>\n<path fill=\"none\" stroke=\"black\" d=\"M2427.94,-193.446C2447.2,-181.817 2468.92,-168.71 2488.26,-157.041\"/>\n<polygon fill=\"black\" stroke=\"black\" points=\"2490.2,-159.955 2496.95,-151.791 2486.58,-153.962 2490.2,-159.955\"/>\n</g>\n<!-- 43 -->\n<g id=\"node44\" class=\"node\"><title>43</title>\n<polygon fill=\"none\" stroke=\"black\" points=\"2364,-53 2272,-53 2272,-0 2364,-0 2364,-53\"/>\n<text text-anchor=\"middle\" x=\"2318\" y=\"-37.8\" font-family=\"Times,serif\" font-size=\"14.00\">mse = 7.302</text>\n<text text-anchor=\"middle\" x=\"2318\" y=\"-22.8\" font-family=\"Times,serif\" font-size=\"14.00\">samples = 89</text>\n<text text-anchor=\"middle\" x=\"2318\" y=\"-7.8\" font-family=\"Times,serif\" font-size=\"14.00\">value = 6.725</text>\n</g>\n<!-- 42&#45;&gt;43 -->\n<g id=\"edge43\" class=\"edge\"><title>42&#45;&gt;43</title>\n<path fill=\"none\" stroke=\"black\" d=\"M2354.41,-88.9485C2349.26,-80.2579 2343.7,-70.8608 2338.5,-62.0917\"/>\n<polygon fill=\"black\" stroke=\"black\" points=\"2341.36,-60.0553 2333.25,-53.2367 2335.34,-63.624 2341.36,-60.0553\"/>\n</g>\n<!-- 44 -->\n<g id=\"node45\" class=\"node\"><title>44</title>\n<polygon fill=\"none\" stroke=\"black\" points=\"2479.5,-53 2382.5,-53 2382.5,-0 2479.5,-0 2479.5,-53\"/>\n<text text-anchor=\"middle\" x=\"2431\" y=\"-37.8\" font-family=\"Times,serif\" font-size=\"14.00\">mse = 8.363</text>\n<text text-anchor=\"middle\" x=\"2431\" y=\"-22.8\" font-family=\"Times,serif\" font-size=\"14.00\">samples = 146</text>\n<text text-anchor=\"middle\" x=\"2431\" y=\"-7.8\" font-family=\"Times,serif\" font-size=\"14.00\">value = 5.082</text>\n</g>\n<!-- 42&#45;&gt;44 -->\n<g id=\"edge44\" class=\"edge\"><title>42&#45;&gt;44</title>\n<path fill=\"none\" stroke=\"black\" d=\"M2393.94,-88.9485C2399.23,-80.1664 2404.97,-70.6629 2410.3,-61.815\"/>\n<polygon fill=\"black\" stroke=\"black\" points=\"2413.31,-63.6074 2415.48,-53.2367 2407.31,-59.9919 2413.31,-63.6074\"/>\n</g>\n<!-- 46 -->\n<g id=\"node47\" class=\"node\"><title>46</title>\n<polygon fill=\"none\" stroke=\"black\" points=\"2588,-53 2498,-53 2498,-0 2588,-0 2588,-53\"/>\n<text text-anchor=\"middle\" x=\"2543\" y=\"-37.8\" font-family=\"Times,serif\" font-size=\"14.00\">mse = 6.543</text>\n<text text-anchor=\"middle\" x=\"2543\" y=\"-22.8\" font-family=\"Times,serif\" font-size=\"14.00\">samples = 32</text>\n<text text-anchor=\"middle\" x=\"2543\" y=\"-7.8\" font-family=\"Times,serif\" font-size=\"14.00\">value = 9.38</text>\n</g>\n<!-- 45&#45;&gt;46 -->\n<g id=\"edge46\" class=\"edge\"><title>45&#45;&gt;46</title>\n<path fill=\"none\" stroke=\"black\" d=\"M2543,-88.9485C2543,-80.7153 2543,-71.848 2543,-63.4814\"/>\n<polygon fill=\"black\" stroke=\"black\" points=\"2546.5,-63.2367 2543,-53.2367 2539.5,-63.2367 2546.5,-63.2367\"/>\n</g>\n<!-- 47 -->\n<g id=\"node48\" class=\"node\"><title>47</title>\n<polygon fill=\"none\" stroke=\"black\" points=\"2698,-53 2606,-53 2606,-0 2698,-0 2698,-53\"/>\n<text text-anchor=\"middle\" x=\"2652\" y=\"-37.8\" font-family=\"Times,serif\" font-size=\"14.00\">mse = 8.658</text>\n<text text-anchor=\"middle\" x=\"2652\" y=\"-22.8\" font-family=\"Times,serif\" font-size=\"14.00\">samples = 44</text>\n<text text-anchor=\"middle\" x=\"2652\" y=\"-7.8\" font-family=\"Times,serif\" font-size=\"14.00\">value = 6.653</text>\n</g>\n<!-- 45&#45;&gt;47 -->\n<g id=\"edge47\" class=\"edge\"><title>45&#45;&gt;47</title>\n<path fill=\"none\" stroke=\"black\" d=\"M2581.12,-88.9485C2591.99,-79.526 2603.82,-69.2731 2614.64,-59.8906\"/>\n<polygon fill=\"black\" stroke=\"black\" points=\"2617.05,-62.4319 2622.31,-53.2367 2612.47,-57.1428 2617.05,-62.4319\"/>\n</g>\n<!-- 49 -->\n<g id=\"node50\" class=\"node\"><title>49</title>\n<polygon fill=\"none\" stroke=\"black\" points=\"2977,-261 2877,-261 2877,-193 2977,-193 2977,-261\"/>\n<text text-anchor=\"middle\" x=\"2927\" y=\"-245.8\" font-family=\"Times,serif\" font-size=\"14.00\">kurt &lt;= 87.901</text>\n<text text-anchor=\"middle\" x=\"2927\" y=\"-230.8\" font-family=\"Times,serif\" font-size=\"14.00\">mse = 6.538</text>\n<text text-anchor=\"middle\" x=\"2927\" y=\"-215.8\" font-family=\"Times,serif\" font-size=\"14.00\">samples = 91</text>\n<text text-anchor=\"middle\" x=\"2927\" y=\"-200.8\" font-family=\"Times,serif\" font-size=\"14.00\">value = 4.836</text>\n</g>\n<!-- 48&#45;&gt;49 -->\n<g id=\"edge49\" class=\"edge\"><title>48&#45;&gt;49</title>\n<path fill=\"none\" stroke=\"black\" d=\"M2927,-296.884C2927,-288.778 2927,-279.982 2927,-271.472\"/>\n<polygon fill=\"black\" stroke=\"black\" points=\"2930.5,-271.299 2927,-261.299 2923.5,-271.299 2930.5,-271.299\"/>\n</g>\n<!-- 56 -->\n<g id=\"node57\" class=\"node\"><title>56</title>\n<polygon fill=\"none\" stroke=\"black\" points=\"3308.5,-261 3211.5,-261 3211.5,-193 3308.5,-193 3308.5,-261\"/>\n<text text-anchor=\"middle\" x=\"3260\" y=\"-245.8\" font-family=\"Times,serif\" font-size=\"14.00\">std &lt;= 8.79</text>\n<text text-anchor=\"middle\" x=\"3260\" y=\"-230.8\" font-family=\"Times,serif\" font-size=\"14.00\">mse = 5.007</text>\n<text text-anchor=\"middle\" x=\"3260\" y=\"-215.8\" font-family=\"Times,serif\" font-size=\"14.00\">samples = 787</text>\n<text text-anchor=\"middle\" x=\"3260\" y=\"-200.8\" font-family=\"Times,serif\" font-size=\"14.00\">value = 2.961</text>\n</g>\n<!-- 48&#45;&gt;56 -->\n<g id=\"edge56\" class=\"edge\"><title>48&#45;&gt;56</title>\n<path fill=\"none\" stroke=\"black\" d=\"M2975.78,-315.059C3035.71,-296.702 3137.3,-265.583 3201.41,-245.947\"/>\n<polygon fill=\"black\" stroke=\"black\" points=\"3202.83,-249.173 3211.36,-242.898 3200.78,-242.48 3202.83,-249.173\"/>\n</g>\n<!-- 50 -->\n<g id=\"node51\" class=\"node\"><title>50</title>\n<polygon fill=\"none\" stroke=\"black\" points=\"2917,-157 2825,-157 2825,-89 2917,-89 2917,-157\"/>\n<text text-anchor=\"middle\" x=\"2871\" y=\"-141.8\" font-family=\"Times,serif\" font-size=\"14.00\">std &lt;= 7.638</text>\n<text text-anchor=\"middle\" x=\"2871\" y=\"-126.8\" font-family=\"Times,serif\" font-size=\"14.00\">mse = 4.297</text>\n<text text-anchor=\"middle\" x=\"2871\" y=\"-111.8\" font-family=\"Times,serif\" font-size=\"14.00\">samples = 51</text>\n<text text-anchor=\"middle\" x=\"2871\" y=\"-96.8\" font-family=\"Times,serif\" font-size=\"14.00\">value = 4.136</text>\n</g>\n<!-- 49&#45;&gt;50 -->\n<g id=\"edge50\" class=\"edge\"><title>49&#45;&gt;50</title>\n<path fill=\"none\" stroke=\"black\" d=\"M2908.82,-192.884C2904.12,-184.332 2899.01,-175.013 2894.1,-166.072\"/>\n<polygon fill=\"black\" stroke=\"black\" points=\"2897.16,-164.381 2889.28,-157.299 2891.03,-167.75 2897.16,-164.381\"/>\n</g>\n<!-- 53 -->\n<g id=\"node54\" class=\"node\"><title>53</title>\n<polygon fill=\"none\" stroke=\"black\" points=\"3030.5,-157 2935.5,-157 2935.5,-89 3030.5,-89 3030.5,-157\"/>\n<text text-anchor=\"middle\" x=\"2983\" y=\"-141.8\" font-family=\"Times,serif\" font-size=\"14.00\">max &lt;= 332.5</text>\n<text text-anchor=\"middle\" x=\"2983\" y=\"-126.8\" font-family=\"Times,serif\" font-size=\"14.00\">mse = 7.973</text>\n<text text-anchor=\"middle\" x=\"2983\" y=\"-111.8\" font-family=\"Times,serif\" font-size=\"14.00\">samples = 40</text>\n<text text-anchor=\"middle\" x=\"2983\" y=\"-96.8\" font-family=\"Times,serif\" font-size=\"14.00\">value = 5.729</text>\n</g>\n<!-- 49&#45;&gt;53 -->\n<g id=\"edge53\" class=\"edge\"><title>49&#45;&gt;53</title>\n<path fill=\"none\" stroke=\"black\" d=\"M2945.18,-192.884C2949.88,-184.332 2954.99,-175.013 2959.9,-166.072\"/>\n<polygon fill=\"black\" stroke=\"black\" points=\"2962.97,-167.75 2964.72,-157.299 2956.84,-164.381 2962.97,-167.75\"/>\n</g>\n<!-- 51 -->\n<g id=\"node52\" class=\"node\"><title>51</title>\n<polygon fill=\"none\" stroke=\"black\" points=\"2808,-53 2716,-53 2716,-0 2808,-0 2808,-53\"/>\n<text text-anchor=\"middle\" x=\"2762\" y=\"-37.8\" font-family=\"Times,serif\" font-size=\"14.00\">mse = 3.711</text>\n<text text-anchor=\"middle\" x=\"2762\" y=\"-22.8\" font-family=\"Times,serif\" font-size=\"14.00\">samples = 35</text>\n<text text-anchor=\"middle\" x=\"2762\" y=\"-7.8\" font-family=\"Times,serif\" font-size=\"14.00\">value = 4.773</text>\n</g>\n<!-- 50&#45;&gt;51 -->\n<g id=\"edge51\" class=\"edge\"><title>50&#45;&gt;51</title>\n<path fill=\"none\" stroke=\"black\" d=\"M2832.88,-88.9485C2822.01,-79.526 2810.18,-69.2731 2799.36,-59.8906\"/>\n<polygon fill=\"black\" stroke=\"black\" points=\"2801.53,-57.1428 2791.69,-53.2367 2796.95,-62.4319 2801.53,-57.1428\"/>\n</g>\n<!-- 52 -->\n<g id=\"node53\" class=\"node\"><title>52</title>\n<polygon fill=\"none\" stroke=\"black\" points=\"2918,-53 2826,-53 2826,-0 2918,-0 2918,-53\"/>\n<text text-anchor=\"middle\" x=\"2872\" y=\"-37.8\" font-family=\"Times,serif\" font-size=\"14.00\">mse = 2.747</text>\n<text text-anchor=\"middle\" x=\"2872\" y=\"-22.8\" font-family=\"Times,serif\" font-size=\"14.00\">samples = 16</text>\n<text text-anchor=\"middle\" x=\"2872\" y=\"-7.8\" font-family=\"Times,serif\" font-size=\"14.00\">value = 2.743</text>\n</g>\n<!-- 50&#45;&gt;52 -->\n<g id=\"edge52\" class=\"edge\"><title>50&#45;&gt;52</title>\n<path fill=\"none\" stroke=\"black\" d=\"M2871.35,-88.9485C2871.44,-80.7153 2871.53,-71.848 2871.62,-63.4814\"/>\n<polygon fill=\"black\" stroke=\"black\" points=\"2875.12,-63.2732 2871.73,-53.2367 2868.12,-63.1991 2875.12,-63.2732\"/>\n</g>\n<!-- 54 -->\n<g id=\"node55\" class=\"node\"><title>54</title>\n<polygon fill=\"none\" stroke=\"black\" points=\"3028,-53 2936,-53 2936,-0 3028,-0 3028,-53\"/>\n<text text-anchor=\"middle\" x=\"2982\" y=\"-37.8\" font-family=\"Times,serif\" font-size=\"14.00\">mse = 6.501</text>\n<text text-anchor=\"middle\" x=\"2982\" y=\"-22.8\" font-family=\"Times,serif\" font-size=\"14.00\">samples = 33</text>\n<text text-anchor=\"middle\" x=\"2982\" y=\"-7.8\" font-family=\"Times,serif\" font-size=\"14.00\">value = 6.315</text>\n</g>\n<!-- 53&#45;&gt;54 -->\n<g id=\"edge54\" class=\"edge\"><title>53&#45;&gt;54</title>\n<path fill=\"none\" stroke=\"black\" d=\"M2982.65,-88.9485C2982.56,-80.7153 2982.47,-71.848 2982.38,-63.4814\"/>\n<polygon fill=\"black\" stroke=\"black\" points=\"2985.88,-63.1991 2982.27,-53.2367 2978.88,-63.2732 2985.88,-63.1991\"/>\n</g>\n<!-- 55 -->\n<g id=\"node56\" class=\"node\"><title>55</title>\n<polygon fill=\"none\" stroke=\"black\" points=\"3138,-53 3046,-53 3046,-0 3138,-0 3138,-53\"/>\n<text text-anchor=\"middle\" x=\"3092\" y=\"-37.8\" font-family=\"Times,serif\" font-size=\"14.00\">mse = 5.669</text>\n<text text-anchor=\"middle\" x=\"3092\" y=\"-22.8\" font-family=\"Times,serif\" font-size=\"14.00\">samples = 7</text>\n<text text-anchor=\"middle\" x=\"3092\" y=\"-7.8\" font-family=\"Times,serif\" font-size=\"14.00\">value = 2.968</text>\n</g>\n<!-- 53&#45;&gt;55 -->\n<g id=\"edge55\" class=\"edge\"><title>53&#45;&gt;55</title>\n<path fill=\"none\" stroke=\"black\" d=\"M3021.12,-88.9485C3031.99,-79.526 3043.82,-69.2731 3054.64,-59.8906\"/>\n<polygon fill=\"black\" stroke=\"black\" points=\"3057.05,-62.4319 3062.31,-53.2367 3052.47,-57.1428 3057.05,-62.4319\"/>\n</g>\n<!-- 57 -->\n<g id=\"node58\" class=\"node\"><title>57</title>\n<polygon fill=\"none\" stroke=\"black\" points=\"3310,-157 3210,-157 3210,-89 3310,-89 3310,-157\"/>\n<text text-anchor=\"middle\" x=\"3260\" y=\"-141.8\" font-family=\"Times,serif\" font-size=\"14.00\">kurt &lt;= 58.175</text>\n<text text-anchor=\"middle\" x=\"3260\" y=\"-126.8\" font-family=\"Times,serif\" font-size=\"14.00\">mse = 5.48</text>\n<text text-anchor=\"middle\" x=\"3260\" y=\"-111.8\" font-family=\"Times,serif\" font-size=\"14.00\">samples = 534</text>\n<text text-anchor=\"middle\" x=\"3260\" y=\"-96.8\" font-family=\"Times,serif\" font-size=\"14.00\">value = 3.309</text>\n</g>\n<!-- 56&#45;&gt;57 -->\n<g id=\"edge57\" class=\"edge\"><title>56&#45;&gt;57</title>\n<path fill=\"none\" stroke=\"black\" d=\"M3260,-192.884C3260,-184.778 3260,-175.982 3260,-167.472\"/>\n<polygon fill=\"black\" stroke=\"black\" points=\"3263.5,-167.299 3260,-157.299 3256.5,-167.299 3263.5,-167.299\"/>\n</g>\n<!-- 60 -->\n<g id=\"node61\" class=\"node\"><title>60</title>\n<polygon fill=\"none\" stroke=\"black\" points=\"3483,-157 3383,-157 3383,-89 3483,-89 3483,-157\"/>\n<text text-anchor=\"middle\" x=\"3433\" y=\"-141.8\" font-family=\"Times,serif\" font-size=\"14.00\">kurt &lt;= 18.473</text>\n<text text-anchor=\"middle\" x=\"3433\" y=\"-126.8\" font-family=\"Times,serif\" font-size=\"14.00\">mse = 3.213</text>\n<text text-anchor=\"middle\" x=\"3433\" y=\"-111.8\" font-family=\"Times,serif\" font-size=\"14.00\">samples = 253</text>\n<text text-anchor=\"middle\" x=\"3433\" y=\"-96.8\" font-family=\"Times,serif\" font-size=\"14.00\">value = 2.226</text>\n</g>\n<!-- 56&#45;&gt;60 -->\n<g id=\"edge60\" class=\"edge\"><title>56&#45;&gt;60</title>\n<path fill=\"none\" stroke=\"black\" d=\"M3308.65,-197.316C3329.03,-185.301 3352.9,-171.228 3374.25,-158.641\"/>\n<polygon fill=\"black\" stroke=\"black\" points=\"3376.07,-161.627 3382.91,-153.533 3372.52,-155.597 3376.07,-161.627\"/>\n</g>\n<!-- 58 -->\n<g id=\"node59\" class=\"node\"><title>58</title>\n<polygon fill=\"none\" stroke=\"black\" points=\"3253.5,-53 3156.5,-53 3156.5,-0 3253.5,-0 3253.5,-53\"/>\n<text text-anchor=\"middle\" x=\"3205\" y=\"-37.8\" font-family=\"Times,serif\" font-size=\"14.00\">mse = 3.971</text>\n<text text-anchor=\"middle\" x=\"3205\" y=\"-22.8\" font-family=\"Times,serif\" font-size=\"14.00\">samples = 233</text>\n<text text-anchor=\"middle\" x=\"3205\" y=\"-7.8\" font-family=\"Times,serif\" font-size=\"14.00\">value = 2.592</text>\n</g>\n<!-- 57&#45;&gt;58 -->\n<g id=\"edge58\" class=\"edge\"><title>57&#45;&gt;58</title>\n<path fill=\"none\" stroke=\"black\" d=\"M3240.76,-88.9485C3235.71,-80.2579 3230.24,-70.8608 3225.13,-62.0917\"/>\n<polygon fill=\"black\" stroke=\"black\" points=\"3228.03,-60.1189 3219.98,-53.2367 3221.98,-63.6401 3228.03,-60.1189\"/>\n</g>\n<!-- 59 -->\n<g id=\"node60\" class=\"node\"><title>59</title>\n<polygon fill=\"none\" stroke=\"black\" points=\"3368.5,-53 3271.5,-53 3271.5,-0 3368.5,-0 3368.5,-53\"/>\n<text text-anchor=\"middle\" x=\"3320\" y=\"-37.8\" font-family=\"Times,serif\" font-size=\"14.00\">mse = 5.943</text>\n<text text-anchor=\"middle\" x=\"3320\" y=\"-22.8\" font-family=\"Times,serif\" font-size=\"14.00\">samples = 301</text>\n<text text-anchor=\"middle\" x=\"3320\" y=\"-7.8\" font-family=\"Times,serif\" font-size=\"14.00\">value = 3.863</text>\n</g>\n<!-- 57&#45;&gt;59 -->\n<g id=\"edge59\" class=\"edge\"><title>57&#45;&gt;59</title>\n<path fill=\"none\" stroke=\"black\" d=\"M3280.99,-88.9485C3286.56,-80.1664 3292.59,-70.6629 3298.21,-61.815\"/>\n<polygon fill=\"black\" stroke=\"black\" points=\"3301.25,-63.5549 3303.66,-53.2367 3295.34,-59.8028 3301.25,-63.5549\"/>\n</g>\n<!-- 61 -->\n<g id=\"node62\" class=\"node\"><title>61</title>\n<polygon fill=\"none\" stroke=\"black\" points=\"3479,-53 3387,-53 3387,-0 3479,-0 3479,-53\"/>\n<text text-anchor=\"middle\" x=\"3433\" y=\"-37.8\" font-family=\"Times,serif\" font-size=\"14.00\">mse = 0.0</text>\n<text text-anchor=\"middle\" x=\"3433\" y=\"-22.8\" font-family=\"Times,serif\" font-size=\"14.00\">samples = 1</text>\n<text text-anchor=\"middle\" x=\"3433\" y=\"-7.8\" font-family=\"Times,serif\" font-size=\"14.00\">value = 8.816</text>\n</g>\n<!-- 60&#45;&gt;61 -->\n<g id=\"edge61\" class=\"edge\"><title>60&#45;&gt;61</title>\n<path fill=\"none\" stroke=\"black\" d=\"M3433,-88.9485C3433,-80.7153 3433,-71.848 3433,-63.4814\"/>\n<polygon fill=\"black\" stroke=\"black\" points=\"3436.5,-63.2367 3433,-53.2367 3429.5,-63.2367 3436.5,-63.2367\"/>\n</g>\n<!-- 62 -->\n<g id=\"node63\" class=\"node\"><title>62</title>\n<polygon fill=\"none\" stroke=\"black\" points=\"3594.5,-53 3497.5,-53 3497.5,-0 3594.5,-0 3594.5,-53\"/>\n<text text-anchor=\"middle\" x=\"3546\" y=\"-37.8\" font-family=\"Times,serif\" font-size=\"14.00\">mse = 3.053</text>\n<text text-anchor=\"middle\" x=\"3546\" y=\"-22.8\" font-family=\"Times,serif\" font-size=\"14.00\">samples = 252</text>\n<text text-anchor=\"middle\" x=\"3546\" y=\"-7.8\" font-family=\"Times,serif\" font-size=\"14.00\">value = 2.2</text>\n</g>\n<!-- 60&#45;&gt;62 -->\n<g id=\"edge62\" class=\"edge\"><title>60&#45;&gt;62</title>\n<path fill=\"none\" stroke=\"black\" d=\"M3472.52,-88.9485C3483.79,-79.526 3496.05,-69.2731 3507.27,-59.8906\"/>\n<polygon fill=\"black\" stroke=\"black\" points=\"3509.8,-62.3368 3515.22,-53.2367 3505.31,-56.967 3509.8,-62.3368\"/>\n</g>\n</g>\n</svg>\n"
          },
          "metadata": {}
        }
      ]
    },
    {
      "metadata": {
        "_uuid": "f679d22a6897da83ad19f67c61b38d2bbec3f2e9"
      },
      "cell_type": "markdown",
      "source": " <a id=\"443\"></a> <br>\n### 4-4-3 SHAP Values\nSHAP (SHapley Additive exPlanations) is a unified approach to explain the output of any machine learning model. SHAP connects game theory with local explanations, uniting several previous methods [1-7] and representing the only possible consistent and locally accurate additive feature attribution method based on expectations (see the SHAP NIPS paper for details)."
    },
    {
      "metadata": {
        "trusted": true,
        "_uuid": "3282947164987d3d884b3194febeea71d35af827"
      },
      "cell_type": "code",
      "source": "row_to_show = 5\ndata_for_prediction = val_X.iloc[row_to_show]  # use 1 row of data here. Could use multiple rows if desired\ndata_for_prediction_array = data_for_prediction.values.reshape(1, -1)\n\n\ntree_model.predict(data_for_prediction_array);",
      "execution_count": 157,
      "outputs": []
    },
    {
      "metadata": {
        "trusted": true,
        "_uuid": "8d5fd5fd855799d7372d45dac0bad6f31b1743e5"
      },
      "cell_type": "code",
      "source": "# Create object that can calculate shap values\nexplainer = shap.TreeExplainer(tree_model)\n\n# Calculate Shap values\nshap_values = explainer.shap_values(data_for_prediction)",
      "execution_count": 158,
      "outputs": []
    },
    {
      "metadata": {
        "_uuid": "827ecaa999879545a5feb494243a7e308e7f8344"
      },
      "cell_type": "markdown",
      "source": ">**Note**: Shap can answer to this qeustion : how the model works for an individual prediction?"
    },
    {
      "metadata": {
        "trusted": true,
        "_uuid": "b6d1acc05e1e3a47c4020b2f69f5391e5b9d7131"
      },
      "cell_type": "code",
      "source": "shap.initjs()\nshap.force_plot(explainer.expected_value, shap_values, data_for_prediction)",
      "execution_count": null,
      "outputs": []
    },
    {
      "metadata": {
        "_uuid": "5fe36562336b5f7ab053961af61a90577eb0ae08"
      },
      "cell_type": "markdown",
      "source": "### 4-4-4 pdpbox"
    },
    {
      "metadata": {
        "trusted": true,
        "_uuid": "dd24284dc37375e242e27f8ad520946ab1face0e"
      },
      "cell_type": "code",
      "source": "from matplotlib import pyplot as plt\nfrom pdpbox import pdp, get_dataset, info_plots\n\n# Create the data that we will plot\npdp_goals = pdp.pdp_isolate(model=tree_model, dataset=val_X, model_features=X.columns, feature='std')\n\n# plot it\npdp.pdp_plot(pdp_goals, 'std')\nplt.show()",
      "execution_count": null,
      "outputs": []
    },
    {
      "metadata": {
        "trusted": true,
        "_uuid": "938538ea10763c9650d3249cd8d36a110946ff31"
      },
      "cell_type": "code",
      "source": "# Create the data that we will plot\npdp_goals = pdp.pdp_isolate(model=rfc_model, dataset=val_X, model_features=X.columns, feature='kurt')\n\n# plot it\npdp.pdp_plot(pdp_goals, 'kurt')\nplt.show()",
      "execution_count": null,
      "outputs": []
    },
    {
      "metadata": {
        "_uuid": "ff1acc7198b0de21a8a75b1c5bfd79466f353ac5"
      },
      "cell_type": "markdown",
      "source": "<a id=\"5\"></a> <br>\n# 5- Model Development"
    },
    {
      "metadata": {
        "_uuid": "3836aeeba3b5aca98a53e33583f1e59c46db31ea"
      },
      "cell_type": "markdown",
      "source": "<a id=\"51\"></a> <br>\n# 5-1 SVM"
    },
    {
      "metadata": {
        "trusted": true,
        "_uuid": "f8531dbee1c3a9382f05ff595884a56e1886a9fa"
      },
      "cell_type": "code",
      "source": "svm = NuSVR()\nsvm.fit(X_train_scaled, y_train.values.flatten())\ny_pred_svm = svm.predict(X_train_scaled)",
      "execution_count": null,
      "outputs": []
    },
    {
      "metadata": {
        "trusted": true,
        "_uuid": "4d5b7e1ab5e577ab579e144bdce10da1ef23fa1d"
      },
      "cell_type": "code",
      "source": "score = mean_absolute_error(y_train.values.flatten(), y_pred_svm)\nprint(f'Score: {score:0.3f}')",
      "execution_count": null,
      "outputs": []
    },
    {
      "metadata": {
        "_uuid": "6f9f572ba1cf0c6e00c81020a5747aa03cd66a2f"
      },
      "cell_type": "markdown",
      "source": "<a id=\"52\"></a> <br>\n# 5-2 LGBM"
    },
    {
      "metadata": {
        "_uuid": "f2257acd4fc6101cf612835bda03f623f2ad77fd"
      },
      "cell_type": "markdown",
      "source": " Defing folds for cross-validation"
    },
    {
      "metadata": {
        "trusted": true,
        "_uuid": "570ae2130887ae74aab5343dfb8cd938b82f3162"
      },
      "cell_type": "code",
      "source": "folds = KFold(n_splits=5, shuffle=True, random_state=42)",
      "execution_count": null,
      "outputs": []
    },
    {
      "metadata": {
        "_uuid": "589b0571bf2ef40a74866ca7b8e5544f8ca5f0ab"
      },
      "cell_type": "markdown",
      "source": "LGBM params"
    },
    {
      "metadata": {
        "_kg_hide-input": true,
        "_kg_hide-output": true,
        "trusted": true,
        "_uuid": "c32ccbc39541caddb1fc2ebeb23cdfc04618eee0"
      },
      "cell_type": "code",
      "source": "params = {'objective' : \"regression\", \n               'boosting':\"gbdt\",\n               'metric':\"mae\",\n               'boost_from_average':\"false\",\n               'num_threads':8,\n               'learning_rate' : 0.001,\n               'num_leaves' : 52,\n               'max_depth':-1,\n               'tree_learner' : \"serial\",\n               'feature_fraction' : 0.85,\n               'bagging_freq' : 1,\n               'bagging_fraction' : 0.85,\n               'min_data_in_leaf' : 10,\n               'min_sum_hessian_in_leaf' : 10.0,\n               'verbosity' : -1}",
      "execution_count": null,
      "outputs": []
    },
    {
      "metadata": {
        "trusted": true,
        "_uuid": "e9025251430b1ada86c51f48f5d15311c97be244"
      },
      "cell_type": "code",
      "source": "%%time\ny_pred_lgb = np.zeros(len(X_test_scaled))\nfor fold_n, (train_index, valid_index) in tqdm(enumerate(folds.split(X))):\n    print('Fold', fold_n, 'started at', time.ctime())\n    X_train, X_valid = X.iloc[train_index], X.iloc[valid_index]\n    y_train, y_valid = y.iloc[train_index], y.iloc[valid_index]\n        \n    model = lgb.LGBMRegressor(**params, n_estimators = 22000, n_jobs = -1)\n    model.fit(X_train, y_train, \n                    eval_set=[(X_train, y_train), (X_valid, y_valid)], eval_metric='mae',\n                    verbose=1000, early_stopping_rounds=200)\n            \n    y_pred_valid = model.predict(X_valid)\n    y_pred_lgb += model.predict(X_test_scaled, num_iteration=model.best_iteration_) / folds.n_splits",
      "execution_count": null,
      "outputs": []
    },
    {
      "metadata": {
        "_uuid": "641ab93f5769f4c07e909f929099df0d9c3fde94"
      },
      "cell_type": "markdown",
      "source": "<a id=\"53\"></a> <br>\n# 5-3 Catboost "
    },
    {
      "metadata": {
        "trusted": true,
        "_uuid": "c4494f1e7938978b3385d20827f428fc2a165c95"
      },
      "cell_type": "code",
      "source": "train_pool = Pool(X,y)\ncat_model = CatBoostRegressor(\n                               iterations=3000,# change 25 to 3000 to get best performance \n                               learning_rate=0.03,\n                               eval_metric='MAE',\n                              )\ncat_model.fit(X,y,silent=True)\ny_pred_cat = cat_model.predict(X_test)",
      "execution_count": null,
      "outputs": []
    },
    {
      "metadata": {
        "_uuid": "3da2824e537c35961688902a01600839957b80f8"
      },
      "cell_type": "markdown",
      "source": "<a id=\"6\"></a> <br>\n# 6- submission"
    },
    {
      "metadata": {
        "_uuid": "866e3cae7860dc6b250dae2d7ff356b744c10cdf"
      },
      "cell_type": "markdown",
      "source": "### submission for svm"
    },
    {
      "metadata": {
        "trusted": true,
        "_uuid": "bb3bedef467c3410b52ba3e44225456c799008ae"
      },
      "cell_type": "code",
      "source": "y_pred_svm= svm.predict(X_test_scaled)",
      "execution_count": null,
      "outputs": []
    },
    {
      "metadata": {
        "trusted": true,
        "_uuid": "abae1f181e3fafd06cb9e6892bf74807e6d3b9c3"
      },
      "cell_type": "code",
      "source": "submission['time_to_failure'] = y_pred_cat\nsubmission.to_csv('submission_svm.csv')",
      "execution_count": null,
      "outputs": []
    },
    {
      "metadata": {
        "_uuid": "b40d9bdb9e4cff86c7e4e4ec48fc9ff300f747b3"
      },
      "cell_type": "markdown",
      "source": "### Submission for LGBM"
    },
    {
      "metadata": {
        "trusted": true,
        "_uuid": "8d515bff6468fbba4af108d17f87614dedc34173"
      },
      "cell_type": "code",
      "source": "submission['time_to_failure'] = y_pred_lgb\nsubmission.to_csv('submission_lgb.csv')",
      "execution_count": null,
      "outputs": []
    },
    {
      "metadata": {
        "_uuid": "985787e9ac6b2735485878c0e376595bf15cfe30"
      },
      "cell_type": "markdown",
      "source": "### Submission for Catboost"
    },
    {
      "metadata": {
        "trusted": true,
        "_uuid": "51245aa42700796721ef19cc022f2521de6ab89d"
      },
      "cell_type": "code",
      "source": "submission['time_to_failure'] = y_pred_cat\nsubmission.to_csv('submission_cat.csv')",
      "execution_count": null,
      "outputs": []
    },
    {
      "metadata": {
        "_uuid": "56bc55eff1a5dd37b973c37efd6b4d4f5538034e"
      },
      "cell_type": "markdown",
      "source": "### Submission for Randomforest"
    },
    {
      "metadata": {
        "trusted": true,
        "_uuid": "8414812d672f8762877c125a26ecac7836fc0908"
      },
      "cell_type": "code",
      "source": "y_pred_rf=rfc_model.predict(X_test_scaled)",
      "execution_count": null,
      "outputs": []
    },
    {
      "metadata": {
        "trusted": true,
        "_uuid": "e99baac001b511cf9bf34df2ff5d9b8f5e248457"
      },
      "cell_type": "code",
      "source": "\nsubmission['time_to_failure'] = y_pred_rf\nsubmission.to_csv('submission_rf.csv')",
      "execution_count": null,
      "outputs": []
    },
    {
      "metadata": {
        "_uuid": "0eb7bd5614b50491012b8c50ba108f640b2e83b3"
      },
      "cell_type": "markdown",
      "source": "<a id=\"61\"></a> <br>\n# 6-1 Blending"
    },
    {
      "metadata": {
        "trusted": true,
        "_uuid": "d759a6f91a2641a72c027c21478c25742d12a4ce"
      },
      "cell_type": "code",
      "source": "blending = y_pred_svm*0.5 + y_pred_lgb*0.5 \nsubmission['time_to_failure']=blending\nsubmission.to_csv('submission_lgb_svm.csv')",
      "execution_count": null,
      "outputs": []
    },
    {
      "metadata": {
        "trusted": true,
        "_uuid": "abe96ea1781575f604c73578304cc7921e794e92"
      },
      "cell_type": "code",
      "source": "blending = y_pred_svm*0.5 + y_pred_cat*0.5 \nsubmission['time_to_failure']=blending\nsubmission.to_csv('submission_cat_svm.csv')",
      "execution_count": null,
      "outputs": []
    },
    {
      "metadata": {
        "_uuid": "435fe67f1a833ad62045a29288c440c6952d315c"
      },
      "cell_type": "markdown",
      "source": "you can follow me on:\n> ###### [ GitHub](https://github.com/mjbahmani/)\n> ###### [Kaggle](https://www.kaggle.com/mjbahmani/)\n\n <b>I hope you find this kernel helpful and some <font color='red'>UPVOTES</font> would be very much appreciated.<b/>\n "
    },
    {
      "metadata": {
        "_uuid": "87a2ff7337efe70afed219d3e4df4baf5763524e"
      },
      "cell_type": "markdown",
      "source": "<a id=\"7\"></a> <br>\n# 7-References\n1. [Basic Probability Data Science with examples](https://www.analyticsvidhya.com/blog/2017/02/basic-probability-data-science-with-examples/)\n1. [How to self learn statistics of data science](https://medium.com/ml-research-lab/how-to-self-learn-statistics-of-data-science-c05db1f7cfc3)\n1. [Probability statistics for data science- series](https://towardsdatascience.com/probability-statistics-for-data-science-series-83b94353ca48)\n1. [basic-statistics-in-python-probability](https://www.dataquest.io/blog/basic-statistics-in-python-probability/)\n1. [tutorialspoint](https://www.tutorialspoint.com/python/python_poisson_distribution.htm)\n\n## 7-1 Kaggle Kernels\nIn the end , I want to thank all the kernels I've used in this notebook\n1. [https://www.kaggle.com/inversion/basic-feature-benchmark](https://www.kaggle.com/inversion/basic-feature-benchmark)\n1. [https://www.kaggle.com/dansbecker/permutation-importance](https://www.kaggle.com/dansbecker/permutation-importance)"
    },
    {
      "metadata": {
        "_uuid": "6ef2c570b8457a851fc753134b587d61a4d9082e"
      },
      "cell_type": "markdown",
      "source": "Go to first step: [Course Home Page](https://www.kaggle.com/mjbahmani/10-steps-to-become-a-data-scientist)\n\nGo to next step : [Titanic](https://www.kaggle.com/mjbahmani/a-comprehensive-ml-workflow-with-python)\n"
    },
    {
      "metadata": {
        "_uuid": "c1f7f7d015529da63ac495e5c2dcd08dc563e249"
      },
      "cell_type": "markdown",
      "source": "### Not Completed yet!!!"
    }
  ],
  "metadata": {
    "kernelspec": {
      "display_name": "Python 3",
      "language": "python",
      "name": "python3"
    },
    "language_info": {
      "name": "python",
      "version": "3.6.6",
      "mimetype": "text/x-python",
      "codemirror_mode": {
        "name": "ipython",
        "version": 3
      },
      "pygments_lexer": "ipython3",
      "nbconvert_exporter": "python",
      "file_extension": ".py"
    }
  },
  "nbformat": 4,
  "nbformat_minor": 1
}