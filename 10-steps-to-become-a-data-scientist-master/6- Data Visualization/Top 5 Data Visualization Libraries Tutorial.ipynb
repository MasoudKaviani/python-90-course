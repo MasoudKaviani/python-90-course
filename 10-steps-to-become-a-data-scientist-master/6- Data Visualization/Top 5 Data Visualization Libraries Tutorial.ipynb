{
  "cells": [
    {
      "metadata": {
        "_uuid": "a8f9622945156d6337ba73c481da2de7efef7384"
      },
      "cell_type": "markdown",
      "source": "# <div style=\"text-align: center\">Top 5 Data Visualization Libraries Tutorial </div>\n\n\n<img src='https://s3.amazonaws.com/prime-web/app/uploads/July.28.18-GettyImages-509365976-Data-Visualization-Blog.jpg' height=600 width=700>\n<div style=\"text-align:center\">last update: <b>25/01/2019</b></div>\n\n\n\n>###### You may  be interested have a look at 10 Steps to Become a Data Scientist: \n\n1. [Leren Python](https://www.kaggle.com/mjbahmani/the-data-scientist-s-toolbox-tutorial-1)\n2. [Python Packages](https://www.kaggle.com/mjbahmani/the-data-scientist-s-toolbox-tutorial-2)\n3. [Mathematics and Linear Algebra](https://www.kaggle.com/mjbahmani/linear-algebra-for-data-scientists)\n4. [Programming &amp; Analysis Tools](https://www.kaggle.com/mjbahmani/20-ml-algorithms-15-plot-for-beginners)\n5. [Big Data](https://www.kaggle.com/mjbahmani/a-data-science-framework-for-quora)\n6.  <font color=\"red\">You are in the Sixth step</font>\n7. [Data Cleaning](https://www.kaggle.com/mjbahmani/machine-learning-workflow-for-house-prices)\n8. [How to solve a Problem?](https://www.kaggle.com/mjbahmani/the-data-scientist-s-toolbox-tutorial-2)\n9. [Machine Learning](https://www.kaggle.com/mjbahmani/a-comprehensive-ml-workflow-with-python)\n10. [Deep Learning](https://www.kaggle.com/mjbahmani/top-5-deep-learning-frameworks-tutorial)\n\n\n---------------------------------------------------------------------\nYou can Fork and Run this kernel on Github:\n> ###### [ GitHub](https://github.com/mjbahmani/10-steps-to-become-a-data-scientist)\n\n-------------------------------------------------------------------------------------------------------------\n **I hope you find this kernel helpful and some <font color=\"red\"><b>UPVOTES</b></font> would be very much appreciated**\n \n -----------"
    },
    {
      "metadata": {
        "_uuid": "cda11210a88d6484112cbe2c3624225328326c6a"
      },
      "cell_type": "markdown",
      "source": " <a id=\"top\"></a> <br>\n## Notebook  Content\n1. [Introduction](#1)\n1. [Loading Packages](#2)\n    1. [version](#21)\n    1. [Setup](#22)\n    1. [Data Collection](#23)\n1. [Data Visualization Libraries](#4)\n1. [Matplotlib](#4)\n    1. [Scatterplots](#41)\n    1. [ Line Plots](#42)\n    1. [Bar Charts](#43)\n    1. [Histograms](#44)\n    1. [Box and Whisker Plots](#45)\n    1. [Heatmaps](#46)\n    1. [Animations](#47)\n    1. [Interactivity](#48)\n    1. [DataFrame.plot](#49)\n1. [Seaborn](#5)\n    1. [Seaborn Vs Matplotlib](#51)\n    1. [Useful Python Data Visualization Libraries](#52)\n1. [Plotly](#6)\n    1. [New to Plotly?](#61)\n    1. [Plotly Offline from Command Line](#62)\n1. [Bokeh](#7)\n1. [networkx](#8)\n1. [Read more](#9)  \n     1. [Courses](#91)  \n     1. [Ebooks](#92)  \n     1. [Cheat sheet](#93)\n1. [Conclusion](#10)    \n1. [References](#11)    \n    "
    },
    {
      "metadata": {
        "_uuid": "750903cc2679d39058f56df6c6c040be02b748df"
      },
      "cell_type": "markdown",
      "source": " <a id=\"1\"></a> <br>\n## 1- Introduction\nIf you've followed my other kernels so far. You have noticed that for those who are <b>beginners</b>, I've introduced a course \"<b> <a href='https://www.kaggle.com/mjbahmani/10-steps-to-become-a-data-scientist' >10 Steps to Become a Data Scientist</a> </b>\". In this kernel we will start another step with each other. There are plenty of <b>Kernels</b> that can help you learn <b>Python 's Libraries</b> from scratch but here in <b>Kaggle</b>, I want to Analysis <font color=\"green\"><b>Meta Kaggle</b></font> a  popular  Dataset.\nAfter reading, you can use it  to Analysis other real dataset and use it as a template to deal with <b>ML</b> problems.\nIt is clear that everyone in this community is familiar with Meta Kaggle dataset  but if you need to review your information about the datasets please visit  [meta-kaggle](https://www.kaggle.com/kaggle/meta-kaggle) .\n\n\nI am open to getting your feedback for improving this **kernel** together.\n"
    },
    {
      "metadata": {
        "_uuid": "fbedcae8843986c2139f18dad4b5f313e6535ac5"
      },
      "cell_type": "markdown",
      "source": "<a id=\"2\"></a> <br>\n## 2- Loading Packages\nIn this kernel we are using the following packages:"
    },
    {
      "metadata": {
        "_cell_guid": "b1076dfc-b9ad-4769-8c92-a6c4dae69d19",
        "_kg_hide-input": true,
        "_uuid": "8f2839f25d086af736a60e9eeb907d3b93b6e0e5",
        "trusted": true
      },
      "cell_type": "code",
      "source": "from plotly.offline import download_plotlyjs, init_notebook_mode, plot, iplot\nfrom bokeh.io import push_notebook, show, output_notebook\nimport mpl_toolkits.axes_grid1.inset_locator as mpl_il\nfrom bokeh.plotting import figure, output_file, show\nfrom bokeh.io import show, output_notebook\nimport matplotlib.animation as animation\nfrom matplotlib.figure import Figure\nfrom sklearn.cluster import KMeans\nimport plotly.figure_factory as ff\nimport matplotlib.pylab as pylab\nfrom ipywidgets import interact\nimport plotly.graph_objs as go\nimport plotly.graph_objs as go\nimport matplotlib.pyplot as plt\nfrom bokeh.plotting import figure\nfrom sklearn  import datasets\nimport plotly.plotly as py\nimport plotly.graph_objs as go\nfrom plotly import tools\n\nfrom sklearn import datasets\nimport plotly.offline as py\nfrom random import randint\nfrom plotly import tools\nimport matplotlib as mpl\nimport seaborn as sns\nimport pandas as pd\nimport numpy as np\nimport matplotlib\nimport warnings\nimport string\nimport numpy\nimport csv\nimport os",
      "execution_count": null,
      "outputs": []
    },
    {
      "metadata": {
        "_uuid": "cb6fbd6b1eee108ca34577de77592af65b781cc0"
      },
      "cell_type": "markdown",
      "source": "<a id=\"21\"></a> <br>\n## 2-1 version"
    },
    {
      "metadata": {
        "_kg_hide-input": true,
        "_uuid": "7d081df6329f26958f545c32b4d96172b3be96d9",
        "trusted": true
      },
      "cell_type": "code",
      "source": "print('matplotlib: {}'.format(matplotlib.__version__))\nprint('seaborn: {}'.format(sns.__version__))\nprint('pandas: {}'.format(pd.__version__))\nprint('numpy: {}'.format(np.__version__))\n\n#print('wordcloud: {}'.format(wordcloud.version))",
      "execution_count": null,
      "outputs": []
    },
    {
      "metadata": {
        "_uuid": "4634f86ca193d38c1121af4d30f31acf25d9d334"
      },
      "cell_type": "markdown",
      "source": "<a id=\"22\"></a> <br>\n## 2-2 Setup\n\nA few tiny adjustments for better **code readability**"
    },
    {
      "metadata": {
        "_kg_hide-input": true,
        "_uuid": "13ccd69be8e3a0502a3e172d1416686ce8cdba56",
        "trusted": true
      },
      "cell_type": "code",
      "source": "sns.set(style='white', context='notebook', palette='deep')\npylab.rcParams['figure.figsize'] = 12,8\nwarnings.filterwarnings('ignore')\nmpl.style.use('ggplot')\nsns.set_style('white')\n%matplotlib inline",
      "execution_count": null,
      "outputs": []
    },
    {
      "metadata": {
        "_uuid": "cedecea930b278f86292367cc28d2996a235a169"
      },
      "cell_type": "markdown",
      "source": "<a id=\"23\"></a> <br>\n## 2-3 Data Collection\n**Data collection** is the process of gathering and measuring data, information or any variables of interest in a standardized and established manner that enables the collector to answer or test hypothesis and evaluate outcomes of the particular collection.[techopedia]\n<img src='https://www.iaeemwc.com/assets/images/Blog/data-collection.jpg' height=300 width=300>\n\nI start Collection Data by the Users and Kernels datasets into **Pandas DataFrames**"
    },
    {
      "metadata": {
        "_kg_hide-input": true,
        "_uuid": "9269ae851b744856bce56840637030a16a5877e1",
        "trusted": true
      },
      "cell_type": "code",
      "source": "# import kernels and users to play with it (MJ Bahmani)\n#command--> 1\nusers = pd.read_csv(\"../input/Users.csv\")\nkernels = pd.read_csv(\"../input/Kernels.csv\")\nmessages = pd.read_csv(\"../input/ForumMessages.csv\")",
      "execution_count": null,
      "outputs": []
    },
    {
      "metadata": {
        "_uuid": "58ed9c838069f54de5cf90b20a774c3e236149b3"
      },
      "cell_type": "markdown",
      "source": "\n**<< Note 1 >>**\n\n* Each row is an observation (also known as : sample, example, instance, record)\n* Each column is a feature (also known as: Predictor, attribute, Independent Variable, input, regressor, Covariate)\n###### [Go to top](#top)"
    },
    {
      "metadata": {
        "_kg_hide-input": true,
        "_uuid": "33344731ac8933d46461ca893ea8936f6ee1c3e4",
        "trusted": true
      },
      "cell_type": "code",
      "source": "#command--> 2\nusers.sample(1) ",
      "execution_count": null,
      "outputs": []
    },
    {
      "metadata": {
        "_uuid": "7b5fd1034cd591ebd29fba1c77d342ec2b408d13"
      },
      "cell_type": "markdown",
      "source": "### Please **replace** your username and find your userid\n\nWe suppose that userid==authoruserid and use userid for both kernels and users dataset"
    },
    {
      "metadata": {
        "_kg_hide-input": true,
        "_uuid": "edd043f8feb76cfe51b79785302ca4936ceb7b51",
        "trusted": true
      },
      "cell_type": "code",
      "source": "username=\"mjbahmani\"\nuserid=int(users[users['UserName']==\"mjbahmani\"].Id)\nuserid",
      "execution_count": null,
      "outputs": []
    },
    {
      "metadata": {
        "_uuid": "7cc8cac399d9d348842ea0b589581f5f909c17dd"
      },
      "cell_type": "markdown",
      "source": "We can just use **dropna()**(be careful sometimes you should not do this!)"
    },
    {
      "metadata": {
        "_kg_hide-input": true,
        "_uuid": "7972fa0a7d1950d8a59f9820c6cacc00eb8f1015",
        "trusted": true
      },
      "cell_type": "code",
      "source": "# remove rows that have NA's\nprint('Before Droping',messages.shape)\n#command--> 3\nmessages = messages.dropna()\nprint('After Droping',messages.shape)",
      "execution_count": null,
      "outputs": []
    },
    {
      "metadata": {
        "_uuid": "b1a61ef77cbe97153445293fc8d01f409d87272f"
      },
      "cell_type": "markdown",
      "source": "<a id=\"231\"></a> <br>\n## 2-3-1 Features\nFeatures can be from following types:\n1. numeric\n1. categorical\n1. ordinal\n1. datetime\n1. coordinates\n\nFind the type of features in **Meta Kaggle**?!\n<br>\nFor getting some information about the dataset you can use **info()** command\n###### [Go to top](#top)"
    },
    {
      "metadata": {
        "_kg_hide-input": true,
        "_uuid": "de95bf94a02721364ad6cbd6d440d664b2961e39",
        "trusted": true
      },
      "cell_type": "code",
      "source": "#command--> 4\nprint(users.info())",
      "execution_count": null,
      "outputs": []
    },
    {
      "metadata": {
        "_uuid": "e08d410c0dac5cf34eea33940ab586eb7e9ded5a"
      },
      "cell_type": "markdown",
      "source": "<a id=\"232\"></a> <br>\n## 2-3-2 Explorer Dataset\n1. Dimensions of the dataset.\n\n1. Peek at the data itself.\n\n1. Statistical summary of all attributes.\n\n1. Breakdown of the data by the class variable.\n\nDon’t worry, each look at the data is **one command**. These are useful commands that you can use again and again on future projects.\n###### [Go to top](#top)"
    },
    {
      "metadata": {
        "_kg_hide-input": true,
        "_uuid": "4b45251be7be77333051fe738639104ae1005fa5",
        "trusted": true
      },
      "cell_type": "code",
      "source": "# shape\n#command--> 5\nprint(users.shape)",
      "execution_count": null,
      "outputs": []
    },
    {
      "metadata": {
        "_kg_hide-input": true,
        "_uuid": "c64e9d3e0bf394fb833de94a0fc5c34f69fce24c",
        "trusted": true
      },
      "cell_type": "code",
      "source": "#columns*rows\n#command--> 6\nusers.size",
      "execution_count": null,
      "outputs": []
    },
    {
      "metadata": {
        "_uuid": "277e1998627d6a3ddeff4e913a6b8c3dc81dec96"
      },
      "cell_type": "markdown",
      "source": "\nWe can get a quick idea of how many instances (rows) and how many attributes (columns) the data contains with the shape property."
    },
    {
      "metadata": {
        "_uuid": "3458838205be4c7fbff88e95ef69934e13e2199b"
      },
      "cell_type": "markdown",
      "source": "You see number of unique item for Species with command below:"
    },
    {
      "metadata": {
        "_kg_hide-input": true,
        "_uuid": "4b90d165a007106ae99809ad28edd75bd8153dd8",
        "trusted": true
      },
      "cell_type": "code",
      "source": "#command--> 7\nkernels['Medal'].unique()",
      "execution_count": null,
      "outputs": []
    },
    {
      "metadata": {
        "_kg_hide-input": true,
        "_uuid": "8accfbddf2228274ad412c3ad3be72b4107d6f6c",
        "trusted": true
      },
      "cell_type": "code",
      "source": "#command--> 8\nkernels[\"Medal\"].value_counts()\n",
      "execution_count": null,
      "outputs": []
    },
    {
      "metadata": {
        "_uuid": "ae08b544a8d4202c7d0a47ec83d685e81c91a66d"
      },
      "cell_type": "markdown",
      "source": "To check the first 5 rows of the data set, we can use head(5)."
    },
    {
      "metadata": {
        "_kg_hide-input": true,
        "_uuid": "5899889553c3416b27e93efceddb106eb71f5156",
        "trusted": true
      },
      "cell_type": "code",
      "source": "kernels.head(5) ",
      "execution_count": null,
      "outputs": []
    },
    {
      "metadata": {
        "_uuid": "1150b6ac3d82562aefd5c64f9f01accee5eace4d"
      },
      "cell_type": "markdown",
      "source": "To check out last 5 row of the data set, we use tail() function"
    },
    {
      "metadata": {
        "_kg_hide-input": true,
        "_uuid": "79339442ff1f53ae1054d794337b9541295d3305",
        "trusted": true
      },
      "cell_type": "code",
      "source": "#command--> 9\nusers.tail() ",
      "execution_count": null,
      "outputs": []
    },
    {
      "metadata": {
        "_uuid": "2c288c3dc8656a872a8529368812546e434d3a22"
      },
      "cell_type": "markdown",
      "source": "To pop up 5 random rows from the data set, we can use **sample(5)**  function"
    },
    {
      "metadata": {
        "_kg_hide-input": true,
        "_uuid": "09eb18d1fcf4a2b73ba2f5ddce99dfa521681140",
        "trusted": true
      },
      "cell_type": "code",
      "source": "kernels.sample(5) ",
      "execution_count": null,
      "outputs": []
    },
    {
      "metadata": {
        "_uuid": "c8a1cc36348c68fb98d6cb28aa9919fc5f2892f3"
      },
      "cell_type": "markdown",
      "source": "To give a statistical summary about the dataset, we can use **describe()**"
    },
    {
      "metadata": {
        "_kg_hide-input": true,
        "_uuid": "3f7211e96627b9a81c5b620a9ba61446f7719ea3",
        "trusted": true
      },
      "cell_type": "code",
      "source": "kernels.describe() ",
      "execution_count": null,
      "outputs": []
    },
    {
      "metadata": {
        "_uuid": "ff69b963b60e8ff77acae02850885c7e90358129"
      },
      "cell_type": "markdown",
      "source": " <a id=\"235\"></a> <br>\n## 2-3-5 Find yourself in Users datset"
    },
    {
      "metadata": {
        "_kg_hide-input": true,
        "_uuid": "1e36488451f22350bc2c655bfdd2b50803540b87",
        "trusted": true
      },
      "cell_type": "code",
      "source": "#command--> 12\nusers[users['Id']==userid]",
      "execution_count": null,
      "outputs": []
    },
    {
      "metadata": {
        "_uuid": "33fc33a18489b438a884819d99dc00a02b113be8"
      },
      "cell_type": "markdown",
      "source": " <a id=\"236\"></a> <br>\n## 2-3-6 Find your kernels in Kernels dataset"
    },
    {
      "metadata": {
        "_kg_hide-input": true,
        "_uuid": "aa877c667451c76a052808964bbf8eb5991b39e0",
        "trusted": true
      },
      "cell_type": "code",
      "source": "#command--> 13\nyourkernels=kernels[kernels['AuthorUserId']==userid]\nyourkernels.head(2)",
      "execution_count": null,
      "outputs": []
    },
    {
      "metadata": {
        "_uuid": "62d171e1ffd38b2be8d90bf259dfa794cd2b1594"
      },
      "cell_type": "markdown",
      "source": " <a id=\"3\"></a> <br>\n## 3- Data Visualization Libraries\nBefore you start learning , I am giving an overview of 10 interdisciplinary **Python data visualization libraries**, from the well-known to the obscure.\n\n* 1- matplotlib\n\nmatplotlib is the O.G. of Python data visualization libraries. Despite being over a decade old, it’s still the most widely used library for plotting in the Python community. It was designed to closely resemble MATLAB, a proprietary programming language developed in the 1980s.\n\n* 2- Seaborn\n\nSeaborn harnesses the power of matplotlib to create beautiful charts in a few lines of code. The key difference is Seaborn’s default styles and color palettes, which are designed to be more aesthetically pleasing and modern. Since Seaborn is built on top of matplotlib, you’ll need to know matplotlib to tweak Seaborn’s defaults.\n\n* 3- ggplot\n\nggplot is based on ggplot2, an R plotting system, and concepts from The Grammar of Graphics. ggplot operates differently than matplotlib: it lets you layer components to create a complete plot. For instance, you can start with axes, then add points, then a line, a trendline, etc. Although The Grammar of Graphics has been praised as an “intuitive” method for plotting, seasoned matplotlib users might need time to adjust to this new mindset.\n\n\n* 4- Bokeh\n\nLike ggplot, Bokeh is based on The Grammar of Graphics, but unlike ggplot, it’s native to Python, not ported over from R. Its strength lies in the ability to create interactive, web-ready plots, which can be easily outputted as JSON objects, HTML documents, or interactive web applications. Bokeh also supports streaming and real-time data.\n\n\n* 5- pygal\n\nLike Bokeh and Plotly, pygal offers interactive plots that can be embedded in the web browser. Its prime differentiator is the ability to output charts as SVGs. As long as you’re working with smaller datasets, SVGs will do you just fine. But if you’re making charts with hundreds of thousands of data points, they’ll have trouble rendering and become sluggish.\n\n* 6- Plotly\n\nYou might know Plotly as an online platform for data visualization, but did you also know you can access its capabilities from a Python notebook? Like Bokeh, Plotly’s forte is making interactive plots, but it offers some charts you won’t find in most libraries, like contour plots, dendograms, and 3D charts.\n\n* 7- geoplotlib\n\ngeoplotlib is a toolbox for creating maps and plotting geographical data. You can use it to create a variety of map-types, like choropleths, heatmaps, and dot density maps. You must have Pyglet (an object-oriented programming interface) installed to use geoplotlib. Nonetheless, since most Python data visualization libraries don’t offer maps, it’s nice to have a library dedicated solely to them.\n\n* 8- Gleam\n\nGleam is inspired by R’s Shiny package. It allows you to turn analyses into interactive web apps using only Python scripts, so you don’t have to know any other languages like HTML, CSS, or JavaScript. Gleam works with any Python data visualization library. Once you’ve created a plot, you can build fields on top of it so users can filter and sort data.\n\n\n* 9- missingno\n\nDealing with missing data is a pain. missingno allows you to quickly gauge the completeness of a dataset with a visual summary, instead of trudging through a table. You can filter and sort data based on completion or spot correlations with a heatmap or a dendrogram.\n\n\n* 10- Leather\n\nLeather’s creator, Christopher Groskopf, puts it best: “Leather is the Python charting library for those who need charts now and don’t care if they’re perfect.” It’s designed to work with all data types and produces charts as SVGs, so you can scale them without losing image quality. Since this library is relatively new, some of the documentation is still in progress. The charts you can make are pretty basic—but that’s the intention.\n\nAt the end, nice cheatsheet on how to best visualize your data. I think I will print it out as a good reminder of \"best practices\". Check out the link for the complete cheatsheet, also as a PDF.  \n\n* 11- Chartify\nChartify is a Python library that makes it easy for data scientists to create charts.\n\nWhy use Chartify?\n1. Consistent input data format: Spend less time transforming data to get your charts to work. All plotting functions use a consistent tidy input data format.\n1. Smart default styles: Create pretty charts with very little customization required.\n1. Simple API: We've attempted to make to the API as intuitive and easy to learn as possible.\n1. Flexibility: Chartify is built on top of Bokeh, so if you do need more control you can always fall back on Bokeh's API.\nLink: https://github.com/mjbahmani/Machine-Learning-Workflow-with-Python\n![cheatsheet ][1]\n[Reference][2]\n\n\n  [1]: http://s8.picofile.com/file/8340669884/53f6a826_d7df_4b55_81e6_7c23b3fff0a3_original.png\n  [2]: https://blog.modeanalytics.com/python-data-visualization-libraries/"
    },
    {
      "metadata": {
        "_uuid": "4f02c235284ef14f0007400125119ba36b81e325"
      },
      "cell_type": "markdown",
      "source": "<a id=\"4\"></a> <br>\n## 4- Matplotlib\n\nThis Matplotlib tutorial takes you through the basics Python data visualization: \n1. the anatomy of a plot \n1. pyplot \n1. pylab\n1. and much more\n###### [Go to top](#top)"
    },
    {
      "metadata": {
        "_uuid": "857d9a02e72211b4fde6f06debd3a57c8a0b1849"
      },
      "cell_type": "markdown",
      "source": "You can show matplotlib figures directly in the notebook by using the `%matplotlib notebook` and `%matplotlib inline` magic commands. \n\n`%matplotlib notebook` provides an interactive environment."
    },
    {
      "metadata": {
        "_uuid": "66c8f302e0afffb4652ff2f80212610fd37ae126"
      },
      "cell_type": "markdown",
      "source": "We can use html cell magic to display the image."
    },
    {
      "metadata": {
        "_uuid": "add973c3905be06ebae9f033070ee779f58dd785",
        "trusted": true,
        "_kg_hide-input": true
      },
      "cell_type": "code",
      "source": "#import matplotlib.pyplot as plt\nplt.plot([1, 2, 3, 4], [10, 20, 25, 30], color='lightblue', linewidth=3)\nplt.scatter([0.4, 3.8, 1.2, 2.5], [15, 25, 9, 26], color='darkgreen', marker='o')\nplt.xlim(0.5, 4.5)\nplt.show()",
      "execution_count": null,
      "outputs": []
    },
    {
      "metadata": {
        "_uuid": "f0f9fa93f1e5b7ec0c148c3e24f4c32c1fd57fad"
      },
      "cell_type": "markdown",
      "source": "Simple and powerful visualizations can be generated using the **Matplotlib Python** Library. More than a decade old, it is the most widely-used library for plotting in the Python community. A wide range of graphs from histograms to heat plots to line plots can be plotted using Matplotlib.\n\nMany other libraries are built on top of Matplotlib and are designed to work in conjunction with analysis, it being the first Python data visualization library. Libraries like pandas and matplotlib are “wrappers” over Matplotlib allowing access to a number of Matplotlib’s methods with less code.[7]"
    },
    {
      "metadata": {
        "_uuid": "0f4decd6f93319534a203748fd8a2b9bcc154ddb"
      },
      "cell_type": "markdown",
      "source": "<a id=\"41\"></a> <br>\n## 4-1 Scatterplots"
    },
    {
      "metadata": {
        "_uuid": "bf892e30bb09f0dc5fdf039d827ac55560b6ec06",
        "trusted": true,
        "_kg_hide-input": true
      },
      "cell_type": "code",
      "source": "\n\nx = np.array([1,2,3,4,5,6,7,8])\ny = x\n\nplt.figure()\nplt.scatter(x, y) # similar to plt.plot(x, y, '.'), but the underlying child objects in the axes are not Line2D",
      "execution_count": null,
      "outputs": []
    },
    {
      "metadata": {
        "_uuid": "9d4e979c8b366aa6e511a6d7316f63586346c649",
        "trusted": true,
        "_kg_hide-input": true
      },
      "cell_type": "code",
      "source": "\n\nx = np.array([1,2,3,4,5,6,7,8])\ny = x\n\n# create a list of colors for each point to have\n# ['green', 'green', 'green', 'green', 'green', 'green', 'green', 'red']\ncolors = ['green']*(len(x)-1)\ncolors.append('red')\n\nplt.figure()\n\n# plot the point with size 100 and chosen colors\nplt.scatter(x, y, s=100, c=colors)",
      "execution_count": null,
      "outputs": []
    },
    {
      "metadata": {
        "_uuid": "b9c79e1558adbb3b19de2564376a24191766ab1f",
        "trusted": true,
        "_kg_hide-input": true
      },
      "cell_type": "code",
      "source": "plt.figure()\n# plot a data series 'Tall students' in red using the first two elements of x and y\nplt.scatter(x[:2], y[:2], s=100, c='red', label='Tall students')\n# plot a second data series 'Short students' in blue using the last three elements of x and y \nplt.scatter(x[2:], y[2:], s=100, c='blue', label='Short students')",
      "execution_count": null,
      "outputs": []
    },
    {
      "metadata": {
        "_uuid": "5334176f4177a64cb1726accb26502beb9b36626",
        "trusted": true,
        "_kg_hide-input": true
      },
      "cell_type": "code",
      "source": "x = np.random.randint(low=1, high=11, size=50)\ny = x + np.random.randint(1, 5, size=x.size)\ndata = np.column_stack((x, y))\n\nfig, (ax1, ax2) = plt.subplots(nrows=1, ncols=2,\n                               figsize=(8, 4))\n\nax1.scatter(x=x, y=y, marker='o', c='r', edgecolor='b')\nax1.set_title('Scatter: $x$ versus $y$')\nax1.set_xlabel('$x$')\nax1.set_ylabel('$y$')\n\nax2.hist(data, bins=np.arange(data.min(), data.max()),\n         label=('x', 'y'))\nax2.legend(loc=(0.65, 0.8))\nax2.set_title('Frequencies of $x$ and $y$')\nax2.yaxis.tick_right()",
      "execution_count": null,
      "outputs": []
    },
    {
      "metadata": {
        "_kg_hide-input": true,
        "_uuid": "af099546eed64ebc796403d4139cb4c977c27b03",
        "trusted": true
      },
      "cell_type": "code",
      "source": "# Modify the graph above by assigning each species an individual color.\n#command--> 19\nx=yourkernels[\"TotalVotes\"]\ny=yourkernels[\"TotalViews\"]\nplt.scatter(x, y)\nplt.legend()\nplt.show()\n",
      "execution_count": null,
      "outputs": []
    },
    {
      "metadata": {
        "_uuid": "c372afa727e992b9ec097c1f172becfd06bff4ef"
      },
      "cell_type": "markdown",
      "source": "<a id=\"52\"></a> <br>\n## 4-2 Line Plots"
    },
    {
      "metadata": {
        "_uuid": "163942ca710e3c67e8479cd02518ca37eae8ead7",
        "trusted": true,
        "_kg_hide-input": true
      },
      "cell_type": "code",
      "source": "\n\nlinear_data = np.array([1,2,3,4,5,6,7,8])\nexponential_data = linear_data**2\n\nplt.figure()\n# plot the linear data and the exponential data\nplt.plot(linear_data, '-o', exponential_data, '-o')",
      "execution_count": null,
      "outputs": []
    },
    {
      "metadata": {
        "_uuid": "7a4c6677b81fb82e1e7a1164ced70c4168080dbf",
        "trusted": true,
        "_kg_hide-input": true
      },
      "cell_type": "code",
      "source": "# plot another series with a dashed red line\nplt.plot([22,44,55], '--r')",
      "execution_count": null,
      "outputs": []
    },
    {
      "metadata": {
        "_uuid": "517e72eb500a3ba4db76467919f59ded9d3683cb"
      },
      "cell_type": "markdown",
      "source": "<a id=\"43\"></a> <br>\n## 4-3 Bar Charts"
    },
    {
      "metadata": {
        "_uuid": "8a5ee722c74c9228af2bcece24831e1539fe97b2",
        "trusted": true,
        "_kg_hide-input": true
      },
      "cell_type": "code",
      "source": "plt.figure()\nxvals = range(len(linear_data))\nplt.bar(xvals, linear_data, width = 0.3)",
      "execution_count": null,
      "outputs": []
    },
    {
      "metadata": {
        "_uuid": "11a85a29ca9b1574536bfee91cc63122148d996e",
        "trusted": true,
        "_kg_hide-input": true
      },
      "cell_type": "code",
      "source": "new_xvals = []\n\n# plot another set of bars, adjusting the new xvals to make up for the first set of bars plotted\nfor item in xvals:\n    new_xvals.append(item+0.3)\n\nplt.bar(new_xvals, exponential_data, width = 0.3 ,color='red')",
      "execution_count": null,
      "outputs": []
    },
    {
      "metadata": {
        "_uuid": "f6597010276961362ce22b84d49a9ef5f46521f6",
        "trusted": true,
        "_kg_hide-input": true
      },
      "cell_type": "code",
      "source": "\nlinear_err = [randint(0,15) for x in range(len(linear_data))] \n\n# This will plot a new set of bars with errorbars using the list of random error values\nplt.bar(xvals, linear_data, width = 0.3, yerr=linear_err)",
      "execution_count": null,
      "outputs": []
    },
    {
      "metadata": {
        "_uuid": "8db2b0bb5d4160f7954bbcd7d9e53d29c68ef342",
        "trusted": true,
        "_kg_hide-input": true
      },
      "cell_type": "code",
      "source": "# stacked bar charts are also possible\nplt.figure()\nxvals = range(len(linear_data))\nplt.bar(xvals, linear_data, width = 0.3, color='b')\nplt.bar(xvals, exponential_data, width = 0.3, bottom=linear_data, color='r')",
      "execution_count": null,
      "outputs": []
    },
    {
      "metadata": {
        "_uuid": "ee208f2f850122b6e01ff1236b2915914fe59466",
        "trusted": true,
        "_kg_hide-input": true
      },
      "cell_type": "code",
      "source": "# or use barh for horizontal bar charts\nplt.figure()\nxvals = range(len(linear_data))\nplt.barh(xvals, linear_data, height = 0.3, color='b')\nplt.barh(xvals, exponential_data, height = 0.3, left=linear_data, color='r')",
      "execution_count": null,
      "outputs": []
    },
    {
      "metadata": {
        "_uuid": "acd3cfbdedddae19d7a2bbc9b02fefba21f595de",
        "trusted": true,
        "_kg_hide-input": true
      },
      "cell_type": "code",
      "source": "# Initialize the plot\nfig = plt.figure(figsize=(20,10))\nax1 = fig.add_subplot(121)\nax2 = fig.add_subplot(122)\n\n# or replace the three lines of code above by the following line: \n#fig, (ax1, ax2) = plt.subplots(1,2, figsize=(20,10))\n\n# Plot the data\nax1.bar([1,2,3],[3,4,5])\nax2.barh([0.5,1,2.5],[0,1,2])\n\n# Show the plot\nplt.show()",
      "execution_count": null,
      "outputs": []
    },
    {
      "metadata": {
        "_uuid": "db3db00430b8e5ddb633f3c7c82a6bf63ccb0cbc",
        "trusted": true,
        "_kg_hide-input": true
      },
      "cell_type": "code",
      "source": "plt.figure()\n# subplot with 1 row, 2 columns, and current axis is 1st subplot axes\nplt.subplot(1, 2, 1)\n\nlinear_data = np.array([1,2,3,4,5,6,7,8])\n\nplt.plot(linear_data, '-o')",
      "execution_count": null,
      "outputs": []
    },
    {
      "metadata": {
        "_uuid": "ce5372a8e09fd5379b1b33c7b451ec1b983f8616",
        "trusted": true,
        "_kg_hide-input": true
      },
      "cell_type": "code",
      "source": "exponential_data = linear_data**2 \n\n# subplot with 1 row, 2 columns, and current axis is 2nd subplot axes\nplt.subplot(1, 2, 2)\nplt.plot(exponential_data, '-o')",
      "execution_count": null,
      "outputs": []
    },
    {
      "metadata": {
        "_uuid": "cc4de0125429bdcd3227e894d083c0425934b228",
        "trusted": true,
        "_kg_hide-input": true
      },
      "cell_type": "code",
      "source": "# plot exponential data on 1st subplot axes\nplt.subplot(1, 2, 1)\nplt.plot(exponential_data, '-x')",
      "execution_count": null,
      "outputs": []
    },
    {
      "metadata": {
        "_uuid": "0b565e5356d99d5875de88a853710ee2dd3c4a53",
        "trusted": true,
        "_kg_hide-input": true
      },
      "cell_type": "code",
      "source": "plt.figure()\nax1 = plt.subplot(1, 2, 1)\nplt.plot(linear_data, '-o')\n# pass sharey=ax1 to ensure the two subplots share the same y axis\nax2 = plt.subplot(1, 2, 2, sharey=ax1)\nplt.plot(exponential_data, '-x')",
      "execution_count": null,
      "outputs": []
    },
    {
      "metadata": {
        "_uuid": "487fb5e77983c55ae891c3a99537d6cef0450b74"
      },
      "cell_type": "markdown",
      "source": "<a id=\"44\"></a> <br>\n## 4-4 Histograms"
    },
    {
      "metadata": {
        "_uuid": "42551850b478e274b9f78d4f6ef717c636242616",
        "trusted": true,
        "_kg_hide-input": true
      },
      "cell_type": "code",
      "source": "# create 2x2 grid of axis subplots\nfig, ((ax1, ax2), (ax3, ax4)) = plt.subplots(2, 2, sharex=True)\naxs = [ax1,ax2,ax3,ax4]\n\n# draw n = 10, 100, 1000, and 10000 samples from the normal distribution and plot corresponding histograms\nfor n in range(0,len(axs)):\n    sample_size = 10**(n+1)\n    sample = np.random.normal(loc=0.0, scale=1.0, size=sample_size)\n    axs[n].hist(sample)\n    axs[n].set_title('n={}'.format(sample_size))",
      "execution_count": null,
      "outputs": []
    },
    {
      "metadata": {
        "_uuid": "39b84012b223069dd4cc6f1441d2ad0f585218bf",
        "trusted": true,
        "_kg_hide-input": true
      },
      "cell_type": "code",
      "source": "# repeat with number of bins set to 100\nfig, ((ax1, ax2), (ax3, ax4)) = plt.subplots(2, 2, sharex=True)\naxs = [ax1,ax2,ax3,ax4]\n\nfor n in range(0,len(axs)):\n    sample_size = 10**(n+1)\n    sample = np.random.normal(loc=0.0, scale=1.0, size=sample_size)\n    axs[n].hist(sample, bins=100)\n    axs[n].set_title('n={}'.format(sample_size))",
      "execution_count": null,
      "outputs": []
    },
    {
      "metadata": {
        "_uuid": "4def4012769663b5665f7b70a077cf839b7793f1",
        "trusted": true,
        "_kg_hide-input": true
      },
      "cell_type": "code",
      "source": "plt.figure()\nY = np.random.normal(loc=0.0, scale=1.0, size=10000)\nX = np.random.random(size=10000)\nplt.scatter(X,Y)",
      "execution_count": null,
      "outputs": []
    },
    {
      "metadata": {
        "_uuid": "b4e3de19781686010c6038f0e3076eb678398169"
      },
      "cell_type": "markdown",
      "source": "It looks like perhaps two of the input variables have a Gaussian distribution. This is useful to note as we can use algorithms that can exploit this assumption.\n\n"
    },
    {
      "metadata": {
        "_kg_hide-input": true,
        "_uuid": "9f80a6e971cbf0af72d659b51af552ea1dddc9a8",
        "trusted": true
      },
      "cell_type": "code",
      "source": "yourkernels[\"TotalViews\"].hist();",
      "execution_count": null,
      "outputs": []
    },
    {
      "metadata": {
        "_uuid": "1173ef1b6ca75e28f94a891880294d1765b022ea",
        "trusted": true,
        "_kg_hide-input": true
      },
      "cell_type": "code",
      "source": "yourkernels[\"TotalComments\"].hist();",
      "execution_count": null,
      "outputs": []
    },
    {
      "metadata": {
        "_kg_hide-input": true,
        "_uuid": "5d8ef0781d88c46a8becf6d7f5b1f4ad2c05db7e",
        "trusted": true
      },
      "cell_type": "code",
      "source": "sns.factorplot('TotalViews','TotalVotes',data=yourkernels)\nplt.show()",
      "execution_count": null,
      "outputs": []
    },
    {
      "metadata": {
        "_uuid": "2bc0c6fc0bb19748e9e87603e3207f75ffa9b565"
      },
      "cell_type": "markdown",
      "source": "<a id=\"45\"></a> <br>\n## 4-5 Box and Whisker Plots\nIn descriptive statistics, a **box plot** or boxplot is a method for graphically depicting groups of numerical data through their quartiles. Box plots may also have lines extending vertically from the boxes (whiskers) indicating variability outside the upper and lower quartiles, hence the terms box-and-whisker plot and box-and-whisker diagram.[wikipedia]"
    },
    {
      "metadata": {
        "_uuid": "94dad21ec08e2633dacb64a89e5c807145042994",
        "trusted": true,
        "_kg_hide-input": true
      },
      "cell_type": "code",
      "source": "\nnormal_sample = np.random.normal(loc=0.0, scale=1.0, size=10000)\nrandom_sample = np.random.random(size=10000)\ngamma_sample = np.random.gamma(2, size=10000)\n\ndf = pd.DataFrame({'normal': normal_sample, \n                   'random': random_sample, \n                   'gamma': gamma_sample})",
      "execution_count": null,
      "outputs": []
    },
    {
      "metadata": {
        "_uuid": "9f4b288fe4b8ab78e6ad788e4bcfb5931920fcf2",
        "trusted": true,
        "_kg_hide-input": true
      },
      "cell_type": "code",
      "source": "plt.figure()\n# create a boxplot of the normal data, assign the output to a variable to supress output\n_ = plt.boxplot(df['normal'], whis='range')",
      "execution_count": null,
      "outputs": []
    },
    {
      "metadata": {
        "_uuid": "9dc56a6415be6584fba51630ced26b0aaa486a09",
        "trusted": true,
        "_kg_hide-input": true
      },
      "cell_type": "code",
      "source": "# clear the current figure\nplt.clf()\n# plot boxplots for all three of df's columns\n_ = plt.boxplot([ df['normal'], df['random'], df['gamma'] ], whis='range')",
      "execution_count": null,
      "outputs": []
    },
    {
      "metadata": {
        "_uuid": "0f44453d7022928d2aeed3c3e0126cbd7118cdd9",
        "trusted": true,
        "_kg_hide-input": true
      },
      "cell_type": "code",
      "source": "plt.figure()\n_ = plt.hist(df['gamma'], bins=100)",
      "execution_count": null,
      "outputs": []
    },
    {
      "metadata": {
        "_uuid": "4dba4f705171f002fc94429ec80f7b6a2fe67ff3",
        "trusted": true,
        "_kg_hide-input": true
      },
      "cell_type": "code",
      "source": "plt.figure()\nplt.boxplot([ df['normal'], df['random'], df['gamma'] ], whis='range')\n# overlay axis on top of another \nax2 = mpl_il.inset_axes(plt.gca(), width='60%', height='40%', loc=2)\nax2.hist(df['gamma'], bins=100)\nax2.margins(x=0.5)",
      "execution_count": null,
      "outputs": []
    },
    {
      "metadata": {
        "_uuid": "90b1e8ffe23e39ec54414c1fd63b5d5c4e72be6f",
        "trusted": true,
        "_kg_hide-input": true
      },
      "cell_type": "code",
      "source": "# switch the y axis ticks for ax2 to the right side\nax2.yaxis.tick_right()",
      "execution_count": null,
      "outputs": []
    },
    {
      "metadata": {
        "_uuid": "cb3652a440484d391d27122878456a642c58d804",
        "trusted": true,
        "_kg_hide-input": true
      },
      "cell_type": "code",
      "source": "# if `whis` argument isn't passed, boxplot defaults to showing 1.5*interquartile (IQR) whiskers with outliers\nplt.figure()\n_ = plt.boxplot([ df['normal'], df['random'], df['gamma'] ] )",
      "execution_count": null,
      "outputs": []
    },
    {
      "metadata": {
        "_uuid": "15e2743389cb58055ee5bb9dd9b829fb85850af2",
        "trusted": true,
        "_kg_hide-input": true
      },
      "cell_type": "code",
      "source": "sns.factorplot('TotalComments','TotalVotes',data=yourkernels)\nplt.show()",
      "execution_count": null,
      "outputs": []
    },
    {
      "metadata": {
        "_uuid": "fbf8bf0a67f6c49d78911c5f37be531ebbcd9edb"
      },
      "cell_type": "markdown",
      "source": "<a id=\"46\"></a> <br>\n## 4-6 Heatmaps"
    },
    {
      "metadata": {
        "_uuid": "ebfc0dcb8e85aa540f6568fa96431a4e9707f3c1",
        "trusted": true,
        "_kg_hide-input": true
      },
      "cell_type": "code",
      "source": "plt.figure()\n\nY = np.random.normal(loc=0.0, scale=1.0, size=10000)\nX = np.random.random(size=10000)\n_ = plt.hist2d(X, Y, bins=25)",
      "execution_count": null,
      "outputs": []
    },
    {
      "metadata": {
        "_uuid": "fdbcf35950f94a4d0f1ce10efee6a4502f6ecfc8",
        "trusted": true,
        "_kg_hide-input": true
      },
      "cell_type": "code",
      "source": "plt.figure()\n_ = plt.hist2d(X, Y, bins=100)",
      "execution_count": null,
      "outputs": []
    },
    {
      "metadata": {
        "_uuid": "139f44a4deb043128c8c7254eb60c33e0fc26e68"
      },
      "cell_type": "markdown",
      "source": "<a id=\"47\"></a> <br>\n## 4-7 Animations"
    },
    {
      "metadata": {
        "_uuid": "b3676970195153dc6056600f024f55c1b6f0ba12",
        "trusted": true,
        "_kg_hide-input": true
      },
      "cell_type": "code",
      "source": "\n\nn = 100\nx = np.random.randn(n)",
      "execution_count": null,
      "outputs": []
    },
    {
      "metadata": {
        "_uuid": "ea3eb5835e4acd53d43da483e17d79c32228cad6",
        "trusted": true,
        "_kg_hide-input": true
      },
      "cell_type": "code",
      "source": "# create the function that will do the plotting, where curr is the current frame\ndef update(curr):\n    # check if animation is at the last frame, and if so, stop the animation a\n    if curr == n: \n        a.event_source.stop()\n    plt.cla()\n    bins = np.arange(-4, 4, 0.5)\n    plt.hist(x[:curr], bins=bins)\n    plt.axis([-4,4,0,30])\n    plt.gca().set_title('Sampling the Normal Distribution')\n    plt.gca().set_ylabel('Frequency')\n    plt.gca().set_xlabel('Value')\n    plt.annotate('n = {}'.format(curr), [3,27])",
      "execution_count": null,
      "outputs": []
    },
    {
      "metadata": {
        "_uuid": "fb2314b3b1735c5e191c8427c5abe6429e4ff767",
        "trusted": true,
        "_kg_hide-input": true
      },
      "cell_type": "code",
      "source": "fig = plt.figure()\na = animation.FuncAnimation(fig, update, interval=100)",
      "execution_count": null,
      "outputs": []
    },
    {
      "metadata": {
        "_uuid": "7e702e5e0a876f9fa0b2e4fe497a56b91e00a95d"
      },
      "cell_type": "markdown",
      "source": "<a id=\"48\"></a> <br>\n## 4-8 Interactivity"
    },
    {
      "metadata": {
        "_uuid": "51fefb947daf8ca558cbc153e2ddbf39bcb7d4b2",
        "trusted": true,
        "_kg_hide-input": true
      },
      "cell_type": "code",
      "source": "plt.figure()\ndata = np.random.rand(10)\nplt.plot(data)\n\ndef onclick(event):\n    plt.cla()\n    plt.plot(data)\n    plt.gca().set_title('Event at pixels {},{} \\nand data {},{}'.format(event.x, event.y, event.xdata, event.ydata))\n\n# tell mpl_connect we want to pass a 'button_press_event' into onclick when the event is detected\nplt.gcf().canvas.mpl_connect('button_press_event', onclick)",
      "execution_count": null,
      "outputs": []
    },
    {
      "metadata": {
        "_uuid": "1d64a25dc386a30bd895ca8f58ca86d632f05d74",
        "trusted": true,
        "_kg_hide-input": true
      },
      "cell_type": "code",
      "source": "from random import shuffle\norigins = ['China', 'Brazil', 'India', 'USA', 'Canada', 'UK', 'Germany', 'Iraq', 'Chile', 'Mexico']\n\nshuffle(origins)\n\ndf = pd.DataFrame({'height': np.random.rand(10),\n                   'weight': np.random.rand(10),\n                   'origin': origins})\ndf",
      "execution_count": null,
      "outputs": []
    },
    {
      "metadata": {
        "_uuid": "e13dd7e002938af1a52d7520004d839a3d7d2011",
        "trusted": true,
        "_kg_hide-input": true
      },
      "cell_type": "code",
      "source": "plt.figure()\n# picker=5 means the mouse doesn't have to click directly on an event, but can be up to 5 pixels away\nplt.scatter(df['height'], df['weight'], picker=5)\nplt.gca().set_ylabel('Weight')\nplt.gca().set_xlabel('Height')",
      "execution_count": null,
      "outputs": []
    },
    {
      "metadata": {
        "_uuid": "e926ab1d2dc2098a6af48526e9f980bf594c79cd",
        "trusted": true,
        "_kg_hide-input": true
      },
      "cell_type": "code",
      "source": "def onpick(event):\n    origin = df.iloc[event.ind[0]]['origin']\n    plt.gca().set_title('Selected item came from {}'.format(origin))\n\n# tell mpl_connect we want to pass a 'pick_event' into onpick when the event is detected\nplt.gcf().canvas.mpl_connect('pick_event', onpick)",
      "execution_count": null,
      "outputs": []
    },
    {
      "metadata": {
        "_uuid": "bb968584c16b9acc6466a3897c9415c57f3a7404",
        "trusted": true,
        "_kg_hide-input": true
      },
      "cell_type": "code",
      "source": "# use the 'seaborn-colorblind' style\nplt.style.use('seaborn-colorblind')",
      "execution_count": null,
      "outputs": []
    },
    {
      "metadata": {
        "_uuid": "84742816a16280f7bca7c43879d6762e10e0a440"
      },
      "cell_type": "markdown",
      "source": "<a id=\"49\"></a> <br>\n## 4-9 DataFrame.plot"
    },
    {
      "metadata": {
        "_uuid": "97a3554f9640a2b77e07c861b5a5b6c814a3b276",
        "trusted": true,
        "_kg_hide-input": true
      },
      "cell_type": "code",
      "source": "np.random.seed(123)\n\ndf = pd.DataFrame({'A': np.random.randn(365).cumsum(0), \n                   'B': np.random.randn(365).cumsum(0) + 20,\n                   'C': np.random.randn(365).cumsum(0) - 20}, \n                  index=pd.date_range('1/1/2017', periods=365))\ndf.head()",
      "execution_count": null,
      "outputs": []
    },
    {
      "metadata": {
        "_uuid": "4d64fa4bc8b62fe1f4d2c2de0869bb49c8f7fc3d",
        "trusted": true,
        "_kg_hide-input": true
      },
      "cell_type": "code",
      "source": "df.plot('A','B', kind = 'scatter');",
      "execution_count": null,
      "outputs": []
    },
    {
      "metadata": {
        "_uuid": "857cecae1e2c9eb59c1a9d136ef1c5422d86d5ba"
      },
      "cell_type": "markdown",
      "source": "You can also choose the plot kind by using the `DataFrame.plot.kind` methods instead of providing the `kind` keyword argument.\n\n`kind` :\n- `'line'` : line plot (default)\n- `'bar'` : vertical bar plot\n- `'barh'` : horizontal bar plot\n- `'hist'` : histogram\n- `'box'` : boxplot\n- `'kde'` : Kernel Density Estimation plot\n- `'density'` : same as 'kde'\n- `'area'` : area plot\n- `'pie'` : pie plot\n- `'scatter'` : scatter plot\n- `'hexbin'` : hexbin plot\n###### [Go to top](#top)"
    },
    {
      "metadata": {
        "_uuid": "74997530957394a96f0aed15c21e65f54911159c",
        "trusted": true,
        "_kg_hide-input": true
      },
      "cell_type": "code",
      "source": "# create a scatter plot of columns 'A' and 'C', with changing color (c) and size (s) based on column 'B'\ndf.plot.scatter('A', 'C', c='B', s=df['B'], colormap='viridis')",
      "execution_count": null,
      "outputs": []
    },
    {
      "metadata": {
        "_uuid": "6299f8dddb909c7850620499edc49afdfd909f75",
        "trusted": true,
        "_kg_hide-input": true
      },
      "cell_type": "code",
      "source": "ax = df.plot.scatter('A', 'C', c='B', s=df['B'], colormap='viridis')\nax.set_aspect('equal')",
      "execution_count": null,
      "outputs": []
    },
    {
      "metadata": {
        "_uuid": "91a25480397c8759047100da9ebc6c0264d8a918",
        "trusted": true,
        "_kg_hide-input": true
      },
      "cell_type": "code",
      "source": "df.plot.box();",
      "execution_count": null,
      "outputs": []
    },
    {
      "metadata": {
        "_uuid": "b7bfa0ce17ea260d75eb97a0161af3dbd700f780",
        "trusted": true,
        "_kg_hide-input": true
      },
      "cell_type": "code",
      "source": "df.plot.hist(alpha=0.7);",
      "execution_count": null,
      "outputs": []
    },
    {
      "metadata": {
        "_uuid": "21a68cb3d0111753d29df2b402011daff81c5ff4"
      },
      "cell_type": "markdown",
      "source": "[Kernel density estimation plots](https://en.wikipedia.org/wiki/Kernel_density_estimation) are useful for deriving a smooth continuous function from a given sample."
    },
    {
      "metadata": {
        "_uuid": "7b4d0f65af26e55acaf9a06da13dc71eb21a408b",
        "trusted": true,
        "_kg_hide-input": true
      },
      "cell_type": "code",
      "source": "df.plot.kde();",
      "execution_count": null,
      "outputs": []
    },
    {
      "metadata": {
        "_uuid": "e0f696ec021ec99c1058a62e22c8b73082fe6fa7"
      },
      "cell_type": "markdown",
      "source": ""
    },
    {
      "metadata": {
        "_uuid": "6be2f6011b57248d4ec69ef562147e072d9718ae"
      },
      "cell_type": "markdown",
      "source": "<a id=\"5\"></a> <br>\n# 5- Seaborn\nSeaborn is an open source, BSD-licensed Python library providing high level API for visualizing the data using Python programming language.[9]\n\n\n\n[Go to top](#top)"
    },
    {
      "metadata": {
        "trusted": true,
        "_uuid": "61d945abc7817a724a8ff13b8d91601a26dd70a2"
      },
      "cell_type": "markdown",
      "source": "<a id=\"51\"></a> <br>\n## 5-1 Seaborn Vs Matplotlib\n\nIt is summarized that if Matplotlib “tries to make easy things easy and hard things possible”, Seaborn tries to make a well defined set of hard things easy too.”\n\nSeaborn helps resolve the two major problems faced by Matplotlib; the problems are\n\n* Default Matplotlib parameters\n* Working with data frames\n\nAs Seaborn compliments and extends Matplotlib, the learning curve is quite gradual. If you know Matplotlib, you are already half way through Seaborn.\n\nImportant Features of Seaborn\nSeaborn is built on top of Python’s core visualization library Matplotlib. It is meant to serve as a complement, and not a replacement. However, Seaborn comes with some very important features. Let us see a few of them here. The features help in −\n\n* Built in themes for styling matplotlib graphics\n* Visualizing univariate and bivariate data\n* Fitting in and visualizing linear regression models\n* Plotting statistical time series data\n* Seaborn works well with NumPy and Pandas data structures\n* It comes with built in themes for styling Matplotlib graphics\n\nIn most cases, you will still use Matplotlib for simple plotting. The knowledge of Matplotlib is recommended to tweak Seaborn’s default plots.[9]\n\n[Go to top](#top)"
    },
    {
      "metadata": {
        "trusted": true,
        "_uuid": "e86d3560a60a12f19847f7264a984aeb14cba2d6",
        "_kg_hide-input": true
      },
      "cell_type": "code",
      "source": "def sinplot(flip = 1):\n   x = np.linspace(0, 14, 100)\n   for i in range(1, 5): \n      plt.plot(x, np.sin(x + i * .5) * (7 - i) * flip)\nsinplot()\nplt.show()",
      "execution_count": null,
      "outputs": []
    },
    {
      "metadata": {
        "trusted": true,
        "_uuid": "0d6d5a511f6a8785731b5a1bcdb1a9281553aa28",
        "_kg_hide-input": true
      },
      "cell_type": "code",
      "source": "def sinplot(flip = 1):\n   x = np.linspace(0, 14, 100)\n   for i in range(1, 5):\n      plt.plot(x, np.sin(x + i * .5) * (7 - i) * flip)\n \nsns.set()\nsinplot()\nplt.show()",
      "execution_count": null,
      "outputs": []
    },
    {
      "metadata": {
        "trusted": true,
        "_uuid": "4f6da88a64c3790d0a7bfc995bb82aae8e1f1420",
        "_kg_hide-input": true
      },
      "cell_type": "code",
      "source": "np.random.seed(1234)\n\nv1 = pd.Series(np.random.normal(0,10,1000), name='v1')\nv2 = pd.Series(2*v1 + np.random.normal(60,15,1000), name='v2')",
      "execution_count": null,
      "outputs": []
    },
    {
      "metadata": {
        "trusted": true,
        "_uuid": "420ffb34484da7b88db34e75d883b5a060b478a3",
        "_kg_hide-input": true
      },
      "cell_type": "code",
      "source": "plt.figure()\nplt.hist(v1, alpha=0.7, bins=np.arange(-50,150,5), label='v1');\nplt.hist(v2, alpha=0.7, bins=np.arange(-50,150,5), label='v2');\nplt.legend();",
      "execution_count": null,
      "outputs": []
    },
    {
      "metadata": {
        "trusted": true,
        "_uuid": "790f27d2a5a4ef507669b4e32ba901c2b6684f87",
        "_kg_hide-input": true
      },
      "cell_type": "code",
      "source": "plt.figure()\n# we can pass keyword arguments for each individual component of the plot\nsns.distplot(v2, hist_kws={'color': 'Teal'}, kde_kws={'color': 'Navy'});",
      "execution_count": null,
      "outputs": []
    },
    {
      "metadata": {
        "trusted": true,
        "_uuid": "65db67f8736affd36f13cf608abee2c338b929c0",
        "_kg_hide-input": true
      },
      "cell_type": "code",
      "source": "sns.jointplot(v1, v2, alpha=0.4);",
      "execution_count": null,
      "outputs": []
    },
    {
      "metadata": {
        "trusted": true,
        "_uuid": "a325a54e4b7728affe318c110b2fe4d6f448efd0",
        "_kg_hide-input": true
      },
      "cell_type": "code",
      "source": "grid = sns.jointplot(v1, v2, alpha=0.4);\ngrid.ax_joint.set_aspect('equal')",
      "execution_count": null,
      "outputs": []
    },
    {
      "metadata": {
        "trusted": true,
        "_uuid": "14f244f9f0332d8abb13136d14df7411a9727f04",
        "_kg_hide-input": true
      },
      "cell_type": "code",
      "source": "sns.jointplot(v1, v2, kind='hex');",
      "execution_count": null,
      "outputs": []
    },
    {
      "metadata": {
        "trusted": true,
        "_uuid": "87f176fd1a3741ab23902e3c05ebaaab3c0cf1a9",
        "_kg_hide-input": true
      },
      "cell_type": "code",
      "source": "# set the seaborn style for all the following plots\nsns.set_style('white')\n\nsns.jointplot(v1, v2, kind='kde', space=0);",
      "execution_count": null,
      "outputs": []
    },
    {
      "metadata": {
        "_uuid": "15e2743389cb58055ee5bb9dd9b829fb85850af2",
        "trusted": true,
        "_kg_hide-input": true
      },
      "cell_type": "code",
      "source": "sns.factorplot('TotalComments','TotalVotes',data=yourkernels)\nplt.show()",
      "execution_count": null,
      "outputs": []
    },
    {
      "metadata": {
        "_kg_hide-input": true,
        "_uuid": "e352d2f8340609adf4bf6718b1d2ecee0fa730b5",
        "trusted": true
      },
      "cell_type": "code",
      "source": "# violinplots on petal-length for each species\n#command--> 24\nsns.violinplot(data=yourkernels,x=\"TotalViews\", y=\"TotalVotes\")",
      "execution_count": null,
      "outputs": []
    },
    {
      "metadata": {
        "_uuid": "82d42d69a63f9dacf41dad5bfb1b7908cefc2633",
        "trusted": true,
        "_kg_hide-input": true
      },
      "cell_type": "code",
      "source": "# violinplots on petal-length for each species\nsns.violinplot(data=yourkernels,x=\"TotalComments\", y=\"TotalVotes\")",
      "execution_count": null,
      "outputs": []
    },
    {
      "metadata": {
        "_uuid": "363b3e9509d5e3ba157c0b5f319d2585c58ee28f",
        "trusted": true,
        "_kg_hide-input": true
      },
      "cell_type": "code",
      "source": "sns.violinplot(data=yourkernels,x=\"Medal\", y=\"TotalVotes\")",
      "execution_count": null,
      "outputs": []
    },
    {
      "metadata": {
        "_uuid": "c67af4ad8d452f8e9f929e8a3284de675e3fd0d9",
        "trusted": true,
        "_kg_hide-input": true
      },
      "cell_type": "code",
      "source": "sns.violinplot(data=yourkernels,x=\"Medal\", y=\"TotalComments\")",
      "execution_count": null,
      "outputs": []
    },
    {
      "metadata": {
        "_uuid": "a6315bf510cecb907b2d23aad25faf6ccad32ac4"
      },
      "cell_type": "markdown",
      "source": "How many NA elements in every column.\n"
    },
    {
      "metadata": {
        "_uuid": "2544d3c2dd34a360d295019d8cb597c7ef8f66bc"
      },
      "cell_type": "markdown",
      "source": "<a id=\"52\"></a> <br>\n##  5-2 kdeplot"
    },
    {
      "metadata": {
        "_kg_hide-input": true,
        "_uuid": "1d07222b89303b386e9e824d52cc73c045667f25",
        "trusted": true
      },
      "cell_type": "code",
      "source": "# seaborn's kdeplot, plots univariate or bivariate density estimates.\n#Size can be changed by tweeking the value used\n#command--> 25\nsns.FacetGrid(yourkernels, hue=\"Medal\", size=5).map(sns.kdeplot, \"TotalComments\").add_legend()\nplt.show()",
      "execution_count": null,
      "outputs": []
    },
    {
      "metadata": {
        "_uuid": "3662003d5cb728d91c71e339cc7d6feba17b495f",
        "trusted": true,
        "_kg_hide-input": true
      },
      "cell_type": "code",
      "source": "sns.FacetGrid(yourkernels, hue=\"Medal\", size=5).map(sns.kdeplot, \"TotalVotes\").add_legend()\nplt.show()",
      "execution_count": null,
      "outputs": []
    },
    {
      "metadata": {
        "_kg_hide-input": true,
        "_uuid": "06e1259b209e753c2f05643706d6157145bb3b98",
        "trusted": true
      },
      "cell_type": "code",
      "source": "f,ax=plt.subplots(1,3,figsize=(20,8))\nsns.distplot(yourkernels[yourkernels['Medal']==1].TotalVotes,ax=ax[0])\nax[0].set_title('TotalVotes in Medal 1')\nsns.distplot(yourkernels[yourkernels['Medal']==2].TotalVotes,ax=ax[1])\nax[1].set_title('TotalVotes in Medal 2')\nsns.distplot(yourkernels[yourkernels['Medal']==3].TotalVotes,ax=ax[2])\nax[2].set_title('TotalVotes in Medal 3')\nplt.show()",
      "execution_count": null,
      "outputs": []
    },
    {
      "metadata": {
        "_uuid": "560d8e8f17bacefaf8c3855a9648f26b82fdee9b"
      },
      "cell_type": "markdown",
      "source": "<a id=\"53\"></a> <br>\n## 5-3 jointplot"
    },
    {
      "metadata": {
        "_kg_hide-input": true,
        "_uuid": "4adb4da16ea61e0f1a12bc9925dfbbaaa81e0360",
        "trusted": true
      },
      "cell_type": "code",
      "source": "# Use seaborn's jointplot to make a hexagonal bin plot\n#Set desired size and ratio and choose a color.\n#command--> 25\nsns.jointplot(x=\"TotalVotes\", y=\"TotalViews\", data=yourkernels, size=10,ratio=10, kind='hex',color='green')\nplt.show()",
      "execution_count": null,
      "outputs": []
    },
    {
      "metadata": {
        "_uuid": "3768e31e990bfe4c2ff7b45087fbba85e0560d00"
      },
      "cell_type": "markdown",
      "source": "<a id=\"54\"></a> <br>\n##  5-4 andrews_curves"
    },
    {
      "metadata": {
        "_kg_hide-input": true,
        "_uuid": "263eaa9d2bfad0f8c68b6e8e874bdc11a6e802ac",
        "trusted": true
      },
      "cell_type": "code",
      "source": "# we will use seaborn jointplot shows bivariate scatterplots and univariate histograms with Kernel density \n# estimation in the same figure\nsns.jointplot(x=\"TotalVotes\", y=\"TotalViews\", data=yourkernels, size=6, kind='kde', color='#800000', space=0)",
      "execution_count": null,
      "outputs": []
    },
    {
      "metadata": {
        "_uuid": "8e73333289d17dd648b7b2112d7fe3fe7ea444d0"
      },
      "cell_type": "markdown",
      "source": "<a id=\"55\"></a> <br>\n## 5-5 Heatmap"
    },
    {
      "metadata": {
        "_kg_hide-input": true,
        "_uuid": "3100955ca9dc61ac7d435e9c064d10d06f26afa7",
        "trusted": true
      },
      "cell_type": "code",
      "source": "#command--> 26\nplt.figure(figsize=(10,7)) \nsns.heatmap(yourkernels.corr(),annot=True,cmap='cubehelix_r') #draws  heatmap with input as the correlation matrix calculted by(iris.corr())\nplt.show()",
      "execution_count": null,
      "outputs": []
    },
    {
      "metadata": {
        "_uuid": "15e2743389cb58055ee5bb9dd9b829fb85850af2",
        "trusted": true,
        "_kg_hide-input": true
      },
      "cell_type": "code",
      "source": "sns.factorplot('TotalComments','TotalVotes',data=yourkernels)\nplt.show()",
      "execution_count": null,
      "outputs": []
    },
    {
      "metadata": {
        "_uuid": "6be5cceac28003946f70060cf116ac7fd52a3e02"
      },
      "cell_type": "markdown",
      "source": "<a id=\"56\"></a> <br>\n## 5-6 distplot"
    },
    {
      "metadata": {
        "trusted": true,
        "_uuid": "489aa9f9f032583a568be1ed30650fb684a2ed16"
      },
      "cell_type": "code",
      "source": "sns.distplot(yourkernels['TotalVotes']);",
      "execution_count": null,
      "outputs": []
    },
    {
      "metadata": {
        "_uuid": "a816cadcae66caff60006a30a7d10a67d8e0e131"
      },
      "cell_type": "markdown",
      "source": "<a id=\"6\"></a> <br>\n## 6- Plotly\nHow to use **Plotly** offline inside IPython notebooks.\n<a id=\"61\"></a> <br>\n## 6-1 New to Plotly?\nPlotly, also known by its URL, Plot.ly, is a technical computing company headquartered in Montreal, Quebec, that develops online data analytics and visualization tools. Plotly provides online graphing, analytics, and statistics tools for individuals and collaboration, as well as scientific graphing libraries for Python, R, MATLAB, Perl, Julia, Arduino, and REST.\n\n[Go to top](#top)"
    },
    {
      "metadata": {
        "trusted": true,
        "_uuid": "46be2bac2295d5c7cfdb1744995ed8365e9ad296",
        "_kg_hide-input": true
      },
      "cell_type": "code",
      "source": "# example for plotly\npy.init_notebook_mode(connected=True)\niris = datasets.load_iris()\nX = iris.data[:, :2]  # we only take the first two features.\nY = iris.target\nx_min, x_max = X[:, 0].min() - .5, X[:, 0].max() + .5\ny_min, y_max = X[:, 1].min() - .5, X[:, 1].max() + .5\ntrace = go.Scatter(x=X[:, 0],\n                   y=X[:, 1],\n                   mode='markers',\n                   marker=dict(color=np.random.randn(150),\n                               size=10,\n                               colorscale='Viridis',\n                               showscale=False))\n\nlayout = go.Layout(title='Training Points',\n                   xaxis=dict(title='Sepal length',\n                            showgrid=False),\n                   yaxis=dict(title='Sepal width',\n                            showgrid=False),\n                  )\n \nfig = go.Figure(data=[trace], layout=layout)",
      "execution_count": null,
      "outputs": []
    },
    {
      "metadata": {
        "trusted": true,
        "_uuid": "23c05a67148addecc3cb78e2e6d35b1579f2db46",
        "_kg_hide-input": true
      },
      "cell_type": "code",
      "source": "py.iplot(fig)",
      "execution_count": null,
      "outputs": []
    },
    {
      "metadata": {
        "trusted": true,
        "_uuid": "00cc2f75918f62c124bffcbf802fecbe606b325d"
      },
      "cell_type": "code",
      "source": "from sklearn.decomposition import PCA\nX_reduced = PCA(n_components=3).fit_transform(iris.data)",
      "execution_count": null,
      "outputs": []
    },
    {
      "metadata": {
        "trusted": true,
        "_uuid": "a6b7f5d9a7a81948b50ee7b6ffe985dd837d8c62"
      },
      "cell_type": "code",
      "source": "trace = go.Scatter3d(x=X_reduced[:, 0], \n                     y=X_reduced[:, 1], \n                     z=X_reduced[:, 2],\n                     mode='markers',\n                     marker=dict(\n                         size=6,\n                         color=np.random.randn(150),\n                         colorscale='Viridis',   \n                         opacity=0.8)\n                    )\nlayout=go.Layout(title='First three PCA directions',\n                 scene=dict(\n                         xaxis=dict(title='1st eigenvector'),\n                         yaxis=dict(title='2nd eigenvector'),\n                         zaxis=dict(title='3rd eigenvector'))\n                 )\nfig = go.Figure(data=[trace], layout=layout)",
      "execution_count": null,
      "outputs": []
    },
    {
      "metadata": {
        "trusted": true,
        "_uuid": "890a8e9d06d7ab7b2f169334f83dbb1984a6ac4c"
      },
      "cell_type": "code",
      "source": "py.iplot(fig)\n",
      "execution_count": null,
      "outputs": []
    },
    {
      "metadata": {
        "_uuid": "0ab8771687f84d08ad5e12d6844b1a73b6a8d0b7"
      },
      "cell_type": "markdown",
      "source": "<a id=\"62\"></a> <br>\n## 6-2 Plotly Offline from Command Line\nYou can plot your graphs from a python script from command line. On executing the script, it will open a web browser with your Plotly Graph drawn.\n\n[Go to top](#top)"
    },
    {
      "metadata": {
        "trusted": true,
        "_uuid": "dfb6baaae600970116bbbb2ee995c2846351d543",
        "_kg_hide-input": true
      },
      "cell_type": "code",
      "source": "plot([go.Scatter(x=[1, 2, 3], y=[3, 1, 6])])",
      "execution_count": null,
      "outputs": []
    },
    {
      "metadata": {
        "_kg_hide-input": true,
        "trusted": true,
        "_uuid": "ed86b2b5c13a48c7196969e5e4149995f012e0c9"
      },
      "cell_type": "code",
      "source": "np.random.seed(5)\n\nfig = tools.make_subplots(rows=2, cols=3,\n                          print_grid=False,\n                          specs=[[{'is_3d': True}, {'is_3d': True}, {'is_3d': True}],\n                                 [ {'is_3d': True, 'rowspan':1}, None, None]])\nscene = dict(\n    camera = dict(\n    up=dict(x=0, y=0, z=1),\n    center=dict(x=0, y=0, z=0),\n    eye=dict(x=2.5, y=0.1, z=0.1)\n    ),\n    xaxis=dict(\n        range=[-1, 4],\n        title='Petal width',\n        gridcolor='rgb(255, 255, 255)',\n        zerolinecolor='rgb(255, 255, 255)',\n        showbackground=True,\n        backgroundcolor='rgb(230, 230,230)',\n        showticklabels=False, ticks=''\n    ),\n    yaxis=dict(\n        range=[4, 8],\n        title='Sepal length',\n        gridcolor='rgb(255, 255, 255)',\n        zerolinecolor='rgb(255, 255, 255)',\n        showbackground=True,\n        backgroundcolor='rgb(230, 230,230)',\n        showticklabels=False, ticks=''\n    ),\n    zaxis=dict(\n        range=[1,8],\n        title='Petal length',\n        gridcolor='rgb(255, 255, 255)',\n        zerolinecolor='rgb(255, 255, 255)',\n        showbackground=True,\n        backgroundcolor='rgb(230, 230,230)',\n        showticklabels=False, ticks=''\n    )\n)\n\ncenters = [[1, 1], [-1, -1], [1, -1]]\niris = datasets.load_iris()\nX = iris.data\ny = iris.target\n\nestimators = {'k_means_iris_3': KMeans(n_clusters=3),\n              'k_means_iris_8': KMeans(n_clusters=8),\n              'k_means_iris_bad_init': KMeans(n_clusters=3, n_init=1,\n                                              init='random')}\nfignum = 1\nfor name, est in estimators.items():\n    est.fit(X)\n    labels = est.labels_\n\n    trace = go.Scatter3d(x=X[:, 3], y=X[:, 0], z=X[:, 2],\n                         showlegend=False,\n                         mode='markers',\n                         marker=dict(\n                                color=labels.astype(np.float),\n                                line=dict(color='black', width=1)\n        ))\n    fig.append_trace(trace, 1, fignum)\n    \n    fignum = fignum + 1\n\ny = np.choose(y, [1, 2, 0]).astype(np.float)\n\ntrace1 = go.Scatter3d(x=X[:, 3], y=X[:, 0], z=X[:, 2],\n                      showlegend=False,\n                      mode='markers',\n                      marker=dict(\n                            color=y,\n                            line=dict(color='black', width=1)))\nfig.append_trace(trace1, 2, 1)\n\nfig['layout'].update(height=900, width=900,\n                     margin=dict(l=10,r=10))\n",
      "execution_count": null,
      "outputs": []
    },
    {
      "metadata": {
        "_kg_hide-input": true,
        "trusted": true,
        "_uuid": "62b710eb725d7e0c7fa3bedfa9120da36a9c340c"
      },
      "cell_type": "code",
      "source": "py.iplot(fig)",
      "execution_count": null,
      "outputs": []
    },
    {
      "metadata": {
        "_uuid": "426fc75501c5a6f1f0884863c8c5fe44bf50d685"
      },
      "cell_type": "markdown",
      "source": " <a id=\"7\"></a> <br>\n# 7- Bokeh\n**Bokeh** is a large library that exposes many capabilities, so this section is only a quick tour of some common Bokeh use cases and workflows. For more detailed information please consult the full User Guide.[11]\n\nLet’s begin with some examples. Plotting data in basic Python lists as a line plot including zoom, pan, save, and other tools is simple and straightforward:\n\n[Go to top](#top)"
    },
    {
      "metadata": {
        "_kg_hide-input": true,
        "trusted": true,
        "_uuid": "5dcafdd9f0c16861b0e3b1f715c01b8bbcaf5bac"
      },
      "cell_type": "code",
      "source": "output_notebook()",
      "execution_count": null,
      "outputs": []
    },
    {
      "metadata": {
        "trusted": true,
        "_uuid": "c7e9966064c92b14f3417fa3fe55d94e79cd4d3b"
      },
      "cell_type": "code",
      "source": "\nx = np.linspace(0, 2*np.pi, 2000)\ny = np.sin(x)",
      "execution_count": null,
      "outputs": []
    },
    {
      "metadata": {
        "_kg_hide-input": true,
        "trusted": true,
        "_uuid": "b3767b15a19fe9eb728936c52486e0ff4abd7a39"
      },
      "cell_type": "code",
      "source": "# prepare some data\nx = [1, 2, 3, 4, 5]\ny = [6, 7, 2, 4, 5]\n\n\n\n# create a new plot with a title and axis labels\np = figure(title=\"simple line example\", x_axis_label='x', y_axis_label='y')\n\n# add a line renderer with legend and line thickness\np.line(x, y, legend=\"Temp.\", line_width=2)\n\n# show the results\nshow(p)",
      "execution_count": null,
      "outputs": []
    },
    {
      "metadata": {
        "_uuid": "ca5147c5cecf4f39f7e869d2198923a72b40ecf7"
      },
      "cell_type": "markdown",
      "source": "When you execute this script, you will see that a new output file \"lines.html\" is created, and that a browser automatically opens a new tab to display it. (For presentation purposes we have included the plot output directly inline in this document.)\n\nThe basic steps to creating plots with the bokeh.plotting interface are:\n\nPrepare some data\nIn this case plain python lists, but could also be NumPy arrays or Pandas series.\nTell Bokeh where to generate output\nIn this case using output_file(), with the filename \"lines.html\". Another option is output_notebook() for use in Jupyter notebooks.\nCall figure()\nThis creates a plot with typical default options and easy customization of title, tools, and axes labels.\nAdd renderers\nIn this case, we use line() for our data, specifying visual customizations like colors, legends and widths.\nAsk Bokeh to show() or save() the results.\nThese functions save the plot to an HTML file and optionally display it in a browser.\nSteps three and four can be repeated to create more than one plot, as shown in some of the examples below.\n\nThe bokeh.plotting interface is also quite handy if we need to customize the output a bit more by adding more data series, glyphs, logarithmic axis, and so on. It’s also possible to easily combine multiple glyphs together on one plot as shown below:\n\n[Go to top](#top)"
    },
    {
      "metadata": {
        "_kg_hide-input": true,
        "trusted": true,
        "_uuid": "0fff97de936bffadd7ef786b650a5bfadeeb6ae2"
      },
      "cell_type": "code",
      "source": "from bokeh.plotting import figure, output_file, show\n\n# prepare some data\nx = [0.1, 0.5, 1.0, 1.5, 2.0, 2.5, 3.0]\ny0 = [i**2 for i in x]\ny1 = [10**i for i in x]\ny2 = [10**(i**2) for i in x]\n\n\n\n# create a new plot\np = figure(\n   tools=\"pan,box_zoom,reset,save\",\n   y_axis_type=\"log\", y_range=[0.001, 10**11], title=\"log axis example\",\n   x_axis_label='sections', y_axis_label='particles'\n)\n\n# add some renderers\np.line(x, x, legend=\"y=x\")\np.circle(x, x, legend=\"y=x\", fill_color=\"white\", size=8)\np.line(x, y0, legend=\"y=x^2\", line_width=3)\np.line(x, y1, legend=\"y=10^x\", line_color=\"red\")\np.circle(x, y1, legend=\"y=10^x\", fill_color=\"red\", line_color=\"red\", size=6)\np.line(x, y2, legend=\"y=10^x^2\", line_color=\"orange\", line_dash=\"4 4\")\n\n# show the results\nshow(p)",
      "execution_count": null,
      "outputs": []
    },
    {
      "metadata": {
        "trusted": true,
        "_uuid": "831b59d72227d76a3fbae76830f77698ce080c1c",
        "_kg_hide-input": true
      },
      "cell_type": "code",
      "source": "# bokeh basics\n# Create a blank figure with labels\np = figure(plot_width = 600, plot_height = 600, \n           title = 'Example Glyphs',\n           x_axis_label = 'X', y_axis_label = 'Y')\n\n# Example data\nsquares_x = [1, 3, 4, 5, 8]\nsquares_y = [8, 7, 3, 1, 10]\ncircles_x = [9, 12, 4, 3, 15]\ncircles_y = [8, 4, 11, 6, 10]\n\n# Add squares glyph\np.square(squares_x, squares_y, size = 12, color = 'navy', alpha = 0.6)\n# Add circle glyph\np.circle(circles_x, circles_y, size = 12, color = 'red')\n\n# Set to output the plot in the notebook\noutput_notebook()\n# Show the plot\nshow(p)",
      "execution_count": null,
      "outputs": []
    },
    {
      "metadata": {
        "_uuid": "294e98b19544e50ff92470e43e2e70463d706959"
      },
      "cell_type": "markdown",
      "source": " <a id=\"8\"></a> <br>\n# 8- NetworkX\n**NetworkX** is a Python package for the creation, manipulation, and study of the structure, dynamics, and functions of complex networks."
    },
    {
      "metadata": {
        "trusted": true,
        "_uuid": "d8d4470a1aacfa66e13311dfa33bceac37d1a44d",
        "_kg_hide-input": true
      },
      "cell_type": "code",
      "source": "import sys\nimport matplotlib.pyplot as plt\nimport networkx as nx\nG = nx.grid_2d_graph(5, 5)  # 5x5 grid\n\n# print the adjacency list\nfor line in nx.generate_adjlist(G):\n    print(line)\n# write edgelist to grid.edgelist\nnx.write_edgelist(G, path=\"grid.edgelist\", delimiter=\":\")\n# read edgelist from grid.edgelist\nH = nx.read_edgelist(path=\"grid.edgelist\", delimiter=\":\")\nnx.draw(H)\nplt.show()",
      "execution_count": null,
      "outputs": []
    },
    {
      "metadata": {
        "_kg_hide-input": true,
        "trusted": true,
        "_uuid": "b0ea1ffe3a0eb7b04b976454c358c8e60df2ed5a"
      },
      "cell_type": "code",
      "source": "from ipywidgets import interact\n%matplotlib inline\nimport matplotlib.pyplot as plt\nimport networkx as nx\n# wrap a few graph generation functions so they have the same signature\ndef random_lobster(n, m, k, p):\n    return nx.random_lobster(n, p, p / m)\n\ndef powerlaw_cluster(n, m, k, p):\n    return nx.powerlaw_cluster_graph(n, m, p)\n\ndef erdos_renyi(n, m, k, p):\n    return nx.erdos_renyi_graph(n, p)\n\ndef newman_watts_strogatz(n, m, k, p):\n    return nx.newman_watts_strogatz_graph(n, k, p)\n\ndef plot_random_graph(n, m, k, p, generator):\n    g = generator(n, m, k, p)\n    nx.draw(g)\n    plt.show()\n    \ninteract(plot_random_graph, n=(2,30), m=(1,10), k=(1,10), p=(0.0, 1.0, 0.001),\n         generator={\n             'lobster': random_lobster,\n             'power law': powerlaw_cluster,\n             'Newman-Watts-Strogatz': newman_watts_strogatz,\n             u'Erdős-Rényi': erdos_renyi,\n         });",
      "execution_count": null,
      "outputs": []
    },
    {
      "metadata": {
        "_uuid": "fe929625d7390ee89cc2636bf9c89f6e1eecaa70"
      },
      "cell_type": "markdown",
      "source": "<a id=\"9\"></a> <br>\n # 9- Read more\n \n you can start to learn and review your knowledge about ML with a perfect dataset and try to learn and memorize the workflow for your journey in Data science world with read more sources, here I want to give some courses, e-books and cheatsheet:\n <a id=\"91\"></a> <br>\n ## 9-1 Courses\n \nThere are a lot of online courses that can help you develop your knowledge, here I have just  listed some of them:\n\n1. [Machine Learning Certification by Stanford University (Coursera)](https://www.coursera.org/learn/machine-learning/)\n\n2. [Machine Learning A-Z™: Hands-On Python & R In Data Science (Udemy)](https://www.udemy.com/machinelearning/)\n\n3. [Deep Learning Certification by Andrew Ng from deeplearning.ai (Coursera)](https://www.coursera.org/specializations/deep-learning)\n\n4. [Python for Data Science and Machine Learning Bootcamp (Udemy)](Python for Data Science and Machine Learning Bootcamp (Udemy))\n\n5. [Mathematics for Machine Learning by Imperial College London](https://www.coursera.org/specializations/mathematics-machine-learning)\n\n6. [Deep Learning A-Z™: Hands-On Artificial Neural Networks](https://www.udemy.com/deeplearning/)\n\n7. [Complete Guide to TensorFlow for Deep Learning Tutorial with Python](https://www.udemy.com/complete-guide-to-tensorflow-for-deep-learning-with-python/)\n\n8. [Data Science and Machine Learning Tutorial with Python – Hands On](https://www.udemy.com/data-science-and-machine-learning-with-python-hands-on/)\n\n9. [Machine Learning Certification by University of Washington](https://www.coursera.org/specializations/machine-learning)\n\n10. [Data Science and Machine Learning Bootcamp with R](https://www.udemy.com/data-science-and-machine-learning-bootcamp-with-r/)\n11. [Creative Applications of Deep Learning with TensorFlow](https://www.class-central.com/course/kadenze-creative-applications-of-deep-learning-with-tensorflow-6679)\n12. [Neural Networks for Machine Learning](https://www.class-central.com/mooc/398/coursera-neural-networks-for-machine-learning)\n13. [Practical Deep Learning For Coders, Part 1](https://www.class-central.com/mooc/7887/practical-deep-learning-for-coders-part-1)\n14. [Machine Learning](https://www.cs.ox.ac.uk/teaching/courses/2014-2015/ml/index.html)\n<a id=\"92\"></a> <br>\n## 9-2 Ebooks\n\nSo you love reading , here is **10 free machine learning books**\n1. [Probability and Statistics for Programmers](http://www.greenteapress.com/thinkstats/)\n2. [Bayesian Reasoning and Machine Learning](http://web4.cs.ucl.ac.uk/staff/D.Barber/textbook/091117.pdf)\n2. [An Introduction to Statistical Learning](http://www-bcf.usc.edu/~gareth/ISL/)\n2. [Understanding Machine Learning](http://www.cs.huji.ac.il/~shais/UnderstandingMachineLearning/index.html)\n2. [A Programmer’s Guide to Data Mining](http://guidetodatamining.com/)\n2. [Mining of Massive Datasets](http://infolab.stanford.edu/~ullman/mmds/book.pdf)\n2. [A Brief Introduction to Neural Networks](http://www.dkriesel.com/_media/science/neuronalenetze-en-zeta2-2col-dkrieselcom.pdf)\n2. [Deep Learning](http://www.deeplearningbook.org/)\n2. [Natural Language Processing with Python](https://www.researchgate.net/publication/220691633_Natural_Language_Processing_with_Python)\n2. [Machine Learning Yearning](http://www.mlyearning.org/)\n\n\n[Go to top](#top)"
    },
    {
      "metadata": {
        "_uuid": "6caa0f9d20a055caebf9a2269c2081b052858806"
      },
      "cell_type": "markdown",
      "source": "<a id=\"10\"></a> <br>\n# 10- conclusion\nSome of the other popular data visualisation libraries in Python are\n1. Bokeh\n1. Geoplotlib\n1. Gleam\n1. Missingno\n1. Dash\n1. Leather\nPython gives a lot of options to visualise data, it is important to identify the method best suited to your needs, from basic plotting to sophisticated and complicated statistical charts, and others. It many also depend on functionalities such as generating vector and interactive files to flexibility offered by these tools.\n\nThis kernel it is not completed yet! Following up!\n\n[Go to top](#top)"
    },
    {
      "metadata": {
        "_uuid": "cf3679a51c72dbe2d2549b5fe97e4ac5f1fa0fa0"
      },
      "cell_type": "markdown",
      "source": "You can follow me on:\n\n> ###### [ GitHub](https://github.com/mjbahmani/10-steps-to-become-a-data-scientist)\n\n--------------------------------------\n\n **I hope you find this kernel helpful and some <font color=\"red\"><b>UPVOTES</b></font> would be very much appreciated** "
    },
    {
      "metadata": {
        "_uuid": "5590d9817e38722f88c9924517a591d43dfaf4ba"
      },
      "cell_type": "markdown",
      "source": "<a id=\"11\"></a> <br>\n# 11- References\n1. [Coursera](https://www.coursera.org/specializations/data-science-python)\n1. [GitHub](https://github.com/mjbahmani)\n1. [analyticsindiamag](https://www.analyticsindiamag.com/top-5-best-data-visualisation-libraries-in-python/)\n1. [primeoncology](https://www.primeoncology.org/primetimes/3-benefits-data-visualization-medical-education/)\n1. [10 Useful Python Data Visualization Libraries for Any Discipline](https://mode.com/blog/python-data-visualization-libraries)\n1. [PythonDataScienceHandbook](https://jakevdp.github.io/PythonDataScienceHandbook/04.00-introduction-to-matplotlib.html)\n1. [Python Data Science Handbook by Jake VanderPlas](https://www.oreilly.com/library/view/python-data-science/9781491912126/ch04.html)\n1. [datacamp](https://www.datacamp.com/community/tutorials/seaborn-python-tutorial)\n1. [tutorialspoint](https://www.tutorialspoint.com/seaborn/index.htm)\n1. [towardsdatascience](https://towardsdatascience.com/a-short-python-tutorial-using-the-open-source-plotly-dash-library-part-i-e59fb1f1a457)\n1. [pydata](https://bokeh.pydata.org/en/latest/docs/user_guide/quickstart.html)\n1. [plot.ly](https://plot.ly/scikit-learn/plot-iris-dataset/)\n[Go to top](#top)"
    },
    {
      "metadata": {
        "_uuid": "72e1e18935b372b6aac2fae910e5bd12de1d420f"
      },
      "cell_type": "markdown",
      "source": "Go to first step: [**Course Home Page**](https://www.kaggle.com/mjbahmani/10-steps-to-become-a-data-scientist)\n\nGo to next step : [**Titanic**](https://www.kaggle.com/mjbahmani/a-comprehensive-ml-workflow-with-python)"
    }
  ],
  "metadata": {
    "kernelspec": {
      "display_name": "Python 3",
      "language": "python",
      "name": "python3"
    },
    "language_info": {
      "name": "python",
      "version": "3.6.6",
      "mimetype": "text/x-python",
      "codemirror_mode": {
        "name": "ipython",
        "version": 3
      },
      "pygments_lexer": "ipython3",
      "nbconvert_exporter": "python",
      "file_extension": ".py"
    }
  },
  "nbformat": 4,
  "nbformat_minor": 1
}