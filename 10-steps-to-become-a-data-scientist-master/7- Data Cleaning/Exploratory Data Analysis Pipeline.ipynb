{
  "cells": [
    {
      "metadata": {
        "_uuid": "a8f9622945156d6337ba73c481da2de7efef7384"
      },
      "cell_type": "markdown",
      "source": "## <div style=\"text-align: center\">Exploratory Data Analysis Pipeline </div>\n\n<div style=\"text-align: center\">If you've followed my other kernels so far. You have noticed that for those who are <b>beginners</b>, I've introduced a course \"<b><a ref='https://www.kaggle.com/mjbahmani/10-steps-to-become-a-data-scientist'>10 Steps to Become a Data Scientist</a></b>.\" In this kernel we will start another step with each other. There are plenty of <b>Kernels</b> that can help you learn <b>EDA</b> from scratch but here in <b>Kaggle</b>, I want to Analysis <font color=\"green\"><b>Meta Kaggle</b></font> and <font color=\"green\"><b>Kaggle Survey 2018</b></font>,   popular  Datasets as a comprehensive pipeline for <b>EDA</b>. \nAfter reading, you can use it  to Analysis other real dataset and use it as a template to deal with <b>EDA</b> problems.</div>\n<img src='http://s9.picofile.com/file/8343417468/eda11.png' height=400 width=400>\n<div style=\"text-align:center\">last update: <b>11/23/2018</b></div>\n\n\n\n>###### You may  be interested have a look at it: [**10-Steps-to-Become-a-Data-Scientist**](https://github.com/mjbahmani/10-steps-to-become-a-data-scientist)\n\n\n---------------------------------------------------------------------\nYou can Fork and Run this kernel on Github:\n> ###### [ GitHub](https://github.com/mjbahmani/10-steps-to-become-a-data-scientist)\n\n-------------------------------------------------------------------------------------------------------------\n **I hope you find this kernel helpful and some <font color=\"red\"><b>UPVOTES</b></font> would be very much appreciated**\n \n -----------"
    },
    {
      "metadata": {
        "_uuid": "cda11210a88d6484112cbe2c3624225328326c6a"
      },
      "cell_type": "markdown",
      "source": " <a id=\"top\"></a> <br>\n## Notebook  Content\n1. [Introduction](#1)\n1. [Loading Packages](#2)\n    1. [version](#3)\n    1. [Setup](#4)\n1. [Exploratory data analysis](#5)\n1. [Data Collection](#6)\n    1. [Features](#7)\n    1. [Explorer Dataset](#8)\n1. [Data Cleaning](#9)\n    1. [Find yourself in Users datset](#10)\n    1. [Find your kernels in Kernels dataset](#11)\n1. [Data Preprocessing](#12)\n1. [Data Visaulization](#13)\n    1. [Scatter plot](#14)\n    1. [Box plot](#15)\n    1. [Histogram](#16)\n    1. [violinplots](#17)\n    1. [kdeplot](#18)\n    1. [jointplot](#19)\n    1. [andrews_curves](#20)\n    1. [Heatmap](#21)\n    1. [WordCloud](#22)\n1. [Conclusion](#23)    \n1. [References](#24)    \n    "
    },
    {
      "metadata": {
        "_uuid": "750903cc2679d39058f56df6c6c040be02b748df"
      },
      "cell_type": "markdown",
      "source": " <a id=\"1\"></a> <br>\n## 1- Introduction\nThis is a **comprehensive EDA techniques with python** , that I have spent a lot of time to complete it.\n\nit is clear that everyone in this community is familiar with Meta Kaggle and kaggle survey 2018 datasets but if you need to review your information about the datasets please visit  [meta-kaggle](https://www.kaggle.com/kaggle/meta-kaggle) and [kaggle survey 2018](https://www.kaggle.com/kaggle/kaggle-survey-2018).\n\nI am open to getting your feedback for improving this **kernel** together.\n"
    },
    {
      "metadata": {
        "_uuid": "fbedcae8843986c2139f18dad4b5f313e6535ac5"
      },
      "cell_type": "markdown",
      "source": "<a id=\"2\"></a> <br>\n## 2- Loading Packages\nIn this kernel we are using the following packages:"
    },
    {
      "metadata": {
        "_uuid": "61f49281fdd8592b44c0867225f57e6fce36342c"
      },
      "cell_type": "markdown",
      "source": " <img src=\"http://s8.picofile.com/file/8338227868/packages.png\">\n Now we import all of them "
    },
    {
      "metadata": {
        "_cell_guid": "b1076dfc-b9ad-4769-8c92-a6c4dae69d19",
        "_uuid": "8f2839f25d086af736a60e9eeb907d3b93b6e0e5",
        "trusted": true,
        "_kg_hide-input": true
      },
      "cell_type": "code",
      "source": "from sklearn.model_selection import train_test_split\nfrom sklearn.metrics import classification_report\nfrom sklearn.metrics import confusion_matrix\nfrom sklearn.metrics import accuracy_score\nfrom wordcloud import WordCloud as wc\nfrom nltk.corpus import stopwords\nimport matplotlib.pylab as pylab\nimport matplotlib.pyplot as plt\nfrom pandas import get_dummies\nimport matplotlib as mpl\nimport seaborn as sns\nimport pandas as pd\nimport numpy as np\nimport matplotlib\nimport warnings\nimport sklearn\nimport string\nimport scipy\nimport numpy\nimport nltk\nimport json\nimport sys\nimport csv\nimport os",
      "execution_count": 1,
      "outputs": []
    },
    {
      "metadata": {
        "_uuid": "cb6fbd6b1eee108ca34577de77592af65b781cc0"
      },
      "cell_type": "markdown",
      "source": "<a id=\"3\"></a> <br>\n## 2-1 version"
    },
    {
      "metadata": {
        "trusted": true,
        "_uuid": "7d081df6329f26958f545c32b4d96172b3be96d9",
        "_kg_hide-input": true
      },
      "cell_type": "code",
      "source": "print('matplotlib: {}'.format(matplotlib.__version__))\nprint('sklearn: {}'.format(sklearn.__version__))\nprint('scipy: {}'.format(scipy.__version__))\nprint('seaborn: {}'.format(sns.__version__))\nprint('pandas: {}'.format(pd.__version__))\nprint('numpy: {}'.format(np.__version__))\nprint('Python: {}'.format(sys.version))\n#print('wordcloud: {}'.format(wordcloud.version))",
      "execution_count": 2,
      "outputs": [
        {
          "output_type": "stream",
          "text": "matplotlib: 2.2.3\nsklearn: 0.20.0\nscipy: 1.1.0\nseaborn: 0.9.0\npandas: 0.23.4\nnumpy: 1.15.4\nPython: 3.6.6 |Anaconda, Inc.| (default, Oct  9 2018, 12:34:16) \n[GCC 7.3.0]\n",
          "name": "stdout"
        }
      ]
    },
    {
      "metadata": {
        "_uuid": "4634f86ca193d38c1121af4d30f31acf25d9d334"
      },
      "cell_type": "markdown",
      "source": "<a id=\"4\"></a> <br>\n## 2-2 Setup\n\nA few tiny adjustments for better **code readability**"
    },
    {
      "metadata": {
        "trusted": true,
        "_uuid": "13ccd69be8e3a0502a3e172d1416686ce8cdba56",
        "_kg_hide-input": true
      },
      "cell_type": "code",
      "source": "sns.set(style='white', context='notebook', palette='deep')\npylab.rcParams['figure.figsize'] = 12,8\nwarnings.filterwarnings('ignore')\nmpl.style.use('ggplot')\nsns.set_style('white')\n%matplotlib inline",
      "execution_count": 3,
      "outputs": []
    },
    {
      "metadata": {
        "_uuid": "04ff1a533119d589baee777c21194a951168b0c7"
      },
      "cell_type": "markdown",
      "source": "<a id=\"5\"></a> <br>\n## 3- Exploratory Data Analysis(EDA)\n In this section, you'll learn how to use graphical and numerical techniques to begin uncovering the structure of your data. \n \n* Which variables suggest interesting relationships?\n* Which observations are unusual?\n\nBy the end of the section, you'll be able to answer these questions and more, while generating graphics that are both insightful and beautiful.  then We will review analytical and statistical operations:\n\n1. Data Collection\n1. Visualization\n1. Data Cleaning\n1. Data Preprocessing\n\n<img src=\"http://s9.picofile.com/file/8338476134/EDA.png\">\n\n###### [Go to top](#top)"
    },
    {
      "metadata": {
        "_uuid": "cedecea930b278f86292367cc28d2996a235a169"
      },
      "cell_type": "markdown",
      "source": "<a id=\"6\"></a> <br>\n## 3-1 Data Collection\n**Data collection** is the process of gathering and measuring data, information or any variables of interest in a standardized and established manner that enables the collector to answer or test hypothesis and evaluate outcomes of the particular collection.[techopedia]\n<img src='https://www.iaeemwc.com/assets/images/Blog/data-collection.jpg' height=300 width=300>\n\nI start Collection Data by the Users and Kernels datasets into **Pandas DataFrames**"
    },
    {
      "metadata": {
        "_uuid": "9269ae851b744856bce56840637030a16a5877e1",
        "trusted": true,
        "_kg_hide-input": true
      },
      "cell_type": "code",
      "source": "# import kernels and users to play with it\nusers = pd.read_csv(\"../input/meta-kaggle/Users.csv\")\nkernels = pd.read_csv(\"../input/meta-kaggle/Kernels.csv\")\nmessages = pd.read_csv(\"../input/meta-kaggle/ForumMessages.csv\")\nfreeFormResponses=pd.read_csv(\"../input/kaggle-survey-2018/freeFormResponses.csv\")\nmultipleChoiceResponses=pd.read_csv(\"../input/kaggle-survey-2018/multipleChoiceResponses.csv\")",
      "execution_count": 4,
      "outputs": []
    },
    {
      "metadata": {
        "_uuid": "58ed9c838069f54de5cf90b20a774c3e236149b3"
      },
      "cell_type": "markdown",
      "source": "**<< Note 1 >>**\n\n* Each row is an observation (also known as : sample, example, instance, record)\n* Each column is a feature (also known as: Predictor, attribute, Independent Variable, input, regressor, Covariate)\n###### [Go to top](#top)"
    },
    {
      "metadata": {
        "trusted": true,
        "_uuid": "33344731ac8933d46461ca893ea8936f6ee1c3e4",
        "_kg_hide-input": true
      },
      "cell_type": "code",
      "source": "users.sample(1) ",
      "execution_count": 5,
      "outputs": [
        {
          "output_type": "execute_result",
          "execution_count": 5,
          "data": {
            "text/plain": "              Id    UserName       ...       RegisterDate PerformanceTier\n1778238  1941641  kroszczyna       ...          5/25/2018               0\n\n[1 rows x 5 columns]",
            "text/html": "<div>\n<style scoped>\n    .dataframe tbody tr th:only-of-type {\n        vertical-align: middle;\n    }\n\n    .dataframe tbody tr th {\n        vertical-align: top;\n    }\n\n    .dataframe thead th {\n        text-align: right;\n    }\n</style>\n<table border=\"1\" class=\"dataframe\">\n  <thead>\n    <tr style=\"text-align: right;\">\n      <th></th>\n      <th>Id</th>\n      <th>UserName</th>\n      <th>DisplayName</th>\n      <th>RegisterDate</th>\n      <th>PerformanceTier</th>\n    </tr>\n  </thead>\n  <tbody>\n    <tr>\n      <th>1778238</th>\n      <td>1941641</td>\n      <td>kroszczyna</td>\n      <td>Kacper Roszczyna</td>\n      <td>5/25/2018</td>\n      <td>0</td>\n    </tr>\n  </tbody>\n</table>\n</div>"
          },
          "metadata": {}
        }
      ]
    },
    {
      "metadata": {
        "trusted": true,
        "_uuid": "6a15630f403601203c74bba16f343ae61d9937fb",
        "_kg_hide-input": true
      },
      "cell_type": "code",
      "source": "kernels.sample(1) ",
      "execution_count": 6,
      "outputs": [
        {
          "output_type": "execute_result",
          "execution_count": 6,
          "data": {
            "text/plain": "           Id  AuthorUserId     ...      TotalComments  TotalVotes\n69460  121869        776114     ...                  0           0\n\n[1 rows x 16 columns]",
            "text/html": "<div>\n<style scoped>\n    .dataframe tbody tr th:only-of-type {\n        vertical-align: middle;\n    }\n\n    .dataframe tbody tr th {\n        vertical-align: top;\n    }\n\n    .dataframe thead th {\n        text-align: right;\n    }\n</style>\n<table border=\"1\" class=\"dataframe\">\n  <thead>\n    <tr style=\"text-align: right;\">\n      <th></th>\n      <th>Id</th>\n      <th>AuthorUserId</th>\n      <th>CurrentKernelVersionId</th>\n      <th>ForkParentKernelVersionId</th>\n      <th>ForumTopicId</th>\n      <th>FirstKernelVersionId</th>\n      <th>CreationDate</th>\n      <th>EvaluationDate</th>\n      <th>MadePublicDate</th>\n      <th>IsProjectLanguageTemplate</th>\n      <th>CurrentUrlSlug</th>\n      <th>Medal</th>\n      <th>MedalAwardDate</th>\n      <th>TotalViews</th>\n      <th>TotalComments</th>\n      <th>TotalVotes</th>\n    </tr>\n  </thead>\n  <tbody>\n    <tr>\n      <th>69460</th>\n      <td>121869</td>\n      <td>776114</td>\n      <td>463981.0</td>\n      <td>461796.0</td>\n      <td>NaN</td>\n      <td>463981.0</td>\n      <td>11/24/2016 12:17:12 AM</td>\n      <td>11/24/2016</td>\n      <td>11/24/2016</td>\n      <td>False</td>\n      <td>start-from-data-cleaning-to-machine-learning</td>\n      <td>NaN</td>\n      <td>NaN</td>\n      <td>0</td>\n      <td>0</td>\n      <td>0</td>\n    </tr>\n  </tbody>\n</table>\n</div>"
          },
          "metadata": {}
        }
      ]
    },
    {
      "metadata": {
        "_kg_hide-input": true,
        "trusted": true,
        "_uuid": "c075887e7479d4d94fd5221bdab3ac86f7ef0e2d"
      },
      "cell_type": "code",
      "source": "freeFormResponses.sample(1) ",
      "execution_count": 7,
      "outputs": [
        {
          "output_type": "execute_result",
          "execution_count": 7,
          "data": {
            "text/plain": "      Q11_OTHER_TEXT Q12_OTHER_TEXT      ...      Q6_OTHER_TEXT Q7_OTHER_TEXT\n17628            NaN            NaN      ...                NaN           NaN\n\n[1 rows x 35 columns]",
            "text/html": "<div>\n<style scoped>\n    .dataframe tbody tr th:only-of-type {\n        vertical-align: middle;\n    }\n\n    .dataframe tbody tr th {\n        vertical-align: top;\n    }\n\n    .dataframe thead th {\n        text-align: right;\n    }\n</style>\n<table border=\"1\" class=\"dataframe\">\n  <thead>\n    <tr style=\"text-align: right;\">\n      <th></th>\n      <th>Q11_OTHER_TEXT</th>\n      <th>Q12_OTHER_TEXT</th>\n      <th>Q12_Part_1_TEXT</th>\n      <th>Q12_Part_2_TEXT</th>\n      <th>Q12_Part_3_TEXT</th>\n      <th>Q12_Part_4_TEXT</th>\n      <th>Q12_Part_5_TEXT</th>\n      <th>Q13_OTHER_TEXT</th>\n      <th>Q14_OTHER_TEXT</th>\n      <th>Q15_OTHER_TEXT</th>\n      <th>Q16_OTHER_TEXT</th>\n      <th>Q17_OTHER_TEXT</th>\n      <th>Q18_OTHER_TEXT</th>\n      <th>Q19_OTHER_TEXT</th>\n      <th>Q1_OTHER_TEXT</th>\n      <th>Q20_OTHER_TEXT</th>\n      <th>Q21_OTHER_TEXT</th>\n      <th>Q22_OTHER_TEXT</th>\n      <th>Q27_OTHER_TEXT</th>\n      <th>Q28_OTHER_TEXT</th>\n      <th>Q29_OTHER_TEXT</th>\n      <th>Q30_OTHER_TEXT</th>\n      <th>Q31_OTHER_TEXT</th>\n      <th>Q32_OTHER</th>\n      <th>Q33_OTHER_TEXT</th>\n      <th>Q34_OTHER_TEXT</th>\n      <th>Q35_OTHER_TEXT</th>\n      <th>Q36_OTHER_TEXT</th>\n      <th>Q37_OTHER_TEXT</th>\n      <th>Q38_OTHER_TEXT</th>\n      <th>Q42_OTHER_TEXT</th>\n      <th>Q49_OTHER_TEXT</th>\n      <th>Q50_OTHER_TEXT</th>\n      <th>Q6_OTHER_TEXT</th>\n      <th>Q7_OTHER_TEXT</th>\n    </tr>\n  </thead>\n  <tbody>\n    <tr>\n      <th>17628</th>\n      <td>NaN</td>\n      <td>NaN</td>\n      <td>NaN</td>\n      <td>NaN</td>\n      <td>NaN</td>\n      <td>R, Python, Jupyter</td>\n      <td>NaN</td>\n      <td>NaN</td>\n      <td>NaN</td>\n      <td>NaN</td>\n      <td>NaN</td>\n      <td>NaN</td>\n      <td>NaN</td>\n      <td>NaN</td>\n      <td>NaN</td>\n      <td>NaN</td>\n      <td>NaN</td>\n      <td>NaN</td>\n      <td>NaN</td>\n      <td>NaN</td>\n      <td>NaN</td>\n      <td>NaN</td>\n      <td>NaN</td>\n      <td>NaN</td>\n      <td>NaN</td>\n      <td>0</td>\n      <td>NaN</td>\n      <td>NaN</td>\n      <td>NaN</td>\n      <td>NaN</td>\n      <td>NaN</td>\n      <td>NaN</td>\n      <td>NaN</td>\n      <td>NaN</td>\n      <td>NaN</td>\n    </tr>\n  </tbody>\n</table>\n</div>"
          },
          "metadata": {}
        }
      ]
    },
    {
      "metadata": {
        "_kg_hide-input": true,
        "trusted": true,
        "_uuid": "42e0ca3f86ae45a9d3c3a4582052b2aa549b42c5"
      },
      "cell_type": "code",
      "source": "multipleChoiceResponses.sample(1) ",
      "execution_count": 8,
      "outputs": [
        {
          "output_type": "execute_result",
          "execution_count": 8,
          "data": {
            "text/plain": "     Time from Start to Finish (seconds)      ...       Q50_OTHER_TEXT\n7066                                 551      ...                   -1\n\n[1 rows x 395 columns]",
            "text/html": "<div>\n<style scoped>\n    .dataframe tbody tr th:only-of-type {\n        vertical-align: middle;\n    }\n\n    .dataframe tbody tr th {\n        vertical-align: top;\n    }\n\n    .dataframe thead th {\n        text-align: right;\n    }\n</style>\n<table border=\"1\" class=\"dataframe\">\n  <thead>\n    <tr style=\"text-align: right;\">\n      <th></th>\n      <th>Time from Start to Finish (seconds)</th>\n      <th>Q1</th>\n      <th>Q1_OTHER_TEXT</th>\n      <th>Q2</th>\n      <th>Q3</th>\n      <th>Q4</th>\n      <th>Q5</th>\n      <th>Q6</th>\n      <th>Q6_OTHER_TEXT</th>\n      <th>Q7</th>\n      <th>Q7_OTHER_TEXT</th>\n      <th>Q8</th>\n      <th>Q9</th>\n      <th>Q10</th>\n      <th>Q11_Part_1</th>\n      <th>Q11_Part_2</th>\n      <th>Q11_Part_3</th>\n      <th>Q11_Part_4</th>\n      <th>Q11_Part_5</th>\n      <th>Q11_Part_6</th>\n      <th>Q11_Part_7</th>\n      <th>Q11_OTHER_TEXT</th>\n      <th>Q12_MULTIPLE_CHOICE</th>\n      <th>Q12_Part_1_TEXT</th>\n      <th>Q12_Part_2_TEXT</th>\n      <th>Q12_Part_3_TEXT</th>\n      <th>Q12_Part_4_TEXT</th>\n      <th>Q12_Part_5_TEXT</th>\n      <th>Q12_OTHER_TEXT</th>\n      <th>Q13_Part_1</th>\n      <th>Q13_Part_2</th>\n      <th>Q13_Part_3</th>\n      <th>Q13_Part_4</th>\n      <th>Q13_Part_5</th>\n      <th>Q13_Part_6</th>\n      <th>Q13_Part_7</th>\n      <th>Q13_Part_8</th>\n      <th>Q13_Part_9</th>\n      <th>Q13_Part_10</th>\n      <th>Q13_Part_11</th>\n      <th>...</th>\n      <th>Q46</th>\n      <th>Q47_Part_1</th>\n      <th>Q47_Part_2</th>\n      <th>Q47_Part_3</th>\n      <th>Q47_Part_4</th>\n      <th>Q47_Part_5</th>\n      <th>Q47_Part_6</th>\n      <th>Q47_Part_7</th>\n      <th>Q47_Part_8</th>\n      <th>Q47_Part_9</th>\n      <th>Q47_Part_10</th>\n      <th>Q47_Part_11</th>\n      <th>Q47_Part_12</th>\n      <th>Q47_Part_13</th>\n      <th>Q47_Part_14</th>\n      <th>Q47_Part_15</th>\n      <th>Q47_Part_16</th>\n      <th>Q48</th>\n      <th>Q49_Part_1</th>\n      <th>Q49_Part_2</th>\n      <th>Q49_Part_3</th>\n      <th>Q49_Part_4</th>\n      <th>Q49_Part_5</th>\n      <th>Q49_Part_6</th>\n      <th>Q49_Part_7</th>\n      <th>Q49_Part_8</th>\n      <th>Q49_Part_9</th>\n      <th>Q49_Part_10</th>\n      <th>Q49_Part_11</th>\n      <th>Q49_Part_12</th>\n      <th>Q49_OTHER_TEXT</th>\n      <th>Q50_Part_1</th>\n      <th>Q50_Part_2</th>\n      <th>Q50_Part_3</th>\n      <th>Q50_Part_4</th>\n      <th>Q50_Part_5</th>\n      <th>Q50_Part_6</th>\n      <th>Q50_Part_7</th>\n      <th>Q50_Part_8</th>\n      <th>Q50_OTHER_TEXT</th>\n    </tr>\n  </thead>\n  <tbody>\n    <tr>\n      <th>7066</th>\n      <td>551</td>\n      <td>Male</td>\n      <td>-1</td>\n      <td>30-34</td>\n      <td>United States of America</td>\n      <td>Bachelor’s degree</td>\n      <td>Engineering (non-computer focused)</td>\n      <td>Business Analyst</td>\n      <td>-1</td>\n      <td>Energy/Mining</td>\n      <td>-1</td>\n      <td>10-15</td>\n      <td>90-100,000</td>\n      <td>No (we do not use ML methods)</td>\n      <td>Analyze and understand data to influence produ...</td>\n      <td>NaN</td>\n      <td>NaN</td>\n      <td>NaN</td>\n      <td>NaN</td>\n      <td>NaN</td>\n      <td>NaN</td>\n      <td>-1</td>\n      <td>Basic statistical software (Microsoft Excel, G...</td>\n      <td>457</td>\n      <td>-1</td>\n      <td>-1</td>\n      <td>-1</td>\n      <td>-1</td>\n      <td>-1</td>\n      <td>NaN</td>\n      <td>NaN</td>\n      <td>NaN</td>\n      <td>NaN</td>\n      <td>NaN</td>\n      <td>NaN</td>\n      <td>NaN</td>\n      <td>NaN</td>\n      <td>NaN</td>\n      <td>NaN</td>\n      <td>NaN</td>\n      <td>...</td>\n      <td>NaN</td>\n      <td>NaN</td>\n      <td>NaN</td>\n      <td>NaN</td>\n      <td>NaN</td>\n      <td>NaN</td>\n      <td>NaN</td>\n      <td>NaN</td>\n      <td>NaN</td>\n      <td>NaN</td>\n      <td>NaN</td>\n      <td>NaN</td>\n      <td>NaN</td>\n      <td>NaN</td>\n      <td>NaN</td>\n      <td>NaN</td>\n      <td>NaN</td>\n      <td>NaN</td>\n      <td>NaN</td>\n      <td>NaN</td>\n      <td>NaN</td>\n      <td>NaN</td>\n      <td>NaN</td>\n      <td>NaN</td>\n      <td>NaN</td>\n      <td>NaN</td>\n      <td>NaN</td>\n      <td>NaN</td>\n      <td>NaN</td>\n      <td>NaN</td>\n      <td>-1</td>\n      <td>NaN</td>\n      <td>NaN</td>\n      <td>NaN</td>\n      <td>NaN</td>\n      <td>NaN</td>\n      <td>NaN</td>\n      <td>NaN</td>\n      <td>NaN</td>\n      <td>-1</td>\n    </tr>\n  </tbody>\n</table>\n</div>"
          },
          "metadata": {}
        }
      ]
    },
    {
      "metadata": {
        "_uuid": "7b5fd1034cd591ebd29fba1c77d342ec2b408d13"
      },
      "cell_type": "markdown",
      "source": "### Please **replace** your username and find your userid\n\nwe suppose that userid==authoruserid and use userid for both kernels and users dataset"
    },
    {
      "metadata": {
        "_uuid": "edd043f8feb76cfe51b79785302ca4936ceb7b51",
        "trusted": true,
        "_kg_hide-input": true
      },
      "cell_type": "code",
      "source": "username=\"mjbahmani\"\nuserid=int(users[users['UserName']==\"mjbahmani\"].Id)\nuserid",
      "execution_count": 9,
      "outputs": [
        {
          "output_type": "execute_result",
          "execution_count": 9,
          "data": {
            "text/plain": "1840354"
          },
          "metadata": {}
        }
      ]
    },
    {
      "metadata": {
        "_uuid": "b1a61ef77cbe97153445293fc8d01f409d87272f"
      },
      "cell_type": "markdown",
      "source": "<a id=\"7\"></a> <br>\n## 3-1-1 Features\nFeatures can be from following types:\n1. numeric\n1. categorical\n1. ordinal\n1. datetime\n1. coordinates\n\nFind the type of features in **Meta Kaggle**?!\n<br>\nfor getting some information about the dataset you can use **info()** command\n###### [Go to top](#top)"
    },
    {
      "metadata": {
        "trusted": true,
        "_uuid": "de95bf94a02721364ad6cbd6d440d664b2961e39",
        "_kg_hide-input": true
      },
      "cell_type": "code",
      "source": "print(users.info())",
      "execution_count": 10,
      "outputs": [
        {
          "output_type": "stream",
          "text": "<class 'pandas.core.frame.DataFrame'>\nRangeIndex: 2337830 entries, 0 to 2337829\nData columns (total 5 columns):\nId                 int64\nUserName           object\nDisplayName        object\nRegisterDate       object\nPerformanceTier    int64\ndtypes: int64(2), object(3)\nmemory usage: 89.2+ MB\nNone\n",
          "name": "stdout"
        }
      ]
    },
    {
      "metadata": {
        "_kg_hide-input": true,
        "trusted": true,
        "_uuid": "8f47ccc4538b823bf0a5ac15eef7787395620ed5"
      },
      "cell_type": "code",
      "source": "print(freeFormResponses.info())",
      "execution_count": 11,
      "outputs": [
        {
          "output_type": "stream",
          "text": "<class 'pandas.core.frame.DataFrame'>\nRangeIndex: 23860 entries, 0 to 23859\nData columns (total 35 columns):\nQ11_OTHER_TEXT     545 non-null object\nQ12_OTHER_TEXT     1765 non-null object\nQ12_Part_1_TEXT    3928 non-null object\nQ12_Part_2_TEXT    1448 non-null object\nQ12_Part_3_TEXT    1134 non-null object\nQ12_Part_4_TEXT    9553 non-null object\nQ12_Part_5_TEXT    1353 non-null object\nQ13_OTHER_TEXT     1193 non-null object\nQ14_OTHER_TEXT     502 non-null object\nQ15_OTHER_TEXT     588 non-null object\nQ16_OTHER_TEXT     597 non-null object\nQ17_OTHER_TEXT     114 non-null object\nQ18_OTHER_TEXT     162 non-null object\nQ19_OTHER_TEXT     451 non-null object\nQ1_OTHER_TEXT      80 non-null object\nQ20_OTHER_TEXT     94 non-null object\nQ21_OTHER_TEXT     493 non-null object\nQ22_OTHER_TEXT     95 non-null object\nQ27_OTHER_TEXT     308 non-null object\nQ28_OTHER_TEXT     187 non-null object\nQ29_OTHER_TEXT     532 non-null object\nQ30_OTHER_TEXT     203 non-null object\nQ31_OTHER_TEXT     235 non-null object\nQ32_OTHER          52 non-null object\nQ33_OTHER_TEXT     368 non-null object\nQ34_OTHER_TEXT     15938 non-null object\nQ35_OTHER_TEXT     549 non-null object\nQ36_OTHER_TEXT     1061 non-null object\nQ37_OTHER_TEXT     338 non-null object\nQ38_OTHER_TEXT     1362 non-null object\nQ42_OTHER_TEXT     210 non-null object\nQ49_OTHER_TEXT     171 non-null object\nQ50_OTHER_TEXT     432 non-null object\nQ6_OTHER_TEXT      1323 non-null object\nQ7_OTHER_TEXT      937 non-null object\ndtypes: object(35)\nmemory usage: 6.4+ MB\nNone\n",
          "name": "stdout"
        }
      ]
    },
    {
      "metadata": {
        "_uuid": "e08d410c0dac5cf34eea33940ab586eb7e9ded5a"
      },
      "cell_type": "markdown",
      "source": "<a id=\"8\"></a> <br>\n## 3-1-2 Explorer Dataset\n1- Dimensions of the dataset.\n\n2- Peek at the data itself.\n\n3- Statistical summary of all attributes.\n\n4- Breakdown of the data by the class variable.\n\nDon’t worry, each look at the data is **one command**. These are useful commands that you can use again and again on future projects.\n###### [Go to top](#top)"
    },
    {
      "metadata": {
        "_uuid": "4b45251be7be77333051fe738639104ae1005fa5",
        "trusted": true,
        "_kg_hide-input": true
      },
      "cell_type": "code",
      "source": "# shape\nprint(users.shape)",
      "execution_count": 12,
      "outputs": [
        {
          "output_type": "stream",
          "text": "(2337830, 5)\n",
          "name": "stdout"
        }
      ]
    },
    {
      "metadata": {
        "_uuid": "4b45251be7be77333051fe738639104ae1005fa5",
        "trusted": true,
        "_kg_hide-input": true
      },
      "cell_type": "code",
      "source": "# shape\nprint(kernels.shape)",
      "execution_count": 13,
      "outputs": [
        {
          "output_type": "stream",
          "text": "(207534, 16)\n",
          "name": "stdout"
        }
      ]
    },
    {
      "metadata": {
        "trusted": true,
        "_uuid": "5e6358361a6a8fcc60087baa6cebb18c18296299"
      },
      "cell_type": "code",
      "source": "print(freeFormResponses.shape)",
      "execution_count": 14,
      "outputs": [
        {
          "output_type": "stream",
          "text": "(23860, 35)\n",
          "name": "stdout"
        }
      ]
    },
    {
      "metadata": {
        "_uuid": "c64e9d3e0bf394fb833de94a0fc5c34f69fce24c",
        "trusted": true,
        "_kg_hide-input": true
      },
      "cell_type": "code",
      "source": "#columns*rows\nusers.size",
      "execution_count": 15,
      "outputs": [
        {
          "output_type": "execute_result",
          "execution_count": 15,
          "data": {
            "text/plain": "11689150"
          },
          "metadata": {}
        }
      ]
    },
    {
      "metadata": {
        "_uuid": "c64e9d3e0bf394fb833de94a0fc5c34f69fce24c",
        "trusted": true,
        "_kg_hide-input": true
      },
      "cell_type": "code",
      "source": "#columns*rows\nkernels.size",
      "execution_count": 16,
      "outputs": [
        {
          "output_type": "execute_result",
          "execution_count": 16,
          "data": {
            "text/plain": "3320544"
          },
          "metadata": {}
        }
      ]
    },
    {
      "metadata": {
        "_uuid": "277e1998627d6a3ddeff4e913a6b8c3dc81dec96"
      },
      "cell_type": "markdown",
      "source": "\nWe can get a quick idea of how many instances (rows) and how many attributes (columns) the data contains with the shape property."
    },
    {
      "metadata": {
        "_uuid": "95ee5e18f97bc410df1e54ac74e32cdff2b30755"
      },
      "cell_type": "markdown",
      "source": "for getting some information about the dataset you can use **info()** command"
    },
    {
      "metadata": {
        "_uuid": "ca840f02925751186f87e402fcb5f637ab1ab8a0",
        "trusted": true,
        "_kg_hide-input": true
      },
      "cell_type": "code",
      "source": "print(users.info())",
      "execution_count": 17,
      "outputs": [
        {
          "output_type": "stream",
          "text": "<class 'pandas.core.frame.DataFrame'>\nRangeIndex: 2337830 entries, 0 to 2337829\nData columns (total 5 columns):\nId                 int64\nUserName           object\nDisplayName        object\nRegisterDate       object\nPerformanceTier    int64\ndtypes: int64(2), object(3)\nmemory usage: 89.2+ MB\nNone\n",
          "name": "stdout"
        }
      ]
    },
    {
      "metadata": {
        "_uuid": "ca840f02925751186f87e402fcb5f637ab1ab8a0",
        "trusted": true,
        "_kg_hide-input": true
      },
      "cell_type": "code",
      "source": "print(kernels.info())",
      "execution_count": 18,
      "outputs": [
        {
          "output_type": "stream",
          "text": "<class 'pandas.core.frame.DataFrame'>\nRangeIndex: 207534 entries, 0 to 207533\nData columns (total 16 columns):\nId                           207534 non-null int64\nAuthorUserId                 207534 non-null int64\nCurrentKernelVersionId       170722 non-null float64\nForkParentKernelVersionId    65012 non-null float64\nForumTopicId                 16486 non-null float64\nFirstKernelVersionId         206096 non-null float64\nCreationDate                 207342 non-null object\nEvaluationDate               173728 non-null object\nMadePublicDate               199569 non-null object\nIsProjectLanguageTemplate    207534 non-null bool\nCurrentUrlSlug               207532 non-null object\nMedal                        7744 non-null float64\nMedalAwardDate               7744 non-null object\nTotalViews                   207534 non-null int64\nTotalComments                207534 non-null int64\nTotalVotes                   207534 non-null int64\ndtypes: bool(1), float64(5), int64(5), object(5)\nmemory usage: 23.9+ MB\nNone\n",
          "name": "stdout"
        }
      ]
    },
    {
      "metadata": {
        "_uuid": "3458838205be4c7fbff88e95ef69934e13e2199b"
      },
      "cell_type": "markdown",
      "source": "you see number of unique item for Species with command below:"
    },
    {
      "metadata": {
        "_uuid": "4b90d165a007106ae99809ad28edd75bd8153dd8",
        "trusted": true,
        "_kg_hide-input": true
      },
      "cell_type": "code",
      "source": "kernels['Medal'].unique()",
      "execution_count": 19,
      "outputs": [
        {
          "output_type": "execute_result",
          "execution_count": 19,
          "data": {
            "text/plain": "array([nan,  3.,  2.,  1.])"
          },
          "metadata": {}
        }
      ]
    },
    {
      "metadata": {
        "_uuid": "8accfbddf2228274ad412c3ad3be72b4107d6f6c",
        "trusted": true,
        "_kg_hide-input": true
      },
      "cell_type": "code",
      "source": "kernels[\"Medal\"].value_counts()\n",
      "execution_count": 20,
      "outputs": [
        {
          "output_type": "execute_result",
          "execution_count": 20,
          "data": {
            "text/plain": "3.0    5714\n2.0    1412\n1.0     618\nName: Medal, dtype: int64"
          },
          "metadata": {}
        }
      ]
    },
    {
      "metadata": {
        "_uuid": "ae08b544a8d4202c7d0a47ec83d685e81c91a66d"
      },
      "cell_type": "markdown",
      "source": "to check the first 5 rows of the data set, we can use head(5)."
    },
    {
      "metadata": {
        "_uuid": "5899889553c3416b27e93efceddb106eb71f5156",
        "trusted": true,
        "_kg_hide-input": true
      },
      "cell_type": "code",
      "source": "kernels.head(5) ",
      "execution_count": 21,
      "outputs": [
        {
          "output_type": "execute_result",
          "execution_count": 21,
          "data": {
            "text/plain": "   Id  AuthorUserId     ...      TotalComments  TotalVotes\n0   1          2505     ...                  0           0\n1   2          3716     ...                  1          12\n2   4          3716     ...                  0           0\n3   5         28963     ...                  0           0\n4   6          3716     ...                  0           0\n\n[5 rows x 16 columns]",
            "text/html": "<div>\n<style scoped>\n    .dataframe tbody tr th:only-of-type {\n        vertical-align: middle;\n    }\n\n    .dataframe tbody tr th {\n        vertical-align: top;\n    }\n\n    .dataframe thead th {\n        text-align: right;\n    }\n</style>\n<table border=\"1\" class=\"dataframe\">\n  <thead>\n    <tr style=\"text-align: right;\">\n      <th></th>\n      <th>Id</th>\n      <th>AuthorUserId</th>\n      <th>CurrentKernelVersionId</th>\n      <th>ForkParentKernelVersionId</th>\n      <th>ForumTopicId</th>\n      <th>FirstKernelVersionId</th>\n      <th>CreationDate</th>\n      <th>EvaluationDate</th>\n      <th>MadePublicDate</th>\n      <th>IsProjectLanguageTemplate</th>\n      <th>CurrentUrlSlug</th>\n      <th>Medal</th>\n      <th>MedalAwardDate</th>\n      <th>TotalViews</th>\n      <th>TotalComments</th>\n      <th>TotalVotes</th>\n    </tr>\n  </thead>\n  <tbody>\n    <tr>\n      <th>0</th>\n      <td>1</td>\n      <td>2505</td>\n      <td>205.0</td>\n      <td>NaN</td>\n      <td>NaN</td>\n      <td>1.0</td>\n      <td>3/25/2015 6:25:32 PM</td>\n      <td>3/23/2018</td>\n      <td>3/25/2015</td>\n      <td>False</td>\n      <td>hello</td>\n      <td>NaN</td>\n      <td>NaN</td>\n      <td>25</td>\n      <td>0</td>\n      <td>0</td>\n    </tr>\n    <tr>\n      <th>1</th>\n      <td>2</td>\n      <td>3716</td>\n      <td>1748.0</td>\n      <td>NaN</td>\n      <td>26670.0</td>\n      <td>2.0</td>\n      <td>3/25/2015 6:31:07 PM</td>\n      <td>4/16/2015</td>\n      <td>3/25/2015</td>\n      <td>False</td>\n      <td>rf-proximity</td>\n      <td>3.0</td>\n      <td>7/15/2016</td>\n      <td>7566</td>\n      <td>1</td>\n      <td>12</td>\n    </tr>\n    <tr>\n      <th>2</th>\n      <td>4</td>\n      <td>3716</td>\n      <td>41.0</td>\n      <td>NaN</td>\n      <td>NaN</td>\n      <td>9.0</td>\n      <td>3/25/2015 9:57:36 PM</td>\n      <td>3/23/2018</td>\n      <td>3/25/2015</td>\n      <td>False</td>\n      <td>r-version</td>\n      <td>NaN</td>\n      <td>NaN</td>\n      <td>9</td>\n      <td>0</td>\n      <td>0</td>\n    </tr>\n    <tr>\n      <th>3</th>\n      <td>5</td>\n      <td>28963</td>\n      <td>19.0</td>\n      <td>NaN</td>\n      <td>NaN</td>\n      <td>13.0</td>\n      <td>3/25/2015 10:01:04 PM</td>\n      <td>3/23/2018</td>\n      <td>3/25/2015</td>\n      <td>False</td>\n      <td>test1</td>\n      <td>NaN</td>\n      <td>NaN</td>\n      <td>9</td>\n      <td>0</td>\n      <td>0</td>\n    </tr>\n    <tr>\n      <th>4</th>\n      <td>6</td>\n      <td>3716</td>\n      <td>21.0</td>\n      <td>NaN</td>\n      <td>NaN</td>\n      <td>15.0</td>\n      <td>3/25/2015 10:19:00 PM</td>\n      <td>3/23/2018</td>\n      <td>3/25/2015</td>\n      <td>False</td>\n      <td>are-icons-missing</td>\n      <td>NaN</td>\n      <td>NaN</td>\n      <td>7</td>\n      <td>0</td>\n      <td>0</td>\n    </tr>\n  </tbody>\n</table>\n</div>"
          },
          "metadata": {}
        }
      ]
    },
    {
      "metadata": {
        "_uuid": "1150b6ac3d82562aefd5c64f9f01accee5eace4d"
      },
      "cell_type": "markdown",
      "source": "to check out last 5 row of the data set, we use tail() function"
    },
    {
      "metadata": {
        "_uuid": "79339442ff1f53ae1054d794337b9541295d3305",
        "trusted": true,
        "_kg_hide-input": true
      },
      "cell_type": "code",
      "source": "users.tail() ",
      "execution_count": 22,
      "outputs": [
        {
          "output_type": "execute_result",
          "execution_count": 22,
          "data": {
            "text/plain": "              Id       ...       PerformanceTier\n2337825  2530908       ...                     0\n2337826  2530909       ...                     0\n2337827  2530910       ...                     0\n2337828  2530911       ...                     0\n2337829  2530912       ...                     0\n\n[5 rows x 5 columns]",
            "text/html": "<div>\n<style scoped>\n    .dataframe tbody tr th:only-of-type {\n        vertical-align: middle;\n    }\n\n    .dataframe tbody tr th {\n        vertical-align: top;\n    }\n\n    .dataframe thead th {\n        text-align: right;\n    }\n</style>\n<table border=\"1\" class=\"dataframe\">\n  <thead>\n    <tr style=\"text-align: right;\">\n      <th></th>\n      <th>Id</th>\n      <th>UserName</th>\n      <th>DisplayName</th>\n      <th>RegisterDate</th>\n      <th>PerformanceTier</th>\n    </tr>\n  </thead>\n  <tbody>\n    <tr>\n      <th>2337825</th>\n      <td>2530908</td>\n      <td>leoschmi</td>\n      <td>Leo_</td>\n      <td>11/23/2018</td>\n      <td>0</td>\n    </tr>\n    <tr>\n      <th>2337826</th>\n      <td>2530909</td>\n      <td>habibgouni</td>\n      <td>HabibGouni</td>\n      <td>11/23/2018</td>\n      <td>0</td>\n    </tr>\n    <tr>\n      <th>2337827</th>\n      <td>2530910</td>\n      <td>parvpatodi</td>\n      <td>Parv</td>\n      <td>11/23/2018</td>\n      <td>0</td>\n    </tr>\n    <tr>\n      <th>2337828</th>\n      <td>2530911</td>\n      <td>jweej1</td>\n      <td>jooj</td>\n      <td>11/23/2018</td>\n      <td>0</td>\n    </tr>\n    <tr>\n      <th>2337829</th>\n      <td>2530912</td>\n      <td>mohammedalmaghrabi</td>\n      <td>Mohammed A</td>\n      <td>11/23/2018</td>\n      <td>0</td>\n    </tr>\n  </tbody>\n</table>\n</div>"
          },
          "metadata": {}
        }
      ]
    },
    {
      "metadata": {
        "_uuid": "2c288c3dc8656a872a8529368812546e434d3a22"
      },
      "cell_type": "markdown",
      "source": "to pop up 5 random rows from the data set, we can use **sample(5)**  function"
    },
    {
      "metadata": {
        "_uuid": "09eb18d1fcf4a2b73ba2f5ddce99dfa521681140",
        "trusted": true,
        "_kg_hide-input": true
      },
      "cell_type": "code",
      "source": "kernels.sample(5) ",
      "execution_count": 23,
      "outputs": [
        {
          "output_type": "execute_result",
          "execution_count": 23,
          "data": {
            "text/plain": "             Id  AuthorUserId     ...      TotalComments  TotalVotes\n185195  1468707       1560448     ...                  0           0\n99237    168175        534830     ...                  0           0\n19128     24726        455496     ...                  0           0\n131781   237289       1007226     ...                  0           0\n104635   202131        825608     ...                  0           0\n\n[5 rows x 16 columns]",
            "text/html": "<div>\n<style scoped>\n    .dataframe tbody tr th:only-of-type {\n        vertical-align: middle;\n    }\n\n    .dataframe tbody tr th {\n        vertical-align: top;\n    }\n\n    .dataframe thead th {\n        text-align: right;\n    }\n</style>\n<table border=\"1\" class=\"dataframe\">\n  <thead>\n    <tr style=\"text-align: right;\">\n      <th></th>\n      <th>Id</th>\n      <th>AuthorUserId</th>\n      <th>CurrentKernelVersionId</th>\n      <th>ForkParentKernelVersionId</th>\n      <th>ForumTopicId</th>\n      <th>FirstKernelVersionId</th>\n      <th>CreationDate</th>\n      <th>EvaluationDate</th>\n      <th>MadePublicDate</th>\n      <th>IsProjectLanguageTemplate</th>\n      <th>CurrentUrlSlug</th>\n      <th>Medal</th>\n      <th>MedalAwardDate</th>\n      <th>TotalViews</th>\n      <th>TotalComments</th>\n      <th>TotalVotes</th>\n    </tr>\n  </thead>\n  <tbody>\n    <tr>\n      <th>185195</th>\n      <td>1468707</td>\n      <td>1560448</td>\n      <td>5289492.0</td>\n      <td>NaN</td>\n      <td>NaN</td>\n      <td>5160734.0</td>\n      <td>8/17/2018 5:45:03 PM</td>\n      <td>8/24/2018</td>\n      <td>8/24/2018</td>\n      <td>False</td>\n      <td>titanic-predicted</td>\n      <td>NaN</td>\n      <td>NaN</td>\n      <td>86</td>\n      <td>0</td>\n      <td>0</td>\n    </tr>\n    <tr>\n      <th>99237</th>\n      <td>168175</td>\n      <td>534830</td>\n      <td>NaN</td>\n      <td>757266.0</td>\n      <td>NaN</td>\n      <td>757669.0</td>\n      <td>1/24/2017 10:45:49 PM</td>\n      <td>NaN</td>\n      <td>1/24/2017</td>\n      <td>False</td>\n      <td>simple-stacking-with-xgboost-0-808</td>\n      <td>NaN</td>\n      <td>NaN</td>\n      <td>20</td>\n      <td>0</td>\n      <td>0</td>\n    </tr>\n    <tr>\n      <th>19128</th>\n      <td>24726</td>\n      <td>455496</td>\n      <td>NaN</td>\n      <td>NaN</td>\n      <td>NaN</td>\n      <td>106834.0</td>\n      <td>11/18/2015 3:49:04 PM</td>\n      <td>NaN</td>\n      <td>11/18/2015</td>\n      <td>False</td>\n      <td>notebook-c6ee635f99c520224b66</td>\n      <td>NaN</td>\n      <td>NaN</td>\n      <td>9</td>\n      <td>0</td>\n      <td>0</td>\n    </tr>\n    <tr>\n      <th>131781</th>\n      <td>237289</td>\n      <td>1007226</td>\n      <td>1090192.0</td>\n      <td>NaN</td>\n      <td>NaN</td>\n      <td>1090185.0</td>\n      <td>4/18/2017 10:06:01 AM</td>\n      <td>4/18/2017</td>\n      <td>4/18/2017</td>\n      <td>False</td>\n      <td>notebookd6949c34de</td>\n      <td>NaN</td>\n      <td>NaN</td>\n      <td>14</td>\n      <td>0</td>\n      <td>0</td>\n    </tr>\n    <tr>\n      <th>104635</th>\n      <td>202131</td>\n      <td>825608</td>\n      <td>981950.0</td>\n      <td>NaN</td>\n      <td>NaN</td>\n      <td>981950.0</td>\n      <td>3/5/2017 7:20:34 AM</td>\n      <td>3/5/2017</td>\n      <td>3/5/2017</td>\n      <td>False</td>\n      <td>notebook01987f14df</td>\n      <td>NaN</td>\n      <td>NaN</td>\n      <td>20</td>\n      <td>0</td>\n      <td>0</td>\n    </tr>\n  </tbody>\n</table>\n</div>"
          },
          "metadata": {}
        }
      ]
    },
    {
      "metadata": {
        "_uuid": "c8a1cc36348c68fb98d6cb28aa9919fc5f2892f3"
      },
      "cell_type": "markdown",
      "source": "to give a statistical summary about the dataset, we can use **describe()"
    },
    {
      "metadata": {
        "_uuid": "3f7211e96627b9a81c5b620a9ba61446f7719ea3",
        "trusted": true,
        "_kg_hide-input": true
      },
      "cell_type": "code",
      "source": "kernels.describe() ",
      "execution_count": 24,
      "outputs": [
        {
          "output_type": "execute_result",
          "execution_count": 24,
          "data": {
            "text/plain": "                 Id  AuthorUserId      ...        TotalComments     TotalVotes\ncount  2.075340e+05  2.075340e+05      ...        207534.000000  207534.000000\nmean   4.492258e+05  8.141562e+05      ...             0.557831       1.888881\nstd    5.638257e+05  5.619333e+05      ...             6.138670      22.395555\nmin    1.000000e+00  3.680000e+02      ...             0.000000       0.000000\n25%    9.052550e+04  4.180550e+05      ...             0.000000       0.000000\n50%    1.926580e+05  6.958150e+05      ...             0.000000       0.000000\n75%    5.617760e+05  1.025796e+06      ...             0.000000       0.000000\nmax    2.179960e+06  2.529130e+06      ...           901.000000    3037.000000\n\n[8 rows x 10 columns]",
            "text/html": "<div>\n<style scoped>\n    .dataframe tbody tr th:only-of-type {\n        vertical-align: middle;\n    }\n\n    .dataframe tbody tr th {\n        vertical-align: top;\n    }\n\n    .dataframe thead th {\n        text-align: right;\n    }\n</style>\n<table border=\"1\" class=\"dataframe\">\n  <thead>\n    <tr style=\"text-align: right;\">\n      <th></th>\n      <th>Id</th>\n      <th>AuthorUserId</th>\n      <th>CurrentKernelVersionId</th>\n      <th>ForkParentKernelVersionId</th>\n      <th>ForumTopicId</th>\n      <th>FirstKernelVersionId</th>\n      <th>Medal</th>\n      <th>TotalViews</th>\n      <th>TotalComments</th>\n      <th>TotalVotes</th>\n    </tr>\n  </thead>\n  <tbody>\n    <tr>\n      <th>count</th>\n      <td>2.075340e+05</td>\n      <td>2.075340e+05</td>\n      <td>1.707220e+05</td>\n      <td>6.501200e+04</td>\n      <td>16486.000000</td>\n      <td>2.060960e+05</td>\n      <td>7744.000000</td>\n      <td>207534.000000</td>\n      <td>207534.000000</td>\n      <td>207534.000000</td>\n    </tr>\n    <tr>\n      <th>mean</th>\n      <td>4.492258e+05</td>\n      <td>8.141562e+05</td>\n      <td>1.979049e+06</td>\n      <td>1.429974e+06</td>\n      <td>44925.038942</td>\n      <td>1.664119e+06</td>\n      <td>2.658058</td>\n      <td>306.539222</td>\n      <td>0.557831</td>\n      <td>1.888881</td>\n    </tr>\n    <tr>\n      <th>std</th>\n      <td>5.638257e+05</td>\n      <td>5.619333e+05</td>\n      <td>2.056020e+06</td>\n      <td>1.626584e+06</td>\n      <td>16311.737987</td>\n      <td>1.940696e+06</td>\n      <td>0.620222</td>\n      <td>3056.229062</td>\n      <td>6.138670</td>\n      <td>22.395555</td>\n    </tr>\n    <tr>\n      <th>min</th>\n      <td>1.000000e+00</td>\n      <td>3.680000e+02</td>\n      <td>1.900000e+01</td>\n      <td>1.000000e+00</td>\n      <td>14433.000000</td>\n      <td>1.000000e+00</td>\n      <td>1.000000</td>\n      <td>0.000000</td>\n      <td>0.000000</td>\n      <td>0.000000</td>\n    </tr>\n    <tr>\n      <th>25%</th>\n      <td>9.052550e+04</td>\n      <td>4.180550e+05</td>\n      <td>4.742330e+05</td>\n      <td>3.075340e+05</td>\n      <td>30579.000000</td>\n      <td>3.353328e+05</td>\n      <td>2.000000</td>\n      <td>13.000000</td>\n      <td>0.000000</td>\n      <td>0.000000</td>\n    </tr>\n    <tr>\n      <th>50%</th>\n      <td>1.926580e+05</td>\n      <td>6.958150e+05</td>\n      <td>1.073884e+06</td>\n      <td>6.654450e+05</td>\n      <td>44999.500000</td>\n      <td>9.106650e+05</td>\n      <td>3.000000</td>\n      <td>23.000000</td>\n      <td>0.000000</td>\n      <td>0.000000</td>\n    </tr>\n    <tr>\n      <th>75%</th>\n      <td>5.617760e+05</td>\n      <td>1.025796e+06</td>\n      <td>2.944494e+06</td>\n      <td>2.466491e+06</td>\n      <td>59128.500000</td>\n      <td>2.139974e+06</td>\n      <td>3.000000</td>\n      <td>88.000000</td>\n      <td>0.000000</td>\n      <td>0.000000</td>\n    </tr>\n    <tr>\n      <th>max</th>\n      <td>2.179960e+06</td>\n      <td>2.529130e+06</td>\n      <td>7.678865e+06</td>\n      <td>7.670494e+06</td>\n      <td>72447.000000</td>\n      <td>7.678865e+06</td>\n      <td>3.000000</td>\n      <td>531866.000000</td>\n      <td>901.000000</td>\n      <td>3037.000000</td>\n    </tr>\n  </tbody>\n</table>\n</div>"
          },
          "metadata": {}
        }
      ]
    },
    {
      "metadata": {
        "_uuid": "2ecc1896c6cd6c342cddb2e1ef0e774e66c8dc5d"
      },
      "cell_type": "markdown",
      "source": "<a id=\"9\"></a> <br>\n## 3-2 Data Cleaning\nWhen dealing with real-world data, dirty data is the norm rather than the exception. We continuously need to predict correct values, impute missing ones, and find links between various data artefacts such as schemas and records. We need to stop treating data cleaning as a piecemeal exercise (resolving different types of errors in isolation), and instead leverage all signals and resources (such as constraints, available statistics, and dictionaries) to accurately predict corrective actions.\n\n<img src='http://www.datacleansing.net.au/Images/Site/DG_Data_Cleansing_Cycle_300px.png' width=300 height=300>\n\nThe primary goal of data cleaning is to detect and remove errors and **anomalies** to increase the value of data in analytics and decision making. While it has been the focus of many researchers for several years, individual problems have been addressed separately. These include missing value imputation, outliers detection, transformations, integrity constraints violations detection and repair, consistent query answering, deduplication, and many other related problems such as profiling and constraints mining.[4]\n###### [Go to top](#top)"
    },
    {
      "metadata": {
        "_uuid": "031d16ca235837e889734635ecff193be64b27a4"
      },
      "cell_type": "markdown",
      "source": "How many NA elements in every column!!\nGood news, it is Zero!\nto check out how many null info are on the dataset, we can use **isnull().sum()**"
    },
    {
      "metadata": {
        "_uuid": "a6315bf510cecb907b2d23aad25faf6ccad32ac4"
      },
      "cell_type": "markdown",
      "source": ""
    },
    {
      "metadata": {
        "_uuid": "675f72fb58d83c527f71819e71ed8e17f81126f5",
        "trusted": true,
        "_kg_hide-input": true
      },
      "cell_type": "code",
      "source": "#How many NA elements in every column\nusers.isnull().sum()",
      "execution_count": 25,
      "outputs": [
        {
          "output_type": "execute_result",
          "execution_count": 25,
          "data": {
            "text/plain": "Id                   0\nUserName             1\nDisplayName        102\nRegisterDate         0\nPerformanceTier      0\ndtype: int64"
          },
          "metadata": {}
        }
      ]
    },
    {
      "metadata": {
        "_uuid": "675f72fb58d83c527f71819e71ed8e17f81126f5",
        "trusted": true,
        "_kg_hide-input": true
      },
      "cell_type": "code",
      "source": "kernels.isnull().sum()",
      "execution_count": 26,
      "outputs": [
        {
          "output_type": "execute_result",
          "execution_count": 26,
          "data": {
            "text/plain": "Id                                0\nAuthorUserId                      0\nCurrentKernelVersionId        36812\nForkParentKernelVersionId    142522\nForumTopicId                 191048\nFirstKernelVersionId           1438\nCreationDate                    192\nEvaluationDate                33806\nMadePublicDate                 7965\nIsProjectLanguageTemplate         0\nCurrentUrlSlug                    2\nMedal                        199790\nMedalAwardDate               199790\nTotalViews                        0\nTotalComments                     0\nTotalVotes                        0\ndtype: int64"
          },
          "metadata": {}
        }
      ]
    },
    {
      "metadata": {
        "_uuid": "446e6162e16325213047ff31454813455668b574",
        "trusted": true,
        "_kg_hide-input": true
      },
      "cell_type": "code",
      "source": "kernels.groupby('Medal').count()",
      "execution_count": 27,
      "outputs": [
        {
          "output_type": "execute_result",
          "execution_count": 27,
          "data": {
            "text/plain": "         Id  AuthorUserId     ...      TotalComments  TotalVotes\nMedal                         ...                               \n1.0     618           618     ...                618         618\n2.0    1412          1412     ...               1412        1412\n3.0    5714          5714     ...               5714        5714\n\n[3 rows x 15 columns]",
            "text/html": "<div>\n<style scoped>\n    .dataframe tbody tr th:only-of-type {\n        vertical-align: middle;\n    }\n\n    .dataframe tbody tr th {\n        vertical-align: top;\n    }\n\n    .dataframe thead th {\n        text-align: right;\n    }\n</style>\n<table border=\"1\" class=\"dataframe\">\n  <thead>\n    <tr style=\"text-align: right;\">\n      <th></th>\n      <th>Id</th>\n      <th>AuthorUserId</th>\n      <th>CurrentKernelVersionId</th>\n      <th>ForkParentKernelVersionId</th>\n      <th>ForumTopicId</th>\n      <th>FirstKernelVersionId</th>\n      <th>CreationDate</th>\n      <th>EvaluationDate</th>\n      <th>MadePublicDate</th>\n      <th>IsProjectLanguageTemplate</th>\n      <th>CurrentUrlSlug</th>\n      <th>MedalAwardDate</th>\n      <th>TotalViews</th>\n      <th>TotalComments</th>\n      <th>TotalVotes</th>\n    </tr>\n    <tr>\n      <th>Medal</th>\n      <th></th>\n      <th></th>\n      <th></th>\n      <th></th>\n      <th></th>\n      <th></th>\n      <th></th>\n      <th></th>\n      <th></th>\n      <th></th>\n      <th></th>\n      <th></th>\n      <th></th>\n      <th></th>\n      <th></th>\n    </tr>\n  </thead>\n  <tbody>\n    <tr>\n      <th>1.0</th>\n      <td>618</td>\n      <td>618</td>\n      <td>618</td>\n      <td>56</td>\n      <td>617</td>\n      <td>618</td>\n      <td>618</td>\n      <td>618</td>\n      <td>617</td>\n      <td>618</td>\n      <td>618</td>\n      <td>618</td>\n      <td>618</td>\n      <td>618</td>\n      <td>618</td>\n    </tr>\n    <tr>\n      <th>2.0</th>\n      <td>1412</td>\n      <td>1412</td>\n      <td>1412</td>\n      <td>162</td>\n      <td>1390</td>\n      <td>1411</td>\n      <td>1412</td>\n      <td>1412</td>\n      <td>1412</td>\n      <td>1412</td>\n      <td>1412</td>\n      <td>1412</td>\n      <td>1412</td>\n      <td>1412</td>\n      <td>1412</td>\n    </tr>\n    <tr>\n      <th>3.0</th>\n      <td>5714</td>\n      <td>5714</td>\n      <td>5711</td>\n      <td>682</td>\n      <td>4670</td>\n      <td>5714</td>\n      <td>5714</td>\n      <td>5712</td>\n      <td>5712</td>\n      <td>5714</td>\n      <td>5714</td>\n      <td>5714</td>\n      <td>5714</td>\n      <td>5714</td>\n      <td>5714</td>\n    </tr>\n  </tbody>\n</table>\n</div>"
          },
          "metadata": {}
        }
      ]
    },
    {
      "metadata": {
        "_uuid": "c2f1eaf0b6dfdc7cc4dace04614e99ed56425d00"
      },
      "cell_type": "markdown",
      "source": "to print dataset **columns**, we can use columns atribute"
    },
    {
      "metadata": {
        "_uuid": "909d61b33ec06249d0842e6115597bbacf21163f",
        "trusted": true,
        "_kg_hide-input": true
      },
      "cell_type": "code",
      "source": "kernels.columns",
      "execution_count": 28,
      "outputs": [
        {
          "output_type": "execute_result",
          "execution_count": 28,
          "data": {
            "text/plain": "Index(['Id', 'AuthorUserId', 'CurrentKernelVersionId',\n       'ForkParentKernelVersionId', 'ForumTopicId', 'FirstKernelVersionId',\n       'CreationDate', 'EvaluationDate', 'MadePublicDate',\n       'IsProjectLanguageTemplate', 'CurrentUrlSlug', 'Medal',\n       'MedalAwardDate', 'TotalViews', 'TotalComments', 'TotalVotes'],\n      dtype='object')"
          },
          "metadata": {}
        }
      ]
    },
    {
      "metadata": {
        "trusted": true,
        "_uuid": "62b52ea61cfa597007bd31652c7f03778233227c",
        "_kg_hide-input": true
      },
      "cell_type": "code",
      "source": "users.columns",
      "execution_count": 29,
      "outputs": [
        {
          "output_type": "execute_result",
          "execution_count": 29,
          "data": {
            "text/plain": "Index(['Id', 'UserName', 'DisplayName', 'RegisterDate', 'PerformanceTier'], dtype='object')"
          },
          "metadata": {}
        }
      ]
    },
    {
      "metadata": {
        "_uuid": "22bc5d81c18275ee1fb082c0adbb7a65bdbec4cc"
      },
      "cell_type": "markdown",
      "source": "**<< Note 2 >>**\nin pandas's data frame you can perform some query such as \"where\""
    },
    {
      "metadata": {
        "_uuid": "ff69b963b60e8ff77acae02850885c7e90358129"
      },
      "cell_type": "markdown",
      "source": " <a id=\"10\"></a> <br>\n## 3-2-1 Find yourself in Users datset"
    },
    {
      "metadata": {
        "trusted": true,
        "_uuid": "1e36488451f22350bc2c655bfdd2b50803540b87",
        "_kg_hide-input": true
      },
      "cell_type": "code",
      "source": "users[users['Id']==userid]",
      "execution_count": 30,
      "outputs": [
        {
          "output_type": "execute_result",
          "execution_count": 30,
          "data": {
            "text/plain": "              Id   UserName       ...       RegisterDate PerformanceTier\n1682206  1840354  mjbahmani       ...          4/20/2018               2\n\n[1 rows x 5 columns]",
            "text/html": "<div>\n<style scoped>\n    .dataframe tbody tr th:only-of-type {\n        vertical-align: middle;\n    }\n\n    .dataframe tbody tr th {\n        vertical-align: top;\n    }\n\n    .dataframe thead th {\n        text-align: right;\n    }\n</style>\n<table border=\"1\" class=\"dataframe\">\n  <thead>\n    <tr style=\"text-align: right;\">\n      <th></th>\n      <th>Id</th>\n      <th>UserName</th>\n      <th>DisplayName</th>\n      <th>RegisterDate</th>\n      <th>PerformanceTier</th>\n    </tr>\n  </thead>\n  <tbody>\n    <tr>\n      <th>1682206</th>\n      <td>1840354</td>\n      <td>mjbahmani</td>\n      <td>MJ Bahmani</td>\n      <td>4/20/2018</td>\n      <td>2</td>\n    </tr>\n  </tbody>\n</table>\n</div>"
          },
          "metadata": {}
        }
      ]
    },
    {
      "metadata": {
        "_uuid": "33fc33a18489b438a884819d99dc00a02b113be8"
      },
      "cell_type": "markdown",
      "source": " <a id=\"11\"></a> <br>\n## 3-2-2 Find your kernels in Kernels dataset"
    },
    {
      "metadata": {
        "trusted": true,
        "_uuid": "aa877c667451c76a052808964bbf8eb5991b39e0",
        "_kg_hide-input": true
      },
      "cell_type": "code",
      "source": "yourkernels=kernels[kernels['AuthorUserId']==userid]\nyourkernels",
      "execution_count": 31,
      "outputs": [
        {
          "output_type": "execute_result",
          "execution_count": 31,
          "data": {
            "text/plain": "             Id  AuthorUserId     ...      TotalComments  TotalVotes\n190395  1594170       1840354     ...                111         351\n194813  1778622       1840354     ...                 85         203\n195366  1791166       1840354     ...                 49          95\n197589  1847773       1840354     ...                 35          75\n197693  1808203       1840354     ...                 25         170\n198655  1875944       1840354     ...                 16          63\n200844  1903816       1840354     ...                 33          90\n201238  1919205       1840354     ...                  3          11\n201644  1890271       1840354     ...                 73         296\n203234  2000640       1840354     ...                  7           7\n204531  2077545       1840354     ...                  9          20\n\n[11 rows x 16 columns]",
            "text/html": "<div>\n<style scoped>\n    .dataframe tbody tr th:only-of-type {\n        vertical-align: middle;\n    }\n\n    .dataframe tbody tr th {\n        vertical-align: top;\n    }\n\n    .dataframe thead th {\n        text-align: right;\n    }\n</style>\n<table border=\"1\" class=\"dataframe\">\n  <thead>\n    <tr style=\"text-align: right;\">\n      <th></th>\n      <th>Id</th>\n      <th>AuthorUserId</th>\n      <th>CurrentKernelVersionId</th>\n      <th>ForkParentKernelVersionId</th>\n      <th>ForumTopicId</th>\n      <th>FirstKernelVersionId</th>\n      <th>CreationDate</th>\n      <th>EvaluationDate</th>\n      <th>MadePublicDate</th>\n      <th>IsProjectLanguageTemplate</th>\n      <th>CurrentUrlSlug</th>\n      <th>Medal</th>\n      <th>MedalAwardDate</th>\n      <th>TotalViews</th>\n      <th>TotalComments</th>\n      <th>TotalVotes</th>\n    </tr>\n  </thead>\n  <tbody>\n    <tr>\n      <th>190395</th>\n      <td>1594170</td>\n      <td>1840354</td>\n      <td>7342050.0</td>\n      <td>NaN</td>\n      <td>66867.0</td>\n      <td>5559571.0</td>\n      <td>9/7/2018 7:43:29 AM</td>\n      <td>11/13/2018</td>\n      <td>9/25/2018</td>\n      <td>False</td>\n      <td>a-comprehensive-ml-workflow-with-python</td>\n      <td>1.0</td>\n      <td>10/13/2018</td>\n      <td>13510</td>\n      <td>111</td>\n      <td>351</td>\n    </tr>\n    <tr>\n      <th>194813</th>\n      <td>1778622</td>\n      <td>1840354</td>\n      <td>7581252.0</td>\n      <td>NaN</td>\n      <td>68065.0</td>\n      <td>6312298.0</td>\n      <td>10/2/2018 1:20:23 PM</td>\n      <td>11/20/2018</td>\n      <td>10/9/2018</td>\n      <td>False</td>\n      <td>10-steps-to-become-a-data-scientist</td>\n      <td>1.0</td>\n      <td>11/15/2018</td>\n      <td>8752</td>\n      <td>85</td>\n      <td>203</td>\n    </tr>\n    <tr>\n      <th>195366</th>\n      <td>1791166</td>\n      <td>1840354</td>\n      <td>6847029.0</td>\n      <td>6153549.0</td>\n      <td>67864.0</td>\n      <td>6248131.0</td>\n      <td>10/4/2018 3:10:02 AM</td>\n      <td>10/27/2018</td>\n      <td>10/6/2018</td>\n      <td>False</td>\n      <td>machine-learning-workflow-for-house-prices</td>\n      <td>2.0</td>\n      <td>10/26/2018</td>\n      <td>5519</td>\n      <td>49</td>\n      <td>95</td>\n    </tr>\n    <tr>\n      <th>197589</th>\n      <td>1847773</td>\n      <td>1840354</td>\n      <td>7288913.0</td>\n      <td>NaN</td>\n      <td>68412.0</td>\n      <td>6412791.0</td>\n      <td>10/11/2018 9:26:49 AM</td>\n      <td>11/11/2018</td>\n      <td>10/12/2018</td>\n      <td>False</td>\n      <td>top-5-deep-learning-frameworks-tutorial</td>\n      <td>2.0</td>\n      <td>11/12/2018</td>\n      <td>3791</td>\n      <td>35</td>\n      <td>75</td>\n    </tr>\n    <tr>\n      <th>197693</th>\n      <td>1808203</td>\n      <td>1840354</td>\n      <td>7584776.0</td>\n      <td>NaN</td>\n      <td>67862.0</td>\n      <td>6247406.0</td>\n      <td>10/6/2018 12:31:03 PM</td>\n      <td>11/20/2018</td>\n      <td>10/6/2018</td>\n      <td>False</td>\n      <td>linear-algebra-for-data-scientists</td>\n      <td>1.0</td>\n      <td>11/21/2018</td>\n      <td>8490</td>\n      <td>25</td>\n      <td>170</td>\n    </tr>\n    <tr>\n      <th>198655</th>\n      <td>1875944</td>\n      <td>1840354</td>\n      <td>7636130.0</td>\n      <td>NaN</td>\n      <td>68625.0</td>\n      <td>6496124.0</td>\n      <td>10/15/2018 9:48:31 AM</td>\n      <td>11/23/2018</td>\n      <td>10/15/2018</td>\n      <td>False</td>\n      <td>the-data-scientist-s-toolbox-tutorial-2</td>\n      <td>2.0</td>\n      <td>11/22/2018</td>\n      <td>2100</td>\n      <td>16</td>\n      <td>63</td>\n    </tr>\n    <tr>\n      <th>200844</th>\n      <td>1903816</td>\n      <td>1840354</td>\n      <td>7072880.0</td>\n      <td>NaN</td>\n      <td>69114.0</td>\n      <td>6605349.0</td>\n      <td>10/18/2018 9:48:53 PM</td>\n      <td>11/4/2018</td>\n      <td>10/19/2018</td>\n      <td>False</td>\n      <td>20-ml-algorithms-from-start-to-finish</td>\n      <td>2.0</td>\n      <td>11/5/2018</td>\n      <td>3439</td>\n      <td>33</td>\n      <td>90</td>\n    </tr>\n    <tr>\n      <th>201238</th>\n      <td>1919205</td>\n      <td>1840354</td>\n      <td>7672737.0</td>\n      <td>NaN</td>\n      <td>69251.0</td>\n      <td>6678798.0</td>\n      <td>10/21/2018 10:18:38 AM</td>\n      <td>11/23/2018</td>\n      <td>10/21/2018</td>\n      <td>False</td>\n      <td>exploratory-data-analysis-pipeline</td>\n      <td>3.0</td>\n      <td>11/19/2018</td>\n      <td>211</td>\n      <td>3</td>\n      <td>11</td>\n    </tr>\n    <tr>\n      <th>201644</th>\n      <td>1890271</td>\n      <td>1840354</td>\n      <td>7547420.0</td>\n      <td>NaN</td>\n      <td>68827.0</td>\n      <td>6552283.0</td>\n      <td>10/17/2018 6:15:22 AM</td>\n      <td>11/19/2018</td>\n      <td>10/17/2018</td>\n      <td>False</td>\n      <td>the-data-scientist-s-toolbox-tutorial-1</td>\n      <td>1.0</td>\n      <td>11/15/2018</td>\n      <td>13204</td>\n      <td>73</td>\n      <td>296</td>\n    </tr>\n    <tr>\n      <th>203234</th>\n      <td>2000640</td>\n      <td>1840354</td>\n      <td>7072438.0</td>\n      <td>NaN</td>\n      <td>70330.0</td>\n      <td>6998053.0</td>\n      <td>11/1/2018 8:05:02 AM</td>\n      <td>11/4/2018</td>\n      <td>11/1/2018</td>\n      <td>False</td>\n      <td>tutorial-on-ensemble-learning</td>\n      <td>NaN</td>\n      <td>NaN</td>\n      <td>449</td>\n      <td>7</td>\n      <td>7</td>\n    </tr>\n    <tr>\n      <th>204531</th>\n      <td>2077545</td>\n      <td>1840354</td>\n      <td>7543653.0</td>\n      <td>NaN</td>\n      <td>71614.0</td>\n      <td>7390080.0</td>\n      <td>11/11/2018 9:33:05 PM</td>\n      <td>11/23/2018</td>\n      <td>11/14/2018</td>\n      <td>False</td>\n      <td>a-data-science-framework-for-quora</td>\n      <td>3.0</td>\n      <td>11/15/2018</td>\n      <td>676</td>\n      <td>9</td>\n      <td>20</td>\n    </tr>\n  </tbody>\n</table>\n</div>"
          },
          "metadata": {}
        }
      ]
    },
    {
      "metadata": {
        "_uuid": "5fb860dc8bb6bc8feba55df8936f05a3f139115f"
      },
      "cell_type": "markdown",
      "source": "<a id=\"12\"></a> <br>\n## 3-4 Data Preprocessing\n**Data preprocessing** refers to the transformations applied to our data before feeding it to the algorithm.\n \nData Preprocessing is a technique that is used to convert the raw data into a clean data set. In other words, whenever the data is gathered from different sources it is collected in raw format which is not feasible for the analysis.\nthere are plenty of steps for data preprocessing and we just listed some of them in general(Not just for Quora) :\n* removing Target column (id)\n* Sampling (without replacement)\n* Making part of iris unbalanced and balancing (with undersampling and SMOTE)\n* Introducing missing values and treating them (replacing by average values)\n* Noise filtering\n* Data discretization\n* Normalization and standardization\n* PCA analysis\n* Feature selection (filter, embedded, wrapper)\n###### [Go to top](#top)"
    },
    {
      "metadata": {
        "_uuid": "aa882e5bcdc7d5f440489eff75d1d225269655a4"
      },
      "cell_type": "markdown",
      "source": "**<< Note >>**\n>**Preprocessing and generation pipelines depend on a model type**"
    },
    {
      "metadata": {
        "_uuid": "055772bd170aa8018aabd85106b76675802c33b3"
      },
      "cell_type": "markdown",
      "source": "<a id=\"13\"></a> <br>\n## 3-4 Visualization\n**Data visualization**  is the presentation of data in a pictorial or graphical format. It enables decision makers to see analytics presented visually, so they can grasp difficult concepts or identify new patterns.\n\nWith interactive visualization, you can take the concept a step further by using technology to drill down into charts and graphs for more detail, interactively changing what data you see and how it’s processed.[SAS]\n\n In this section I show you  **11 plots** with **matplotlib** and **seaborn** that is listed in the blew picture:\n <img src=\"http://s8.picofile.com/file/8338475500/visualization.jpg\" />\n"
    },
    {
      "metadata": {
        "_uuid": "b0014a7a52e714996bc443981c853095926d20e5"
      },
      "cell_type": "markdown",
      "source": "<a id=\"14\"></a> <br>\n## 3-4-1  Scatter plot\n\nScatter plot Purpose To identify the type of relationship (if any) between two quantitative variables\n\n\n"
    },
    {
      "metadata": {
        "trusted": true,
        "_uuid": "8f35fd1761bec3516ad6940f88e916dfb67dfda0"
      },
      "cell_type": "code",
      "source": "yourkernels.columns",
      "execution_count": 32,
      "outputs": [
        {
          "output_type": "execute_result",
          "execution_count": 32,
          "data": {
            "text/plain": "Index(['Id', 'AuthorUserId', 'CurrentKernelVersionId',\n       'ForkParentKernelVersionId', 'ForumTopicId', 'FirstKernelVersionId',\n       'CreationDate', 'EvaluationDate', 'MadePublicDate',\n       'IsProjectLanguageTemplate', 'CurrentUrlSlug', 'Medal',\n       'MedalAwardDate', 'TotalViews', 'TotalComments', 'TotalVotes'],\n      dtype='object')"
          },
          "metadata": {}
        }
      ]
    },
    {
      "metadata": {
        "_uuid": "af099546eed64ebc796403d4139cb4c977c27b03",
        "trusted": true,
        "_kg_hide-input": true
      },
      "cell_type": "code",
      "source": "# Modify the graph above by assigning each species an individual color.\nx=yourkernels[\"TotalVotes\"]\ny=yourkernels[\"TotalViews\"]\nplt.scatter(x, y)\nplt.legend()\nplt.show()\n",
      "execution_count": 33,
      "outputs": [
        {
          "output_type": "display_data",
          "data": {
            "text/plain": "<Figure size 432x288 with 1 Axes>",
            "image/png": "[encoded data removed]"
          },
          "metadata": {}
        }
      ]
    },
    {
      "metadata": {
        "trusted": true,
        "_uuid": "1b31a7c185ee654c31ff5b062d111bcefa205966",
        "_kg_hide-input": true
      },
      "cell_type": "code",
      "source": "f,ax=plt.subplots(1,2,figsize=(18,8))\nyourkernels['Medal'].value_counts().plot.bar(color=['#CD7F32','#FFDF00','#D3D3D3'],ax=ax[0])\nax[0].set_title('Number Of Medal')\nax[0].set_ylabel('Count')\nplt.show()",
      "execution_count": 34,
      "outputs": [
        {
          "output_type": "display_data",
          "data": {
            "text/plain": "<Figure size 1296x576 with 2 Axes>",
            "image/png": "[encoded data removed]"
          },
          "metadata": {}
        }
      ]
    },
    {
      "metadata": {
        "_uuid": "d1c7b62b5f8cba427bca13049256365141655372"
      },
      "cell_type": "markdown",
      "source": "<a id=\"15\"></a> <br>\n### 3-4-2 Box\nIn descriptive statistics, a **box plot** or boxplot is a method for graphically depicting groups of numerical data through their quartiles. Box plots may also have lines extending vertically from the boxes (whiskers) indicating variability outside the upper and lower quartiles, hence the terms box-and-whisker plot and box-and-whisker diagram.[wikipedia]"
    },
    {
      "metadata": {
        "_uuid": "0655e20f31a582f861d391308a088778cd7eaae9",
        "trusted": true,
        "_kg_hide-input": true
      },
      "cell_type": "code",
      "source": "yourkernels[\"TotalVotes\"].plot(kind='box')\nplt.figure()\n#This gives us a much clearer idea of the distribution of the input attributes:\n\n",
      "execution_count": 35,
      "outputs": [
        {
          "output_type": "execute_result",
          "execution_count": 35,
          "data": {
            "text/plain": "<Figure size 432x288 with 0 Axes>"
          },
          "metadata": {}
        },
        {
          "output_type": "display_data",
          "data": {
            "text/plain": "<Figure size 432x288 with 1 Axes>",
            "image/png": "[encoded data removed]"
          },
          "metadata": {}
        },
        {
          "output_type": "display_data",
          "data": {
            "text/plain": "<Figure size 432x288 with 0 Axes>"
          },
          "metadata": {}
        }
      ]
    },
    {
      "metadata": {
        "trusted": true,
        "_uuid": "81b8d70c5d8b2d024337d989ec1e204b612f676d"
      },
      "cell_type": "code",
      "source": "yourkernels[\"TotalComments\"].plot(kind='box')\nplt.figure()\n",
      "execution_count": 36,
      "outputs": [
        {
          "output_type": "execute_result",
          "execution_count": 36,
          "data": {
            "text/plain": "<Figure size 432x288 with 0 Axes>"
          },
          "metadata": {}
        },
        {
          "output_type": "display_data",
          "data": {
            "text/plain": "<Figure size 432x288 with 1 Axes>",
            "image/png": "[encoded data removed]"
          },
          "metadata": {}
        },
        {
          "output_type": "display_data",
          "data": {
            "text/plain": "<Figure size 432x288 with 0 Axes>"
          },
          "metadata": {}
        }
      ]
    },
    {
      "metadata": {
        "_uuid": "f7f6426fd44bcd77d35a5fdbc8c4fc4f18d991ad",
        "trusted": true,
        "_kg_hide-input": true
      },
      "cell_type": "code",
      "source": "# To plot the species data using a box plot:\n\nsns.boxplot(x=\"TotalComments\", y=\"TotalVotes\", data=yourkernels )\nplt.show()",
      "execution_count": 37,
      "outputs": [
        {
          "output_type": "display_data",
          "data": {
            "text/plain": "<Figure size 432x288 with 1 Axes>",
            "image/png": "[encoded data removed]"
          },
          "metadata": {}
        }
      ]
    },
    {
      "metadata": {
        "_uuid": "7b193e4aa7e6fb337d3f65c334849094addd097a",
        "trusted": true,
        "_kg_hide-input": true
      },
      "cell_type": "code",
      "source": "# Use Seaborn's striplot to add data points on top of the box plot \n# Insert jitter=True so that the data points remain scattered and not piled into a verticle line.\n# Assign ax to each axis, so that each plot is ontop of the previous axis. \n\nax= sns.boxplot(x=\"TotalViews\", y=\"TotalVotes\", data=yourkernels)\nax= sns.stripplot(x=\"TotalViews\", y=\"TotalVotes\", data=yourkernels, jitter=True, edgecolor=\"gray\")\nplt.show()",
      "execution_count": 38,
      "outputs": [
        {
          "output_type": "display_data",
          "data": {
            "text/plain": "<Figure size 432x288 with 1 Axes>",
            "image/png": "[encoded data removed]"
          },
          "metadata": {}
        }
      ]
    },
    {
      "metadata": {
        "_uuid": "56adbafa89c117118621c72b3b7cb19edc21298e",
        "trusted": true,
        "_kg_hide-input": true
      },
      "cell_type": "code",
      "source": "# Tweek the plot above to change fill and border color color using ax.artists.\n# Assing ax.artists a variable name, and insert the box number into the corresponding brackets\n\nax= sns.boxplot(x=\"TotalViews\", y=\"TotalVotes\", data=yourkernels)\nax= sns.stripplot(x=\"TotalViews\", y=\"TotalVotes\", data=yourkernels, jitter=True, edgecolor=\"gray\")\n\nboxtwo = ax.artists[2]\nboxtwo.set_facecolor('red')\nboxtwo.set_edgecolor('black')\nboxthree=ax.artists[1]\nboxthree.set_facecolor('yellow')\nboxthree.set_edgecolor('black')\n\nplt.show()",
      "execution_count": 39,
      "outputs": [
        {
          "output_type": "display_data",
          "data": {
            "text/plain": "<Figure size 432x288 with 1 Axes>",
            "image/png": "[encoded data removed]"
          },
          "metadata": {}
        }
      ]
    },
    {
      "metadata": {
        "trusted": true,
        "_uuid": "40c9ab245695d47cb33eda65a0d637de390f9e59",
        "_kg_hide-input": true
      },
      "cell_type": "code",
      "source": "sns.factorplot('TotalViews','TotalVotes',hue='Medal',data=yourkernels)\nplt.show()",
      "execution_count": 40,
      "outputs": [
        {
          "output_type": "display_data",
          "data": {
            "text/plain": "<Figure size 416.975x360 with 1 Axes>",
            "image/png": "[encoded data removed]"
          },
          "metadata": {}
        }
      ]
    },
    {
      "metadata": {
        "trusted": true,
        "_uuid": "c73a82a05855195ac32dedb3056e84355e273b0f"
      },
      "cell_type": "code",
      "source": "sns.factorplot('TotalComments','TotalVotes',hue='Medal',data=yourkernels)\nplt.show()",
      "execution_count": 41,
      "outputs": [
        {
          "output_type": "display_data",
          "data": {
            "text/plain": "<Figure size 416.975x360 with 1 Axes>",
            "image/png": "[encoded data removed]"
          },
          "metadata": {}
        }
      ]
    },
    {
      "metadata": {
        "_uuid": "743a92c3c2fff1a1f99845518247f7971ad18b7c"
      },
      "cell_type": "markdown",
      "source": "<a id=\"16\"></a> <br>\n### 3-4-3 Histogram\nWe can also create a **histogram** of each input variable to get an idea of the distribution.\n\n"
    },
    {
      "metadata": {
        "_uuid": "5da0520ed3e738ee8814b2d91843ed4acec2b6e6",
        "trusted": true,
        "_kg_hide-input": true
      },
      "cell_type": "code",
      "source": "# histograms\nyourkernels.hist(figsize=(15,20))\nplt.figure()",
      "execution_count": null,
      "outputs": [
        {
          "output_type": "execute_result",
          "execution_count": 42,
          "data": {
            "text/plain": "<Figure size 432x288 with 0 Axes>"
          },
          "metadata": {}
        }
      ]
    },
    {
      "metadata": {
        "_uuid": "b4e3de19781686010c6038f0e3076eb678398169"
      },
      "cell_type": "markdown",
      "source": "It looks like perhaps two of the input variables have a Gaussian distribution. This is useful to note as we can use algorithms that can exploit this assumption.\n\n"
    },
    {
      "metadata": {
        "_uuid": "9f80a6e971cbf0af72d659b51af552ea1dddc9a8",
        "trusted": true,
        "_kg_hide-input": true
      },
      "cell_type": "code",
      "source": "yourkernels[\"TotalViews\"].hist();",
      "execution_count": null,
      "outputs": []
    },
    {
      "metadata": {
        "trusted": true,
        "_uuid": "1173ef1b6ca75e28f94a891880294d1765b022ea"
      },
      "cell_type": "code",
      "source": "yourkernels[\"TotalComments\"].hist();",
      "execution_count": null,
      "outputs": []
    },
    {
      "metadata": {
        "trusted": true,
        "_uuid": "5d8ef0781d88c46a8becf6d7f5b1f4ad2c05db7e",
        "_kg_hide-input": true
      },
      "cell_type": "code",
      "source": "sns.factorplot('TotalViews','TotalVotes',data=yourkernels)\nplt.show()",
      "execution_count": null,
      "outputs": []
    },
    {
      "metadata": {
        "trusted": true,
        "_uuid": "15e2743389cb58055ee5bb9dd9b829fb85850af2"
      },
      "cell_type": "code",
      "source": "sns.factorplot('TotalComments','TotalVotes',data=yourkernels)\nplt.show()",
      "execution_count": null,
      "outputs": []
    },
    {
      "metadata": {
        "_uuid": "e0f696ec021ec99c1058a62e22c8b73082fe6fa7"
      },
      "cell_type": "markdown",
      "source": "<a id=\"17\"></a> <br>\n### 3-4-5 violinplots"
    },
    {
      "metadata": {
        "_uuid": "e352d2f8340609adf4bf6718b1d2ecee0fa730b5",
        "trusted": true,
        "_kg_hide-input": true
      },
      "cell_type": "code",
      "source": "# violinplots on petal-length for each species\nsns.violinplot(data=yourkernels,x=\"TotalViews\", y=\"TotalVotes\")",
      "execution_count": null,
      "outputs": []
    },
    {
      "metadata": {
        "trusted": true,
        "_uuid": "82d42d69a63f9dacf41dad5bfb1b7908cefc2633"
      },
      "cell_type": "code",
      "source": "# violinplots on petal-length for each species\nsns.violinplot(data=yourkernels,x=\"TotalComments\", y=\"TotalVotes\")",
      "execution_count": null,
      "outputs": []
    },
    {
      "metadata": {
        "trusted": true,
        "_uuid": "363b3e9509d5e3ba157c0b5f319d2585c58ee28f"
      },
      "cell_type": "code",
      "source": "sns.violinplot(data=yourkernels,x=\"Medal\", y=\"TotalVotes\")",
      "execution_count": null,
      "outputs": []
    },
    {
      "metadata": {
        "trusted": true,
        "_uuid": "c67af4ad8d452f8e9f929e8a3284de675e3fd0d9"
      },
      "cell_type": "code",
      "source": "sns.violinplot(data=yourkernels,x=\"Medal\", y=\"TotalComments\")",
      "execution_count": null,
      "outputs": []
    },
    {
      "metadata": {
        "_uuid": "a6315bf510cecb907b2d23aad25faf6ccad32ac4"
      },
      "cell_type": "markdown",
      "source": "how many NA elements in every column\n"
    },
    {
      "metadata": {
        "_uuid": "2544d3c2dd34a360d295019d8cb597c7ef8f66bc"
      },
      "cell_type": "markdown",
      "source": "<a id=\"18\"></a> <br>\n###  3-6-7 kdeplot"
    },
    {
      "metadata": {
        "_uuid": "1d07222b89303b386e9e824d52cc73c045667f25",
        "trusted": true,
        "_kg_hide-input": true
      },
      "cell_type": "code",
      "source": "# seaborn's kdeplot, plots univariate or bivariate density estimates.\n#Size can be changed by tweeking the value used\nsns.FacetGrid(yourkernels, hue=\"Medal\", size=5).map(sns.kdeplot, \"TotalComments\").add_legend()\nplt.show()",
      "execution_count": null,
      "outputs": []
    },
    {
      "metadata": {
        "trusted": true,
        "_uuid": "3662003d5cb728d91c71e339cc7d6feba17b495f"
      },
      "cell_type": "code",
      "source": "sns.FacetGrid(yourkernels, hue=\"Medal\", size=5).map(sns.kdeplot, \"TotalVotes\").add_legend()\nplt.show()",
      "execution_count": null,
      "outputs": []
    },
    {
      "metadata": {
        "trusted": true,
        "_uuid": "06e1259b209e753c2f05643706d6157145bb3b98",
        "_kg_hide-input": true
      },
      "cell_type": "code",
      "source": "f,ax=plt.subplots(1,3,figsize=(20,8))\nsns.distplot(yourkernels[yourkernels['Medal']==1].TotalVotes,ax=ax[0])\nax[0].set_title('TotalVotes in Medal 1')\nsns.distplot(yourkernels[yourkernels['Medal']==2].TotalVotes,ax=ax[1])\nax[1].set_title('TotalVotes in Medal 2')\nsns.distplot(yourkernels[yourkernels['Medal']==3].TotalVotes,ax=ax[2])\nax[2].set_title('TotalVotes in Medal 3')\nplt.show()",
      "execution_count": null,
      "outputs": []
    },
    {
      "metadata": {
        "_uuid": "560d8e8f17bacefaf8c3855a9648f26b82fdee9b"
      },
      "cell_type": "markdown",
      "source": "<a id=\"19\"></a> <br>\n### 3-4-8 jointplot"
    },
    {
      "metadata": {
        "_uuid": "4adb4da16ea61e0f1a12bc9925dfbbaaa81e0360",
        "trusted": true,
        "_kg_hide-input": true
      },
      "cell_type": "code",
      "source": "# Use seaborn's jointplot to make a hexagonal bin plot\n#Set desired size and ratio and choose a color.\nsns.jointplot(x=\"TotalVotes\", y=\"TotalViews\", data=yourkernels, size=10,ratio=10, kind='hex',color='green')\nplt.show()",
      "execution_count": null,
      "outputs": []
    },
    {
      "metadata": {
        "_uuid": "3768e31e990bfe4c2ff7b45087fbba85e0560d00"
      },
      "cell_type": "markdown",
      "source": "<a id=\"20\"></a> <br>\n###  3-4-9 andrews_curves"
    },
    {
      "metadata": {
        "_uuid": "263eaa9d2bfad0f8c68b6e8e874bdc11a6e802ac",
        "trusted": true,
        "_kg_hide-input": true
      },
      "cell_type": "code",
      "source": "# we will use seaborn jointplot shows bivariate scatterplots and univariate histograms with Kernel density \n# estimation in the same figure\nsns.jointplot(x=\"TotalVotes\", y=\"TotalViews\", data=yourkernels, size=6, kind='kde', color='#800000', space=0)",
      "execution_count": null,
      "outputs": []
    },
    {
      "metadata": {
        "_uuid": "8e73333289d17dd648b7b2112d7fe3fe7ea444d0"
      },
      "cell_type": "markdown",
      "source": "<a id=\"21\"></a> <br>\n### 3-4-10 Heatmap"
    },
    {
      "metadata": {
        "_uuid": "3100955ca9dc61ac7d435e9c064d10d06f26afa7",
        "trusted": true,
        "_kg_hide-input": true
      },
      "cell_type": "code",
      "source": "plt.figure(figsize=(10,7)) \nsns.heatmap(yourkernels.corr(),annot=True,cmap='cubehelix_r') #draws  heatmap with input as the correlation matrix calculted by(iris.corr())\nplt.show()",
      "execution_count": null,
      "outputs": []
    },
    {
      "metadata": {
        "_uuid": "6ac924245735f2f63dc95f4a60039cbc4b5f9f0a"
      },
      "cell_type": "markdown",
      "source": "<a id=\"22\"></a> <br>\n## 3-4-11 WordCloud\nMany times you might have seen a cloud filled with lots of words in different sizes, which represent the frequency or the importance of each word. This is called Tag Cloud or WordCloud."
    },
    {
      "metadata": {
        "trusted": true,
        "_uuid": "d405a5c758a63d38f92124a790e3083715224f39"
      },
      "cell_type": "code",
      "source": "from wordcloud import WordCloud as wc\nfrom nltk.corpus import stopwords\neng_stopwords = set(stopwords.words(\"english\"))\nmessages.head(1)",
      "execution_count": null,
      "outputs": []
    },
    {
      "metadata": {
        "trusted": true,
        "_uuid": "2d794c89a475349868f82690878ed934ec05fd81"
      },
      "cell_type": "code",
      "source": "def generate_wordcloud(text): \n    wordcloud = wc(relative_scaling = 1.0,stopwords = eng_stopwords).generate(text)\n    fig,ax = plt.subplots(1,1,figsize=(10,10))\n    ax.imshow(wordcloud, interpolation='bilinear')\n    ax.axis(\"off\")\n    ax.margins(x=0, y=0)\n    plt.show()",
      "execution_count": null,
      "outputs": []
    },
    {
      "metadata": {
        "trusted": true,
        "_uuid": "037cd661617de8b3470ade47ac212a31b12e6e1e"
      },
      "cell_type": "code",
      "source": "text=','.join(str(v) for v in messages['Message'])\n#text =\" \".join(messages['Message'])\ngenerate_wordcloud(text)",
      "execution_count": null,
      "outputs": []
    },
    {
      "metadata": {
        "_uuid": "6caa0f9d20a055caebf9a2269c2081b052858806"
      },
      "cell_type": "markdown",
      "source": "<a id=\"23\"></a> <br>\n# 5- conclusion\nExploratory data analysis (**EDA**) is an approach to analyzing data sets to summarize their main **characteristics**, often with visual methods. A statistical model can be used or not, but primarily EDA is for seeing what the data can tell us beyond the formal modeling or hypothesis testing task.\nThis kernel it is not completed yet! Following up!\n###### [Go to top](#top)"
    },
    {
      "metadata": {
        "_uuid": "cf3679a51c72dbe2d2549b5fe97e4ac5f1fa0fa0"
      },
      "cell_type": "markdown",
      "source": "you can follow me on:\n\n> ###### [ GitHub](https://github.com/mjbahmani/10-steps-to-become-a-data-scientist)\n\n--------------------------------------\n\n **I hope you find this kernel helpful and some <font color=\"red\"><b>UPVOTES</b></font> would be very much appreciated** "
    },
    {
      "metadata": {
        "_uuid": "5590d9817e38722f88c9924517a591d43dfaf4ba"
      },
      "cell_type": "markdown",
      "source": "<a id=\"24\"></a> <br>\n# 6- References\n1. [Coursera](https://www.coursera.org/specializations/data-science-python)\n1. [GitHub](https://github.com/mjbahmani)\n<br>\n<br>\n[Go to top](#top)"
    },
    {
      "metadata": {
        "_uuid": "72e1e18935b372b6aac2fae910e5bd12de1d420f"
      },
      "cell_type": "markdown",
      "source": "#### This kernel is not completed yet and will be updated soon  !!!"
    }
  ],
  "metadata": {
    "kernelspec": {
      "display_name": "Python 3",
      "language": "python",
      "name": "python3"
    },
    "language_info": {
      "name": "python",
      "version": "3.6.6",
      "mimetype": "text/x-python",
      "codemirror_mode": {
        "name": "ipython",
        "version": 3
      },
      "pygments_lexer": "ipython3",
      "nbconvert_exporter": "python",
      "file_extension": ".py"
    }
  },
  "nbformat": 4,
  "nbformat_minor": 1
}