{
 "cells": [
  {
   "cell_type": "markdown",
   "metadata": {},
   "source": [
    "### مثال پورت پایتون"
   ]
  },
  {
   "cell_type": "code",
   "execution_count": null,
   "metadata": {},
   "outputs": [
    {
     "name": "stdout",
     "output_type": "stream",
     "text": [
      "Serving HTTP on port 8989...\n",
      "GET / HTTP/1.1\n",
      "Host: localhost:8989\n",
      "Connection: keep-alive\n",
      "Upgrade-Insecure-Requests: 1\n",
      "User-Agent: Mozilla/5.0 (X11; Linux x86_64) AppleWebKit/537.36 (KHTML, like Gecko) Chrome/59.0.3071.104 Safari/537.36\n",
      "Accept: text/html,application/xhtml+xml,application/xml;q=0.9,image/webp,image/apng,*/*;q=0.8\n",
      "Accept-Encoding: gzip, deflate, br\n",
      "Accept-Language: en-US,en;q=0.8,fa;q=0.6\n",
      "Cookie: remember_web_59ba36addc2b2f9401580f014c7f58ea4e30989d=eyJpdiI6IjZVenptdVBxM2tPc0QybHRQUVwvbE5nPT0iLCJ2YWx1ZSI6IitqS1N0XC92UVwvT0hrbmxNc25jbk01b2NQTks2b2tXWHpjR0tTOWFEZzJlb2VuQk92b2V2MWl4d3pJcnRPOGFVSzd3d1N3VlwvTnlWZDZKZGVWVHE0UmFwY0hQMjNmSVZyM0hXbVVQbk5MZDlLblROODJ5b0l2WHpmaVRFYVVOXC81MTVYRGI3MlVhNFdzN01JM09ZSFBWa2Zpd0l1MnpRNVVSaUNZT2pPajExXC9zdXBqczVua1dDU0pkcm5oZ3JvWTZBIiwibWFjIjoiNTI0NjQ0Mzc2OGUwNzk0YzExYTFhNGQzZTM2NDE1MzA1YTJiMWJlYmUyMTc1Zjg5ZWQ5NDhmYTFlMjE5NjhiOCJ9; _xsrf=2|2ad1fd93|57d9e92783bf8db87f345fed7a824c5c|1568487873; username-localhost-8888=\"2|1:0|10:1570178896|23:username-localhost-8888|44:Y2ZiNTgxNDA1M2QzNGE\n",
      "GET / HTTP/1.1\n",
      "Host: localhost:8989\n",
      "Connection: keep-alive\n",
      "Upgrade-Insecure-Requests: 1\n",
      "User-Agent: Mozilla/5.0 (X11; Linux x86_64) AppleWebKit/537.36 (KHTML, like Gecko) Chrome/59.0.3071.104 Safari/537.36\n",
      "Accept: text/html,application/xhtml+xml,application/xml;q=0.9,image/webp,image/apng,*/*;q=0.8\n",
      "Accept-Encoding: gzip, deflate, br\n",
      "Accept-Language: en-US,en;q=0.8,fa;q=0.6\n",
      "Cookie: remember_web_59ba36addc2b2f9401580f014c7f58ea4e30989d=eyJpdiI6IjZVenptdVBxM2tPc0QybHRQUVwvbE5nPT0iLCJ2YWx1ZSI6IitqS1N0XC92UVwvT0hrbmxNc25jbk01b2NQTks2b2tXWHpjR0tTOWFEZzJlb2VuQk92b2V2MWl4d3pJcnRPOGFVSzd3d1N3VlwvTnlWZDZKZGVWVHE0UmFwY0hQMjNmSVZyM0hXbVVQbk5MZDlLblROODJ5b0l2WHpmaVRFYVVOXC81MTVYRGI3MlVhNFdzN01JM09ZSFBWa2Zpd0l1MnpRNVVSaUNZT2pPajExXC9zdXBqczVua1dDU0pkcm5oZ3JvWTZBIiwibWFjIjoiNTI0NjQ0Mzc2OGUwNzk0YzExYTFhNGQzZTM2NDE1MzA1YTJiMWJlYmUyMTc1Zjg5ZWQ5NDhmYTFlMjE5NjhiOCJ9; _xsrf=2|2ad1fd93|57d9e92783bf8db87f345fed7a824c5c|1568487873; username-localhost-8888=\"2|1:0|10:1570178896|23:username-localhost-8888|44:Y2ZiNTgxNDA1M2QzNGE\n",
      "GET / HTTP/1.1\n",
      "Host: localhost:8989\n",
      "Connection: keep-alive\n",
      "Upgrade-Insecure-Requests: 1\n",
      "User-Agent: Mozilla/5.0 (X11; Linux x86_64) AppleWebKit/537.36 (KHTML, like Gecko) Chrome/59.0.3071.104 Safari/537.36\n",
      "Accept: text/html,application/xhtml+xml,application/xml;q=0.9,image/webp,image/apng,*/*;q=0.8\n",
      "Accept-Encoding: gzip, deflate, br\n",
      "Accept-Language: en-US,en;q=0.8,fa;q=0.6\n",
      "Cookie: remember_web_59ba36addc2b2f9401580f014c7f58ea4e30989d=eyJpdiI6IjZVenptdVBxM2tPc0QybHRQUVwvbE5nPT0iLCJ2YWx1ZSI6IitqS1N0XC92UVwvT0hrbmxNc25jbk01b2NQTks2b2tXWHpjR0tTOWFEZzJlb2VuQk92b2V2MWl4d3pJcnRPOGFVSzd3d1N3VlwvTnlWZDZKZGVWVHE0UmFwY0hQMjNmSVZyM0hXbVVQbk5MZDlLblROODJ5b0l2WHpmaVRFYVVOXC81MTVYRGI3MlVhNFdzN01JM09ZSFBWa2Zpd0l1MnpRNVVSaUNZT2pPajExXC9zdXBqczVua1dDU0pkcm5oZ3JvWTZBIiwibWFjIjoiNTI0NjQ0Mzc2OGUwNzk0YzExYTFhNGQzZTM2NDE1MzA1YTJiMWJlYmUyMTc1Zjg5ZWQ5NDhmYTFlMjE5NjhiOCJ9; _xsrf=2|2ad1fd93|57d9e92783bf8db87f345fed7a824c5c|1568487873; username-localhost-8888=\"2|1:0|10:1570178896|23:username-localhost-8888|44:Y2ZiNTgxNDA1M2QzNGE\n",
      "GET / HTTP/1.1\n",
      "Host: localhost:8989\n",
      "Connection: keep-alive\n",
      "Cache-Control: max-age=0\n",
      "Upgrade-Insecure-Requests: 1\n",
      "User-Agent: Mozilla/5.0 (X11; Linux x86_64) AppleWebKit/537.36 (KHTML, like Gecko) Chrome/59.0.3071.104 Safari/537.36\n",
      "Accept: text/html,application/xhtml+xml,application/xml;q=0.9,image/webp,image/apng,*/*;q=0.8\n",
      "Accept-Encoding: gzip, deflate, br\n",
      "Accept-Language: en-US,en;q=0.8,fa;q=0.6\n",
      "Cookie: remember_web_59ba36addc2b2f9401580f014c7f58ea4e30989d=eyJpdiI6IjZVenptdVBxM2tPc0QybHRQUVwvbE5nPT0iLCJ2YWx1ZSI6IitqS1N0XC92UVwvT0hrbmxNc25jbk01b2NQTks2b2tXWHpjR0tTOWFEZzJlb2VuQk92b2V2MWl4d3pJcnRPOGFVSzd3d1N3VlwvTnlWZDZKZGVWVHE0UmFwY0hQMjNmSVZyM0hXbVVQbk5MZDlLblROODJ5b0l2WHpmaVRFYVVOXC81MTVYRGI3MlVhNFdzN01JM09ZSFBWa2Zpd0l1MnpRNVVSaUNZT2pPajExXC9zdXBqczVua1dDU0pkcm5oZ3JvWTZBIiwibWFjIjoiNTI0NjQ0Mzc2OGUwNzk0YzExYTFhNGQzZTM2NDE1MzA1YTJiMWJlYmUyMTc1Zjg5ZWQ5NDhmYTFlMjE5NjhiOCJ9; _xsrf=2|2ad1fd93|57d9e92783bf8db87f345fed7a824c5c|1568487873; username-localhost-8888=\"2|1:0|10:1570178896|23:username-localhost-8\n"
     ]
    }
   ],
   "source": [
    "import socket\n",
    "\n",
    "HOST, PORT = '', 8989\n",
    "listen_socket = socket.socket(socket.AF_INET, socket.SOCK_STREAM)\n",
    "listen_socket.setsockopt(socket.SOL_SOCKET, socket.SO_REUSEADDR, 1)\n",
    "listen_socket.bind((HOST, PORT))\n",
    "listen_socket.listen(1)\n",
    "print(f'Serving HTTP on port {PORT}...')\n",
    "while True:\n",
    "    client_connection, client_address = listen_socket.accept()\n",
    "    request_data = client_connection.recv(1024)\n",
    "    print(request_data.decode('utf-8'))\n",
    "    http_response = b\"\"\"\\\n",
    "    HTTP/1.1 200 OK\n",
    "    \n",
    "    HELLO\n",
    "    \"\"\"\n",
    "    client_connection.sendall(http_response)\n",
    "    client_connection.close()"
   ]
  }
 ],
 "metadata": {
  "kernelspec": {
   "display_name": "Python 3",
   "language": "python",
   "name": "python3"
  },
  "language_info": {
   "codemirror_mode": {
    "name": "ipython",
    "version": 3
   },
   "file_extension": ".py",
   "mimetype": "text/x-python",
   "name": "python",
   "nbconvert_exporter": "python",
   "pygments_lexer": "ipython3",
   "version": "3.7.3"
  }
 },
 "nbformat": 4,
 "nbformat_minor": 2
}
