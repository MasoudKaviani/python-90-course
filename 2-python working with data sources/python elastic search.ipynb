{
 "cells": [
  {
   "cell_type": "code",
   "execution_count": null,
   "metadata": {},
   "outputs": [],
   "source": [
    "#pip install elasticsearch"
   ]
  },
  {
   "cell_type": "code",
   "execution_count": 1,
   "metadata": {},
   "outputs": [
    {
     "name": "stdout",
     "output_type": "stream",
     "text": [
      "created\n"
     ]
    }
   ],
   "source": [
    "from datetime import datetime\n",
    "from elasticsearch import Elasticsearch\n",
    "\n",
    "doc = {\n",
    "    'author': 'masoud kaviani',\n",
    "    'description': 'the data mining proccess is easy, very easy, very very easy',\n",
    "    'time': datetime.now()\n",
    "}\n",
    "es = Elasticsearch()\n",
    "res = es.index(index='test-index', doc_type='test', body=doc)\n",
    "print(res['result'])"
   ]
  },
  {
   "cell_type": "code",
   "execution_count": 4,
   "metadata": {},
   "outputs": [
    {
     "name": "stdout",
     "output_type": "stream",
     "text": [
      "updated\n",
      "created\n"
     ]
    }
   ],
   "source": [
    "# Let's insert some more documents\n",
    "e2={\n",
    "    \"first_name\" :  \"Jane\",\n",
    "    \"last_name\" :   \"Smith\",\n",
    "    \"age\" :         32,\n",
    "    \"about\" :       \"I like to collect rock albums\",\n",
    "    \"interests\":  [ \"music\" ]\n",
    "}\n",
    "e3={\n",
    "    \"first_name\" :  \"Douglas\",\n",
    "    \"last_name\" :   \"Fir\",\n",
    "    \"age\" :         35,\n",
    "    \"about\":        \"I like to build cabinets\",\n",
    "    \"interests\":  [ \"forestry\" ]\n",
    "}\n",
    "res=es.index(index='megacorp',doc_type='employee',id=2,body=e2)\n",
    "print(res['result'])\n",
    "res=es.index(index='megacorp',doc_type='employee',id=3,body=e3)\n",
    "print(res['result'])\n"
   ]
  },
  {
   "cell_type": "code",
   "execution_count": 5,
   "metadata": {},
   "outputs": [
    {
     "name": "stdout",
     "output_type": "stream",
     "text": [
      "{'_index': 'megacorp', '_type': 'employee', '_id': '3', '_version': 1, '_seq_no': 2, '_primary_term': 1, 'found': True, '_source': {'first_name': 'Douglas', 'last_name': 'Fir', 'age': 35, 'about': 'I like to build cabinets', 'interests': ['forestry']}}\n"
     ]
    }
   ],
   "source": [
    "res=es.get(index='megacorp',doc_type='employee',id=3)\n",
    "print(res)"
   ]
  },
  {
   "cell_type": "code",
   "execution_count": 6,
   "metadata": {},
   "outputs": [
    {
     "name": "stdout",
     "output_type": "stream",
     "text": [
      "[]\n"
     ]
    }
   ],
   "source": [
    "res= es.search(index='megacorp',body={'query':{'match':{'first_name':'nitin'}}})\n",
    "print(res['hits']['hits'])"
   ]
  },
  {
   "cell_type": "code",
   "execution_count": 7,
   "metadata": {},
   "outputs": [
    {
     "name": "stdout",
     "output_type": "stream",
     "text": [
      "[{'_index': 'megacorp', '_type': 'employee', '_id': '3', '_score': 0.9808292, '_source': {'first_name': 'Douglas', 'last_name': 'Fir', 'age': 35, 'about': 'I like to build cabinets', 'interests': ['forestry']}}]\n"
     ]
    }
   ],
   "source": [
    "res= es.search(index='megacorp',body={'query':{'match':{'first_name':'Douglas'}}})\n",
    "print(res['hits']['hits'])"
   ]
  },
  {
   "cell_type": "code",
   "execution_count": 9,
   "metadata": {},
   "outputs": [
    {
     "name": "stdout",
     "output_type": "stream",
     "text": [
      "[{'_index': 'megacorp', '_type': 'employee', '_id': '3', '_score': 0.9808292, '_source': {'first_name': 'Douglas', 'last_name': 'Fir', 'age': 35, 'about': 'I like to build cabinets', 'interests': ['forestry']}}]\n"
     ]
    }
   ],
   "source": [
    "res= es.search(index='megacorp',body={\n",
    "        'query':{\n",
    "            'bool':{\n",
    "                'must':[{\n",
    "                        'match':{\n",
    "                            'first_name':'Douglas'\n",
    "                        }\n",
    "                    }]\n",
    "            }\n",
    "        }\n",
    "    })\n",
    "print(res['hits']['hits'])"
   ]
  },
  {
   "cell_type": "code",
   "execution_count": 11,
   "metadata": {},
   "outputs": [
    {
     "name": "stdout",
     "output_type": "stream",
     "text": [
      "[{'_index': 'megacorp', '_type': 'employee', '_id': '3', '_score': 0.6931472, '_source': {'first_name': 'Douglas', 'last_name': 'Fir', 'age': 35, 'about': 'I like to build cabinets', 'interests': ['forestry']}}]\n"
     ]
    }
   ],
   "source": [
    "res= es.search(index='megacorp',body={\n",
    "        'query':{\n",
    "            'bool':{\n",
    "                'must':{\n",
    "                    'match':{\n",
    "                        'first_name':'Douglas'\n",
    "                    }\n",
    "                },\n",
    "                \"filter\":{\n",
    "                    \"range\":{\n",
    "                        \"age\":{\n",
    "                            \"gt\":25\n",
    "                        }\n",
    "                    }\n",
    "                }\n",
    "            }\n",
    "        }\n",
    "    })\n",
    "print(res['hits']['hits'])"
   ]
  },
  {
   "cell_type": "code",
   "execution_count": 13,
   "metadata": {},
   "outputs": [
    {
     "name": "stdout",
     "output_type": "stream",
     "text": [
      "updated\n"
     ]
    }
   ],
   "source": [
    "e4={\n",
    "    \"first_name\":\"asd\",\n",
    "    \"last_name\":\"pafdfd\",\n",
    "    \"age\": 27,\n",
    "    \"about\": \"Love to play football\",\n",
    "    \"interests\": ['sports','music'],\n",
    "}\n",
    "res=es.index(index='megacorp',doc_type='employee',id=4,body=e4)\n",
    "print(res['result'])"
   ]
  },
  {
   "cell_type": "code",
   "execution_count": 16,
   "metadata": {},
   "outputs": [
    {
     "name": "stdout",
     "output_type": "stream",
     "text": [
      "Love to play football\n",
      "0.74101156\n",
      "**********************\n"
     ]
    }
   ],
   "source": [
    "res= es.search(index='megacorp',body={\n",
    "        'query':{\n",
    "            'match':{\n",
    "                \"about\":\"play cricket\"\n",
    "            }\n",
    "        }\n",
    "    })\n",
    "for hit in res['hits']['hits']:\n",
    "    print(hit['_source']['about']) \n",
    "    print(hit['_score'])\n",
    "    print('**********************')"
   ]
  },
  {
   "cell_type": "code",
   "execution_count": 19,
   "metadata": {},
   "outputs": [
    {
     "name": "stdout",
     "output_type": "stream",
     "text": [
      "deleted\n"
     ]
    }
   ],
   "source": [
    "res=es.delete(index='megacorp',doc_type='employee',id=3)\n",
    "print(res['result'])"
   ]
  },
  {
   "cell_type": "code",
   "execution_count": null,
   "metadata": {},
   "outputs": [],
   "source": [
    "# resources and ferther reading:\n",
    "# https://elasticsearch-py.readthedocs.io/en/master/\n",
    "# https://www.elastic.co/guide/en/elasticsearch/reference/current/docker.html\n",
    "# https://medium.com/naukri-engineering/elasticsearch-tutorial-for-beginners-using-python-b9cb48edcedc"
   ]
  }
 ],
 "metadata": {
  "kernelspec": {
   "display_name": "Python 3",
   "language": "python",
   "name": "python3"
  },
  "language_info": {
   "codemirror_mode": {
    "name": "ipython",
    "version": 3
   },
   "file_extension": ".py",
   "mimetype": "text/x-python",
   "name": "python",
   "nbconvert_exporter": "python",
   "pygments_lexer": "ipython3",
   "version": "3.7.4"
  }
 },
 "nbformat": 4,
 "nbformat_minor": 2
}
